{
 "cells": [
  {
   "cell_type": "markdown",
   "metadata": {},
   "source": [
    "# Traitement des données"
   ]
  },
  {
   "cell_type": "code",
   "execution_count": null,
   "metadata": {},
   "outputs": [],
   "source": [
    "import numpy as np\n",
    "import pylab as pl\n",
    "import scipy as sp\n",
    "import matplotlib.pyplot as plt\n",
    "import pandas as pd\n",
    "\n",
    "X_train = pd.read_csv('X_train_HI5.csv')\n",
    "X_test = pd.read_csv('X_test_HI5.csv')\n",
    "\n",
    "y_train = X_train['piezo_groundwater_level_category']\n",
    "X_train = X_train.drop(['piezo_groundwater_level_category'], axis=1) "
   ]
  },
  {
   "cell_type": "markdown",
   "metadata": {},
   "source": [
    "## Cohérence des types"
   ]
  },
  {
   "cell_type": "markdown",
   "metadata": {},
   "source": [
    "### Piezo variables"
   ]
  },
  {
   "cell_type": "code",
   "execution_count": null,
   "metadata": {},
   "outputs": [],
   "source": [
    "# Filtrer les colonnes commençant par \"piezo\"\n",
    "piezo_columns = [col for col in X_train.columns if col.startswith('piezo')]\n",
    "\n",
    "# Vérifier les types des colonnes sélectionnées\n",
    "piezo_types = X_train[piezo_columns].dtypes\n",
    "\n",
    "# Afficher les résultats\n",
    "piezo_types\n"
   ]
  },
  {
   "cell_type": "markdown",
   "metadata": {},
   "source": [
    "**Dates (actuellement object) :**\n",
    "Les colonnes piezo_station_update_date et piezo_measurement_date sont des dates, mais elles sont au format object.\n",
    "Action : Convertir ces colonnes en type datetime."
   ]
  },
  {
   "cell_type": "code",
   "execution_count": null,
   "metadata": {},
   "outputs": [],
   "source": [
    "X_train['piezo_station_update_date'] = X_train['piezo_station_update_date'].str.replace(r'CEST', '', regex=True).str.strip()\n",
    "X_train['piezo_measurement_date'] = X_train['piezo_measurement_date'].str.replace(r'CEST', '', regex=True).str.strip()\n",
    "X_train['piezo_station_update_date'] = pd.to_datetime(X_train['piezo_station_update_date'], errors='coerce')\n",
    "X_train['piezo_measurement_date'] = pd.to_datetime(X_train['piezo_measurement_date'], errors='coerce')\n"
   ]
  },
  {
   "cell_type": "markdown",
   "metadata": {},
   "source": [
    "**Codes et identifiants (actuellement object) :** \n",
    "\n",
    "Colonnes concernées :  \n",
    "\n",
    "piezo_station_department_code, piezo_station_bdlisa_codes, piezo_station_bss_code, piezo_station_bss_id, piezo_bss_code.  \n",
    "\n",
    "Ces colonnes contiennent des codes ou identifiants. Si elles ne sont pas utilisées comme valeurs numériques, elles peuvent rester au format object. Sinon, vérifier s'il est pertinent de les convertir en category pour économiser de la mémoire.  \n",
    "\n",
    "Action : Convertir en category si elles ne nécessitent pas d'opérations numériques."
   ]
  },
  {
   "cell_type": "code",
   "execution_count": null,
   "metadata": {},
   "outputs": [],
   "source": [
    "cols_to_category = [\n",
    "    'piezo_station_department_code', 'piezo_station_bdlisa_codes', \n",
    "    'piezo_station_bss_code', 'piezo_station_bss_id', 'piezo_bss_code'\n",
    "]\n",
    "X_train[cols_to_category] = X_train[cols_to_category].astype('category')\n"
   ]
  },
  {
   "cell_type": "markdown",
   "metadata": {},
   "source": [
    "**Catégories qualitatives (actuellement object) :**  \n",
    "\n",
    "Colonnes concernées :  \n",
    "\n",
    "piezo_station_department_name, piezo_station_commune_name, piezo_obtention_mode, piezo_status, piezo_qualification, piezo_continuity_name, piezo_producer_name, piezo_measure_nature_code, piezo_measure_nature_name.  \n",
    "\n",
    "Ces colonnes semblent représenter des catégories qualitatives (ex. : nom de département, nature de la mesure).  \n",
    "\n",
    "Action : Convertir en type category si elles sont destinées à être utilisées pour le regroupement, l'analyse ou la modélisation."
   ]
  },
  {
   "cell_type": "code",
   "execution_count": null,
   "metadata": {},
   "outputs": [],
   "source": [
    "qualitative_cols = [\n",
    "    'piezo_station_department_name', 'piezo_station_commune_name', \n",
    "    'piezo_obtention_mode', 'piezo_status', 'piezo_qualification', \n",
    "    'piezo_continuity_name', 'piezo_producer_name', \n",
    "    'piezo_measure_nature_code', 'piezo_measure_nature_name'\n",
    "]\n",
    "X_train[qualitative_cols] = X_train[qualitative_cols].astype('category')\n"
   ]
  },
  {
   "cell_type": "markdown",
   "metadata": {},
   "source": [
    "**Colonnes numériques (déjà float64)**\n",
    "\n",
    "Colonnes concernées :   \n",
    "\n",
    "piezo_station_investigation_depth, piezo_station_altitude, piezo_station_longitude, piezo_station_latitude, piezo_continuity_code, piezo_producer_code.   \n",
    "\n",
    "Ces colonnes semblent correctement typées. Vérifie cependant la présence d'erreurs ou de valeurs aberrantes (NaN, valeurs extrêmes).   \n",
    "\n",
    "Action : Analyser les valeurs aberrantes et les NaN pour décider d'un traitement adapté."
   ]
  },
  {
   "cell_type": "code",
   "execution_count": null,
   "metadata": {},
   "outputs": [],
   "source": [
    "print(X_train[['piezo_station_investigation_depth', 'piezo_station_altitude']].describe())\n"
   ]
  },
  {
   "cell_type": "markdown",
   "metadata": {},
   "source": [
    "### Meteo variables"
   ]
  },
  {
   "cell_type": "code",
   "execution_count": null,
   "metadata": {},
   "outputs": [],
   "source": [
    "def print_full(x):\n",
    "    pd.set_option('display.max_rows', None)\n",
    "    pd.set_option('display.max_columns', None)\n",
    "    pd.set_option('display.width', 2000)\n",
    "    pd.set_option('display.float_format', '{:20,.4f}'.format)\n",
    "    pd.set_option('display.max_colwidth', None)\n",
    "    print(x)\n",
    "    pd.reset_option('display.max_rows')\n",
    "    pd.reset_option('display.max_columns')\n",
    "    pd.reset_option('display.width')\n",
    "    pd.reset_option('display.float_format')\n",
    "    pd.reset_option('display.max_colwidth')"
   ]
  },
  {
   "cell_type": "code",
   "execution_count": null,
   "metadata": {},
   "outputs": [],
   "source": [
    "# Filtrer les colonnes commençant par \"meteo_\"\n",
    "meteo_columns = [col for col in X_train.columns if col.startswith('meteo_')]\n",
    "\n",
    "# Vérifier les types des colonnes sélectionnées\n",
    "meteo_types = X_train[meteo_columns].dtypes\n",
    "\n",
    "# Calculer les statistiques descriptives pour les colonnes quantitatives\n",
    "print_full(meteo_types)\n",
    "\n"
   ]
  },
  {
   "cell_type": "markdown",
   "metadata": {},
   "source": [
    "**Dates (meteo_date)**\n",
    "\n",
    "Actuellement au format object, ce qui limite les manipulations.  \n",
    "\n",
    "Action : Convertir en type datetime pour permettre les analyses temporelles."
   ]
  },
  {
   "cell_type": "code",
   "execution_count": null,
   "metadata": {},
   "outputs": [],
   "source": [
    "X_train['meteo_date'] = pd.to_datetime(X_train['meteo_date'], errors='coerce')\n"
   ]
  },
  {
   "cell_type": "markdown",
   "metadata": {},
   "source": [
    "**Identifiants et noms (meteo_id, meteo_name)**\n",
    "\n",
    "meteo_id (station ID) : Correctement typé en int64.  \n",
    "\n",
    "meteo_name (nom de la station) : Peut être converti en type category si utilisé pour le regroupement ou l'analyse.  \n",
    "\n",
    "Action : Convertir meteo_name en category."
   ]
  },
  {
   "cell_type": "code",
   "execution_count": null,
   "metadata": {},
   "outputs": [],
   "source": [
    "X_train['meteo_name'] = X_train['meteo_name'].astype('category')\n"
   ]
  },
  {
   "cell_type": "markdown",
   "metadata": {},
   "source": [
    "**3. Variables booléennes encodées en float64**\n",
    "\n",
    "Colonnes : meteo_if_snow, meteo_if_fog, meteo_if_thunderstorm, etc. \n",
    "\n",
    "Ces colonnes semblent représenter des indicateurs booléens (présence/absence). \n",
    "\n",
    "Action : Convertir en type bool."
   ]
  },
  {
   "cell_type": "code",
   "execution_count": null,
   "metadata": {},
   "outputs": [],
   "source": [
    "bool_columns = [\n",
    "    'meteo_if_snow', 'meteo_if_fog', 'meteo_if_thunderstorm', 'meteo_if_sleet', 'meteo_if_hail',\n",
    "    'meteo_if_dew', 'meteo_if_black_ice', 'meteo_if_snow_ground', 'meteo_if_frost', \n",
    "    'meteo_if_smoke', 'meteo_if_mist', 'meteo_if_lightning'\n",
    "]\n",
    "X_train[bool_columns] = X_train[bool_columns].astype('bool')\n"
   ]
  },
  {
   "cell_type": "markdown",
   "metadata": {},
   "source": [
    "**Variables quantitatives (float64)**\n",
    "\n",
    "Les variables comme meteo_temperature_min, meteo_radiation, etc., sont correctement typées. \n",
    "\n",
    "Action : Vérifier les valeurs aberrantes et remplacer les NaN par des stratégies spécifiques (moyenne, interpolation, etc.)."
   ]
  },
  {
   "cell_type": "code",
   "execution_count": null,
   "metadata": {},
   "outputs": [],
   "source": [
    "# Identifier les colonnes quantitatives\n",
    "quantitative_vars = X_train[meteo_columns].select_dtypes(include=['float64', 'int64']).columns\n",
    "print(quantitative_vars)\n",
    "\n",
    "# Calculer les statistiques descriptives pour les colonnes quantitatives\n",
    "print_full(X_train[quantitative_vars].describe())\n"
   ]
  }
 ],
 "metadata": {
  "kernelspec": {
   "display_name": "M2datascience",
   "language": "python",
   "name": "python3"
  },
  "language_info": {
   "codemirror_mode": {
    "name": "ipython",
    "version": 3
   },
   "file_extension": ".py",
   "mimetype": "text/x-python",
   "name": "python",
   "nbconvert_exporter": "python",
   "pygments_lexer": "ipython3",
   "version": "3.11.8"
  }
 },
 "nbformat": 4,
 "nbformat_minor": 2
}
