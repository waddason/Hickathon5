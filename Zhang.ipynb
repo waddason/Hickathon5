{
 "cells": [
  {
   "cell_type": "markdown",
   "id": "1e5c6c03-ecc7-40f6-b90c-009c6be140cb",
   "metadata": {},
   "source": [
    "## Tout le monde, merci des exécuter en premier"
   ]
  },
  {
   "cell_type": "code",
   "execution_count": null,
   "id": "d4eab97a-e893-4d3b-a3b4-3b7f1e3a5b77",
   "metadata": {
    "tags": []
   },
   "outputs": [],
   "source": [
    "import pandas as pd\n",
    "import numpy as np"
   ]
  },
  {
   "cell_type": "code",
   "execution_count": null,
   "id": "188fa07e-9edc-4b1d-ad75-4068306cb960",
   "metadata": {
    "tags": []
   },
   "outputs": [],
   "source": [
    "x_train = pd.read_csv('data/X_train_Hi5.csv')"
   ]
  },
  {
   "cell_type": "code",
   "execution_count": null,
   "id": "c32f0be6-69b5-40f9-847e-20ed34353430",
   "metadata": {
    "tags": []
   },
   "outputs": [],
   "source": [
    "target_cat = {'High':4, 'Very High':5, 'Very Low' :1, 'Low':2, 'Average':3}\n",
    "target = x_train['piezo_groundwater_level_category'].apply(lambda x : target_cat.get(x, 0))"
   ]
  },
  {
   "cell_type": "code",
   "execution_count": null,
   "id": "ce0de957-8307-428c-83a2-ddf89349faee",
   "metadata": {
    "tags": []
   },
   "outputs": [],
   "source": [
    "categorical_columns = [\n",
    "    col for col in x_train.select_dtypes(include=['object']).columns\n",
    "    if x_train[col].nunique() <= 10\n",
    "]\n",
    "\n",
    "encoded_data = pd.DataFrame()\n",
    "\n",
    "for col in categorical_columns:\n",
    "    encoded_data[col] = pd.factorize(x_train[col])[0].astype('int8')\n",
    "    # encoded_data[col] = encoded_data[col].astype('int8')"
   ]
  },
  {
   "cell_type": "code",
   "execution_count": null,
   "id": "43096144-dc54-4501-9267-e7266f37f384",
   "metadata": {},
   "outputs": [],
   "source": [
    "numeric_columns = x_train.select_dtypes(include=['number']).columns\n",
    "numeric_data = x_train[numeric_columns]\n",
    "for col in numeric_data.select_dtypes(include=['float']).columns:\n",
    "    numeric_data[col] = numeric_data[col].astype('float32')"
   ]
  },
  {
   "cell_type": "code",
   "execution_count": null,
   "id": "ede97309-9a3f-4db1-91db-5bec6d29c5ab",
   "metadata": {
    "tags": []
   },
   "outputs": [],
   "source": [
    "from sklearn.preprocessing import MinMaxScaler, StandardScaler\n",
    "\n",
    "scaler = MinMaxScaler()\n",
    "normalized_data = pd.DataFrame(scaler.fit_transform(numeric_data), columns=numeric_columns)\n",
    "normalized_data = normalized_data.fillna(0)\n",
    "standard_scaler = StandardScaler()\n",
    "standardized_data = pd.DataFrame(standard_scaler.fit_transform(normalized_data), columns=numeric_columns)"
   ]
  },
  {
   "cell_type": "code",
   "execution_count": null,
   "id": "81e5cdfe-06d7-4b2f-b6b0-13487c8db848",
   "metadata": {
    "tags": []
   },
   "outputs": [],
   "source": [
    "del numeric_data, x_train"
   ]
  },
  {
   "cell_type": "code",
   "execution_count": null,
   "id": "1669c294-cc78-4719-983e-3c06f49b52c6",
   "metadata": {},
   "outputs": [],
   "source": [
    "final_numeric_data = pd.DataFrame()\n",
    "chunk_size = 10000\n",
    "for start in range(0, len(standardized_data), chunk_size):\n",
    "    end = start + chunk_size\n",
    "    chunk_standardized = standardized_data.iloc[start:end]\n",
    "    chunk_encoded = encoded_data.iloc[start:end]\n",
    "    chunk_combined = pd.concat([chunk_standardized, chunk_encoded], axis=1)\n",
    "    final_numeric_data = pd.concat([final_numeric_data, chunk_combined], axis=0)"
   ]
  },
  {
   "cell_type": "code",
   "execution_count": null,
   "id": "6c3a78f8-1cfd-4ad2-ae2b-04f0bfc55664",
   "metadata": {
    "tags": []
   },
   "outputs": [],
   "source": [
    "standard_scaler = StandardScaler()\n",
    "standardized_data = pd.DataFrame(standard_scaler.fit_transform(normalized_data), columns=numeric_columns)\n",
    "\n",
    "# def standardize_in_chunks(df, chunk_size):\n",
    "#     means = df.mean()\n",
    "#     stds = df.std()\n",
    "\n",
    "#     standardized_chunks = []\n",
    "#     for i in range(0, len(df), chunk_size):\n",
    "#         chunk = df.iloc[i:i + chunk_size]\n",
    "#         standardized_chunk = (chunk - means) / stds\n",
    "#         standardized_chunks.append(standardized_chunk)\n",
    "#     return pd.concat(standardized_chunks)\n",
    "\n",
    "# chunk_size = 10000 \n",
    "# X_standardized = standardize_in_chunks(normalized_data, chunk_size)"
   ]
  },
  {
   "cell_type": "code",
   "execution_count": null,
   "id": "7496a55a-5c96-4760-97ca-58f0337bd000",
   "metadata": {
    "tags": []
   },
   "outputs": [],
   "source": [
    "from sklearn.model_selection import train_test_split\n",
    "from sklearn.metrics import confusion_matrix, classification_report"
   ]
  },
  {
   "cell_type": "code",
   "execution_count": null,
   "id": "9260df94-8482-492f-ac53-5e96b5b185d7",
   "metadata": {
    "tags": []
   },
   "outputs": [],
   "source": [
    "split_idx = int(len(standardized_data) * 0.8)\n",
    "\n",
    "X_train = standardized_data.iloc[:split_idx]\n",
    "X_test = standardized_data.iloc[split_idx:]\n",
    "y_train_split = target.iloc[:split_idx]\n",
    "y_test_split = target.iloc[split_idx:]"
   ]
  },
  {
   "cell_type": "markdown",
   "id": "00e249d0-7a22-409d-ad82-85d9ce9ae5e7",
   "metadata": {
    "tags": []
   },
   "source": [
    "## Réclamez leurs modèles respectifs"
   ]
  },
  {
   "cell_type": "code",
   "execution_count": null,
   "id": "cbfce415-9b64-48a4-910f-c002c20796df",
   "metadata": {
    "tags": []
   },
   "outputs": [],
   "source": [
    "from sklearn.neighbors import KNeighborsClassifier\n",
    "\n",
    "knn = KNeighborsClassifier(n_neighbors=3)\n",
    "knn.fit(X_train, y_train_split)\n",
    "\n",
    "y_pred = knn.predict(X_test)"
   ]
  },
  {
   "cell_type": "code",
   "execution_count": null,
   "id": "9b97e2ac-5420-41ed-b99d-424b1c23a813",
   "metadata": {
    "tags": []
   },
   "outputs": [],
   "source": [
    "print(\"\\nClassification Report:\")\n",
    "print(classification_report(y_test_split, y_pred))"
   ]
  },
  {
   "cell_type": "code",
   "execution_count": null,
   "id": "66c081a4-2456-4b2f-87ca-8f3823b7cdba",
   "metadata": {
    "tags": []
   },
   "outputs": [],
   "source": [
    "print(\"Confusion Matrix:\")\n",
    "print(cm)"
   ]
  },
  {
   "cell_type": "markdown",
   "id": "389a1b0c-2a99-45c2-ba3d-0bdaf91e4c37",
   "metadata": {},
   "source": [
    "## Zhang"
   ]
  },
  {
   "cell_type": "code",
   "execution_count": null,
   "id": "701fb4e0-a7d3-4fab-93a4-115ebc0244d9",
   "metadata": {
    "tags": []
   },
   "outputs": [],
   "source": [
    "from sklearn.svm import SVC\n",
    "import time\n",
    "\n",
    "svc_model = SVC(gamma=2, C=1, random_state=42)\n",
    "\n",
    "start_time = time.time()\n",
    "svc_model.fit(X_train, y_train_split)\n",
    "end_time = time.time()\n",
    "\n",
    "y_pred_svc = svc_model.predict(X_test)\n",
    "\n",
    "cm_svc = confusion_matrix(y_test_split, y_pred_svc)\n",
    "print(\"Confusion Matrix (SVC):\")\n",
    "print(cm_svc)\n",
    "\n",
    "print(\"\\nClassification Report (SVC):\")\n",
    "print(classification_report(y_test_split, y_pred_svc))\n",
    "\n",
    "print(f\"Training and prediction time (SVC): {end_time - start_time:.2f} seconds\")"
   ]
  },
  {
   "cell_type": "markdown",
   "id": "b8e12990-1dd3-4e6e-b252-4e437146fb1f",
   "metadata": {},
   "source": [
    "## Tristan"
   ]
  },
  {
   "cell_type": "code",
   "execution_count": null,
   "id": "cda9f6be-bf0e-4333-9dad-f32f62ecaba8",
   "metadata": {},
   "outputs": [],
   "source": [
    "from sklearn.gaussian_process import GaussianProcessClassifier\n",
    "from sklearn.gaussian_process.kernels import RBF\n",
    "import time\n",
    "\n",
    "gpc_model = GaussianProcessClassifier(1.0 * RBF(1.0), random_state=42)\n",
    "\n",
    "start_time = time.time()\n",
    "gpc_model.fit(X_train, y_train_split)\n",
    "end_time = time.time()\n",
    "\n",
    "y_pred_gpc = gpc_model.predict(X_test)\n",
    "\n",
    "cm_gpc = confusion_matrix(y_test_split, y_pred_gpc)\n",
    "print(\"Confusion Matrix (Gaussian Process):\")\n",
    "print(cm_gpc)\n",
    "\n",
    "print(\"\\nClassification Report (Gaussian Process):\")\n",
    "print(classification_report(y_test_split, y_pred_gpc))\n",
    "\n",
    "print(f\"Training and prediction time (Gaussian Process): {end_time - start_time:.2f} seconds\")"
   ]
  },
  {
   "cell_type": "markdown",
   "id": "cef2c3e4-93f0-43ba-a7ed-5886c3514114",
   "metadata": {},
   "source": [
    "## Theo"
   ]
  },
  {
   "cell_type": "code",
   "execution_count": null,
   "id": "6e5f79f0-ae7e-470f-887c-7a4ed1eeaf7f",
   "metadata": {},
   "outputs": [],
   "source": [
    "from sklearn.ensemble import RandomForestClassifier\n",
    "import time\n",
    "\n",
    "rf_model = RandomForestClassifier(max_depth=5, n_estimators=10, max_features=1, random_state=42)\n",
    "\n",
    "start_time = time.time()\n",
    "rf_model.fit(X_train, y_train_split)\n",
    "end_time = time.time()\n",
    "\n",
    "y_pred_rf = rf_model.predict(X_test)\n",
    "\n",
    "cm_rf = confusion_matrix(y_test_split, y_pred_rf)\n",
    "print(\"Confusion Matrix (Random Forest):\")\n",
    "print(cm_rf)\n",
    "\n",
    "print(\"\\nClassification Report (Random Forest):\")\n",
    "print(classification_report(y_test_split, y_pred_rf))\n",
    "\n",
    "print(f\"Training and prediction time (Random Forest): {end_time - start_time:.2f} seconds\")"
   ]
  },
  {
   "cell_type": "markdown",
   "id": "cfc79b8e-9faa-4f8c-b3cd-472e7b86dea4",
   "metadata": {},
   "source": [
    "## Daniel"
   ]
  },
  {
   "cell_type": "code",
   "execution_count": null,
   "id": "1d59134b-589d-49b6-9939-91b87aedf317",
   "metadata": {},
   "outputs": [],
   "source": [
    "from sklearn.ensemble import AdaBoostClassifier\n",
    "import time\n",
    "\n",
    "adaboost_model = AdaBoostClassifier(algorithm=\"SAMME\", random_state=42)\n",
    "\n",
    "start_time = time.time()\n",
    "adaboost_model.fit(X_train, y_train_split)\n",
    "end_time = time.time()\n",
    "\n",
    "y_pred_adaboost = adaboost_model.predict(X_test)\n",
    "\n",
    "cm_adaboost = confusion_matrix(y_test_split, y_pred_adaboost)\n",
    "print(\"Confusion Matrix (AdaBoost):\")\n",
    "print(cm_adaboost)\n",
    "\n",
    "print(\"\\nClassification Report (AdaBoost):\")\n",
    "print(classification_report(y_test_split, y_pred_adaboost))\n",
    "\n",
    "print(f\"Training and prediction time (AdaBoost): {end_time - start_time:.2f} seconds\")"
   ]
  },
  {
   "cell_type": "markdown",
   "id": "1dc047c3-6f1b-4ce5-bdcc-0bc759dfefc3",
   "metadata": {},
   "source": [
    "## Fabien"
   ]
  },
  {
   "cell_type": "code",
   "execution_count": null,
   "id": "01c5aeab-fca1-49fc-8d97-64c4096da713",
   "metadata": {},
   "outputs": [],
   "source": [
    "from sklearn.naive_bayes import GaussianNB\n",
    "import time\n",
    "\n",
    "nb_model = GaussianNB()\n",
    "\n",
    "start_time = time.time()\n",
    "nb_model.fit(X_train, y_train_split)\n",
    "end_time = time.time()\n",
    "\n",
    "y_pred_nb = nb_model.predict(X_test)\n",
    "\n",
    "cm_nb = confusion_matrix(y_test_split, y_pred_nb)\n",
    "print(\"Confusion Matrix (Naive Bayes):\")\n",
    "print(cm_nb)\n",
    "\n",
    "print(\"\\nClassification Report (Naive Bayes):\")\n",
    "print(classification_report(y_test_split, y_pred_nb))\n",
    "\n",
    "print(f\"Training and prediction time (Naive Bayes): {end_time - start_time:.2f} seconds\")"
   ]
  },
  {
   "cell_type": "markdown",
   "id": "38f24b23-afdb-42c2-a600-1f13ec2c1a90",
   "metadata": {},
   "source": [
    "## Dimitri"
   ]
  },
  {
   "cell_type": "code",
   "execution_count": null,
   "id": "fb45926b-6326-44d4-bba2-2f34177e343d",
   "metadata": {},
   "outputs": [],
   "source": [
    "from sklearn.neural_network import MLPClassifier\n",
    "import time\n",
    "\n",
    "mlp_model = MLPClassifier(alpha=1, max_iter=1000, random_state=42)\n",
    "\n",
    "start_time = time.time()\n",
    "mlp_model.fit(X_train, y_train_split)\n",
    "end_time = time.time()\n",
    "\n",
    "y_pred_mlp = mlp_model.predict(X_test)\n",
    "\n",
    "cm_mlp = confusion_matrix(y_test_split, y_pred_mlp)\n",
    "print(\"Confusion Matrix (MLP Classifier):\")\n",
    "print(cm_mlp)\n",
    "\n",
    "print(\"\\nClassification Report (MLP Classifier):\")\n",
    "print(classification_report(y_test_split, y_pred_mlp))\n",
    "\n",
    "print(f\"Training and prediction time (MLP Classifier): {end_time - start_time:.2f} seconds\")"
   ]
  }
 ],
 "metadata": {
  "kernelspec": {
   "display_name": "Python 3 (ipykernel)",
   "language": "python",
   "name": "python3"
  },
  "language_info": {
   "codemirror_mode": {
    "name": "ipython",
    "version": 3
   },
   "file_extension": ".py",
   "mimetype": "text/x-python",
   "name": "python",
   "nbconvert_exporter": "python",
   "pygments_lexer": "ipython3",
   "version": "3.10.13"
  }
 },
 "nbformat": 4,
 "nbformat_minor": 5
}
