{
 "cells": [
  {
   "cell_type": "code",
   "execution_count": null,
   "id": "d4eab97a-e893-4d3b-a3b4-3b7f1e3a5b77",
   "metadata": {
    "tags": []
   },
   "outputs": [],
   "source": [
    "import pandas as pd\n",
    "import numpy as np"
   ]
  },
  {
   "cell_type": "code",
   "execution_count": null,
   "id": "188fa07e-9edc-4b1d-ad75-4068306cb960",
   "metadata": {
    "tags": []
   },
   "outputs": [],
   "source": [
    "x_train = pd.read_csv('data/X_train_Hi5.csv')"
   ]
  },
  {
   "cell_type": "code",
   "execution_count": null,
   "id": "0a49024d-b765-4388-96e1-77a7fd1741ec",
   "metadata": {
    "tags": []
   },
   "outputs": [],
   "source": [
    "numeric_df = x_train.select_dtypes(include=['int', 'float'])"
   ]
  },
  {
   "cell_type": "code",
   "execution_count": null,
   "id": "edeee607-65fb-4727-9a78-5e8fbc57db60",
   "metadata": {
    "tags": []
   },
   "outputs": [],
   "source": [
    "from sklearn.preprocessing import MinMaxScaler, StandardScaler"
   ]
  },
  {
   "cell_type": "code",
   "execution_count": null,
   "id": "c32f0be6-69b5-40f9-847e-20ed34353430",
   "metadata": {
    "tags": []
   },
   "outputs": [],
   "source": [
    "def process_numeric_columns(X_train):\n",
    "    numeric_columns = X_train.select_dtypes(include=['number']).columns\n",
    "    numeric_data = X_train[numeric_columns]\n",
    "    \n",
    "    scaler = MinMaxScaler()\n",
    "    normalized_data = pd.DataFrame(scaler.fit_transform(numeric_data), columns=numeric_columns, index=X_train.index)\n",
    "    \n",
    "    standard_scaler = StandardScaler()\n",
    "    standardized_data = pd.DataFrame(standard_scaler.fit_transform(normalized_data), columns=numeric_columns, index=X_train.index)\n",
    "    \n",
    "    return standardized_data"
   ]
  },
  {
   "cell_type": "code",
   "execution_count": null,
   "id": "7496a55a-5c96-4760-97ca-58f0337bd000",
   "metadata": {},
   "outputs": [],
   "source": []
  }
 ],
 "metadata": {
  "kernelspec": {
   "display_name": "Python 3 (ipykernel)",
   "language": "python",
   "name": "python3"
  },
  "language_info": {
   "codemirror_mode": {
    "name": "ipython",
    "version": 3
   },
   "file_extension": ".py",
   "mimetype": "text/x-python",
   "name": "python",
   "nbconvert_exporter": "python",
   "pygments_lexer": "ipython3",
   "version": "3.10.13"
  }
 },
 "nbformat": 4,
 "nbformat_minor": 5
}
