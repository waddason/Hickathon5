{
 "cells": [
  {
   "attachments": {},
   "cell_type": "markdown",
   "metadata": {},
   "source": [
    "# Hi!kathon 5 - Sustainability - Ground Water Level\n",
    "group 6 - Henrard-Iratchet Dimitri,\n",
    "Jain Varsha,\n",
    "Lagnieu Fabien,\n",
    "Lartigau Théo,\n",
    "Zhang Baoyue,\n",
    "Truskinovsky Daniel,\n",
    "Waddington Tristan"
   ]
  },
  {
   "attachments": {},
   "cell_type": "markdown",
   "metadata": {},
   "source": [
    "Todo list:\n",
    " - [X] [**@Theo**] show position of test data\n",
    " - [ ] [**@Daniel**/**@Varsha**]  relevance of features\n",
    " - [X] [**@Baoyue**] baseline model with numerical\n",
    " - [ ] [**@Baoyue**] baseline model with numerical + catergorical\n",
    " - [ ] [**@Tristan**] maps\n",
    " - [ ] [**@All**] run a model during the night\n",
    " - [ ] How to handle NaN by feature?\n",
    " - [ ] geographic clustering because some stations does not report, correlation\n",
    " - [ ] Prepare the scientific approach pdf\n",
    " - [ ] Prepare the pitch"
   ]
  },
  {
   "attachments": {},
   "cell_type": "markdown",
   "metadata": {},
   "source": [
    "## 1. Early findings\n",
    "\n",
    "The dataset is composed of daily measurments for French stations.\n",
    "\n",
    "We need to predict `piezo_groundwater_level_category`, that represents the level of water in aquifer.\n",
    "\n",
    "- The training data runs from 1 Janv 2020 to 31 May 2023.\n",
    "- The test data is 2 sequences in june-sept 2022 and from June-Sept 2023.\n",
    "\n",
    "\n",
    "<img src=\"figures/station_map.png\">\n",
    "</src>\n",
    "\n",
    "### Importance of features\n",
    "\n",
    "We observe data from 3 types of stations : watertable stations denoted as **piezo**, weather stations denoted as **meteo** and hydrological stations denoted as **hydro**. In average, the nearest meteo station from a given piezo station is **14km** away and the nearest hydro station from a given piezo station is **8km** away\n",
    "\n"
   ]
  },
  {
   "cell_type": "markdown",
   "metadata": {},
   "source": []
  },
  {
   "attachments": {},
   "cell_type": "markdown",
   "metadata": {},
   "source": [
    "## 2. Baseline model"
   ]
  },
  {
   "cell_type": "code",
   "execution_count": null,
   "metadata": {},
   "outputs": [],
   "source": []
  },
  {
   "attachments": {},
   "cell_type": "markdown",
   "metadata": {},
   "source": [
    "3. "
   ]
  },
  {
   "attachments": {},
   "cell_type": "markdown",
   "metadata": {},
   "source": [
    "Ideas:\n",
    "For business opportunity 2 - \n",
    "Objective: within a Low median income population , with high proportion of demographic working in industry, "
   ]
  }
 ],
 "metadata": {
  "kernelspec": {
   "display_name": "Python [conda env:root] *",
   "language": "python",
   "name": "conda-root-py"
  },
  "language_info": {
   "codemirror_mode": {
    "name": "ipython",
    "version": 3
   },
   "file_extension": ".py",
   "mimetype": "text/x-python",
   "name": "python",
   "nbconvert_exporter": "python",
   "pygments_lexer": "ipython3",
   "version": "3.10.13"
  }
 },
 "nbformat": 4,
 "nbformat_minor": 4
}
