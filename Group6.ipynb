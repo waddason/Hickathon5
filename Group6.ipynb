{
 "cells": [
  {
   "attachments": {},
   "cell_type": "markdown",
   "metadata": {},
   "source": [
    "# Hi!kathon 5 - Sustainability - Ground Water Level\n",
    "group 6 - Henrard-Iratchet Dimitri,\n",
    "Jain Varsha,\n",
    "Lagnieu Fabien,\n",
    "Lartigau Théo,\n",
    "Zhang Baoyue,\n",
    "Truskinovsky Daniel,\n",
    "Waddington Tristan"
   ]
  },
  {
   "attachments": {},
   "cell_type": "markdown",
   "metadata": {},
   "source": [
    "Todo list:\n",
    " - [ ] [**@Theo**] show position of test data\n",
    " - [ ] [**@Daniel**/**@Varsha**]  relevance of features\n",
    " - [X] [**@Baoyue**] baseline model with numerical\n",
    " - [ ] [**@Baoyue**] baseline model with numerical + catergorical\n",
    " - [ ] [**@Tristan**] maps\n",
    " - [ ] [**@All**] run a model during the night\n",
    " - [ ] geographic clustering because some stations does not report, correlation\n",
    " - [ ] "
   ]
  },
  {
   "attachments": {},
   "cell_type": "markdown",
   "metadata": {},
   "source": [
    "## 1. Early findings\n",
    "\n",
    "The dataset is composed of daily measurments for French stations.\n",
    "\n",
    "We need to predict `piezo_groundwater_level_category`, that represents the level of water in aquifer.\n",
    "\n",
    "- The training data runs from 1 Janv 2020 to 31 May 2023.\n",
    "- The test data is 2 sequences in june-sept 2022 and from June-Sept 2023.\n",
    "\n",
    "### Importance of features\n"
   ]
  },
  {
   "attachments": {},
   "cell_type": "markdown",
   "metadata": {},
   "source": [
    "## 2. Baseline model"
   ]
  },
  {
   "cell_type": "code",
   "execution_count": null,
   "metadata": {},
   "outputs": [],
   "source": []
  },
  {
   "attachments": {},
   "cell_type": "markdown",
   "metadata": {},
   "source": [
    "3. "
   ]
  },
  {
   "cell_type": "code",
   "execution_count": null,
   "metadata": {},
   "outputs": [],
   "source": []
  }
 ],
 "metadata": {
  "language_info": {
   "name": "python"
  }
 },
 "nbformat": 4,
 "nbformat_minor": 2
}
