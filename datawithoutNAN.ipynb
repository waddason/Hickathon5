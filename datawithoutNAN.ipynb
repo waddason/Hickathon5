{
 "cells": [
  {
   "cell_type": "code",
   "execution_count": null,
   "metadata": {},
   "outputs": [],
   "source": [
    "import numpy as np\n",
    "import pylab as pl\n",
    "import scipy as sp\n",
    "import matplotlib.pyplot as plt\n",
    "import pandas as pd"
   ]
  },
  {
   "cell_type": "code",
   "execution_count": null,
   "metadata": {},
   "outputs": [],
   "source": [
    "X_train = pd.read_csv('X_train_HI5.csv')\n",
    "X_test = pd.read_csv('X_test_HI5.csv')"
   ]
  },
  {
   "cell_type": "code",
   "execution_count": null,
   "metadata": {},
   "outputs": [],
   "source": [
    "y_train = X_train['piezo_groundwater_level_category']\n",
    "X_train = X_train.drop(['piezo_groundwater_level_category'], axis=1) "
   ]
  },
  {
   "cell_type": "code",
   "execution_count": null,
   "metadata": {},
   "outputs": [],
   "source": [
    "# Identifier les variables quantitatives et qualitatives\n",
    "quantitative_vars = X_train.select_dtypes(include=['float64', 'int64']).columns\n",
    "qualitative_vars = X_train.select_dtypes(include=['object', 'category']).columns\n",
    "\n",
    "# Remplacer les NaN par la moyenne pour les variables quantitatives\n",
    "X_train[quantitative_vars] = X_train[quantitative_vars].apply(lambda col: col.fillna(col.mean()), axis=0)\n",
    "\n",
    "# Remplacer les NaN par la valeur la plus fréquente (mode) pour les variables qualitatives\n",
    "X_train[qualitative_vars] = X_train[qualitative_vars].apply(lambda col: col.fillna(col.mode()[0] if not col.mode().empty else 'Unknown'), axis=0)\n",
    "\n",
    "# Vérifier si des NaN restent dans le jeu de données\n",
    "remaining_nans = X_train.isna().sum().sum()\n",
    "print(f\"Nombre total de NaN restants dans X_train : {remaining_nans}\")\n"
   ]
  },
  {
   "cell_type": "code",
   "execution_count": null,
   "metadata": {},
   "outputs": [],
   "source": []
  }
 ],
 "metadata": {
  "kernelspec": {
   "display_name": "M2datascience",
   "language": "python",
   "name": "python3"
  },
  "language_info": {
   "codemirror_mode": {
    "name": "ipython",
    "version": 3
   },
   "file_extension": ".py",
   "mimetype": "text/x-python",
   "name": "python",
   "nbconvert_exporter": "python",
   "pygments_lexer": "ipython3",
   "version": "3.11.8"
  }
 },
 "nbformat": 4,
 "nbformat_minor": 2
}
