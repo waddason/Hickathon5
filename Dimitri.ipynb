{
  "nbformat": 4,
  "nbformat_minor": 0,
  "metadata": {
    "colab": {
      "provenance": [],
      "mount_file_id": "1j56PfuVfCKvpOclcYlgD1aT7tWnLg2lT",
      "authorship_tag": "ABX9TyO2fZrP7lM7mb7qQUxpEZ98"
    },
    "kernelspec": {
      "name": "python3",
      "display_name": "Python 3"
    },
    "language_info": {
      "name": "python"
    }
  },
  "cells": [
    {
      "cell_type": "code",
      "execution_count": 1,
      "metadata": {
        "id": "jqdVPDEALwSH"
      },
      "outputs": [],
      "source": [
        "import pandas as pd\n",
        "import numpy as np\n",
        "import matplotlib.pyplot as plt\n",
        "import seaborn as sns\n",
        "from os.path import exists"
      ]
    },
    {
      "cell_type": "code",
      "source": [
        "file_names = ['X_train_Hi5.csv']\n",
        "for file_name in file_names:\n",
        "  if not exists(file_name):\n",
        "    path_r = 'drive/MyDrive/Copy\\ of\\ ' + file_name\n",
        "    path_w = './' + file_name\n",
        "    !cp $path_r $path_w"
      ],
      "metadata": {
        "id": "CY0C8jz9L-zc"
      },
      "execution_count": 2,
      "outputs": []
    },
    {
      "cell_type": "code",
      "source": [
        "x_train = pd.read_csv('X_train_Hi5.csv')"
      ],
      "metadata": {
        "colab": {
          "base_uri": "https://localhost:8080/"
        },
        "id": "WUUsd8i4NJ8y",
        "outputId": "c6476a66-7017-4fca-dda9-e540d1a4bcb3"
      },
      "execution_count": null,
      "outputs": [
        {
          "output_type": "stream",
          "name": "stderr",
          "text": [
            "<ipython-input-3-640626dafa28>:1: DtypeWarning: Columns (108,110,111,115,117,118,122,124,125) have mixed types. Specify dtype option on import or set low_memory=False.\n",
            "  x_train = pd.read_csv('X_train_Hi5.csv')\n"
          ]
        }
      ]
    },
    {
      "cell_type": "code",
      "source": [
        "x_train"
      ],
      "metadata": {
        "id": "5doDy5yWO6kH"
      },
      "execution_count": null,
      "outputs": []
    },
    {
      "cell_type": "code",
      "source": [],
      "metadata": {
        "id": "Y3fzgZ3FPVrr"
      },
      "execution_count": null,
      "outputs": []
    }
  ]
}