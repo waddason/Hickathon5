{
 "cells": [
  {
   "cell_type": "markdown",
   "metadata": {
    "colab_type": "text",
    "id": "view-in-github"
   },
   "source": [
    "<a href=\"https://colab.research.google.com/github/waddason/Hickathon5/blob/main/Dimitri.ipynb\" target=\"_parent\"><img src=\"https://colab.research.google.com/assets/colab-badge.svg\" alt=\"Open In Colab\"/></a>"
   ]
  },
  {
   "cell_type": "markdown",
   "metadata": {
    "id": "tJGewYfccK2d"
   },
   "source": [
    "# Imports, definitions and downloads"
   ]
  },
  {
   "cell_type": "code",
   "execution_count": null,
   "metadata": {
    "colab": {
     "base_uri": "https://localhost:8080/"
    },
    "id": "jqdVPDEALwSH",
    "outputId": "68384cf4-3a51-4eae-966d-bcd594088e9a"
   },
   "outputs": [],
   "source": [
    "import pandas as pd\n",
    "import numpy as np\n",
    "import matplotlib.pyplot as plt\n",
    "import seaborn as sns\n",
    "from os.path import exists\n",
    "from sklearn.metrics import mean_squared_error, accuracy_score\n",
    "from sklearn.model_selection import train_test_split\n",
    "from sklearn.linear_model import Lasso\n",
    "from sklearn.base import BaseEstimator, TransformerMixin\n",
    "from sklearn.preprocessing import RobustScaler\n",
    "from sklearn.ensemble import GradientBoostingRegressor, GradientBoostingClassifier\n",
    "from sklearn.model_selection import GridSearchCV\n",
    "import joblib  # or import pickle\n",
    "from lightgbm import LGBMRegressor\n",
    "from xgboost import XGBRegressor"
   ]
  },
  {
   "cell_type": "code",
   "execution_count": null,
   "metadata": {
    "id": "BBdaYSoW-B19"
   },
   "outputs": [],
   "source": [
    "def data_without_nan(df):\n",
    "    # Identifier les variables quantitatives et qualitatives\n",
    "    quantitative_vars = df.select_dtypes(include=['float64', 'int64']).columns\n",
    "    qualitative_vars = df.select_dtypes(include=['object', 'category']).columns\n",
    "\n",
    "    # Remplacer les NaN par la moyenne pour les variables quantitatives\n",
    "    df[quantitative_vars] = df[quantitative_vars].apply(lambda col: col.fillna(col.mean()), axis=0)\n",
    "\n",
    "    # Remplacer les NaN par la valeur la plus fréquente (mode) pour les variables qualitatives\n",
    "    df[qualitative_vars] = df[qualitative_vars].apply(lambda col: col.fillna(col.mode()[0] if not col.mode().empty else 'Unknown'), axis=0)\n",
    "\n",
    "    # Vérifier si des NaN restent dans le jeu de données\n",
    "    remaining_nans = df.isna().sum().sum()\n",
    "    print(f\"Nombre total de NaN restants dans df : {remaining_nans}\")\n",
    "\n",
    "    return df"
   ]
  },
  {
   "cell_type": "code",
   "execution_count": null,
   "metadata": {
    "id": "BOIYKKPk4GbJ"
   },
   "outputs": [],
   "source": [
    "def prep_data(df):\n",
    "    def fix_dates(df):\n",
    "        df['piezo_measurement_date'] = df['piezo_measurement_date'].str.replace(r'CEST', '', regex=True).str.strip()\n",
    "        df['piezo_measurement_date'] = pd.to_datetime(df['piezo_measurement_date'], errors='coerce')\n",
    "        return df\n",
    "    def fix_prelev(df):\n",
    "        prelev_usage_labels = [\n",
    "                    'EAU POTABLE',\n",
    "                    'EAU TURBINEE (barrage)',\n",
    "                    'CANAUX',\n",
    "                    'INDUSTRIE et ACTIVITES ECONOMIQUES (hors irrigation, hors énergie)',\n",
    "                    'IRRIGATION',\n",
    "                    'ENERGIE',\n",
    "                       ]\n",
    "        df['prelev_TOTAL'] = df['prelev_volume_0'] + df['prelev_volume_1'] + df['prelev_volume_2'] + df['prelev_other_volume_sum']\n",
    "        for usage in prelev_usage_labels:\n",
    "            df[f'prelev_{usage}'] = (\n",
    "                (df['prelev_volume_0'] * (df['prelev_usage_label_0'] == usage).astype(int)) +\n",
    "                (df['prelev_volume_1'] * (df['prelev_usage_label_1'] == usage).astype(int)) +\n",
    "                (df['prelev_volume_2'] * (df['prelev_usage_label_2'] == usage).astype(int))\n",
    "            )\n",
    "        df = df.drop(columns=['prelev_usage_label_0', 'prelev_usage_label_1', 'prelev_usage_label_2',\n",
    "                                            'prelev_volume_0', 'prelev_volume_1', 'prelev_volume_2'])\n",
    "        return df\n",
    "    df = df.set_index('row_index')\n",
    "    df = fix_dates(df)\n",
    "    df = fix_prelev(df)\n",
    "    df = df.loc[df['piezo_qualification'] == 'Correcte']\n",
    "    df = df.drop(columns=['piezo_qualification'])\n",
    "    df = df.loc[df['piezo_status'] == 'Donnée contrôlée niveau 2']\n",
    "    df = df.drop(columns=['piezo_status'])\n",
    "    df = df.loc[df['hydro_qualification_code'] == 20]\n",
    "    df = df.drop(columns=['hydro_qualification_code'])\n",
    "    df = df.reset_index(drop=True)\n",
    "    y = df['piezo_groundwater_level_category']\n",
    "    y = y.map({'Very Low' :-2, 'Low':-1, 'Average':0, 'High':1, 'Very High':2})\n",
    "    x = df.drop(columns=['piezo_groundwater_level_category'])\n",
    "    x.rename(columns={'piezo_measurement_date': 'date', 'piezo_station_bss_id': 'id'}, inplace=True)\n",
    "    return x, y\n"
   ]
  },
  {
   "cell_type": "code",
   "execution_count": null,
   "metadata": {
    "id": "_BBjKxLSYeQq"
   },
   "outputs": [],
   "source": [
    "def prep_base_data(df_in):\n",
    "    def fix_dates(df):\n",
    "        df['piezo_measurement_date'] = df['piezo_measurement_date'].str.replace(r'CEST', '', regex=True).str.strip()\n",
    "        df['piezo_measurement_date'] = pd.to_datetime(df['piezo_measurement_date'], errors='coerce')\n",
    "        return df\n",
    "    def fix_prelev(df):\n",
    "        prelev_usage_labels = [\n",
    "                    'EAU POTABLE',\n",
    "                    'EAU TURBINEE (barrage)',\n",
    "                    'CANAUX',\n",
    "                    'INDUSTRIE et ACTIVITES ECONOMIQUES (hors irrigation, hors énergie)',\n",
    "                    'IRRIGATION',\n",
    "                    'ENERGIE',\n",
    "                       ]\n",
    "        df['prelev_TOTAL'] = df['prelev_volume_0'] + df['prelev_volume_1'] + df['prelev_volume_2'] + df['prelev_other_volume_sum']\n",
    "        for usage in prelev_usage_labels:\n",
    "            df[f'prelev_{usage}'] = (\n",
    "                (df['prelev_volume_0'] * (df['prelev_usage_label_0'] == usage).astype(int)) +\n",
    "                (df['prelev_volume_1'] * (df['prelev_usage_label_1'] == usage).astype(int)) +\n",
    "                (df['prelev_volume_2'] * (df['prelev_usage_label_2'] == usage).astype(int))\n",
    "            )\n",
    "        df = df.drop(columns=['prelev_usage_label_0', 'prelev_usage_label_1', 'prelev_usage_label_2',\n",
    "                                            'prelev_volume_0', 'prelev_volume_1', 'prelev_volume_2'])\n",
    "        return df\n",
    "    #df = df.set_index('row_index')\n",
    "    df = df_in.copy()\n",
    "    df = fix_dates(df)\n",
    "    df = fix_prelev(df)\n",
    "    df = df.loc[df['piezo_qualification'] == 'Correcte']\n",
    "    df = df.drop(columns=['piezo_qualification'])\n",
    "    df = df.loc[df['piezo_status'] == 'Donnée contrôlée niveau 2']\n",
    "    df = df.drop(columns=['piezo_status'])\n",
    "    df = df.loc[df['hydro_qualification_code'] == 20]\n",
    "    df = df.drop(columns=['hydro_qualification_code'])\n",
    "    #df = df.reset_index(drop=True)\n",
    "    try:\n",
    "        df = df.drop(columns=['piezo_groundwater_level_category'])\n",
    "    except:\n",
    "        pass\n",
    "    df.rename(columns={'piezo_measurement_date': 'date', 'piezo_station_bss_id': 'id'}, inplace=True)\n",
    "    return df\n"
   ]
  },
  {
   "cell_type": "code",
   "execution_count": null,
   "metadata": {
    "id": "I8c46QQbX-Uu"
   },
   "outputs": [],
   "source": [
    "def prep_test_data(df_test_in):\n",
    "    def fix_dates(df):\n",
    "        df['piezo_measurement_date'] = df['piezo_measurement_date'].str.replace(r'CEST', '', regex=True).str.strip()\n",
    "        df['piezo_measurement_date'] = pd.to_datetime(df['piezo_measurement_date'], errors='coerce')\n",
    "        return df\n",
    "    def fix_prelev(df):\n",
    "        prelev_usage_labels = [\n",
    "                    'EAU POTABLE',\n",
    "                    'EAU TURBINEE (barrage)',\n",
    "                    'CANAUX',\n",
    "                    'INDUSTRIE et ACTIVITES ECONOMIQUES (hors irrigation, hors énergie)',\n",
    "                    'IRRIGATION',\n",
    "                    'ENERGIE',\n",
    "                       ]\n",
    "        df['prelev_TOTAL'] = df['prelev_volume_0'] + df['prelev_volume_1'] + df['prelev_volume_2'] + df['prelev_other_volume_sum']\n",
    "        for usage in prelev_usage_labels:\n",
    "            df[f'prelev_{usage}'] = (\n",
    "                (df['prelev_volume_0'] * (df['prelev_usage_label_0'] == usage).astype(int)) +\n",
    "                (df['prelev_volume_1'] * (df['prelev_usage_label_1'] == usage).astype(int)) +\n",
    "                (df['prelev_volume_2'] * (df['prelev_usage_label_2'] == usage).astype(int))\n",
    "            )\n",
    "        df = df.drop(columns=['prelev_usage_label_0', 'prelev_usage_label_1', 'prelev_usage_label_2',\n",
    "                                            'prelev_volume_0', 'prelev_volume_1', 'prelev_volume_2'])\n",
    "        return df\n",
    "    df = df_test_in.copy()\n",
    "    df = df.set_index('row_index')\n",
    "    df = fix_dates(df)\n",
    "    df = fix_prelev(df)\n",
    "    df = df.drop(columns=['piezo_qualification'])\n",
    "    df = df.drop(columns=['piezo_status'])\n",
    "    df = df.drop(columns=['hydro_qualification_code'])\n",
    "    df = df.reset_index(drop=True)\n",
    "    df.rename(columns={'piezo_measurement_date': 'date', 'piezo_station_bss_id': 'id'}, inplace=True)\n",
    "    return df\n"
   ]
  },
  {
   "cell_type": "code",
   "execution_count": null,
   "metadata": {
    "id": "CY0C8jz9L-zc"
   },
   "outputs": [],
   "source": [
    "file_names = ['X_train_Hi5.csv', 'X_test_Hi5.csv']\n",
    "for file_name in file_names:\n",
    "  if not exists(file_name):\n",
    "    path_r = 'drive/MyDrive/Copy\\ of\\ ' + file_name\n",
    "    path_w = './' + file_name\n",
    "    !cp $path_r $path_w"
   ]
  },
  {
   "cell_type": "code",
   "execution_count": null,
   "metadata": {
    "id": "ZFKONsOwN4x5"
   },
   "outputs": [],
   "source": [
    "columns_to_keep = ['row_index',\n",
    " 'piezo_station_bss_id',\n",
    " 'piezo_station_altitude',\n",
    " 'piezo_station_longitude',\n",
    " 'piezo_station_latitude',\n",
    " 'piezo_measurement_date',\n",
    " 'piezo_status',\n",
    " 'piezo_qualification',\n",
    " 'meteo_rain_height',\n",
    " 'meteo_temperature_min',\n",
    " 'meteo_temperature_max',\n",
    " 'meteo_temperature_avg',\n",
    " 'meteo_temperature_avg_threshold',\n",
    " 'meteo_frost_duration',\n",
    " 'meteo_amplitude_tn_tx',\n",
    " 'meteo_temperature_avg_tntm',\n",
    " 'meteo_evapotranspiration_grid',\n",
    " 'hydro_observation_result_elab',\n",
    " 'hydro_qualification_code',\n",
    " 'distance_piezo_hydro',\n",
    " 'distance_piezo_meteo',\n",
    " 'prelev_volume_0',\n",
    " 'prelev_usage_label_0',\n",
    " 'prelev_volume_1',\n",
    " 'prelev_usage_label_1',\n",
    " 'prelev_volume_2',\n",
    " 'prelev_usage_label_2',\n",
    " 'prelev_other_volume_sum',\n",
    " 'insee_pop_commune',\n",
    " 'piezo_groundwater_level_category']\n",
    "\n",
    "columns_to_keep_for_test = ['row_index',\n",
    " 'piezo_station_bss_id',\n",
    " 'piezo_station_altitude',\n",
    " 'piezo_station_longitude',\n",
    " 'piezo_station_latitude',\n",
    " 'piezo_measurement_date',\n",
    " 'piezo_status',\n",
    " 'piezo_qualification',\n",
    " 'meteo_rain_height',\n",
    " 'meteo_temperature_min',\n",
    " 'meteo_temperature_max',\n",
    " 'meteo_temperature_avg',\n",
    " 'meteo_temperature_avg_threshold',\n",
    " 'meteo_frost_duration',\n",
    " 'meteo_amplitude_tn_tx',\n",
    " 'meteo_temperature_avg_tntm',\n",
    " 'meteo_evapotranspiration_grid',\n",
    " 'hydro_observation_result_elab',\n",
    " 'hydro_qualification_code',\n",
    " 'distance_piezo_hydro',\n",
    " 'distance_piezo_meteo',\n",
    " 'prelev_volume_0',\n",
    " 'prelev_usage_label_0',\n",
    " 'prelev_volume_1',\n",
    " 'prelev_usage_label_1',\n",
    " 'prelev_volume_2',\n",
    " 'prelev_usage_label_2',\n",
    " 'prelev_other_volume_sum',\n",
    " 'insee_pop_commune']\n",
    "\n",
    "\n",
    "\n"
   ]
  },
  {
   "cell_type": "code",
   "execution_count": null,
   "metadata": {
    "id": "f78HtDnsLv_K"
   },
   "outputs": [],
   "source": [
    "past = [10, 30, 90,]"
   ]
  },
  {
   "cell_type": "markdown",
   "metadata": {
    "id": "9Ja1xTYwcFtI"
   },
   "source": [
    "# Finding the model"
   ]
  },
  {
   "cell_type": "code",
   "execution_count": null,
   "metadata": {
    "id": "daT5lxX7Cj0d"
   },
   "outputs": [],
   "source": [
    "df = pd.read_csv('X_train_Hi5.csv', nrows=150000, usecols=columns_to_keep)\n",
    "x, y = prep_data(df)\n"
   ]
  },
  {
   "cell_type": "code",
   "execution_count": null,
   "metadata": {
    "colab": {
     "base_uri": "https://localhost:8080/"
    },
    "id": "xVV9a8C4OwgU",
    "outputId": "95f3e81a-72a9-4b43-afcd-8bde8e7e8663"
   },
   "outputs": [],
   "source": [
    "pd.set_option('future.no_silent_downcasting', True)\n",
    "id_list = x['id'].value_counts().index.tolist()\n",
    "x_per_id = {}\n",
    "i = 0\n",
    "for id in id_list:\n",
    "    i += 1\n",
    "    if i % 250 == 1 or i == len(id_list):\n",
    "        print(f'{i}/{len(id_list)}')\n",
    "    df_idx = x.loc[x['id'] == id].copy()\n",
    "    df_idx.reset_index(drop=False, inplace=True)\n",
    "    df_idx.set_index('date', inplace=True)\n",
    "    df_idx = df_idx[~df_idx.index.duplicated()]\n",
    "    df_idx.sort_index(inplace=True)\n",
    "    df_idx = pd.concat([df_idx, df_idx.shift(periods=past, freq='D')], axis=1)\n",
    "    df_index = df_idx['index'].copy()\n",
    "    for period in past:\n",
    "        df_idx.drop(columns=[f'index_{period}'], inplace=True)\n",
    "        df_idx.drop(columns=[f'id_{period}'], inplace=True)\n",
    "    df_idx = df_idx.bfill()\n",
    "    df_idx = df_idx.drop(columns=['index'])\n",
    "    df_idx['index'] = df_index\n",
    "    df_idx = df_idx.loc[df_idx['index'].notna()]\n",
    "    x_per_id[id] = df_idx.copy()"
   ]
  },
  {
   "cell_type": "code",
   "execution_count": null,
   "metadata": {
    "id": "EeZXeFWoV8KJ"
   },
   "outputs": [],
   "source": [
    "new_x = pd.concat(x_per_id.values(), axis=0, ignore_index=True)\n",
    "new_x['index'] = new_x['index'].astype(int)\n",
    "new_x.set_index('index', inplace=True)\n",
    "new_x = new_x.sort_index()\n",
    "new_x = new_x.drop(columns=['id'])\n",
    "new_y = y.loc[new_x.index]"
   ]
  },
  {
   "cell_type": "code",
   "execution_count": null,
   "metadata": {
    "id": "rNWkuV64kgkb"
   },
   "outputs": [],
   "source": [
    "x_train, x_valid, y_train, y_valid = train_test_split(new_x, new_y, test_size=0.2, random_state=42)"
   ]
  },
  {
   "cell_type": "code",
   "execution_count": null,
   "metadata": {
    "colab": {
     "base_uri": "https://localhost:8080/"
    },
    "id": "AbD-4vawg_J6",
    "outputId": "fba6183e-b548-46b1-9df2-326ae26ff078"
   },
   "outputs": [],
   "source": [
    "x_train = data_without_nan(x_train)\n",
    "x_valid = data_without_nan(x_valid)"
   ]
  },
  {
   "cell_type": "code",
   "execution_count": null,
   "metadata": {
    "id": "BHBUiphDkYpc"
   },
   "outputs": [],
   "source": [
    "scaler = RobustScaler()\n",
    "x_train_scaled = scaler.fit_transform(x_train)\n",
    "#joblib.dump(scaler, 'robust_scaler.pkl')\n",
    "x_train = pd.DataFrame(x_train_scaled, columns=x_train.columns, index=x_train.index)\n",
    "x_valid_scaled = scaler.transform(x_valid)\n",
    "x_valid = pd.DataFrame(x_valid_scaled, columns=x_valid.columns, index=x_valid.index)"
   ]
  },
  {
   "cell_type": "code",
   "execution_count": null,
   "metadata": {
    "colab": {
     "base_uri": "https://localhost:8080/"
    },
    "id": "V2sV62KmG5xy",
    "outputId": "5737649c-fa17-4ed7-d274-839381182709"
   },
   "outputs": [],
   "source": [
    "xgb = XGBRegressor(tree_method='hist', device='cuda', objective='reg:squarederror')\n",
    "param_grid = {\n",
    "    'n_estimators': [400, 500, 1000],\n",
    "    'learning_rate': [0.3, 0.4, 0.9],\n",
    "    'max_depth': [6, 7, 12],\n",
    "}\n",
    "grid_search = GridSearchCV(estimator=xgb, param_grid=param_grid, scoring='neg_mean_absolute_error', cv=5)\n",
    "grid_search.fit(gpu_x_train, y_train)\n",
    "train_score = grid_search.score(gpu_x_train, y_train)\n",
    "valid_score = grid_search.score(gpu_x_valid, y_valid)\n",
    "\n",
    "print(\"Best Parameters:\", grid_search.best_params_)\n",
    "print(\"Training Score:\", train_score)\n",
    "print(\"Validation Score:\", valid_score)"
   ]
  },
  {
   "cell_type": "code",
   "execution_count": null,
   "metadata": {
    "colab": {
     "base_uri": "https://localhost:8080/"
    },
    "id": "brjAvwP47_fr",
    "outputId": "a497e9c2-6b49-4f60-bbf8-8dadb32d8ae6"
   },
   "outputs": [],
   "source": [
    "pred_valid = grid_search.predict(gpu_x_valid)\n",
    "pred_valid = pd.Series(pred_valid, index=y_valid.index)\n",
    "pred_valid = pred_valid.apply(lambda x: round(x))\n",
    "accuracy = accuracy_score(y_valid, pred_valid)\n",
    "print(\"Accuracy:\", accuracy)"
   ]
  },
  {
   "cell_type": "code",
   "execution_count": null,
   "metadata": {
    "colab": {
     "base_uri": "https://localhost:8080/"
    },
    "id": "CtpGY97IVRwh",
    "outputId": "44feb454-8f81-43db-ebf6-2d022d32936d"
   },
   "outputs": [],
   "source": [
    "#joblib.dump(grid_search, 'xgb_model.joblib')"
   ]
  },
  {
   "cell_type": "markdown",
   "metadata": {
    "id": "FBb48k7AcWp_"
   },
   "source": [
    "# Applying the model"
   ]
  },
  {
   "cell_type": "code",
   "execution_count": null,
   "metadata": {
    "colab": {
     "base_uri": "https://localhost:8080/"
    },
    "id": "ylNjdJ_mXTo1",
    "outputId": "3d946acb-2682-409c-c92e-f535609da0f7"
   },
   "outputs": [],
   "source": [
    "df_test = pd.read_csv('X_test_Hi5.csv', usecols=columns_to_keep_for_test)\n"
   ]
  },
  {
   "cell_type": "code",
   "execution_count": null,
   "metadata": {
    "id": "nx2HBV-uc5fc"
   },
   "outputs": [],
   "source": [
    "x_test = prep_test_data(df_test)"
   ]
  },
  {
   "cell_type": "code",
   "execution_count": null,
   "metadata": {
    "colab": {
     "base_uri": "https://localhost:8080/"
    },
    "id": "kgOAb2hgZJ3D",
    "outputId": "8d58f39c-7e0f-47b5-9234-fbf4f6b889b6"
   },
   "outputs": [],
   "source": [
    "df_base = pd.read_csv('X_train_Hi5.csv', skiprows=lambda x: (x!=0 and x<500000), usecols=columns_to_keep)"
   ]
  },
  {
   "cell_type": "code",
   "execution_count": null,
   "metadata": {
    "id": "mdCKzoTybQpL"
   },
   "outputs": [],
   "source": [
    "x_base = prep_base_data(df_base)"
   ]
  },
  {
   "cell_type": "code",
   "execution_count": null,
   "metadata": {
    "id": "LFqV88_chq70"
   },
   "outputs": [],
   "source": [
    "x_base['row_index'] = range(-1, -len(x_base) - 1, -1)"
   ]
  },
  {
   "cell_type": "code",
   "execution_count": null,
   "metadata": {
    "id": "LWdvS0YYixFE"
   },
   "outputs": [],
   "source": [
    "x_base.set_index('row_index', inplace=True)"
   ]
  },
  {
   "cell_type": "code",
   "execution_count": null,
   "metadata": {
    "id": "BWKSgAzgfzUz"
   },
   "outputs": [],
   "source": [
    "x_all = pd.concat([x_base, x_test], axis=0)"
   ]
  },
  {
   "cell_type": "code",
   "execution_count": null,
   "metadata": {
    "colab": {
     "base_uri": "https://localhost:8080/"
    },
    "id": "kPY7E_BFkFUs",
    "outputId": "3dd310f6-ca35-4379-9139-05c990757c30"
   },
   "outputs": [],
   "source": [
    "pd.set_option('future.no_silent_downcasting', True)\n",
    "id_list = x_all['id'].value_counts().index.tolist()\n",
    "x_per_id = {}\n",
    "i = 0\n",
    "for id in id_list:\n",
    "    i += 1\n",
    "    if i % 250 == 1 or i == len(id_list):\n",
    "        print(f'{i}/{len(id_list)}')\n",
    "    df_idx = x_all.loc[x_all['id'] == id].copy()\n",
    "    df_idx.reset_index(drop=False, inplace=True)\n",
    "    df_idx.set_index('date', inplace=True)\n",
    "    df_idx = df_idx[~df_idx.index.duplicated()]\n",
    "    df_idx.sort_index(inplace=True)\n",
    "    df_idx = pd.concat([df_idx, df_idx.shift(periods=past, freq='D')], axis=1)\n",
    "    df_index = df_idx['index'].copy()\n",
    "    for period in past:\n",
    "        df_idx.drop(columns=[f'index_{period}'], inplace=True)\n",
    "        df_idx.drop(columns=[f'id_{period}'], inplace=True)\n",
    "    df_idx = df_idx.bfill()\n",
    "    df_idx = df_idx.drop(columns=['index'])\n",
    "    df_idx['index'] = df_index\n",
    "    df_idx = df_idx.loc[df_idx['index'].notna()]\n",
    "    x_per_id[id] = df_idx.copy()"
   ]
  },
  {
   "cell_type": "code",
   "execution_count": null,
   "metadata": {
    "id": "Lhjtx8nykoPu"
   },
   "outputs": [],
   "source": [
    "new_x = pd.concat(x_per_id.values(), axis=0, ignore_index=True)\n",
    "new_x['index'] = new_x['index'].astype(int)\n",
    "new_x.set_index('index', inplace=True)\n",
    "new_x = new_x.sort_index()\n",
    "new_x = new_x.drop(columns=['id'])"
   ]
  },
  {
   "cell_type": "code",
   "execution_count": null,
   "metadata": {
    "id": "V4shw3Pelbhs"
   },
   "outputs": [],
   "source": [
    "new_x_test = new_x.loc[x_test.index]"
   ]
  },
  {
   "cell_type": "code",
   "execution_count": null,
   "metadata": {
    "colab": {
     "base_uri": "https://localhost:8080/"
    },
    "id": "FPgk_EK0qvUS",
    "outputId": "050f3d77-cef7-4159-e2c0-ada51579565b"
   },
   "outputs": [],
   "source": [
    "new_x_test = data_without_nan(new_x_test)"
   ]
  },
  {
   "cell_type": "code",
   "execution_count": null,
   "metadata": {
    "id": "StCMT_10liIL"
   },
   "outputs": [],
   "source": [
    "loaded_scaler = joblib.load('robust_scaler.pkl')\n",
    "\n",
    "new_x_test_scaled = loaded_scaler.transform(new_x_test)\n",
    "\n",
    "new_x_test = pd.DataFrame(new_x_test_scaled, columns=new_x_test.columns, index=new_x_test.index)"
   ]
  },
  {
   "cell_type": "code",
   "execution_count": null,
   "metadata": {
    "id": "Zi5FAs6zmegj"
   },
   "outputs": [],
   "source": [
    "loaded_model = joblib.load('xgb_model.joblib')"
   ]
  },
  {
   "cell_type": "code",
   "execution_count": null,
   "metadata": {
    "id": "v_u3rkDhrhgS"
   },
   "outputs": [],
   "source": [
    "del pred_test"
   ]
  },
  {
   "cell_type": "code",
   "execution_count": null,
   "metadata": {
    "id": "_Vp6IqeFnL9n"
   },
   "outputs": [],
   "source": [
    "pred_test = loaded_model.predict(new_x_test)\n",
    "pred_test = pd.Series(pred_test, index=new_x_test.index)"
   ]
  },
  {
   "cell_type": "code",
   "execution_count": null,
   "metadata": {
    "id": "3Q_C0lr3rNXN"
   },
   "outputs": [],
   "source": [
    "pred_test = pred_test.fillna(0)"
   ]
  },
  {
   "cell_type": "code",
   "execution_count": null,
   "metadata": {
    "id": "MKR7UDPrnTif"
   },
   "outputs": [],
   "source": [
    "pred_test = pred_test.apply(lambda x: round(x))\n",
    "pred_test = pred_test.map({-2:'Very Low', -1:'Low', 0:'Average', 1:'High', 2:'Very High'})"
   ]
  },
  {
   "cell_type": "code",
   "execution_count": null,
   "metadata": {
    "colab": {
     "base_uri": "https://localhost:8080/",
     "height": 458
    },
    "id": "R1M9NxS1o1He",
    "outputId": "21459957-fc68-409d-82f2-28f285f92bf8"
   },
   "outputs": [],
   "source": [
    "pred_test"
   ]
  },
  {
   "cell_type": "code",
   "execution_count": null,
   "metadata": {
    "id": "E2ZottX_o18U"
   },
   "outputs": [],
   "source": [
    "pred_test.to_csv('predictions.csv', index=True, header=True)"
   ]
  },
  {
   "cell_type": "code",
   "execution_count": null,
   "metadata": {
    "id": "s0QWVVQOqmv3"
   },
   "outputs": [],
   "source": []
  }
 ],
 "metadata": {
  "accelerator": "GPU",
  "colab": {
   "authorship_tag": "ABX9TyNKYTjY1ujfx/nFr2Oy7rYO",
   "gpuType": "T4",
   "include_colab_link": true,
   "mount_file_id": "1j56PfuVfCKvpOclcYlgD1aT7tWnLg2lT",
   "provenance": []
  },
  "kernelspec": {
   "display_name": "Python 3",
   "name": "python3"
  },
  "language_info": {
   "name": "python"
  }
 },
 "nbformat": 4,
 "nbformat_minor": 0
}
