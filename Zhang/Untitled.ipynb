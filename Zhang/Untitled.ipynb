{
 "cells": [
  {
   "cell_type": "markdown",
   "id": "d5258fb7-b4ad-4e64-ae7b-4083bc78a299",
   "metadata": {
    "tags": []
   },
   "source": [
    "## 1.Data Preparation"
   ]
  },
  {
   "cell_type": "code",
   "execution_count": null,
   "id": "3947bf40-33f8-4ea6-b188-5449defa492a",
   "metadata": {
    "tags": []
   },
   "outputs": [],
   "source": [
    "import pandas as pd\n",
    "import numpy as np"
   ]
  },
  {
   "cell_type": "code",
   "execution_count": null,
   "id": "be1b8359-878b-440e-a078-3baf1381cea0",
   "metadata": {
    "tags": []
   },
   "outputs": [],
   "source": [
    "x_train = pd.read_csv('../data/X_train_Hi5.csv', low_memory=False)\n",
    "x_train = pd.read_csv('../data/X_test_Hi5.csv', low_memory=False)"
   ]
  },
  {
   "cell_type": "code",
   "execution_count": null,
   "id": "25a696cf-aa4e-4eaf-ac51-04a59d604ca8",
   "metadata": {
    "tags": []
   },
   "outputs": [],
   "source": [
    "x_train.shape"
   ]
  },
  {
   "cell_type": "code",
   "execution_count": null,
   "id": "15da5b28-0f3d-406c-8d81-de2a71d34939",
   "metadata": {
    "tags": []
   },
   "outputs": [],
   "source": [
    "x_train_time = pd.to_datetime(x_train['piezo_measurement_date'])\n",
    "target_cat = {'High':4, 'Very High':5, 'Very Low' :1, 'Low':2, 'Average':3}\n",
    "target = x_train[\"piezo_groundwater_level_category\"].apply(lambda x : target_cat.get(x, 0))"
   ]
  },
  {
   "cell_type": "code",
   "execution_count": null,
   "id": "50df2d26-4a67-4740-a6ca-50550edde4fb",
   "metadata": {
    "tags": []
   },
   "outputs": [],
   "source": [
    "x_train = x_train.drop(['piezo_groundwater_level_category'],axis=1)"
   ]
  },
  {
   "cell_type": "code",
   "execution_count": null,
   "id": "02e2a42a-e347-4f00-bba7-88a5b609d062",
   "metadata": {
    "tags": []
   },
   "outputs": [],
   "source": [
    "x_all = pd.concat([x_train, x_test], axis=0)"
   ]
  },
  {
   "cell_type": "code",
   "execution_count": null,
   "id": "f21246e7-a2cb-4233-98bc-2f02c6af82a6",
   "metadata": {
    "tags": []
   },
   "outputs": [],
   "source": [
    "x_train['piezo_station_department_code'] = x_train['piezo_station_department_code'].replace(['2A','2B'],'20').astype('int16')\n",
    "x_train['piezo_station_commune_code_insee'] = x_train['piezo_station_commune_code_insee'].str.replace('A', '0').str.replace('B', '0').astype('int32')"
   ]
  },
  {
   "cell_type": "code",
   "execution_count": null,
   "id": "2444eec9-20ce-45fa-ab9a-732b1219a8cf",
   "metadata": {
    "tags": []
   },
   "outputs": [],
   "source": [
    "x_train['insee_%_agri'] = x_train['insee_%_agri'].replace('N/A - division par 0',0).astype('float32')\n",
    "x_train['insee_%_ind'] = x_train['insee_%_ind'].replace('N/A - division par 0',0).astype('float32')\n",
    "x_train['insee_%_const'] = x_train['insee_%_const'].replace('N/A - division par 0',0).astype('float32')\n",
    "x_train['insee_med_living_level'] = x_train['insee_med_living_level'].replace('N/A - résultat non disponible',0).astype('float32')"
   ]
  },
  {
   "cell_type": "code",
   "execution_count": null,
   "id": "0babe115-5483-4d55-a151-feaefd6c820f",
   "metadata": {
    "tags": []
   },
   "outputs": [],
   "source": [
    "# !pip install category_encoders"
   ]
  },
  {
   "cell_type": "code",
   "execution_count": null,
   "id": "aa1f4c1b-dfd6-4f29-b042-c975fac8b03a",
   "metadata": {
    "tags": []
   },
   "outputs": [],
   "source": [
    "from category_encoders import TargetEncoder\n",
    "\n",
    "categorical_columns = [\n",
    "    col for col in x_train.select_dtypes(include=['object']).columns\n",
    "    if x_train[col].nunique() <= 10\n",
    "]\n",
    "\n",
    "encoder = TargetEncoder()\n",
    "encoded_data = encoder.fit_transform(x_train[categorical_columns], target)"
   ]
  },
  {
   "cell_type": "code",
   "execution_count": null,
   "id": "9c116e16-8418-4d09-884d-a734db50db3a",
   "metadata": {
    "tags": []
   },
   "outputs": [],
   "source": [
    "added_data = pd.DataFrame()\n",
    "added_data['piezo_station_bdlisa_codes_TOP3'] = x_train['piezo_station_bdlisa_codes'].fillna(\"['000']\").apply(lambda x: x[2:5]).astype('int16')\n",
    "added_data['piezo_station_bdlisa_codes_LAST4'] = pd.factorize(x_train['piezo_station_bdlisa_codes'].fillna(\"['0']\").apply(lambda x: x[6:]))[0].astype('int16')\n",
    "added_data['piezo_station_bss_code_LASTslash'] = pd.factorize(x_train['piezo_station_bss_code'].apply(lambda x : x.split('/')[-1]))[0].astype('int16')\n",
    "added_data['piezo_station_bss_id'] = pd.factorize(x_train['piezo_station_bss_code'])[0].astype('int16')\n",
    "added_data['hydro_station_code'] = pd.factorize(x_train['hydro_station_code'])[0].astype('int16')\n",
    "added_data['prelev_structure_code_0'] = pd.factorize(x_train['prelev_structure_code_0'])[0].astype('int16')\n",
    "added_data['prelev_structure_code_1'] = pd.factorize(x_train['prelev_structure_code_1'])[0].astype('int16')\n",
    "added_data['prelev_structure_code_2'] = pd.factorize(x_train['prelev_structure_code_2'])[0].astype('int16')"
   ]
  },
  {
   "cell_type": "code",
   "execution_count": null,
   "id": "a139441a-d6ee-4d8d-8394-83531c3c56de",
   "metadata": {
    "tags": []
   },
   "outputs": [],
   "source": [
    "numeric_columns = x_train.select_dtypes(include=['number']).columns\n",
    "numeric_data = x_train[numeric_columns]"
   ]
  },
  {
   "cell_type": "code",
   "execution_count": null,
   "id": "dbcc01eb-bfe6-4bde-83ce-5a8421e1bcbb",
   "metadata": {
    "tags": []
   },
   "outputs": [],
   "source": [
    "from sklearn.preprocessing import MinMaxScaler, StandardScaler\n",
    "\n",
    "scaler = MinMaxScaler()\n",
    "normalized_data = pd.DataFrame(scaler.fit_transform(numeric_data), columns=numeric_columns)\n",
    "\n",
    "standard_scaler = StandardScaler()\n",
    "standardized_data = pd.DataFrame(standard_scaler.fit_transform(normalized_data), columns=numeric_columns)"
   ]
  },
  {
   "cell_type": "code",
   "execution_count": null,
   "id": "b0bc53eb-98ad-4fb6-850b-5c53d0184b71",
   "metadata": {
    "tags": []
   },
   "outputs": [],
   "source": [
    "del x_train, numeric_data, normalized_data"
   ]
  },
  {
   "cell_type": "code",
   "execution_count": null,
   "id": "7f9005f1-f1f9-4bbd-b565-f7726d5d27bb",
   "metadata": {
    "tags": []
   },
   "outputs": [],
   "source": [
    "for col in standardized_data.select_dtypes(include=['float']).columns:\n",
    "    standardized_data[col] = standardized_data[col].astype('float32')"
   ]
  },
  {
   "cell_type": "code",
   "execution_count": null,
   "id": "56d5db39-3cb7-491a-8875-77a3bd724a1f",
   "metadata": {
    "tags": []
   },
   "outputs": [],
   "source": [
    "final_numeric_data = pd.concat([standardized_data, encoded_data, added_data], axis=1)"
   ]
  },
  {
   "cell_type": "code",
   "execution_count": null,
   "id": "2b608dd2-1ad6-48f3-bac9-db9726c40b2c",
   "metadata": {
    "tags": []
   },
   "outputs": [],
   "source": [
    "del standardized_data, encoded_data"
   ]
  },
  {
   "cell_type": "code",
   "execution_count": null,
   "id": "0e80ab0a-2d4a-4c51-9b76-963ea4666ed2",
   "metadata": {
    "tags": []
   },
   "outputs": [],
   "source": [
    "final_numeric_data['year'] = x_train_time.dt.year\n",
    "final_numeric_data['month'] = x_train_time.dt.month\n",
    "final_numeric_data['day'] = x_train_time.dt.day"
   ]
  },
  {
   "cell_type": "code",
   "execution_count": null,
   "id": "52d76579-7691-45ef-b900-c9302f16d802",
   "metadata": {
    "tags": []
   },
   "outputs": [],
   "source": [
    "filled_numeric_data = final_numeric_data.fillna(final_numeric_data.median())"
   ]
  },
  {
   "cell_type": "code",
   "execution_count": null,
   "id": "2548d538-4e77-45bd-94b9-dfd9c8ddf215",
   "metadata": {
    "tags": []
   },
   "outputs": [],
   "source": [
    "tag = (final_numeric_data['month'].between(6, 9)) & (final_numeric_data['year'] == 2021)\n",
    "\n",
    "X_train = final_numeric_data[~tag]\n",
    "X_test = final_numeric_data[tag]\n",
    "\n",
    "y_train = target[~tag]\n",
    "y_test = target[tag]"
   ]
  },
  {
   "cell_type": "code",
   "execution_count": null,
   "id": "4c677118-ed4b-4df6-a747-71754c14666a",
   "metadata": {
    "tags": []
   },
   "outputs": [],
   "source": [
    "from sklearn.feature_selection import VarianceThreshold\n",
    "from sklearn.ensemble import RandomForestClassifier\n",
    "from sklearn.metrics import confusion_matrix, classification_report\n",
    "import time\n",
    "from sklearn.impute import SimpleImputer\n",
    "\n",
    "# Step 1: 删除高缺失率特征\n",
    "print(\"Step 1: Removing high-missing-rate features...\")\n",
    "\n",
    "missing_threshold = 0.5  # 设置缺失率阈值为 50%\n",
    "missing_ratios = X_train.isnull().mean()  # 计算每列的缺失率\n",
    "low_missing_features = missing_ratios[missing_ratios < missing_threshold].index  # 保留缺失率低于阈值的特征\n",
    "X_train_reduced = X_train[low_missing_features]\n",
    "X_test_reduced = X_test[low_missing_features]\n",
    "\n",
    "print(f\"Reduced features from {X_train.shape[1]} to {X_train_reduced.shape[1]} after high-missing-rate filtering.\")\n",
    "\n",
    "# Step 2: 删除低方差特征\n",
    "print(\"Step 2: Removing low-variance features...\")\n",
    "\n",
    "variance_threshold = 0.01  # 设置方差阈值\n",
    "selector = VarianceThreshold(threshold=variance_threshold)\n",
    "X_train_reduced = selector.fit_transform(X_train_reduced)\n",
    "X_test_reduced = selector.transform(X_test_reduced)\n",
    "\n",
    "print(f\"Reduced features from {len(low_missing_features)} to {X_train_reduced.shape[1]} after low-variance filtering.\")\n",
    "\n",
    "imputer = SimpleImputer(strategy='mean')\n",
    "X_train_reduced = imputer.fit_transform(X_train_reduced)\n",
    "X_test_reduced = imputer.transform(X_test_reduced)\n",
    "\n",
    "# Step 3: 训练随机森林模型\n",
    "print(\"Step 3: Training the Random Forest model...\")\n",
    "\n",
    "rf_model = RandomForestClassifier(n_jobs=-1, random_state=42)\n",
    "\n",
    "# 记录训练时间\n",
    "start_time = time.time()\n",
    "rf_model.fit(X_train_reduced, y_train)\n",
    "end_time = time.time()\n",
    "\n",
    "# Step 4: 预测和评估\n",
    "print(\"Step 4: Predicting and evaluating the model...\")\n",
    "\n",
    "# 预测\n",
    "y_pred_rf = rf_model.predict(X_test_reduced)\n",
    "\n",
    "# 评估模型\n",
    "cm_rf = confusion_matrix(y_test, y_pred_rf)\n",
    "print(\"Confusion Matrix (Random Forest):\")\n",
    "print(cm_rf)\n",
    "\n",
    "print(\"\\nClassification Report (Random Forest):\")\n",
    "print(classification_report(y_test, y_pred_rf))\n",
    "\n",
    "# 输出训练时间\n",
    "print(f\"Training and prediction completed in {end_time - start_time:.2f} seconds.\")\n"
   ]
  },
  {
   "cell_type": "code",
   "execution_count": null,
   "id": "c6e843dc-8d71-43e8-98b5-3f49f7f52569",
   "metadata": {
    "tags": []
   },
   "outputs": [],
   "source": [
    "from sklearn.feature_selection import VarianceThreshold\n",
    "from sklearn.ensemble import RandomForestClassifier\n",
    "from sklearn.metrics import confusion_matrix, classification_report\n",
    "import time\n",
    "\n",
    "print(\"Step 1: Removing low-variance features...\")\n",
    "\n",
    "selector = VarianceThreshold(threshold=0.01)\n",
    "X_train_reduced = selector.fit_transform(X_train)\n",
    "X_test_reduced = selector.transform(X_test)\n",
    "\n",
    "print(f\"Reduced features from {X_train.shape[1]} to {X_train_reduced.shape[1]} after low-variance filtering.\")\n",
    "\n",
    "print(\"Step 2: Training the Random Forest model...\")\n",
    "\n",
    "rf_model = RandomForestClassifier(n_jobs=-1, random_state=42)\n",
    "\n",
    "start_time = time.time()\n",
    "rf_model.fit(X_train_reduced, y_train)\n",
    "end_time = time.time()\n",
    "\n",
    "print(\"Step 3: Predicting and evaluating the model...\")\n",
    "\n",
    "y_pred_rf = rf_model.predict(X_test_reduced)\n",
    "\n",
    "cm_rf = confusion_matrix(y_test, y_pred_rf)\n",
    "print(\"Confusion Matrix (Random Forest):\")\n",
    "print(cm_rf)\n",
    "\n",
    "print(\"\\nClassification Report (Random Forest):\")\n",
    "print(classification_report(y_test, y_pred_rf))\n",
    "\n",
    "print(f\"Training and prediction completed in {end_time - start_time:.2f} seconds.\")"
   ]
  },
  {
   "cell_type": "code",
   "execution_count": null,
   "id": "04b67d92-aa56-4b9f-94af-db675192ac04",
   "metadata": {
    "tags": []
   },
   "outputs": [],
   "source": [
    "from sklearn.metrics import confusion_matrix, classification_report\n",
    "\n",
    "cm_rf = confusion_matrix(y_test, y_pred_rf)\n",
    "print(\"Confusion Matrix (Random Forest with selected features):\")\n",
    "print(cm_rf)\n",
    "\n",
    "print(\"\\nClassification Report (Random Forest with selected features):\")\n",
    "print(classification_report(y_test, y_pred_rf))\n",
    "\n",
    "print(f\"Training and prediction time (Random Forest): {end_time - start_time:.2f} seconds\")\n"
   ]
  },
  {
   "cell_type": "code",
   "execution_count": null,
   "id": "3c478427-518c-4b01-818e-17ed4169f457",
   "metadata": {
    "tags": []
   },
   "outputs": [],
   "source": [
    "rf_model = RandomForestClassifier(random_state=42)\n",
    "\n",
    "start_time = time.time()\n",
    "rf_model.fit(X_train, y_train)\n",
    "end_time = time.time()\n",
    "\n",
    "\n",
    "y_pred_rf = rf_model.predict(X_test)\n",
    "\n",
    "cm_rf = confusion_matrix(y_test, y_pred_rf)\n",
    "print(\"Confusion Matrix (Random Forest with selected features):\")\n",
    "print(cm_rf)\n",
    "\n",
    "print(\"\\nClassification Report (Random Forest with selected features):\")\n",
    "print(classification_report(y_test, y_pred_rf))\n",
    "\n",
    "print(f\"Training and prediction time (Random Forest): {end_time - start_time:.2f} seconds\")"
   ]
  },
  {
   "cell_type": "code",
   "execution_count": null,
   "id": "a19408ff-b02e-4b5d-9971-10b3c30eee73",
   "metadata": {
    "tags": []
   },
   "outputs": [],
   "source": [
    "from sklearn.feature_selection import RFE\n",
    "\n",
    "rfe = RFE(estimator=rf_model, n_features_to_select=50)\n",
    "rfe.fit(X_train, y_train)\n",
    "\n",
    "selected_features = rfe.support_\n",
    "X_train_selected = X_train[:, selected_features]\n",
    "X_test_selected = X_test[:, selected_features]"
   ]
  },
  {
   "cell_type": "code",
   "execution_count": null,
   "id": "e4d7a83a-bbb2-4b11-a236-519c9b62a14f",
   "metadata": {
    "tags": []
   },
   "outputs": [],
   "source": [
    "rf_model = RandomForestClassifier(random_state=42)\n",
    "\n",
    "start_time = time.time()\n",
    "rf_model.fit(X_train_selected, y_train)\n",
    "end_time = time.time()\n",
    "\n",
    "\n",
    "y_pred_rf = rf_model.predict(X_test_selected)\n",
    "\n",
    "cm_rf = confusion_matrix(y_test, y_pred_rf)\n",
    "print(\"Confusion Matrix (Random Forest with selected features):\")\n",
    "print(cm_rf)\n",
    "\n",
    "print(\"\\nClassification Report (Random Forest with selected features):\")\n",
    "print(classification_report(y_test, y_pred_rf))\n",
    "\n",
    "print(f\"Training and prediction time (Random Forest): {end_time - start_time:.2f} seconds\")"
   ]
  },
  {
   "cell_type": "code",
   "execution_count": null,
   "id": "b9d7007a-0d53-4b3f-ae40-6d94ff32508f",
   "metadata": {
    "tags": []
   },
   "outputs": [],
   "source": [
    "from sklearn.feature_selection import RFE\n",
    "from sklearn.ensemble import RandomForestClassifier\n",
    "from sklearn.metrics import confusion_matrix, classification_report\n",
    "import time\n",
    "\n",
    "# 初始化随机森林分类器，并启用多线程\n",
    "rf_model = RandomForestClassifier(n_jobs=-1, random_state=42)\n",
    "\n",
    "# 初始化 RFE，选择前 50 个重要特征\n",
    "rfe = RFE(estimator=rf_model, n_features_to_select=50)\n",
    "\n",
    "# 特征选择\n",
    "start_time = time.time()\n",
    "rfe.fit(X_train, y_train)  # RFE 自动使用多线程加速\n",
    "end_time = time.time()\n",
    "\n",
    "# 提取选择的特征\n",
    "selected_features = rfe.support_  # 布尔值数组，True 表示被选择的特征\n",
    "X_train_selected = X_train[:, selected_features]\n",
    "X_test_selected = X_test[:, selected_features]\n",
    "\n",
    "print(f\"Feature selection time: {end_time - start_time:.2f} seconds\")\n",
    "\n",
    "# 重新训练模型并评估\n",
    "start_time = time.time()\n",
    "rf_model.fit(X_train_selected, y_train)  # 再次利用多线程训练模型\n",
    "y_pred_rf = rf_model.predict(X_test_selected)\n",
    "end_time = time.time()\n",
    "\n",
    "# 输出评估指标\n",
    "cm_rf = confusion_matrix(y_test, y_pred_rf)\n",
    "print(\"Confusion Matrix (Random Forest with selected features):\")\n",
    "print(cm_rf)\n",
    "\n",
    "print(\"\\nClassification Report (Random Forest with selected features):\")\n",
    "print(classification_report(y_test, y_pred_rf))\n",
    "\n",
    "print(f\"Training and prediction time (Random Forest): {end_time - start_time:.2f} seconds\")"
   ]
  },
  {
   "cell_type": "code",
   "execution_count": null,
   "id": "88153370-6c50-4c54-b063-6e5edb270df4",
   "metadata": {
    "tags": []
   },
   "outputs": [],
   "source": [
    "selector = VarianceThreshold(threshold=0.01)\n",
    "X_train_reduced = selector.fit_transform(X_train)\n",
    "# X_test_reduced = selector.transform(X_test)\n",
    "set(X_train_reduced.columns)"
   ]
  },
  {
   "cell_type": "code",
   "execution_count": null,
   "id": "08bc33f7-8e08-42a1-ad7f-7be2bba06495",
   "metadata": {
    "tags": []
   },
   "outputs": [],
   "source": [
    "set(X_train_selected.columns)"
   ]
  },
  {
   "cell_type": "code",
   "execution_count": null,
   "id": "a64616ea-c6f0-46f0-aee3-e671bab25421",
   "metadata": {
    "tags": []
   },
   "outputs": [],
   "source": [
    "from sklearn.linear_model import LogisticRegression\n",
    "\n",
    "# 用逻辑回归作为基模型\n",
    "rfe = RFE(estimator=LogisticRegression(max_iter=500), n_features_to_select=100)\n",
    "rfe.fit(X_train, y_train)\n",
    "X_train_selected = X_train[:, rfe.support_]\n",
    "X_test_selected = X_test[:, rfe.support_]"
   ]
  },
  {
   "cell_type": "code",
   "execution_count": null,
   "id": "a86f4607-79be-4436-a685-65b112c63def",
   "metadata": {
    "tags": []
   },
   "outputs": [],
   "source": [
    "from cuml.ensemble import RandomForestClassifier as cumlRF\n",
    "from sklearn.metrics import classification_report, confusion_matrix\n",
    "\n",
    "# 使用 GPU 加速的随机森林\n",
    "gpu_rf_model = cumlRF(n_estimators=100, max_depth=10, random_state=42)\n",
    "start_time = time.time()\n",
    "gpu_rf_model.fit(X_train_selected, y_train)\n",
    "end_time = time.time()\n",
    "\n",
    "# 预测\n",
    "y_pred_rf = gpu_rf_model.predict(X_test_selected)\n",
    "\n",
    "# 评估指标\n",
    "cm_rf = confusion_matrix(y_test, y_pred_rf)\n",
    "print(\"Confusion Matrix (GPU Random Forest with selected features):\")\n",
    "print(cm_rf)\n",
    "print(\"\\nClassification Report (GPU Random Forest with selected features):\")\n",
    "print(classification_report(y_test, y_pred_rf))\n",
    "\n",
    "print(f\"Training and prediction time (GPU Random Forest): {end_time - start_time:.2f} seconds\")"
   ]
  },
  {
   "cell_type": "code",
   "execution_count": null,
   "id": "ca079c88-9ced-4d21-bc2e-a2cbc6c55920",
   "metadata": {
    "tags": []
   },
   "outputs": [],
   "source": [
    "from sklearn.ensemble import RandomForestClassifier\n",
    "from sklearn.model_selection import GridSearchCV, cross_val_score\n",
    "from sklearn.feature_selection import SelectFromModel\n",
    "\n",
    "rf = RandomForestClassifier(random_state=42)\n",
    "rf.fit(X_train, y_train)\n",
    "selector = SelectFromModel(rf, prefit=True)\n",
    "X_train_selected = selector.transform(X_train)\n",
    "X_test_selected = selector.transform(X_test)\n",
    "\n",
    "param_grid = {\n",
    "    'n_estimators': [50, 100, 200],\n",
    "    'max_depth': [10, 20, None],\n",
    "    'min_samples_split': [2, 5, 10],\n",
    "    'max_features': ['sqrt', 'log2']\n",
    "}\n",
    "grid_search = GridSearchCV(RandomForestClassifier(random_state=42), param_grid, cv=5)\n",
    "grid_search.fit(X_train, y_train)\n",
    "\n",
    "best_rf_model = grid_search.best_estimator_\n",
    "y_pred_rf = best_rf_model.predict(X_train_selected)"
   ]
  },
  {
   "cell_type": "code",
   "execution_count": null,
   "id": "c33ca0f4-728e-4720-b1a1-700d433ef05e",
   "metadata": {
    "tags": []
   },
   "outputs": [],
   "source": [
    "from sklearn.metrics import classification_report, roc_auc_score\n",
    "print(classification_report(y_test, y_pred_rf))\n",
    "print(\"ROC-AUC Score:\", roc_auc_score(y_test, best_rf_model.predict_proba(X_test_selected)[:, 1]))"
   ]
  },
  {
   "cell_type": "markdown",
   "id": "5b406573-58d1-4b63-b3b3-aa40e852bf14",
   "metadata": {},
   "source": [
    "## 2.Baseline Models"
   ]
  },
  {
   "cell_type": "code",
   "execution_count": null,
   "id": "c28b9302-8378-488d-8c33-383cf3386401",
   "metadata": {
    "tags": []
   },
   "outputs": [],
   "source": [
    "import pandas as pd\n",
    "import numpy as np"
   ]
  },
  {
   "cell_type": "code",
   "execution_count": null,
   "id": "d16a12e6-efb6-4792-9864-2dbebb5625f4",
   "metadata": {
    "tags": []
   },
   "outputs": [],
   "source": [
    "final_numeric_data = pd.read_csv('cate10num.csv',index_col=0)\n",
    "target = pd.read_csv('target.csv',index_col=0)\n",
    "x_train_time = pd.read_csv('train_time.csv',index_col=0)"
   ]
  },
  {
   "cell_type": "code",
   "execution_count": null,
   "id": "654ed173-41bf-49a4-ae89-724aa35f2052",
   "metadata": {
    "tags": []
   },
   "outputs": [],
   "source": [
    "x_train_time = pd.to_datetime(x_train_time['piezo_measurement_date'])"
   ]
  },
  {
   "cell_type": "code",
   "execution_count": null,
   "id": "fc9b9aef-c617-43ae-97fa-e395cb9e2d43",
   "metadata": {
    "tags": []
   },
   "outputs": [],
   "source": [
    "for col in final_numeric_data.select_dtypes(include=['float']).columns:\n",
    "    final_numeric_data[col] = final_numeric_data[col].astype('float32')"
   ]
  },
  {
   "cell_type": "code",
   "execution_count": null,
   "id": "a8386a4b-29d7-491d-b43b-03f74fca2cb7",
   "metadata": {
    "tags": []
   },
   "outputs": [],
   "source": [
    "final_numeric_data['year'] = x_train_time.dt.year\n",
    "final_numeric_data['month'] = x_train_time.dt.month\n",
    "final_numeric_data['day'] = x_train_time.dt.day"
   ]
  },
  {
   "cell_type": "code",
   "execution_count": null,
   "id": "cf200466-cc83-42ff-8935-f910a7566961",
   "metadata": {
    "tags": []
   },
   "outputs": [],
   "source": [
    "final_numeric_data = final_numeric_data.fillna(0)"
   ]
  },
  {
   "cell_type": "code",
   "execution_count": null,
   "id": "d94ee365-98d0-4833-8a57-bf3472f7d588",
   "metadata": {
    "tags": []
   },
   "outputs": [],
   "source": [
    "tag = (final_numeric_data['month'].between(6, 9)) & (final_numeric_data['year'] == 2021)\n",
    "\n",
    "X_train = final_numeric_data[~tag]\n",
    "X_test = final_numeric_data[tag]\n",
    "\n",
    "y_train = target[~tag]\n",
    "y_test = target[tag]"
   ]
  },
  {
   "cell_type": "code",
   "execution_count": null,
   "id": "4eb6103b-f671-4c01-a70f-699fb89633e0",
   "metadata": {
    "tags": []
   },
   "outputs": [],
   "source": [
    "from sklearn.metrics import confusion_matrix, classification_report"
   ]
  },
  {
   "cell_type": "code",
   "execution_count": null,
   "id": "baf270fc-c5e3-4b00-b093-836cab285bb8",
   "metadata": {
    "tags": []
   },
   "outputs": [],
   "source": [
    "from sklearn.naive_bayes import GaussianNB\n",
    "import time\n",
    "\n",
    "nb_model = GaussianNB()\n",
    "\n",
    "start_time = time.time()\n",
    "nb_model.fit(X_train, y_train)\n",
    "end_time = time.time()\n",
    "\n",
    "y_pred_nb = nb_model.predict(X_test)\n",
    "\n",
    "cm_nb = confusion_matrix(y_test, y_pred_nb)\n",
    "print(\"Confusion Matrix (Naive Bayes):\")\n",
    "print(cm_nb)\n",
    "\n",
    "print(\"\\nClassification Report (Naive Bayes):\")\n",
    "print(classification_report(y_test, y_pred_nb))\n",
    "\n",
    "print(f\"Training and prediction time (Naive Bayes): {end_time - start_time:.2f} seconds\")"
   ]
  },
  {
   "cell_type": "code",
   "execution_count": null,
   "id": "4e18d19b-2730-4880-ae8b-aa55c69b18e1",
   "metadata": {
    "tags": []
   },
   "outputs": [],
   "source": [
    "from sklearn.naive_bayes import GaussianNB\n",
    "import time\n",
    "\n",
    "nb_model = GaussianNB()\n",
    "\n",
    "start_time = time.time()\n",
    "nb_model.fit(X_train, y_train)\n",
    "end_time = time.time()\n",
    "\n",
    "y_pred_nb = nb_model.predict(X_test)\n",
    "\n",
    "cm_nb = confusion_matrix(y_test, y_pred_nb)\n",
    "print(\"Confusion Matrix (Naive Bayes):\")\n",
    "print(cm_nb)\n",
    "\n",
    "print(\"\\nClassification Report (Naive Bayes):\")\n",
    "print(classification_report(y_test, y_pred_nb))\n",
    "\n",
    "print(f\"Training and prediction time (Naive Bayes): {end_time - start_time:.2f} seconds\")"
   ]
  },
  {
   "cell_type": "code",
   "execution_count": null,
   "id": "49653a1d-2c86-40b4-b5a2-99eb4c3ad79e",
   "metadata": {
    "tags": []
   },
   "outputs": [],
   "source": [
    "from sklearn.ensemble import RandomForestClassifier\n",
    "import time\n",
    "\n",
    "rf_model = RandomForestClassifier(max_depth=5, n_estimators=10, max_features=1, random_state=42)\n",
    "\n",
    "start_time = time.time()\n",
    "rf_model.fit(X_train, y_train)\n",
    "end_time = time.time()\n",
    "\n",
    "y_pred_rf = rf_model.predict(X_test)\n",
    "\n",
    "cm_rf = confusion_matrix(y_test, y_pred_rf)\n",
    "print(\"Confusion Matrix (Random Forest):\")\n",
    "print(cm_rf)\n",
    "\n",
    "print(\"\\nClassification Report (Random Forest):\")\n",
    "print(classification_report(y_test, y_pred_rf))\n",
    "\n",
    "print(f\"Training and prediction time (Random Forest): {end_time - start_time:.2f} seconds\")"
   ]
  },
  {
   "cell_type": "code",
   "execution_count": null,
   "id": "92a2432d-e15c-4561-8c36-c33fb8b315ac",
   "metadata": {
    "tags": []
   },
   "outputs": [],
   "source": [
    "from sklearn.neural_network import MLPClassifier\n",
    "import time\n",
    "\n",
    "mlp_model = MLPClassifier(alpha=1, max_iter=1000, random_state=42)\n",
    "\n",
    "start_time = time.time()\n",
    "mlp_model.fit(X_train, y_train)\n",
    "end_time = time.time()\n",
    "\n",
    "y_pred_mlp = mlp_model.predict(X_test)\n",
    "\n",
    "cm_mlp = confusion_matrix(y_test, y_pred_mlp)\n",
    "print(\"Confusion Matrix (MLP Classifier):\")\n",
    "print(cm_mlp)\n",
    "\n",
    "print(\"\\nClassification Report (MLP Classifier):\")\n",
    "print(classification_report(y_test, y_pred_mlp))\n",
    "\n",
    "print(f\"Training and prediction time (MLP Classifier): {end_time - start_time:.2f} seconds\")"
   ]
  },
  {
   "cell_type": "code",
   "execution_count": null,
   "id": "ca5e25b0-7bf5-425d-8273-5ce0467c3d66",
   "metadata": {},
   "outputs": [],
   "source": []
  },
  {
   "cell_type": "code",
   "execution_count": null,
   "id": "6a6d2297-4b70-49a0-885f-57633a9ad1dc",
   "metadata": {},
   "outputs": [],
   "source": []
  },
  {
   "cell_type": "markdown",
   "id": "935d97cb-db28-45d3-b775-66f2572bf567",
   "metadata": {},
   "source": [
    "## 3. Raise Performance"
   ]
  },
  {
   "cell_type": "code",
   "execution_count": null,
   "id": "2c89014c-fa5e-44b8-85ab-2d92dc6c03c4",
   "metadata": {
    "tags": []
   },
   "outputs": [],
   "source": [
    "import numpy as np\n",
    "import tensorflow as tf\n",
    "from tensorflow.keras.models import Sequential\n",
    "from tensorflow.keras.layers import Dense, Dropout\n",
    "from tensorflow.keras.utils import to_categorical\n",
    "from sklearn.model_selection import train_test_split\n",
    "from sklearn.metrics import classification_report, confusion_matrix"
   ]
  },
  {
   "cell_type": "code",
   "execution_count": null,
   "id": "3553d8da-e912-4a1d-9d6c-1f5fa09b7d81",
   "metadata": {
    "tags": []
   },
   "outputs": [],
   "source": [
    "num_classes = len(np.unique(target)) \n",
    "y_one_hot = to_categorical(target-1, num_classes) \n",
    "y_train = y_one_hot[~tag]\n",
    "y_test = y_one_hot[tag]"
   ]
  },
  {
   "cell_type": "code",
   "execution_count": null,
   "id": "5f54d51b-c778-4a7c-b1ec-fe5c81ab37c8",
   "metadata": {
    "tags": []
   },
   "outputs": [],
   "source": [
    "model = Sequential([\n",
    "    Dense(128, activation='relu', input_shape=(X_train.shape[1],)),\n",
    "    Dropout(0.3),\n",
    "    Dense(64, activation='relu'),\n",
    "    Dropout(0.3),\n",
    "    Dense(num_classes, activation='softmax')\n",
    "])\n",
    "\n",
    "model.compile(\n",
    "    optimizer='adam',\n",
    "    loss='categorical_crossentropy',\n",
    "    metrics=['accuracy']\n",
    ")\n",
    "\n",
    "model.summary()"
   ]
  },
  {
   "cell_type": "code",
   "execution_count": null,
   "id": "129dea5b-bd9c-4d5b-9562-7a717a66a564",
   "metadata": {
    "tags": []
   },
   "outputs": [],
   "source": [
    "from sklearn.preprocessing import LabelEncoder\n",
    "from sklearn.utils.class_weight import compute_class_weight\n",
    "\n",
    "encoder = LabelEncoder()\n",
    "target_encoded = encoder.fit_transform(target)\n",
    "\n",
    "class_weights = compute_class_weight(\n",
    "    class_weight='balanced',\n",
    "    classes=np.unique(target_encoded),\n",
    "    y=target_encoded\n",
    ")\n",
    "\n",
    "class_weights_dict = {i: w for i, w in enumerate(class_weights)}\n",
    "print(\"Class Weights:\", class_weights_dict)"
   ]
  },
  {
   "cell_type": "code",
   "execution_count": null,
   "id": "83dca8ed-ab63-4be7-8e8f-1405afc22c60",
   "metadata": {
    "tags": []
   },
   "outputs": [],
   "source": [
    "history = model.fit(\n",
    "    X_train, y_train,\n",
    "    validation_split=0.2,\n",
    "    epochs=50,\n",
    "    batch_size=128,\n",
    "    class_weight=class_weights_dict,\n",
    "    verbose=2\n",
    ")"
   ]
  },
  {
   "cell_type": "code",
   "execution_count": null,
   "id": "2b5358bd-16ff-41df-bb81-c7fe30aea858",
   "metadata": {
    "tags": []
   },
   "outputs": [],
   "source": [
    "small_X_train = X_train[:1000]\n",
    "small_y_train = y_train[:1000]\n",
    "\n",
    "history = model.fit(\n",
    "    small_X_train, small_y_train,\n",
    "    validation_data=(X_test, y_test),\n",
    "    epochs=50,\n",
    "    batch_size=32\n",
    ")"
   ]
  },
  {
   "cell_type": "code",
   "execution_count": null,
   "id": "c9e57291-f156-4af0-9dcf-8aaf99fe1339",
   "metadata": {
    "tags": []
   },
   "outputs": [],
   "source": [
    "from sklearn.ensemble import RandomForestClassifier\n",
    "\n",
    "rf = RandomForestClassifier()\n",
    "rf.fit(X_train, y_train)\n",
    "feature_importances = pd.DataFrame({\n",
    "    'feature': X_train.columns,\n",
    "    'importance': rf.feature_importances_\n",
    "}).sort_values(by='importance', ascending=False)\n",
    "\n",
    "print(feature_importances.head(10)) "
   ]
  },
  {
   "cell_type": "code",
   "execution_count": null,
   "id": "faf5ad66-e93e-4f80-872d-1c6f9615c10a",
   "metadata": {},
   "outputs": [],
   "source": []
  },
  {
   "cell_type": "code",
   "execution_count": null,
   "id": "73c60a5e-d202-4153-bf19-e451754e180a",
   "metadata": {},
   "outputs": [],
   "source": [
    "test_loss, test_accuracy = model.evaluate(X_test, y_test, verbose=0)\n",
    "print(f\"Test Accuracy: {test_accuracy:.4f}\")\n",
    "\n",
    "y_pred = model.predict(X_test)\n",
    "y_pred_classes = np.argmax(y_pred, axis=1)\n",
    "y_test_classes = np.argmax(y_test, axis=1)\n",
    "\n",
    "cm = confusion_matrix(y_test_classes, y_pred_classes)\n",
    "print(\"Confusion Matrix:\")\n",
    "print(cm)\n",
    "\n",
    "print(\"\\nClassification Report:\")\n",
    "print(classification_report(y_test_classes, y_pred_classes))"
   ]
  },
  {
   "cell_type": "code",
   "execution_count": null,
   "id": "e50476e6-4329-4f9e-a8ab-a0c3483ab6ac",
   "metadata": {
    "tags": []
   },
   "outputs": [],
   "source": [
    "# from sklearn.naive_bayes import GaussianNB\n",
    "# import time\n",
    "\n",
    "# nb_model = GaussianNB()\n",
    "\n",
    "# start_time = time.time()\n",
    "# nb_model.fit(X_train, y_train)\n",
    "# end_time = time.time()\n",
    "\n",
    "# y_pred_nb = nb_model.predict(X_test)\n",
    "\n",
    "# cm_nb = confusion_matrix(y_test, y_pred_nb)\n",
    "# print(\"Confusion Matrix (Naive Bayes):\")\n",
    "# print(cm_nb)\n",
    "\n",
    "# print(\"\\nClassification Report (Naive Bayes):\")\n",
    "# print(classification_report(y_test, y_pred_nb))\n",
    "\n",
    "# print(f\"Training and prediction time (Naive Bayes): {end_time - start_time:.2f} seconds\")"
   ]
  },
  {
   "cell_type": "code",
   "execution_count": null,
   "id": "9568f276-b134-44ec-972c-93d25d7af4a6",
   "metadata": {
    "tags": []
   },
   "outputs": [],
   "source": [
    "# from sklearn.ensemble import RandomForestClassifier\n",
    "# import time\n",
    "\n",
    "# rf_model = RandomForestClassifier(max_depth=5, n_estimators=10, max_features=1, random_state=42)\n",
    "\n",
    "# start_time = time.time()\n",
    "# rf_model.fit(X_train, y_train)\n",
    "# end_time = time.time()\n",
    "\n",
    "# y_pred_rf = rf_model.predict(X_test)\n",
    "\n",
    "# cm_rf = confusion_matrix(y_test, y_pred_rf)\n",
    "# print(\"Confusion Matrix (Random Forest):\")\n",
    "# print(cm_rf)\n",
    "\n",
    "# print(\"\\nClassification Report (Random Forest):\")\n",
    "# print(classification_report(y_test, y_pred_rf))\n",
    "\n",
    "# print(f\"Training and prediction time (Random Forest): {end_time - start_time:.2f} seconds\")"
   ]
  },
  {
   "cell_type": "code",
   "execution_count": null,
   "id": "649deb8f-19b8-4a3d-b3d4-32b036f4faea",
   "metadata": {},
   "outputs": [],
   "source": [
    "from sklearn.neighbors import KNeighborsClassifier\n",
    "\n",
    "knn = KNeighborsClassifier(n_neighbors=5)\n",
    "knn.fit(X_train, y_train)\n",
    "\n",
    "y_pred = knn.predict(X_test)\n",
    "\n",
    "cm_kn = confusion_matrix(y_test, y_pred)\n",
    "print(\"Confusion Matrix (KNN):\")\n",
    "print(cm_kn)\n",
    "\n",
    "print(\"\\nClassification Report:\")\n",
    "print(classification_report(y_test, y_pred))"
   ]
  },
  {
   "cell_type": "code",
   "execution_count": null,
   "id": "ef867df7-6977-43c1-852f-07084e224bd8",
   "metadata": {
    "tags": []
   },
   "outputs": [],
   "source": [
    "from sklearn.svm import SVC\n",
    "import time\n",
    "\n",
    "svc_model = SVC(gamma=2, C=1, random_state=42)\n",
    "\n",
    "start_time = time.time()\n",
    "svc_model.fit(X_train, y_train)\n",
    "end_time = time.time()\n",
    "\n",
    "y_pred_svc = svc_model.predict(X_test)\n",
    "\n",
    "cm_svc = confusion_matrix(y_test, y_pred_svc)\n",
    "print(\"Confusion Matrix (SVC):\")\n",
    "print(cm_svc)\n",
    "\n",
    "print(\"\\nClassification Report (SVC):\")\n",
    "print(classification_report(y_test, y_pred_svc))\n",
    "\n",
    "print(f\"Training and prediction time (SVC): {end_time - start_time:.2f} seconds\")"
   ]
  },
  {
   "cell_type": "code",
   "execution_count": null,
   "id": "0ff84dcd-e0c1-4838-9fa2-2e10b42a3788",
   "metadata": {},
   "outputs": [],
   "source": [
    "from sklearn.gaussian_process import GaussianProcessClassifier\n",
    "from sklearn.gaussian_process.kernels import RBF\n",
    "import time\n",
    "\n",
    "gpc_model = GaussianProcessClassifier(1.0 * RBF(1.0), random_state=42)\n",
    "\n",
    "start_time = time.time()\n",
    "gpc_model.fit(X_train, y_train_split)\n",
    "end_time = time.time()\n",
    "\n",
    "y_pred_gpc = gpc_model.predict(X_test)\n",
    "\n",
    "cm_gpc = confusion_matrix(y_test_split, y_pred_gpc)\n",
    "print(\"Confusion Matrix (Gaussian Process):\")\n",
    "print(cm_gpc)\n",
    "\n",
    "print(\"\\nClassification Report (Gaussian Process):\")\n",
    "print(classification_report(y_test_split, y_pred_gpc))\n",
    "\n",
    "print(f\"Training and prediction time (Gaussian Process): {end_time - start_time:.2f} seconds\")"
   ]
  },
  {
   "cell_type": "code",
   "execution_count": null,
   "id": "6ad9080b-f127-432e-9f7a-8989c3467aac",
   "metadata": {
    "tags": []
   },
   "outputs": [],
   "source": [
    "from sklearn.ensemble import AdaBoostClassifier\n",
    "import time\n",
    "\n",
    "adaboost_model = AdaBoostClassifier(algorithm=\"SAMME\", random_state=42)\n",
    "\n",
    "start_time = time.time()\n",
    "adaboost_model.fit(X_train, y_train)\n",
    "end_time = time.time()\n",
    "\n",
    "y_pred_adaboost = adaboost_model.predict(X_test)\n",
    "\n",
    "cm_adaboost = confusion_matrix(y_test, y_pred_adaboost)\n",
    "print(\"Confusion Matrix (AdaBoost):\")\n",
    "print(cm_adaboost)\n",
    "\n",
    "print(\"\\nClassification Report (AdaBoost):\")\n",
    "print(classification_report(y_test, y_pred_adaboost))\n",
    "\n",
    "print(f\"Training and prediction time (AdaBoost): {end_time - start_time:.2f} seconds\")"
   ]
  },
  {
   "cell_type": "code",
   "execution_count": null,
   "id": "b775c2c7-02c9-4854-8b6f-76d664c0d165",
   "metadata": {
    "tags": []
   },
   "outputs": [],
   "source": [
    "# from sklearn.neural_network import MLPClassifier\n",
    "# import time\n",
    "\n",
    "# mlp_model = MLPClassifier(alpha=1, max_iter=1000, random_state=42)\n",
    "\n",
    "# start_time = time.time()\n",
    "# mlp_model.fit(X_train, y_train)\n",
    "# end_time = time.time()\n",
    "\n",
    "# y_pred_mlp = mlp_model.predict(X_test)\n",
    "\n",
    "# cm_mlp = confusion_matrix(y_test, y_pred_mlp)\n",
    "# print(\"Confusion Matrix (MLP Classifier):\")\n",
    "# print(cm_mlp)\n",
    "\n",
    "# print(\"\\nClassification Report (MLP Classifier):\")\n",
    "# print(classification_report(y_test, y_pred_mlp))\n",
    "\n",
    "# print(f\"Training and prediction time (MLP Classifier): {end_time - start_time:.2f} seconds\")"
   ]
  },
  {
   "cell_type": "code",
   "execution_count": null,
   "id": "a274ff58-a1b8-4224-98ec-c33f3a5eaf45",
   "metadata": {},
   "outputs": [],
   "source": []
  }
 ],
 "metadata": {
  "kernelspec": {
   "display_name": "Python 3 (ipykernel)",
   "language": "python",
   "name": "python3"
  },
  "language_info": {
   "codemirror_mode": {
    "name": "ipython",
    "version": 3
   },
   "file_extension": ".py",
   "mimetype": "text/x-python",
   "name": "python",
   "nbconvert_exporter": "python",
   "pygments_lexer": "ipython3",
   "version": "3.10.13"
  }
 },
 "nbformat": 4,
 "nbformat_minor": 5
}
