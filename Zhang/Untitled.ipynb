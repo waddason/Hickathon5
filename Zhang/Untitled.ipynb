{
 "cells": [
  {
   "cell_type": "markdown",
   "id": "d5258fb7-b4ad-4e64-ae7b-4083bc78a299",
   "metadata": {
    "jp-MarkdownHeadingCollapsed": true,
    "tags": []
   },
   "source": [
    "## 1.Data Preparation"
   ]
  },
  {
   "cell_type": "code",
   "execution_count": null,
   "id": "3947bf40-33f8-4ea6-b188-5449defa492a",
   "metadata": {
    "tags": []
   },
   "outputs": [],
   "source": [
    "import pandas as pd\n",
    "import numpy as np"
   ]
  },
  {
   "cell_type": "code",
   "execution_count": null,
   "id": "be1b8359-878b-440e-a078-3baf1381cea0",
   "metadata": {
    "tags": []
   },
   "outputs": [],
   "source": [
    "x_train = pd.read_csv('../data/X_train_Hi5.csv')"
   ]
  },
  {
   "cell_type": "code",
   "execution_count": null,
   "id": "0e80ab0a-2d4a-4c51-9b76-963ea4666ed2",
   "metadata": {
    "tags": []
   },
   "outputs": [],
   "source": [
    "x_train_time = pd.to_datetime(x_train['piezo_measurement_date'])\n",
    "\n",
    "x_train_time.to_csv('train_time.csv')"
   ]
  },
  {
   "cell_type": "code",
   "execution_count": null,
   "id": "52d76579-7691-45ef-b900-c9302f16d802",
   "metadata": {
    "tags": []
   },
   "outputs": [],
   "source": [
    "target_cat = {'High':4, 'Very High':5, 'Very Low' :1, 'Low':2, 'Average':3}\n",
    "target = x_train['piezo_groundwater_level_category'].apply(lambda x : target_cat.get(x, 0))"
   ]
  },
  {
   "cell_type": "code",
   "execution_count": null,
   "id": "6f822174-8be6-4f7a-8afe-b52b98e09482",
   "metadata": {
    "tags": []
   },
   "outputs": [],
   "source": [
    "target.to_csv('target.csv')"
   ]
  },
  {
   "cell_type": "code",
   "execution_count": null,
   "id": "7090a972-4245-45cd-9def-1149b5948fd5",
   "metadata": {
    "tags": []
   },
   "outputs": [],
   "source": [
    "categorical_columns = [\n",
    "    col for col in x_train.select_dtypes(include=['object']).columns\n",
    "    if x_train[col].nunique() <= 10\n",
    "]\n",
    "\n",
    "encoded_data = pd.DataFrame()\n",
    "\n",
    "for col in categorical_columns:\n",
    "    encoded_data[col] = pd.factorize(x_train[col])[0]"
   ]
  },
  {
   "cell_type": "code",
   "execution_count": null,
   "id": "6c095f12-7894-45ec-9e99-381a76fbf9c4",
   "metadata": {
    "tags": []
   },
   "outputs": [],
   "source": [
    "numeric_columns = x_train.select_dtypes(include=['number']).columns\n",
    "numeric_data = x_train[numeric_columns]"
   ]
  },
  {
   "cell_type": "code",
   "execution_count": null,
   "id": "9c116e16-8418-4d09-884d-a734db50db3a",
   "metadata": {
    "tags": []
   },
   "outputs": [],
   "source": [
    "from sklearn.preprocessing import MinMaxScaler, StandardScaler\n",
    "\n",
    "scaler = MinMaxScaler()\n",
    "normalized_data = pd.DataFrame(scaler.fit_transform(numeric_data), columns=numeric_columns)\n",
    "normalized_data = normalized_data.fillna(0)"
   ]
  },
  {
   "cell_type": "code",
   "execution_count": null,
   "id": "a139441a-d6ee-4d8d-8394-83531c3c56de",
   "metadata": {
    "tags": []
   },
   "outputs": [],
   "source": [
    "def standardize_in_chunks(df, chunk_size):\n",
    "    means = df.mean()\n",
    "    stds = df.std()\n",
    "\n",
    "    standardized_chunks = []\n",
    "    for i in range(0, len(df), chunk_size):\n",
    "        chunk = df.iloc[i:i + chunk_size]\n",
    "        standardized_chunk = (chunk - means) / stds\n",
    "        standardized_chunks.append(standardized_chunk)\n",
    "    return pd.concat(standardized_chunks)\n",
    "\n",
    "chunk_size = 10000 \n",
    "standardized_data = standardize_in_chunks(normalized_data, chunk_size)\n",
    "\n",
    "# standard_scaler = StandardScaler()\n",
    "# standardized_data = pd.DataFrame(standard_scaler.fit_transform(normalized_data), columns=numeric_columns)"
   ]
  },
  {
   "cell_type": "code",
   "execution_count": null,
   "id": "dbcc01eb-bfe6-4bde-83ce-5a8421e1bcbb",
   "metadata": {
    "tags": []
   },
   "outputs": [],
   "source": [
    "del x_train, numeric_data, normalized_data"
   ]
  },
  {
   "cell_type": "code",
   "execution_count": null,
   "id": "56d5db39-3cb7-491a-8875-77a3bd724a1f",
   "metadata": {
    "tags": []
   },
   "outputs": [],
   "source": [
    "for col in encoded_data.columns:\n",
    "    encoded_data[col] = encoded_data[col].astype('int8')"
   ]
  },
  {
   "cell_type": "code",
   "execution_count": null,
   "id": "2b608dd2-1ad6-48f3-bac9-db9726c40b2c",
   "metadata": {
    "tags": []
   },
   "outputs": [],
   "source": [
    "final_numeric_data = pd.DataFrame()\n",
    "\n",
    "for start in range(0, len(standardized_data), chunk_size):\n",
    "    end = start + chunk_size\n",
    "    chunk_standardized = standardized_data.iloc[start:end]\n",
    "    chunk_encoded = encoded_data.iloc[start:end]\n",
    "    chunk_combined = pd.concat([chunk_standardized, chunk_encoded], axis=1)\n",
    "    final_numeric_data = pd.concat([final_numeric_data, chunk_combined], axis=0)"
   ]
  },
  {
   "cell_type": "code",
   "execution_count": null,
   "id": "4056a6d8-0270-4c66-b0c1-e51ecced10de",
   "metadata": {
    "tags": []
   },
   "outputs": [],
   "source": [
    "del standardized_data, encoded_data"
   ]
  },
  {
   "cell_type": "code",
   "execution_count": null,
   "id": "ca079c88-9ced-4d21-bc2e-a2cbc6c55920",
   "metadata": {
    "tags": []
   },
   "outputs": [],
   "source": [
    "final_numeric_data.to_csv('cate10num.csv')"
   ]
  },
  {
   "cell_type": "markdown",
   "id": "5b406573-58d1-4b63-b3b3-aa40e852bf14",
   "metadata": {},
   "source": [
    "## 2.Baseline Models"
   ]
  },
  {
   "cell_type": "code",
   "execution_count": null,
   "id": "c28b9302-8378-488d-8c33-383cf3386401",
   "metadata": {
    "tags": []
   },
   "outputs": [],
   "source": [
    "import pandas as pd\n",
    "import numpy as np"
   ]
  },
  {
   "cell_type": "code",
   "execution_count": null,
   "id": "d16a12e6-efb6-4792-9864-2dbebb5625f4",
   "metadata": {
    "tags": []
   },
   "outputs": [],
   "source": [
    "final_numeric_data = pd.read_csv('cate10num.csv',index_col=0)\n",
    "target = pd.read_csv('target.csv',index_col=0)\n",
    "x_train_time = pd.read_csv('train_time.csv',index_col=0)"
   ]
  },
  {
   "cell_type": "code",
   "execution_count": null,
   "id": "654ed173-41bf-49a4-ae89-724aa35f2052",
   "metadata": {
    "tags": []
   },
   "outputs": [],
   "source": [
    "x_train_time = pd.to_datetime(x_train_time['piezo_measurement_date'])"
   ]
  },
  {
   "cell_type": "code",
   "execution_count": null,
   "id": "fc9b9aef-c617-43ae-97fa-e395cb9e2d43",
   "metadata": {
    "tags": []
   },
   "outputs": [],
   "source": [
    "for col in final_numeric_data.select_dtypes(include=['float']).columns:\n",
    "    final_numeric_data[col] = final_numeric_data[col].astype('float32')"
   ]
  },
  {
   "cell_type": "code",
   "execution_count": null,
   "id": "a8386a4b-29d7-491d-b43b-03f74fca2cb7",
   "metadata": {
    "tags": []
   },
   "outputs": [],
   "source": [
    "final_numeric_data['year'] = x_train_time.dt.year\n",
    "final_numeric_data['month'] = x_train_time.dt.month\n",
    "final_numeric_data['day'] = x_train_time.dt.day"
   ]
  },
  {
   "cell_type": "code",
   "execution_count": null,
   "id": "902e424f-64ea-452b-a5b0-cb0ad3ac474c",
   "metadata": {
    "tags": []
   },
   "outputs": [],
   "source": [
    "final_numeric_data = final_numeric_data.drop(columns = 'piezo_groundwater_level_category')"
   ]
  },
  {
   "cell_type": "code",
   "execution_count": null,
   "id": "cf200466-cc83-42ff-8935-f910a7566961",
   "metadata": {
    "tags": []
   },
   "outputs": [],
   "source": [
    "final_numeric_data = final_numeric_data.fillna(0)"
   ]
  },
  {
   "cell_type": "code",
   "execution_count": null,
   "id": "d94ee365-98d0-4833-8a57-bf3472f7d588",
   "metadata": {
    "tags": []
   },
   "outputs": [],
   "source": [
    "tag = (final_numeric_data['month'].between(6, 9)) & (final_numeric_data['year'] == 2021)\n",
    "\n",
    "X_train = final_numeric_data[~tag]\n",
    "X_test = final_numeric_data[tag]\n",
    "\n",
    "y_train = target[~tag]\n",
    "y_test = target[tag]"
   ]
  },
  {
   "cell_type": "code",
   "execution_count": null,
   "id": "4eb6103b-f671-4c01-a70f-699fb89633e0",
   "metadata": {
    "tags": []
   },
   "outputs": [],
   "source": [
    "from sklearn.metrics import confusion_matrix, classification_report"
   ]
  },
  {
   "cell_type": "code",
   "execution_count": null,
   "id": "4e18d19b-2730-4880-ae8b-aa55c69b18e1",
   "metadata": {
    "tags": []
   },
   "outputs": [],
   "source": [
    "from sklearn.naive_bayes import GaussianNB\n",
    "import time\n",
    "\n",
    "nb_model = GaussianNB()\n",
    "\n",
    "start_time = time.time()\n",
    "nb_model.fit(X_train, y_train)\n",
    "end_time = time.time()\n",
    "\n",
    "y_pred_nb = nb_model.predict(X_test)\n",
    "\n",
    "cm_nb = confusion_matrix(y_test, y_pred_nb)\n",
    "print(\"Confusion Matrix (Naive Bayes):\")\n",
    "print(cm_nb)\n",
    "\n",
    "print(\"\\nClassification Report (Naive Bayes):\")\n",
    "print(classification_report(y_test, y_pred_nb))\n",
    "\n",
    "print(f\"Training and prediction time (Naive Bayes): {end_time - start_time:.2f} seconds\")"
   ]
  },
  {
   "cell_type": "code",
   "execution_count": null,
   "id": "49653a1d-2c86-40b4-b5a2-99eb4c3ad79e",
   "metadata": {
    "tags": []
   },
   "outputs": [],
   "source": [
    "from sklearn.ensemble import RandomForestClassifier\n",
    "import time\n",
    "\n",
    "rf_model = RandomForestClassifier(max_depth=5, n_estimators=10, max_features=1, random_state=42)\n",
    "\n",
    "start_time = time.time()\n",
    "rf_model.fit(X_train, y_train)\n",
    "end_time = time.time()\n",
    "\n",
    "y_pred_rf = rf_model.predict(X_test)\n",
    "\n",
    "cm_rf = confusion_matrix(y_test, y_pred_rf)\n",
    "print(\"Confusion Matrix (Random Forest):\")\n",
    "print(cm_rf)\n",
    "\n",
    "print(\"\\nClassification Report (Random Forest):\")\n",
    "print(classification_report(y_test, y_pred_rf))\n",
    "\n",
    "print(f\"Training and prediction time (Random Forest): {end_time - start_time:.2f} seconds\")"
   ]
  },
  {
   "cell_type": "code",
   "execution_count": null,
   "id": "92a2432d-e15c-4561-8c36-c33fb8b315ac",
   "metadata": {
    "tags": []
   },
   "outputs": [],
   "source": [
    "from sklearn.neural_network import MLPClassifier\n",
    "import time\n",
    "\n",
    "mlp_model = MLPClassifier(alpha=1, max_iter=1000, random_state=42)\n",
    "\n",
    "start_time = time.time()\n",
    "mlp_model.fit(X_train, y_train)\n",
    "end_time = time.time()\n",
    "\n",
    "y_pred_mlp = mlp_model.predict(X_test)\n",
    "\n",
    "cm_mlp = confusion_matrix(y_test, y_pred_mlp)\n",
    "print(\"Confusion Matrix (MLP Classifier):\")\n",
    "print(cm_mlp)\n",
    "\n",
    "print(\"\\nClassification Report (MLP Classifier):\")\n",
    "print(classification_report(y_test, y_pred_mlp))\n",
    "\n",
    "print(f\"Training and prediction time (MLP Classifier): {end_time - start_time:.2f} seconds\")"
   ]
  },
  {
   "cell_type": "code",
   "execution_count": null,
   "id": "ca5e25b0-7bf5-425d-8273-5ce0467c3d66",
   "metadata": {},
   "outputs": [],
   "source": []
  },
  {
   "cell_type": "code",
   "execution_count": null,
   "id": "6a6d2297-4b70-49a0-885f-57633a9ad1dc",
   "metadata": {},
   "outputs": [],
   "source": []
  },
  {
   "cell_type": "markdown",
   "id": "935d97cb-db28-45d3-b775-66f2572bf567",
   "metadata": {},
   "source": [
    "## 3. Raise Performance"
   ]
  },
  {
   "cell_type": "code",
   "execution_count": null,
   "id": "2c89014c-fa5e-44b8-85ab-2d92dc6c03c4",
   "metadata": {
    "tags": []
   },
   "outputs": [],
   "source": [
    "import numpy as np\n",
    "import tensorflow as tf\n",
    "from tensorflow.keras.models import Sequential\n",
    "from tensorflow.keras.layers import Dense, Dropout\n",
    "from tensorflow.keras.utils import to_categorical\n",
    "from sklearn.model_selection import train_test_split\n",
    "from sklearn.metrics import classification_report, confusion_matrix"
   ]
  },
  {
   "cell_type": "code",
   "execution_count": null,
   "id": "3553d8da-e912-4a1d-9d6c-1f5fa09b7d81",
   "metadata": {
    "tags": []
   },
   "outputs": [],
   "source": [
    "num_classes = len(np.unique(target)) \n",
    "y_one_hot = to_categorical(target-1, num_classes) \n",
    "y_train = y_one_hot[~tag]\n",
    "y_test = y_one_hot[tag]"
   ]
  },
  {
   "cell_type": "code",
   "execution_count": null,
   "id": "5f54d51b-c778-4a7c-b1ec-fe5c81ab37c8",
   "metadata": {
    "tags": []
   },
   "outputs": [],
   "source": [
    "model = Sequential([\n",
    "    Dense(128, activation='relu', input_shape=(X_train.shape[1],)),\n",
    "    Dropout(0.3),\n",
    "    Dense(64, activation='relu'),\n",
    "    Dropout(0.3),\n",
    "    Dense(num_classes, activation='softmax')\n",
    "])\n",
    "\n",
    "model.compile(\n",
    "    optimizer='adam',\n",
    "    loss='categorical_crossentropy',\n",
    "    metrics=['accuracy']\n",
    ")\n",
    "\n",
    "model.summary()"
   ]
  },
  {
   "cell_type": "code",
   "execution_count": null,
   "id": "129dea5b-bd9c-4d5b-9562-7a717a66a564",
   "metadata": {
    "tags": []
   },
   "outputs": [],
   "source": [
    "from sklearn.preprocessing import LabelEncoder\n",
    "from sklearn.utils.class_weight import compute_class_weight\n",
    "\n",
    "encoder = LabelEncoder()\n",
    "target_encoded = encoder.fit_transform(target)  # 这将返回 [0, 1, 2, 3, 4]\n",
    "\n",
    "class_weights = compute_class_weight(\n",
    "    class_weight='balanced',\n",
    "    classes=np.unique(target_encoded),  # 这里是 [0, 1, 2, 3, 4]\n",
    "    y=target_encoded\n",
    ")\n",
    "\n",
    "class_weights_dict = {i: w for i, w in enumerate(class_weights)}\n",
    "print(\"Class Weights:\", class_weights_dict)"
   ]
  },
  {
   "cell_type": "code",
   "execution_count": null,
   "id": "83dca8ed-ab63-4be7-8e8f-1405afc22c60",
   "metadata": {
    "tags": []
   },
   "outputs": [],
   "source": [
    "history = model.fit(\n",
    "    X_train, y_train,\n",
    "    validation_split=0.2,\n",
    "    epochs=50,\n",
    "    batch_size=32,\n",
    "    class_weight=class_weights_dict,\n",
    "    verbose=2\n",
    ")"
   ]
  },
  {
   "cell_type": "code",
   "execution_count": null,
   "id": "2b5358bd-16ff-41df-bb81-c7fe30aea858",
   "metadata": {
    "tags": []
   },
   "outputs": [],
   "source": [
    "history = model.fit(\n",
    "    X_train, y_train,\n",
    "    validation_split=0.2,\n",
    "    epochs=50,\n",
    "    batch_size=128,\n",
    "    verbose=2\n",
    ")"
   ]
  },
  {
   "cell_type": "code",
   "execution_count": null,
   "id": "73c60a5e-d202-4153-bf19-e451754e180a",
   "metadata": {},
   "outputs": [],
   "source": [
    "test_loss, test_accuracy = model.evaluate(X_test, y_test, verbose=0)\n",
    "print(f\"Test Accuracy: {test_accuracy:.4f}\")\n",
    "\n",
    "y_pred = model.predict(X_test)\n",
    "y_pred_classes = np.argmax(y_pred, axis=1)\n",
    "y_test_classes = np.argmax(y_test, axis=1)\n",
    "\n",
    "cm = confusion_matrix(y_test_classes, y_pred_classes)\n",
    "print(\"Confusion Matrix:\")\n",
    "print(cm)\n",
    "\n",
    "print(\"\\nClassification Report:\")\n",
    "print(classification_report(y_test_classes, y_pred_classes))"
   ]
  },
  {
   "cell_type": "code",
   "execution_count": null,
   "id": "e50476e6-4329-4f9e-a8ab-a0c3483ab6ac",
   "metadata": {
    "tags": []
   },
   "outputs": [],
   "source": [
    "# from sklearn.naive_bayes import GaussianNB\n",
    "# import time\n",
    "\n",
    "# nb_model = GaussianNB()\n",
    "\n",
    "# start_time = time.time()\n",
    "# nb_model.fit(X_train, y_train)\n",
    "# end_time = time.time()\n",
    "\n",
    "# y_pred_nb = nb_model.predict(X_test)\n",
    "\n",
    "# cm_nb = confusion_matrix(y_test, y_pred_nb)\n",
    "# print(\"Confusion Matrix (Naive Bayes):\")\n",
    "# print(cm_nb)\n",
    "\n",
    "# print(\"\\nClassification Report (Naive Bayes):\")\n",
    "# print(classification_report(y_test, y_pred_nb))\n",
    "\n",
    "# print(f\"Training and prediction time (Naive Bayes): {end_time - start_time:.2f} seconds\")"
   ]
  },
  {
   "cell_type": "code",
   "execution_count": null,
   "id": "9568f276-b134-44ec-972c-93d25d7af4a6",
   "metadata": {
    "tags": []
   },
   "outputs": [],
   "source": [
    "# from sklearn.ensemble import RandomForestClassifier\n",
    "# import time\n",
    "\n",
    "# rf_model = RandomForestClassifier(max_depth=5, n_estimators=10, max_features=1, random_state=42)\n",
    "\n",
    "# start_time = time.time()\n",
    "# rf_model.fit(X_train, y_train)\n",
    "# end_time = time.time()\n",
    "\n",
    "# y_pred_rf = rf_model.predict(X_test)\n",
    "\n",
    "# cm_rf = confusion_matrix(y_test, y_pred_rf)\n",
    "# print(\"Confusion Matrix (Random Forest):\")\n",
    "# print(cm_rf)\n",
    "\n",
    "# print(\"\\nClassification Report (Random Forest):\")\n",
    "# print(classification_report(y_test, y_pred_rf))\n",
    "\n",
    "# print(f\"Training and prediction time (Random Forest): {end_time - start_time:.2f} seconds\")"
   ]
  },
  {
   "cell_type": "code",
   "execution_count": null,
   "id": "649deb8f-19b8-4a3d-b3d4-32b036f4faea",
   "metadata": {},
   "outputs": [],
   "source": [
    "from sklearn.neighbors import KNeighborsClassifier\n",
    "\n",
    "knn = KNeighborsClassifier(n_neighbors=5)\n",
    "knn.fit(X_train, y_train)\n",
    "\n",
    "y_pred = knn.predict(X_test)\n",
    "\n",
    "cm_kn = confusion_matrix(y_test, y_pred)\n",
    "print(\"Confusion Matrix (KNN):\")\n",
    "print(cm_kn)\n",
    "\n",
    "print(\"\\nClassification Report:\")\n",
    "print(classification_report(y_test, y_pred))"
   ]
  },
  {
   "cell_type": "code",
   "execution_count": null,
   "id": "ef867df7-6977-43c1-852f-07084e224bd8",
   "metadata": {
    "tags": []
   },
   "outputs": [],
   "source": [
    "from sklearn.svm import SVC\n",
    "import time\n",
    "\n",
    "svc_model = SVC(gamma=2, C=1, random_state=42)\n",
    "\n",
    "start_time = time.time()\n",
    "svc_model.fit(X_train, y_train)\n",
    "end_time = time.time()\n",
    "\n",
    "y_pred_svc = svc_model.predict(X_test)\n",
    "\n",
    "cm_svc = confusion_matrix(y_test, y_pred_svc)\n",
    "print(\"Confusion Matrix (SVC):\")\n",
    "print(cm_svc)\n",
    "\n",
    "print(\"\\nClassification Report (SVC):\")\n",
    "print(classification_report(y_test, y_pred_svc))\n",
    "\n",
    "print(f\"Training and prediction time (SVC): {end_time - start_time:.2f} seconds\")"
   ]
  },
  {
   "cell_type": "code",
   "execution_count": null,
   "id": "0ff84dcd-e0c1-4838-9fa2-2e10b42a3788",
   "metadata": {},
   "outputs": [],
   "source": [
    "from sklearn.gaussian_process import GaussianProcessClassifier\n",
    "from sklearn.gaussian_process.kernels import RBF\n",
    "import time\n",
    "\n",
    "gpc_model = GaussianProcessClassifier(1.0 * RBF(1.0), random_state=42)\n",
    "\n",
    "start_time = time.time()\n",
    "gpc_model.fit(X_train, y_train_split)\n",
    "end_time = time.time()\n",
    "\n",
    "y_pred_gpc = gpc_model.predict(X_test)\n",
    "\n",
    "cm_gpc = confusion_matrix(y_test_split, y_pred_gpc)\n",
    "print(\"Confusion Matrix (Gaussian Process):\")\n",
    "print(cm_gpc)\n",
    "\n",
    "print(\"\\nClassification Report (Gaussian Process):\")\n",
    "print(classification_report(y_test_split, y_pred_gpc))\n",
    "\n",
    "print(f\"Training and prediction time (Gaussian Process): {end_time - start_time:.2f} seconds\")"
   ]
  },
  {
   "cell_type": "code",
   "execution_count": null,
   "id": "6ad9080b-f127-432e-9f7a-8989c3467aac",
   "metadata": {
    "tags": []
   },
   "outputs": [],
   "source": [
    "from sklearn.ensemble import AdaBoostClassifier\n",
    "import time\n",
    "\n",
    "adaboost_model = AdaBoostClassifier(algorithm=\"SAMME\", random_state=42)\n",
    "\n",
    "start_time = time.time()\n",
    "adaboost_model.fit(X_train, y_train)\n",
    "end_time = time.time()\n",
    "\n",
    "y_pred_adaboost = adaboost_model.predict(X_test)\n",
    "\n",
    "cm_adaboost = confusion_matrix(y_test, y_pred_adaboost)\n",
    "print(\"Confusion Matrix (AdaBoost):\")\n",
    "print(cm_adaboost)\n",
    "\n",
    "print(\"\\nClassification Report (AdaBoost):\")\n",
    "print(classification_report(y_test, y_pred_adaboost))\n",
    "\n",
    "print(f\"Training and prediction time (AdaBoost): {end_time - start_time:.2f} seconds\")"
   ]
  },
  {
   "cell_type": "code",
   "execution_count": null,
   "id": "b775c2c7-02c9-4854-8b6f-76d664c0d165",
   "metadata": {
    "tags": []
   },
   "outputs": [],
   "source": [
    "# from sklearn.neural_network import MLPClassifier\n",
    "# import time\n",
    "\n",
    "# mlp_model = MLPClassifier(alpha=1, max_iter=1000, random_state=42)\n",
    "\n",
    "# start_time = time.time()\n",
    "# mlp_model.fit(X_train, y_train)\n",
    "# end_time = time.time()\n",
    "\n",
    "# y_pred_mlp = mlp_model.predict(X_test)\n",
    "\n",
    "# cm_mlp = confusion_matrix(y_test, y_pred_mlp)\n",
    "# print(\"Confusion Matrix (MLP Classifier):\")\n",
    "# print(cm_mlp)\n",
    "\n",
    "# print(\"\\nClassification Report (MLP Classifier):\")\n",
    "# print(classification_report(y_test, y_pred_mlp))\n",
    "\n",
    "# print(f\"Training and prediction time (MLP Classifier): {end_time - start_time:.2f} seconds\")"
   ]
  },
  {
   "cell_type": "code",
   "execution_count": null,
   "id": "a274ff58-a1b8-4224-98ec-c33f3a5eaf45",
   "metadata": {},
   "outputs": [],
   "source": []
  }
 ],
 "metadata": {
  "kernelspec": {
   "display_name": "Python 3 (ipykernel)",
   "language": "python",
   "name": "python3"
  },
  "language_info": {
   "codemirror_mode": {
    "name": "ipython",
    "version": 3
   },
   "file_extension": ".py",
   "mimetype": "text/x-python",
   "name": "python",
   "nbconvert_exporter": "python",
   "pygments_lexer": "ipython3",
   "version": "3.10.13"
  }
 },
 "nbformat": 4,
 "nbformat_minor": 5
}
