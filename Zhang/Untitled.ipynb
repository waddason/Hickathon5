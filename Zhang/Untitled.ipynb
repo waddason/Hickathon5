{
 "cells": [
  {
   "cell_type": "markdown",
   "id": "d5258fb7-b4ad-4e64-ae7b-4083bc78a299",
   "metadata": {
    "tags": []
   },
   "source": [
    "## 1.Data Preparation"
   ]
  },
  {
   "cell_type": "code",
   "execution_count": null,
   "id": "3947bf40-33f8-4ea6-b188-5449defa492a",
   "metadata": {
    "tags": []
   },
   "outputs": [],
   "source": [
    "import pandas as pd\n",
    "import numpy as np"
   ]
  },
  {
   "cell_type": "code",
   "execution_count": null,
   "id": "be1b8359-878b-440e-a078-3baf1381cea0",
   "metadata": {
    "tags": []
   },
   "outputs": [],
   "source": [
    "x_train = pd.read_csv('../data/X_train_Hi5.csv')"
   ]
  },
  {
   "cell_type": "code",
   "execution_count": null,
   "id": "52d76579-7691-45ef-b900-c9302f16d802",
   "metadata": {
    "tags": []
   },
   "outputs": [],
   "source": [
    "target_cat = {'High':4, 'Very High':5, 'Very Low' :1, 'Low':2, 'Average':3}\n",
    "target = x_train['piezo_groundwater_level_category'].apply(lambda x : target_cat.get(x, 0))"
   ]
  },
  {
   "cell_type": "code",
   "execution_count": null,
   "id": "6f822174-8be6-4f7a-8afe-b52b98e09482",
   "metadata": {
    "tags": []
   },
   "outputs": [],
   "source": [
    "target.to_csv('target.csv')"
   ]
  },
  {
   "cell_type": "code",
   "execution_count": null,
   "id": "7090a972-4245-45cd-9def-1149b5948fd5",
   "metadata": {
    "tags": []
   },
   "outputs": [],
   "source": [
    "categorical_columns = [\n",
    "    col for col in x_train.select_dtypes(include=['object']).columns\n",
    "    if x_train[col].nunique() <= 10\n",
    "]\n",
    "\n",
    "encoded_data = pd.DataFrame()\n",
    "\n",
    "for col in categorical_columns:\n",
    "    encoded_data[col] = pd.factorize(x_train[col])[0]"
   ]
  },
  {
   "cell_type": "code",
   "execution_count": null,
   "id": "6c095f12-7894-45ec-9e99-381a76fbf9c4",
   "metadata": {
    "tags": []
   },
   "outputs": [],
   "source": [
    "numeric_columns = x_train.select_dtypes(include=['number']).columns\n",
    "numeric_data = x_train[numeric_columns]"
   ]
  },
  {
   "cell_type": "code",
   "execution_count": null,
   "id": "9c116e16-8418-4d09-884d-a734db50db3a",
   "metadata": {
    "tags": []
   },
   "outputs": [],
   "source": [
    "from sklearn.preprocessing import MinMaxScaler, StandardScaler\n",
    "\n",
    "scaler = MinMaxScaler()\n",
    "normalized_data = pd.DataFrame(scaler.fit_transform(numeric_data), columns=numeric_columns)\n",
    "normalized_data = normalized_data.fillna(0)"
   ]
  },
  {
   "cell_type": "code",
   "execution_count": null,
   "id": "a139441a-d6ee-4d8d-8394-83531c3c56de",
   "metadata": {
    "tags": []
   },
   "outputs": [],
   "source": [
    "def standardize_in_chunks(df, chunk_size):\n",
    "    means = df.mean()\n",
    "    stds = df.std()\n",
    "\n",
    "    standardized_chunks = []\n",
    "    for i in range(0, len(df), chunk_size):\n",
    "        chunk = df.iloc[i:i + chunk_size]\n",
    "        standardized_chunk = (chunk - means) / stds\n",
    "        standardized_chunks.append(standardized_chunk)\n",
    "    return pd.concat(standardized_chunks)\n",
    "\n",
    "chunk_size = 10000 \n",
    "standardized_data = standardize_in_chunks(normalized_data, chunk_size)\n",
    "\n",
    "# standard_scaler = StandardScaler()\n",
    "# standardized_data = pd.DataFrame(standard_scaler.fit_transform(normalized_data), columns=numeric_columns)"
   ]
  },
  {
   "cell_type": "code",
   "execution_count": null,
   "id": "dbcc01eb-bfe6-4bde-83ce-5a8421e1bcbb",
   "metadata": {
    "tags": []
   },
   "outputs": [],
   "source": [
    "del x_train, numeric_data, normalized_data"
   ]
  },
  {
   "cell_type": "code",
   "execution_count": null,
   "id": "56d5db39-3cb7-491a-8875-77a3bd724a1f",
   "metadata": {
    "tags": []
   },
   "outputs": [],
   "source": [
    "for col in encoded_data.columns:\n",
    "    encoded_data[col] = encoded_data[col].astype('int8')"
   ]
  },
  {
   "cell_type": "code",
   "execution_count": null,
   "id": "2b608dd2-1ad6-48f3-bac9-db9726c40b2c",
   "metadata": {
    "tags": []
   },
   "outputs": [],
   "source": [
    "final_numeric_data = pd.DataFrame()\n",
    "\n",
    "for start in range(0, len(standardized_data), chunk_size):\n",
    "    end = start + chunk_size\n",
    "    chunk_standardized = standardized_data.iloc[start:end]\n",
    "    chunk_encoded = encoded_data.iloc[start:end]\n",
    "    chunk_combined = pd.concat([chunk_standardized, chunk_encoded], axis=1)\n",
    "    final_numeric_data = pd.concat([final_numeric_data, chunk_combined], axis=0)"
   ]
  },
  {
   "cell_type": "code",
   "execution_count": null,
   "id": "4056a6d8-0270-4c66-b0c1-e51ecced10de",
   "metadata": {
    "tags": []
   },
   "outputs": [],
   "source": [
    "del standardized_data, encoded_data"
   ]
  },
  {
   "cell_type": "code",
   "execution_count": null,
   "id": "ca079c88-9ced-4d21-bc2e-a2cbc6c55920",
   "metadata": {
    "tags": []
   },
   "outputs": [],
   "source": [
    "final_numeric_data.to_csv('cate10num.csv')"
   ]
  },
  {
   "cell_type": "markdown",
   "id": "5b406573-58d1-4b63-b3b3-aa40e852bf14",
   "metadata": {},
   "source": [
    "## 2.Baseline Models"
   ]
  },
  {
   "cell_type": "code",
   "execution_count": null,
   "id": "c28b9302-8378-488d-8c33-383cf3386401",
   "metadata": {
    "tags": []
   },
   "outputs": [],
   "source": [
    "import pandas as pd\n",
    "import numpy as np"
   ]
  },
  {
   "cell_type": "code",
   "execution_count": null,
   "id": "d16a12e6-efb6-4792-9864-2dbebb5625f4",
   "metadata": {
    "tags": []
   },
   "outputs": [],
   "source": [
    "final_numeric_data = pd.read_csv('cate10num.csv',index_col=0)\n",
    "target = pd.read_csv('target.csv',index_col=0)"
   ]
  },
  {
   "cell_type": "code",
   "execution_count": null,
   "id": "fc9b9aef-c617-43ae-97fa-e395cb9e2d43",
   "metadata": {
    "tags": []
   },
   "outputs": [],
   "source": [
    "for col in final_numeric_data.select_dtypes(include=['float']).columns:\n",
    "    final_numeric_data[col] = final_numeric_data[col].astype('float32')"
   ]
  },
  {
   "cell_type": "code",
   "execution_count": null,
   "id": "902e424f-64ea-452b-a5b0-cb0ad3ac474c",
   "metadata": {
    "tags": []
   },
   "outputs": [],
   "source": [
    "final_numeric_data = final_numeric_data.drop(columns = 'piezo_groundwater_level_category')"
   ]
  },
  {
   "cell_type": "code",
   "execution_count": null,
   "id": "4eb6103b-f671-4c01-a70f-699fb89633e0",
   "metadata": {
    "tags": []
   },
   "outputs": [],
   "source": [
    "from sklearn.model_selection import train_test_split\n",
    "from sklearn.metrics import confusion_matrix, classification_report\n",
    "\n",
    "final_numeric_data = final_numeric_data.fillna(0)\n",
    "\n",
    "split_idx = int(len(final_numeric_data) * 0.8)\n",
    "\n",
    "X_train = final_numeric_data.iloc[:split_idx]\n",
    "X_test = final_numeric_data.iloc[split_idx:]\n",
    "y_train = target.iloc[:split_idx]\n",
    "y_test = target.iloc[split_idx:]"
   ]
  },
  {
   "cell_type": "code",
   "execution_count": null,
   "id": "e50476e6-4329-4f9e-a8ab-a0c3483ab6ac",
   "metadata": {
    "tags": []
   },
   "outputs": [],
   "source": [
    "from sklearn.naive_bayes import GaussianNB\n",
    "import time\n",
    "\n",
    "nb_model = GaussianNB()\n",
    "\n",
    "start_time = time.time()\n",
    "nb_model.fit(X_train, y_train)\n",
    "end_time = time.time()\n",
    "\n",
    "y_pred_nb = nb_model.predict(X_test)\n",
    "\n",
    "cm_nb = confusion_matrix(y_test, y_pred_nb)\n",
    "print(\"Confusion Matrix (Naive Bayes):\")\n",
    "print(cm_nb)\n",
    "\n",
    "print(\"\\nClassification Report (Naive Bayes):\")\n",
    "print(classification_report(y_test, y_pred_nb))\n",
    "\n",
    "print(f\"Training and prediction time (Naive Bayes): {end_time - start_time:.2f} seconds\")"
   ]
  },
  {
   "cell_type": "code",
   "execution_count": null,
   "id": "9568f276-b134-44ec-972c-93d25d7af4a6",
   "metadata": {
    "tags": []
   },
   "outputs": [],
   "source": [
    "from sklearn.ensemble import RandomForestClassifier\n",
    "import time\n",
    "\n",
    "rf_model = RandomForestClassifier(max_depth=5, n_estimators=10, max_features=1, random_state=42)\n",
    "\n",
    "start_time = time.time()\n",
    "rf_model.fit(X_train, y_train)\n",
    "end_time = time.time()\n",
    "\n",
    "y_pred_rf = rf_model.predict(X_test)\n",
    "\n",
    "cm_rf = confusion_matrix(y_test, y_pred_rf)\n",
    "print(\"Confusion Matrix (Random Forest):\")\n",
    "print(cm_rf)\n",
    "\n",
    "print(\"\\nClassification Report (Random Forest):\")\n",
    "print(classification_report(y_test, y_pred_rf))\n",
    "\n",
    "print(f\"Training and prediction time (Random Forest): {end_time - start_time:.2f} seconds\")"
   ]
  },
  {
   "cell_type": "code",
   "execution_count": null,
   "id": "649deb8f-19b8-4a3d-b3d4-32b036f4faea",
   "metadata": {},
   "outputs": [],
   "source": [
    "from sklearn.neighbors import KNeighborsClassifier\n",
    "\n",
    "knn = KNeighborsClassifier(n_neighbors=5)\n",
    "knn.fit(X_train, y_train)\n",
    "\n",
    "y_pred = knn.predict(X_test)\n",
    "\n",
    "cm_kn = confusion_matrix(y_test, y_pred)\n",
    "print(\"Confusion Matrix (KNN):\")\n",
    "print(cm_kn)\n",
    "\n",
    "print(\"\\nClassification Report:\")\n",
    "print(classification_report(y_test, y_pred))"
   ]
  },
  {
   "cell_type": "code",
   "execution_count": null,
   "id": "ef867df7-6977-43c1-852f-07084e224bd8",
   "metadata": {
    "tags": []
   },
   "outputs": [],
   "source": [
    "from sklearn.svm import SVC\n",
    "import time\n",
    "\n",
    "svc_model = SVC(gamma=2, C=1, random_state=42)\n",
    "\n",
    "start_time = time.time()\n",
    "svc_model.fit(X_train, y_train)\n",
    "end_time = time.time()\n",
    "\n",
    "y_pred_svc = svc_model.predict(X_test)\n",
    "\n",
    "cm_svc = confusion_matrix(y_test, y_pred_svc)\n",
    "print(\"Confusion Matrix (SVC):\")\n",
    "print(cm_svc)\n",
    "\n",
    "print(\"\\nClassification Report (SVC):\")\n",
    "print(classification_report(y_test, y_pred_svc))\n",
    "\n",
    "print(f\"Training and prediction time (SVC): {end_time - start_time:.2f} seconds\")"
   ]
  },
  {
   "cell_type": "code",
   "execution_count": null,
   "id": "0ff84dcd-e0c1-4838-9fa2-2e10b42a3788",
   "metadata": {},
   "outputs": [],
   "source": [
    "from sklearn.gaussian_process import GaussianProcessClassifier\n",
    "from sklearn.gaussian_process.kernels import RBF\n",
    "import time\n",
    "\n",
    "gpc_model = GaussianProcessClassifier(1.0 * RBF(1.0), random_state=42)\n",
    "\n",
    "start_time = time.time()\n",
    "gpc_model.fit(X_train, y_train_split)\n",
    "end_time = time.time()\n",
    "\n",
    "y_pred_gpc = gpc_model.predict(X_test)\n",
    "\n",
    "cm_gpc = confusion_matrix(y_test_split, y_pred_gpc)\n",
    "print(\"Confusion Matrix (Gaussian Process):\")\n",
    "print(cm_gpc)\n",
    "\n",
    "print(\"\\nClassification Report (Gaussian Process):\")\n",
    "print(classification_report(y_test_split, y_pred_gpc))\n",
    "\n",
    "print(f\"Training and prediction time (Gaussian Process): {end_time - start_time:.2f} seconds\")"
   ]
  },
  {
   "cell_type": "code",
   "execution_count": null,
   "id": "6ad9080b-f127-432e-9f7a-8989c3467aac",
   "metadata": {
    "tags": []
   },
   "outputs": [],
   "source": [
    "from sklearn.ensemble import AdaBoostClassifier\n",
    "import time\n",
    "\n",
    "adaboost_model = AdaBoostClassifier(algorithm=\"SAMME\", random_state=42)\n",
    "\n",
    "start_time = time.time()\n",
    "adaboost_model.fit(X_train, y_train)\n",
    "end_time = time.time()\n",
    "\n",
    "y_pred_adaboost = adaboost_model.predict(X_test)\n",
    "\n",
    "cm_adaboost = confusion_matrix(y_test, y_pred_adaboost)\n",
    "print(\"Confusion Matrix (AdaBoost):\")\n",
    "print(cm_adaboost)\n",
    "\n",
    "print(\"\\nClassification Report (AdaBoost):\")\n",
    "print(classification_report(y_test, y_pred_adaboost))\n",
    "\n",
    "print(f\"Training and prediction time (AdaBoost): {end_time - start_time:.2f} seconds\")"
   ]
  },
  {
   "cell_type": "code",
   "execution_count": null,
   "id": "b775c2c7-02c9-4854-8b6f-76d664c0d165",
   "metadata": {
    "tags": []
   },
   "outputs": [],
   "source": [
    "from sklearn.neural_network import MLPClassifier\n",
    "import time\n",
    "\n",
    "mlp_model = MLPClassifier(alpha=1, max_iter=1000, random_state=42)\n",
    "\n",
    "start_time = time.time()\n",
    "mlp_model.fit(X_train, y_train)\n",
    "end_time = time.time()\n",
    "\n",
    "y_pred_mlp = mlp_model.predict(X_test)\n",
    "\n",
    "cm_mlp = confusion_matrix(y_test, y_pred_mlp)\n",
    "print(\"Confusion Matrix (MLP Classifier):\")\n",
    "print(cm_mlp)\n",
    "\n",
    "print(\"\\nClassification Report (MLP Classifier):\")\n",
    "print(classification_report(y_test, y_pred_mlp))\n",
    "\n",
    "print(f\"Training and prediction time (MLP Classifier): {end_time - start_time:.2f} seconds\")"
   ]
  },
  {
   "cell_type": "code",
   "execution_count": null,
   "id": "2c89014c-fa5e-44b8-85ab-2d92dc6c03c4",
   "metadata": {},
   "outputs": [],
   "source": []
  }
 ],
 "metadata": {
  "kernelspec": {
   "display_name": "Python 3 (ipykernel)",
   "language": "python",
   "name": "python3"
  },
  "language_info": {
   "codemirror_mode": {
    "name": "ipython",
    "version": 3
   },
   "file_extension": ".py",
   "mimetype": "text/x-python",
   "name": "python",
   "nbconvert_exporter": "python",
   "pygments_lexer": "ipython3",
   "version": "3.10.13"
  }
 },
 "nbformat": 4,
 "nbformat_minor": 5
}
