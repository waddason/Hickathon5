{
 "cells": [
  {
   "cell_type": "markdown",
   "id": "d5258fb7-b4ad-4e64-ae7b-4083bc78a299",
   "metadata": {
    "tags": []
   },
   "source": [
    "## 1.Data Preparation"
   ]
  },
  {
   "cell_type": "code",
   "execution_count": null,
   "id": "3947bf40-33f8-4ea6-b188-5449defa492a",
   "metadata": {
    "tags": []
   },
   "outputs": [],
   "source": [
    "import pandas as pd\n",
    "import numpy as np"
   ]
  },
  {
   "cell_type": "code",
   "execution_count": null,
   "id": "be1b8359-878b-440e-a078-3baf1381cea0",
   "metadata": {
    "tags": []
   },
   "outputs": [],
   "source": [
    "x_train = pd.read_csv('../data/X_train_Hi5.csv', low_memory=False)\n",
    "x_test = pd.read_csv('../data/X_test_Hi5.csv', low_memory=False)"
   ]
  },
  {
   "cell_type": "code",
   "execution_count": null,
   "id": "15da5b28-0f3d-406c-8d81-de2a71d34939",
   "metadata": {
    "tags": []
   },
   "outputs": [],
   "source": [
    "x_train_time = pd.to_datetime(x_train['piezo_measurement_date'])\n",
    "\n",
    "target_cat = {'High':4, 'Very High':5, 'Very Low' :1, 'Low':2, 'Average':3}\n",
    "target = x_train[\"piezo_groundwater_level_category\"].apply(lambda x : target_cat.get(x, 0))"
   ]
  },
  {
   "cell_type": "code",
   "execution_count": null,
   "id": "50df2d26-4a67-4740-a6ca-50550edde4fb",
   "metadata": {
    "tags": []
   },
   "outputs": [],
   "source": [
    "x_train = x_train.drop(['piezo_groundwater_level_category'],axis=1)"
   ]
  },
  {
   "cell_type": "code",
   "execution_count": null,
   "id": "02e2a42a-e347-4f00-bba7-88a5b609d062",
   "metadata": {
    "tags": []
   },
   "outputs": [],
   "source": [
    "x_all = pd.concat([x_train, x_test], axis=0)"
   ]
  },
  {
   "cell_type": "code",
   "execution_count": null,
   "id": "f21246e7-a2cb-4233-98bc-2f02c6af82a6",
   "metadata": {
    "tags": []
   },
   "outputs": [],
   "source": [
    "x_all['piezo_station_department_code'] = x_all['piezo_station_department_code'].replace(['2A','2B'],'20').astype('int16')\n",
    "x_all['piezo_station_commune_code_insee'] = x_all['piezo_station_commune_code_insee'].str.replace('A', '0').str.replace('B', '0').fillna('00000').astype('int32')\n",
    "\n",
    "x_all['insee_%_agri'] = x_all['insee_%_agri'].replace('N/A - division par 0',0).astype('float32')\n",
    "x_all['insee_%_ind'] = x_all['insee_%_ind'].replace('N/A - division par 0',0).astype('float32')\n",
    "x_all['insee_%_const'] = x_all['insee_%_const'].replace('N/A - division par 0',0).astype('float32')\n",
    "x_all['insee_med_living_level'] = x_all['insee_med_living_level'].replace('N/A - résultat non disponible',0).astype('float32')"
   ]
  },
  {
   "cell_type": "code",
   "execution_count": null,
   "id": "0babe115-5483-4d55-a151-feaefd6c820f",
   "metadata": {
    "tags": []
   },
   "outputs": [],
   "source": [
    "categorical_columns = [\n",
    "    col for col in x_all.select_dtypes(include=['object']).columns\n",
    "    if x_all[col].nunique() <= 10\n",
    "]\n",
    "encoded_data = pd.get_dummies(x_all[categorical_columns], columns=categorical_columns)"
   ]
  },
  {
   "cell_type": "code",
   "execution_count": null,
   "id": "9c116e16-8418-4d09-884d-a734db50db3a",
   "metadata": {
    "tags": []
   },
   "outputs": [],
   "source": [
    "added_data = pd.DataFrame()\n",
    "added_data['piezo_station_bdlisa_codes_TOP3'] = x_all['piezo_station_bdlisa_codes'].fillna(\"['000']\").apply(lambda x: x[2:5]).astype('int16')\n",
    "added_data['piezo_station_bdlisa_codes_LAST4'] = pd.factorize(x_all['piezo_station_bdlisa_codes'].fillna(\"['0']\").apply(lambda x: x[6:]))[0].astype('int16')\n",
    "added_data['piezo_station_bss_code_LASTslash'] = pd.factorize(x_all['piezo_station_bss_code'].apply(lambda x : x.split('/')[-1]))[0].astype('int16')\n",
    "added_data['piezo_station_bss_id'] = pd.factorize(x_all['piezo_station_bss_code'])[0].astype('int16')\n",
    "added_data['hydro_station_code'] = pd.factorize(x_all['hydro_station_code'])[0].astype('int16')\n",
    "added_data['prelev_structure_code_0'] = pd.factorize(x_all['prelev_structure_code_0'])[0].astype('int16')\n",
    "added_data['prelev_structure_code_1'] = pd.factorize(x_all['prelev_structure_code_1'])[0].astype('int16')\n",
    "added_data['prelev_structure_code_2'] = pd.factorize(x_all['prelev_structure_code_2'])[0].astype('int16')"
   ]
  },
  {
   "cell_type": "code",
   "execution_count": null,
   "id": "a139441a-d6ee-4d8d-8394-83531c3c56de",
   "metadata": {
    "tags": []
   },
   "outputs": [],
   "source": [
    "numeric_columns = x_all.select_dtypes(include=['number']).columns\n",
    "numeric_data = x_all.loc[:, numeric_columns].copy()\n",
    "\n",
    "for col in numeric_data.select_dtypes(include=['float']).columns:\n",
    "    numeric_data[col] = numeric_data[col].astype('float32')"
   ]
  },
  {
   "cell_type": "markdown",
   "id": "9acaaa10-3b2d-4c53-8336-50a99c5913aa",
   "metadata": {},
   "source": [
    "## 2.Data Preprocessing"
   ]
  },
  {
   "cell_type": "code",
   "execution_count": null,
   "id": "2fe179d0-cf40-43f1-a670-d2ced22bbff3",
   "metadata": {
    "tags": []
   },
   "outputs": [],
   "source": [
    "from sklearn.preprocessing import MinMaxScaler, StandardScaler\n",
    "\n",
    "scaler = MinMaxScaler()\n",
    "normalized_data = pd.DataFrame(scaler.fit_transform(numeric_data), columns=numeric_data.columns)\n",
    "\n",
    "standard_scaler = StandardScaler()\n",
    "standardized_data = pd.DataFrame(standard_scaler.fit_transform(normalized_data), columns=numeric_data.columns)"
   ]
  },
  {
   "cell_type": "code",
   "execution_count": null,
   "id": "b0bc53eb-98ad-4fb6-850b-5c53d0184b71",
   "metadata": {
    "tags": []
   },
   "outputs": [],
   "source": [
    "del x_train, x_test, numeric_data, normalized_data, encoded_data, added_data"
   ]
  },
  {
   "cell_type": "code",
   "execution_count": null,
   "id": "7f9005f1-f1f9-4bbd-b565-f7726d5d27bb",
   "metadata": {
    "tags": []
   },
   "outputs": [],
   "source": [
    "for col in standardized_data.select_dtypes(include=['float']).columns:\n",
    "    standardized_data[col] = standardized_data[col].astype('float32')"
   ]
  },
  {
   "cell_type": "code",
   "execution_count": null,
   "id": "56d5db39-3cb7-491a-8875-77a3bd724a1f",
   "metadata": {
    "tags": []
   },
   "outputs": [],
   "source": [
    "final_numeric_data = pd.concat([standardized_data.reset_index(drop=True), encoded_data.reset_index(drop=True), added_data.reset_index(drop=True)], axis=1)"
   ]
  },
  {
   "cell_type": "code",
   "execution_count": null,
   "id": "2b608dd2-1ad6-48f3-bac9-db9726c40b2c",
   "metadata": {
    "tags": []
   },
   "outputs": [],
   "source": [
    "# del standardized_data, encoded_data"
   ]
  },
  {
   "cell_type": "code",
   "execution_count": null,
   "id": "0e80ab0a-2d4a-4c51-9b76-963ea4666ed2",
   "metadata": {
    "tags": []
   },
   "outputs": [],
   "source": [
    "final_numeric_data['year'] = x_train_time.dt.year\n",
    "final_numeric_data['month'] = x_train_time.dt.month\n",
    "final_numeric_data['day'] = x_train_time.dt.day"
   ]
  },
  {
   "cell_type": "code",
   "execution_count": null,
   "id": "52d76579-7691-45ef-b900-c9302f16d802",
   "metadata": {
    "tags": []
   },
   "outputs": [],
   "source": [
    "filled_numeric_data = final_numeric_data.fillna(final_numeric_data.median())"
   ]
  },
  {
   "cell_type": "markdown",
   "id": "74bbe0b0-c17c-4bcd-b967-8f34d7aa7123",
   "metadata": {},
   "source": [
    "## 3.Data Segmentation"
   ]
  },
  {
   "cell_type": "markdown",
   "id": "9186a6b9-ab63-44cb-b752-c9b69f696cfc",
   "metadata": {},
   "source": [
    "### Validation"
   ]
  },
  {
   "cell_type": "code",
   "execution_count": null,
   "id": "2548d538-4e77-45bd-94b9-dfd9c8ddf215",
   "metadata": {
    "tags": []
   },
   "outputs": [],
   "source": [
    "# tag = (final_numeric_data['month'].between(6, 9)) & (final_numeric_data['year'] == 2021)\n",
    "\n",
    "# X_train = final_numeric_data[~tag]\n",
    "# X_test = final_numeric_data[tag]\n",
    "\n",
    "# y_train = target[~tag]\n",
    "# y_test = target[tag]"
   ]
  },
  {
   "cell_type": "markdown",
   "id": "16c4488e-a724-4abc-b7e8-0c3614cd27a5",
   "metadata": {},
   "source": [
    "### Train Test Split"
   ]
  },
  {
   "cell_type": "code",
   "execution_count": null,
   "id": "d36febfa-af6e-4ec8-9c06-4cc1d87aabee",
   "metadata": {
    "tags": []
   },
   "outputs": [],
   "source": [
    "X_train = filled_numeric_data[:2830316]\n",
    "X_test = filled_numeric_data[-611208:]\n",
    "y_train = target"
   ]
  },
  {
   "cell_type": "markdown",
   "id": "5b406573-58d1-4b63-b3b3-aa40e852bf14",
   "metadata": {},
   "source": [
    "## 4.Baseline Models"
   ]
  },
  {
   "cell_type": "code",
   "execution_count": null,
   "id": "4e18d19b-2730-4880-ae8b-aa55c69b18e1",
   "metadata": {
    "tags": []
   },
   "outputs": [],
   "source": [
    "from sklearn.naive_bayes import GaussianNB\n",
    "import time\n",
    "\n",
    "nb_model = GaussianNB()\n",
    "\n",
    "start_time = time.time()\n",
    "nb_model.fit(X_train, y_train)\n",
    "end_time = time.time()\n",
    "\n",
    "y_pred_nb = nb_model.predict(X_test)\n",
    "\n",
    "cm_nb = confusion_matrix(y_test, y_pred_nb)\n",
    "print(\"Confusion Matrix (Naive Bayes):\")\n",
    "print(cm_nb)\n",
    "\n",
    "print(\"\\nClassification Report (Naive Bayes):\")\n",
    "print(classification_report(y_test, y_pred_nb))\n",
    "\n",
    "print(f\"Training and prediction time (Naive Bayes): {end_time - start_time:.2f} seconds\")"
   ]
  },
  {
   "cell_type": "code",
   "execution_count": null,
   "id": "92a2432d-e15c-4561-8c36-c33fb8b315ac",
   "metadata": {
    "tags": []
   },
   "outputs": [],
   "source": [
    "from sklearn.neural_network import MLPClassifier\n",
    "import time\n",
    "\n",
    "mlp_model = MLPClassifier(alpha=1, max_iter=1000, random_state=42)\n",
    "\n",
    "start_time = time.time()\n",
    "mlp_model.fit(X_train, y_train)\n",
    "end_time = time.time()\n",
    "\n",
    "y_pred_mlp = mlp_model.predict(X_test)\n",
    "\n",
    "cm_mlp = confusion_matrix(y_test, y_pred_mlp)\n",
    "print(\"Confusion Matrix (MLP Classifier):\")\n",
    "print(cm_mlp)\n",
    "\n",
    "print(\"\\nClassification Report (MLP Classifier):\")\n",
    "print(classification_report(y_test, y_pred_mlp))\n",
    "\n",
    "print(f\"Training and prediction time (MLP Classifier): {end_time - start_time:.2f} seconds\")"
   ]
  },
  {
   "cell_type": "code",
   "execution_count": null,
   "id": "5263ddac-2673-4bf8-91c0-c9b7c302712b",
   "metadata": {
    "tags": []
   },
   "outputs": [],
   "source": [
    "from sklearn.ensemble import RandomForestClassifier\n",
    "import time\n",
    "\n",
    "rf_model = RandomForestClassifier(random_state=9522)\n",
    "\n",
    "start_time = time.time()\n",
    "rf_model.fit(X_train, y_train)\n",
    "end_time = time.time()\n",
    "\n",
    "y_pred_rf = rf_model.predict(X_test)\n",
    "\n",
    "print(f\"Training and prediction time (Random Forest): {end_time - start_time:.2f} seconds\")"
   ]
  },
  {
   "cell_type": "code",
   "execution_count": null,
   "id": "7034de7b-bc52-43b5-858c-88560aba8e56",
   "metadata": {
    "tags": []
   },
   "outputs": [],
   "source": [
    "reverse_target_cat = {v: k for k, v in target_cat.items()}\n",
    "\n",
    "y_pred_rf_mapped = np.vectorize(reverse_target_cat.get)(y_pred_rf)\n",
    "\n",
    "result = pd.DataFrame({\n",
    "    # 'row_index': x_test['row_index'],\n",
    "    'piezo_groundwater_level_category': y_pred_rf_mapped\n",
    "})\n",
    "\n",
    "result.to_csv('predictions_rfN1.csv', index=False)"
   ]
  },
  {
   "cell_type": "markdown",
   "id": "bb0c0878-cecf-4214-9e15-366cde123bf8",
   "metadata": {},
   "source": [
    "## 5.Performance Attemps"
   ]
  },
  {
   "cell_type": "code",
   "execution_count": null,
   "id": "4c677118-ed4b-4df6-a747-71754c14666a",
   "metadata": {
    "tags": []
   },
   "outputs": [],
   "source": [
    "from sklearn.feature_selection import VarianceThreshold\n",
    "from sklearn.ensemble import RandomForestClassifier\n",
    "from sklearn.metrics import confusion_matrix, classification_report\n",
    "import time\n",
    "from sklearn.impute import SimpleImputer\n",
    "\n",
    "print(\"Step 1: Removing high-missing-rate features...\")\n",
    "\n",
    "missing_threshold = 0.8\n",
    "missing_ratios = X_train.isnull().mean()\n",
    "low_missing_features = missing_ratios[missing_ratios < missing_threshold].index\n",
    "X_train_reduced = X_train[low_missing_features]\n",
    "X_test_reduced = X_test[low_missing_features]\n",
    "\n",
    "print(f\"Reduced features from {X_train.shape[1]} to {X_train_reduced.shape[1]} after high-missing-rate filtering.\")\n",
    "\n",
    "print(\"Step 2: Removing low-variance features...\")\n",
    "\n",
    "variance_threshold = 0.01\n",
    "selector = VarianceThreshold(threshold=variance_threshold)\n",
    "X_train_reduced = selector.fit_transform(X_train_reduced)\n",
    "X_test_reduced = selector.transform(X_test_reduced)\n",
    "\n",
    "print(f\"Reduced features from {len(low_missing_features)} to {X_train_reduced.shape[1]} after low-variance filtering.\")\n",
    "\n",
    "imputer = SimpleImputer(strategy='mean')\n",
    "X_train_reduced = imputer.fit_transform(X_train_reduced)\n",
    "X_test_reduced = imputer.transform(X_test_reduced)\n",
    "\n",
    "print(\"Step 3: Training the Random Forest model...\")\n",
    "\n",
    "rf_model = RandomForestClassifier(n_jobs=-1, random_state=42)\n",
    "\n",
    "start_time = time.time()\n",
    "rf_model.fit(X_train_reduced, y_train)\n",
    "end_time = time.time()\n",
    "\n",
    "print(\"Step 4: Predicting and evaluating the model...\")\n",
    "\n",
    "y_pred_rf = rf_model.predict(X_test_reduced)\n",
    "\n",
    "cm_rf = confusion_matrix(y_test, y_pred_rf)\n",
    "print(\"Confusion Matrix (Random Forest):\")\n",
    "print(cm_rf)\n",
    "\n",
    "print(\"\\nClassification Report (Random Forest):\")\n",
    "print(classification_report(y_test, y_pred_rf))\n",
    "\n",
    "print(f\"Training and prediction completed in {end_time - start_time:.2f} seconds.\")"
   ]
  },
  {
   "cell_type": "code",
   "execution_count": null,
   "id": "ca5e25b0-7bf5-425d-8273-5ce0467c3d66",
   "metadata": {},
   "outputs": [],
   "source": []
  },
  {
   "cell_type": "code",
   "execution_count": null,
   "id": "6a6d2297-4b70-49a0-885f-57633a9ad1dc",
   "metadata": {},
   "outputs": [],
   "source": []
  }
 ],
 "metadata": {
  "kernelspec": {
   "display_name": "Python 3 (ipykernel)",
   "language": "python",
   "name": "python3"
  },
  "language_info": {
   "codemirror_mode": {
    "name": "ipython",
    "version": 3
   },
   "file_extension": ".py",
   "mimetype": "text/x-python",
   "name": "python",
   "nbconvert_exporter": "python",
   "pygments_lexer": "ipython3",
   "version": "3.10.13"
  }
 },
 "nbformat": 4,
 "nbformat_minor": 5
}
