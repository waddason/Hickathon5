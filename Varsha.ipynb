{
 "cells": [
  {
   "cell_type": "code",
   "execution_count": null,
   "id": "03f5d1ae-7c51-49fd-a1e9-19a7297c796a",
   "metadata": {
    "tags": []
   },
   "outputs": [],
   "source": [
    "import numpy as np\n",
    "import pandas as pd\n",
    "import re"
   ]
  },
  {
   "cell_type": "code",
   "execution_count": null,
   "id": "bc40d65d-0966-498a-8300-d48555d5c638",
   "metadata": {
    "tags": []
   },
   "outputs": [],
   "source": [
    "import warnings\n",
    "warnings.filterwarnings(\"ignore\")"
   ]
  },
  {
   "cell_type": "code",
   "execution_count": null,
   "id": "0f973a18-7760-4ac7-99fc-b16ccaac69a7",
   "metadata": {
    "tags": []
   },
   "outputs": [],
   "source": [
    "dataset = pd.read_csv(\"data/X_test_Hi5.csv\")\n",
    "dataset.head(10)"
   ]
  },
  {
   "cell_type": "code",
   "execution_count": null,
   "id": "faa2532e-27e9-442b-b8a6-7d97c6cc30e6",
   "metadata": {
    "tags": []
   },
   "outputs": [],
   "source": [
    "dataset_try= dataset[['piezo_station_department_code','piezo_station_investigation_depth', 'piezo_station_commune_code_insee', 'piezo_station_altitude', 'piezo_station_bdlisa_codes', 'piezo_station_longitude', 'piezo_station_latitude', 'piezo_measurement_date']]\n",
    "dataset_try.head()"
   ]
  },
  {
   "cell_type": "code",
   "execution_count": null,
   "id": "06c00fa0-c6d0-4353-b202-c1328761dc2a",
   "metadata": {
    "tags": []
   },
   "outputs": [],
   "source": [
    "\n",
    "dataset_target=pd.read_csv(\"data/X_train_Hi5.csv\")"
   ]
  },
  {
   "cell_type": "code",
   "execution_count": null,
   "id": "3a2adad9-babd-407f-abfa-d836f1b70cf5",
   "metadata": {
    "tags": []
   },
   "outputs": [],
   "source": [
    "x=dataset_target[dataset_target['piezo_station_bss_code']=='07004X0046/D6-20']\n",
    "x.head()"
   ]
  },
  {
   "cell_type": "code",
   "execution_count": null,
   "id": "9330bcb8-a9d8-453a-a81d-22aced2469b7",
   "metadata": {
    "tags": []
   },
   "outputs": [],
   "source": [
    "import matplotlib.pyplot as plt\n",
    "import seaborn as sns"
   ]
  },
  {
   "cell_type": "code",
   "execution_count": null,
   "id": "278336b2-b676-4565-9b21-c994a3345fec",
   "metadata": {
    "tags": []
   },
   "outputs": [],
   "source": [
    "dataset_target"
   ]
  },
  {
   "cell_type": "markdown",
   "id": "9ecf7a93-f3d7-42ab-8537-0a3511c1e1a3",
   "metadata": {},
   "source": [
    "Directly Relevant to Water Levels:\n",
    "meteo_rain_height: Measures rain height in millimeters, directly contributing to groundwater recharge through infiltration.\n",
    "meteo_snow_height / meteo_snow_thickness_max / meteo_snow_thickness_6h: Snow accumulation can contribute to water levels when it melts and infiltrates the ground.\n",
    "meteo_evapotranspiration_grid / meteo_evapotranspiration_Monteith: Quantifies water loss to the atmosphere, impacting the availability of water to recharge groundwater.\n",
    "meteo_humidity_avg / meteo_humidity_max / meteo_humidity_min: Relative humidity impacts evaporation and soil moisture levels, which affect infiltration rates.\n",
    "meteo_if_black_ice: Indicates frozen ground, which prevents water infiltration and affects recharge rates."
   ]
  },
  {
   "cell_type": "code",
   "execution_count": null,
   "id": "7595e512-5467-467b-ad78-c8d8d3ee17e0",
   "metadata": {
    "tags": []
   },
   "outputs": [],
   "source": [
    "dataset[['piezo_station_latitude','piezo_station_longitude','piezo_station_department_code','piezo_station_update_date','piezo_station_bdlisa_codes','meteo_rain_height', 'meteo_snow_height', 'meteo_evapotranspiration_grid']].head(100)"
   ]
  },
  {
   "cell_type": "code",
   "execution_count": null,
   "id": "ecf8c228-6850-4795-9bed-103929bdd5ba",
   "metadata": {
    "tags": []
   },
   "outputs": [],
   "source": [
    "create['net'"
   ]
  },
  {
   "cell_type": "code",
   "execution_count": null,
   "id": "fe40f8d6-ab6d-4e8f-bb5e-d8c7cd74a1ee",
   "metadata": {},
   "outputs": [],
   "source": []
  }
 ],
 "metadata": {
  "kernelspec": {
   "display_name": "Python 3 (ipykernel)",
   "language": "python",
   "name": "python3"
  },
  "language_info": {
   "codemirror_mode": {
    "name": "ipython",
    "version": 3
   },
   "file_extension": ".py",
   "mimetype": "text/x-python",
   "name": "python",
   "nbconvert_exporter": "python",
   "pygments_lexer": "ipython3",
   "version": "3.10.13"
  }
 },
 "nbformat": 4,
 "nbformat_minor": 5
}
