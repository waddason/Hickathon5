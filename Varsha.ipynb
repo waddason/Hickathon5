{
 "cells": [
  {
   "cell_type": "code",
   "execution_count": null,
   "id": "03f5d1ae-7c51-49fd-a1e9-19a7297c796a",
   "metadata": {
    "tags": []
   },
   "outputs": [],
   "source": [
    "import numpy as np\n",
    "import pandas as pd\n",
    "import re"
   ]
  },
  {
   "cell_type": "code",
   "execution_count": null,
   "id": "bc40d65d-0966-498a-8300-d48555d5c638",
   "metadata": {
    "tags": []
   },
   "outputs": [],
   "source": [
    "import warnings\n",
    "warnings.filterwarnings(\"ignore\")"
   ]
  },
  {
   "cell_type": "code",
   "execution_count": null,
   "id": "0f973a18-7760-4ac7-99fc-b16ccaac69a7",
   "metadata": {
    "tags": []
   },
   "outputs": [],
   "source": [
    "dataset = pd.read_csv(\"data/X_test_Hi5.csv\")\n",
    "dataset.head(10)"
   ]
  },
  {
   "cell_type": "code",
   "execution_count": null,
   "id": "faa2532e-27e9-442b-b8a6-7d97c6cc30e6",
   "metadata": {
    "tags": []
   },
   "outputs": [],
   "source": [
    "dataset_try= dataset[['piezo_station_department_code','piezo_station_investigation_depth', 'piezo_station_commune_code_insee', 'piezo_station_altitude', 'piezo_station_bdlisa_codes', 'piezo_station_longitude', 'piezo_station_latitude', 'piezo_measurement_date']]\n",
    "dataset_try.head()"
   ]
  },
  {
   "cell_type": "code",
   "execution_count": null,
   "id": "06c00fa0-c6d0-4353-b202-c1328761dc2a",
   "metadata": {},
   "outputs": [],
   "source": [
    "dataset_target=pd.read_csv(\"data/X_test_Hi5.csv\")"
   ]
  }
 ],
 "metadata": {
  "kernelspec": {
   "display_name": "Python 3 (ipykernel)",
   "language": "python",
   "name": "python3"
  },
  "language_info": {
   "codemirror_mode": {
    "name": "ipython",
    "version": 3
   },
   "file_extension": ".py",
   "mimetype": "text/x-python",
   "name": "python",
   "nbconvert_exporter": "python",
   "pygments_lexer": "ipython3",
   "version": "3.10.13"
  }
 },
 "nbformat": 4,
 "nbformat_minor": 5
}
