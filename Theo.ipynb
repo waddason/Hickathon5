{
 "cells": [
  {
   "cell_type": "code",
   "execution_count": null,
   "metadata": {},
   "outputs": [],
   "source": [
    "import pandas as pd"
   ]
  },
  {
   "cell_type": "code",
   "execution_count": null,
   "metadata": {},
   "outputs": [],
   "source": [
    "x_train_path = \"data/X_train_Hi5.csv\"\n",
    "X_train = pd.read_csv(x_train_path)"
   ]
  },
  {
   "cell_type": "code",
   "execution_count": null,
   "metadata": {},
   "outputs": [],
   "source": [
    "x_test_path = \"data/X_test_Hi5.csv\"\n",
    "X_test = pd.read_csv(x_test_path)"
   ]
  },
  {
   "cell_type": "code",
   "execution_count": null,
   "metadata": {},
   "outputs": [],
   "source": [
    "X_train.head()"
   ]
  },
  {
   "cell_type": "code",
   "execution_count": null,
   "metadata": {},
   "outputs": [],
   "source": [
    "x_train_path = \"data/X_train_Hi5_enhanced.csv\"\n",
    "X_train = pd.read_csv(x_train_path)"
   ]
  },
  {
   "attachments": {},
   "cell_type": "markdown",
   "metadata": {},
   "source": [
    "## Filling the NaNs"
   ]
  },
  {
   "cell_type": "code",
   "execution_count": null,
   "metadata": {},
   "outputs": [],
   "source": [
    "import pandas as pd\n",
    "import matplotlib.pyplot as plt\n",
    "\n",
    "\n",
    "# Calculate percentage of NaN values for each column\n",
    "nan_percentage = (X_train.isna().mean() * 100)\n",
    "\n",
    "plt.figure(figsize=(15, 8))  # Increase figure size for readability\n",
    "nan_percentage.sort_values(ascending=False).plot(kind='bar')  # Sort for better visualization\n",
    "plt.title('Percentage of NaN Values per Column')\n",
    "plt.ylabel('Percentage (%)')\n",
    "plt.xlabel('Columns')\n",
    "plt.xticks(rotation=90, fontsize=8)  # Rotate and adjust font size for readability\n",
    "plt.tight_layout()\n",
    "plt.show()"
   ]
  },
  {
   "cell_type": "code",
   "execution_count": null,
   "metadata": {},
   "outputs": [],
   "source": [
    "X_train[\"piezo_station_commune_code_insee\"][X_train[\"insee_%_agri\"].isna()].unique()"
   ]
  },
  {
   "cell_type": "code",
   "execution_count": null,
   "metadata": {},
   "outputs": [],
   "source": [
    "df = X_train[X_train[\"piezo_station_commune_code_insee\"].isin(X_train[\"piezo_station_commune_code_insee\"][X_train[\"insee_%_agri\"].isna()].unique())][[\"insee_%_agri\"]].isna().groupby(X_train[\"piezo_station_commune_code_insee\"])"
   ]
  },
  {
   "cell_type": "code",
   "execution_count": null,
   "metadata": {},
   "outputs": [],
   "source": [
    "X_train[X_train[\"piezo_station_commune_code_insee\"].str.match(r\"^(16)\\d{3}\")]"
   ]
  },
  {
   "cell_type": "code",
   "execution_count": null,
   "metadata": {},
   "outputs": [],
   "source": [
    "def nans_per_col(nan_col, group_col):\n",
    "    print(X_train[X_train[nan_col].isin(X_train[group_col][X_train[nan_col].isna()].unique())][[nan_col]].isna().groupby(X_train[group_col]))"
   ]
  },
  {
   "cell_type": "code",
   "execution_count": null,
   "metadata": {},
   "outputs": [],
   "source": [
    "df.agg(\"mean\")"
   ]
  },
  {
   "cell_type": "code",
   "execution_count": null,
   "metadata": {},
   "outputs": [],
   "source": [
    "print_full(pd.to_numeric(X_train[\"insee_%_agri\"].dropna(), errors=\"coerce\").groupby(X_train[\"piezo_station_department_code\"][X_train[\"piezo_station_department_code\"].isin(X_train[\"piezo_station_department_code\"][X_train[\"insee_%_agri\"].isna()].unique())]).agg(\"mean\"))"
   ]
  },
  {
   "cell_type": "code",
   "execution_count": null,
   "metadata": {},
   "outputs": [],
   "source": [
    "X_train.iloc[140][\"insee_%_agri\"]"
   ]
  },
  {
   "cell_type": "code",
   "execution_count": null,
   "metadata": {},
   "outputs": [],
   "source": [
    "X_train[\"insee_%_agri\"][~X_train[\"insee_%_agri\"].apply(lambda x: isinstance(x, (int, float)))]"
   ]
  },
  {
   "cell_type": "code",
   "execution_count": null,
   "metadata": {},
   "outputs": [],
   "source": [
    "X_train[\"meteo_if_thunderstorm\"].unique()"
   ]
  },
  {
   "attachments": {},
   "cell_type": "markdown",
   "metadata": {},
   "source": [
    "Ouch, on va plutôt traiter les colonnes avec peu de NaNs dans un premier temps"
   ]
  },
  {
   "attachments": {},
   "cell_type": "markdown",
   "metadata": {},
   "source": [
    "## Correlation matrix meteo"
   ]
  },
  {
   "cell_type": "code",
   "execution_count": null,
   "metadata": {},
   "outputs": [],
   "source": [
    "boolean_columns = [\n",
    "    \"meteo_if_fog\",\n",
    "    \"meteo_if_mist\",\n",
    "    \"meteo_if_lightning\",\n",
    "    \"meteo_if_smoke\",\n",
    "    \"meteo_if_frost\",\n",
    "    \"meteo_if_hail\",\n",
    "    \"meteo_if_sleet\",\n",
    "    \"meteo_if_snow\",\n",
    "    \"meteo_if_thunderstorm\",\n",
    "    \"meteo_if_dew\",\n",
    "    \"meteo_if_snow_ground\",\n",
    "    \"meteo_if_black_ice\"\n",
    "]"
   ]
  },
  {
   "cell_type": "code",
   "execution_count": null,
   "metadata": {},
   "outputs": [],
   "source": [
    "print_full(X_train[boolean_columns].isna().mean().sort_values() * 100)"
   ]
  },
  {
   "cell_type": "code",
   "execution_count": null,
   "metadata": {},
   "outputs": [],
   "source": [
    "print_full(X_train[boolean_columns][X_train[boolean_columns] == 1].count().sort_values() / X_train[boolean_columns].count())"
   ]
  },
  {
   "cell_type": "code",
   "execution_count": null,
   "metadata": {},
   "outputs": [],
   "source": [
    "X_train[[\"meteo_snow_thickness_6h\", \"meteo_snow_thickness_max\"]].describe()"
   ]
  },
  {
   "cell_type": "code",
   "execution_count": null,
   "metadata": {},
   "outputs": [],
   "source": [
    "X_train[\"meteo_snow_thickness_6h\"].corr(X_train[\"meteo_snow_thickness_max\"])"
   ]
  },
  {
   "cell_type": "code",
   "execution_count": null,
   "metadata": {},
   "outputs": [],
   "source": [
    "df = X_train.copy()\n",
    "df[\"na_%\"] = df.isna().mean().sort_values() * 100"
   ]
  },
  {
   "cell_type": "code",
   "execution_count": null,
   "metadata": {},
   "outputs": [],
   "source": [
    "print_full(X_train.isna().mean().sort_values() * 100)"
   ]
  },
  {
   "cell_type": "code",
   "execution_count": null,
   "metadata": {},
   "outputs": [],
   "source": [
    "replace_with_mean = [\"meteo_rain_height\", \"insee_%_agri\", ]"
   ]
  },
  {
   "cell_type": "code",
   "execution_count": null,
   "metadata": {},
   "outputs": [],
   "source": [
    "X_train[\"meteo_rain_height\"].describe()"
   ]
  },
  {
   "cell_type": "code",
   "execution_count": null,
   "metadata": {},
   "outputs": [],
   "source": [
    "print_full(X_train.head())"
   ]
  },
  {
   "cell_type": "code",
   "execution_count": null,
   "metadata": {},
   "outputs": [],
   "source": [
    "import pandas as pd\n",
    "import matplotlib.pyplot as plt\n",
    "import seaborn as sns\n",
    "\n",
    "# Assume 'df' is the DataFrame containing all the meteo columns\n",
    "df = X_train.copy()\n",
    "df[\"piezo_groundwater_level_category\"].replace({\"Very Low\": 0, \"Low\": 1, \"Average\": 2, \"High\": 3, \"Very High\": 4}, inplace=True)\n",
    "\n",
    "# Select only numeric meteo columns\n",
    "numeric_meteo_columns = [\n",
    "    \"meteo_cloudiness_height\", \"meteo_frost_duration\", \"meteo_wetting_duration\",\n",
    "    \"meteo_humidity_duration_below_40%\", \"meteo_humidity_duration_above_80%\",\n",
    "    \"meteo_radiation_direct\", \"meteo_wind_direction_max_inst\",\n",
    "    \"meteo_wind_direction_max_inst_2m\", \"meteo_wind_direction_max_avg\",\n",
    "    \"meteo_evapotranspiration_grid\", \"meteo_evapotranspiration_Monteith\",\n",
    "    \"meteo_wind_speed_avg_2m\", \"meteo_wind_speed_avg_10m\", \"meteo_wind_max\",\n",
    "    \"meteo_wind_max_2m\", \"meteo_wind_max_3s\", \"meteo_wind_avg\", \"meteo_radiation\",\n",
    "    \"meteo_snow_height\", \"meteo_radiation_IR\", \"meteo_sunshine_duration\",\n",
    "    \"meteo_cloudiness\", \"meteo_snow_thickness_6h\", \"meteo_snow_thickness_max\",\n",
    "    \"meteo_pressure_avg\", \"meteo_pression_maxi\", \"meteo_rain_height\",\n",
    "    \"meteo_sunshine_%\", \"meteo_amplitude_tn_tx\", \"meteo_temperature_avg\",\n",
    "    \"meteo_temperature_avg_threshold\", \"meteo_temperature_min\",\n",
    "    \"meteo_temperature_min_50cm\", \"meteo_temperature_min_ground\",\n",
    "    \"meteo_temperature_avg_tntm\", \"meteo__pressure_saturation_avg\",\n",
    "    \"meteo_temperature_max\", \"meteo_humidity_avg\", \"meteo_humidity_min\",\n",
    "    \"meteo_radiation_UV\", \"meteo_radiation_UV_max\", \"meteo_humidity_max\",\n",
    "    \"piezo_groundwater_level_category\"\n",
    "]\n",
    "\n",
    "# Filter the DataFrame for the selected numeric columns\n",
    "numeric_data = df[numeric_meteo_columns].apply(pd.to_numeric, errors=\"coerce\")\n",
    "\n",
    "# Compute the correlation matrix\n",
    "correlation_matrix = numeric_data.corr()\n",
    "\n",
    "# Plot the heatmap\n",
    "plt.figure(figsize=(15, 10))\n",
    "sns.heatmap(correlation_matrix, annot=False, cmap=\"coolwarm\", fmt=\".2f\", cbar=True)\n",
    "plt.title(\"Correlation Matrix of Meteorological Variables\")\n",
    "plt.xticks(rotation=45, ha='right')\n",
    "plt.tight_layout()\n",
    "plt.show()"
   ]
  },
  {
   "attachments": {},
   "cell_type": "markdown",
   "metadata": {},
   "source": [
    "## Remplacement des NaNs avec sklearn"
   ]
  },
  {
   "cell_type": "code",
   "execution_count": null,
   "metadata": {},
   "outputs": [],
   "source": [
    "numerical_columns = X_train.select_dtypes(include=np.number).columns.tolist()"
   ]
  },
  {
   "cell_type": "code",
   "execution_count": null,
   "metadata": {},
   "outputs": [],
   "source": [
    "import pandas as pd\n",
    "import numpy as np\n",
    "from sklearn.base import BaseEstimator, TransformerMixin\n",
    "from sklearn.neighbors import NearestNeighbors\n",
    "\n",
    "class KNNImputerWithCoords(BaseEstimator, TransformerMixin):\n",
    "    def __init__(self, coords_cols, target_cols, n_neighbors=5, fallback_value=None):\n",
    "        \"\"\"\n",
    "        Parameters:\n",
    "        - coords_cols: List of two columns for coordinates (e.g., ['longitude', 'latitude']).\n",
    "        - target_cols: List of columns to impute.\n",
    "        - n_neighbors: Number of nearest neighbors to consider.\n",
    "        - fallback_value: Default value to use if no neighbors can provide data.\n",
    "        \"\"\"\n",
    "        self.coords_cols = coords_cols\n",
    "        self.target_cols = target_cols\n",
    "        self.n_neighbors = n_neighbors\n",
    "        self.fallback_value = fallback_value\n",
    "\n",
    "    def fit(self, X, y=None):\n",
    "        # Fit the NearestNeighbors model based on the coordinate columns\n",
    "        self.knn_model_ = NearestNeighbors(n_neighbors=self.n_neighbors)\n",
    "        self.knn_model_.fit(X[self.coords_cols])\n",
    "\n",
    "        # Save a copy of the data to use during transformation\n",
    "        self.data_ = X.copy()\n",
    "        return self\n",
    "\n",
    "    def transform(self, X):\n",
    "        X = X.copy()\n",
    "\n",
    "        # Identify rows with missing values in any of the target columns\n",
    "        missing_mask = X[self.target_cols].isnull().any(axis=1)\n",
    "        coords_missing = X.loc[missing_mask, self.coords_cols]\n",
    "\n",
    "        # Compute nearest neighbors for all rows with missing values\n",
    "        distances, indices = self.knn_model_.kneighbors(coords_missing)\n",
    "\n",
    "        # Impute missing values column by column using the same neighbors\n",
    "        for col in self.target_cols:\n",
    "            for row_idx, neighbors_idx in zip(missing_mask.index[missing_mask], indices):\n",
    "                # Get valid neighbors for the target column\n",
    "                neighbors = self.data_.iloc[neighbors_idx][col].dropna()\n",
    "\n",
    "                if not neighbors.empty:\n",
    "                    # Fill with the mean of neighbors\n",
    "                    X.at[row_idx, col] = neighbors.mean()\n",
    "                elif self.fallback_value is not None:\n",
    "                    # Fallback value if no neighbors provide data\n",
    "                    X.at[row_idx, col] = self.fallback_value\n",
    "\n",
    "        return X\n"
   ]
  },
  {
   "cell_type": "code",
   "execution_count": null,
   "metadata": {},
   "outputs": [],
   "source": [
    "df = X_train.sample(n=10000, random_state=42)\n",
    "\n",
    "df['piezo_measurement_date'] = pd.to_datetime(df['piezo_measurement_date'])\n",
    "\n",
    "df['year'] = df['piezo_measurement_date'].dt.year\n",
    "df['month'] = df['piezo_measurement_date'].dt.month\n",
    "\n",
    "\n",
    "imputer = KNNImputerWithCoords(\n",
    "    coords_cols=[\"piezo_station_longitude\", \"piezo_station_latitude\"],\n",
    "    target_cols=numerical_columns,\n",
    "    n_neighbors=2,\n",
    "    fallback_value=0.0\n",
    ")\n",
    "\n",
    "imputed_df = imputer.fit_transform(df)\n",
    "print(imputed_df)\n"
   ]
  },
  {
   "cell_type": "code",
   "execution_count": null,
   "metadata": {},
   "outputs": [],
   "source": [
    "print_full(imputed_df.isna().sum())"
   ]
  },
  {
   "attachments": {},
   "cell_type": "markdown",
   "metadata": {},
   "source": [
    "## Exploration"
   ]
  },
  {
   "cell_type": "code",
   "execution_count": null,
   "metadata": {},
   "outputs": [],
   "source": [
    "X_train[\"piezo_measurement_date\"].sort_values()"
   ]
  },
  {
   "cell_type": "code",
   "execution_count": null,
   "metadata": {},
   "outputs": [],
   "source": [
    "X_train[\"piezo_station_bss_id\"].nunique()"
   ]
  },
  {
   "cell_type": "code",
   "execution_count": null,
   "metadata": {},
   "outputs": [],
   "source": [
    "len(X_train[X_train[\"piezo_station_bss_id\"] == \"BSS001TTQQ\"])"
   ]
  },
  {
   "cell_type": "code",
   "execution_count": null,
   "metadata": {},
   "outputs": [],
   "source": [
    "print_full(X_train.columns)"
   ]
  },
  {
   "cell_type": "code",
   "execution_count": null,
   "metadata": {},
   "outputs": [],
   "source": [
    "print_full(X_train[X_train[\"piezo_station_bss_id\"] == \"BSS001TTQQ\"])"
   ]
  },
  {
   "attachments": {},
   "cell_type": "markdown",
   "metadata": {},
   "source": [
    "### plotting des dates"
   ]
  },
  {
   "cell_type": "code",
   "execution_count": null,
   "metadata": {},
   "outputs": [],
   "source": [
    "import matplotlib.pyplot as plt\n",
    "import seaborn as sns"
   ]
  },
  {
   "cell_type": "code",
   "execution_count": null,
   "metadata": {},
   "outputs": [],
   "source": [
    "date_range = pd.date_range(start='2020-01-01', end='2023-09-30', freq='D')"
   ]
  },
  {
   "cell_type": "code",
   "execution_count": null,
   "metadata": {},
   "outputs": [],
   "source": [
    "df_train = X_train.copy()\n",
    "df_train['present'] = 1\n",
    "df_train['piezo_measurement_date'] = pd.to_datetime(df_train['piezo_measurement_date']).dt.normalize()\n",
    "pivot_df_train = df_train.pivot_table(index='piezo_measurement_date', columns='piezo_station_bss_id', values='present', fill_value=0)\n",
    "pivot_df_train = pivot_df_train.reindex(date_range, fill_value=0)"
   ]
  },
  {
   "cell_type": "code",
   "execution_count": null,
   "metadata": {},
   "outputs": [],
   "source": [
    "df_test = X_test.copy()\n",
    "df_test['present'] = 1\n",
    "df_test['piezo_measurement_date'] = pd.to_datetime(df_test['piezo_measurement_date']).dt.normalize()\n",
    "pivot_df_test = df_test.pivot_table(index='piezo_measurement_date', columns='piezo_station_bss_id', values='present', fill_value=0)\n",
    "pivot_df_test = pivot_df_test.reindex(date_range, fill_value=0)"
   ]
  },
  {
   "cell_type": "code",
   "execution_count": null,
   "metadata": {},
   "outputs": [],
   "source": [
    "df = pivot_df_train - pivot_df_test"
   ]
  },
  {
   "cell_type": "code",
   "execution_count": null,
   "metadata": {},
   "outputs": [],
   "source": [
    "plt.figure(figsize=(20, 10))\n",
    "sns.heatmap(df.T, cmap=['orange', 'white', 'blue'], cbar=True)\n",
    "plt.xlabel('Date')\n",
    "plt.ylabel('Piezo Station BSS ID')\n",
    "plt.title('Measurement Presence Heatmap')\n",
    "plt.show()"
   ]
  },
  {
   "cell_type": "code",
   "execution_count": null,
   "metadata": {},
   "outputs": [],
   "source": [
    "df_test['piezo_measurement_date'].dtypes"
   ]
  },
  {
   "cell_type": "code",
   "execution_count": null,
   "metadata": {},
   "outputs": [],
   "source": [
    "df_test['month'] = df_test['piezo_measurement_date'].dt.to_period('M')\n",
    "df_test[\"month\"].unique()"
   ]
  },
  {
   "attachments": {},
   "cell_type": "markdown",
   "metadata": {},
   "source": [
    "## Dates sur X_test"
   ]
  },
  {
   "cell_type": "code",
   "execution_count": null,
   "metadata": {},
   "outputs": [],
   "source": [
    "x_test_path = \"data/X_test_Hi5.csv\"\n",
    "X_test = pd.read_csv(x_test_path)"
   ]
  },
  {
   "cell_type": "code",
   "execution_count": null,
   "metadata": {},
   "outputs": [],
   "source": [
    "len(X_test)"
   ]
  },
  {
   "cell_type": "code",
   "execution_count": null,
   "metadata": {},
   "outputs": [],
   "source": [
    "X_test[\"piezo_measurement_date\"].sort_values()"
   ]
  },
  {
   "cell_type": "code",
   "execution_count": null,
   "metadata": {},
   "outputs": [],
   "source": [
    "X_test[\"piezo_measurement_date\"].sort_values().hist()"
   ]
  },
  {
   "cell_type": "code",
   "execution_count": null,
   "metadata": {},
   "outputs": [],
   "source": [
    "X_train[\"piezo_station_bss_id\"].nunique()"
   ]
  },
  {
   "attachments": {},
   "cell_type": "markdown",
   "metadata": {},
   "source": [
    "## Other sheniningans"
   ]
  },
  {
   "cell_type": "code",
   "execution_count": null,
   "metadata": {},
   "outputs": [],
   "source": [
    "X_train.rename(columns={\"piezo_groundwater_level_category\": \"target\"}, inplace=True)"
   ]
  },
  {
   "cell_type": "code",
   "execution_count": null,
   "metadata": {},
   "outputs": [],
   "source": [
    "X_train[\"target\"].unique()"
   ]
  },
  {
   "cell_type": "code",
   "execution_count": null,
   "metadata": {},
   "outputs": [],
   "source": [
    "X_train[X_train[\"target\"].isna()]"
   ]
  },
  {
   "attachments": {},
   "cell_type": "markdown",
   "metadata": {},
   "source": [
    "## Corrélation entre les features et la target\n",
    "\n",
    "Est-ce que ça fait même sens de faire ça vu que la target est catégorielle ?"
   ]
  },
  {
   "cell_type": "code",
   "execution_count": null,
   "metadata": {},
   "outputs": [],
   "source": [
    "from pandas import factorize\n",
    "import numpy as np"
   ]
  },
  {
   "cell_type": "code",
   "execution_count": null,
   "metadata": {},
   "outputs": [],
   "source": [
    "numerical_cols = X_train.select_dtypes(include=np.number)"
   ]
  },
  {
   "cell_type": "code",
   "execution_count": null,
   "metadata": {},
   "outputs": [],
   "source": [
    "def print_full(x):\n",
    "    pd.set_option('display.max_rows', None)\n",
    "    pd.set_option('display.max_columns', None)\n",
    "    pd.set_option('display.width', 2000)\n",
    "    pd.set_option('display.float_format', '{:20,.4f}'.format)\n",
    "    pd.set_option('display.max_colwidth', None)\n",
    "    print(x)\n",
    "    pd.reset_option('display.max_rows')\n",
    "    pd.reset_option('display.max_columns')\n",
    "    pd.reset_option('display.width')\n",
    "    pd.reset_option('display.float_format')\n",
    "    pd.reset_option('display.max_colwidth')"
   ]
  },
  {
   "cell_type": "code",
   "execution_count": null,
   "metadata": {},
   "outputs": [],
   "source": [
    "def corrwith(df, label):\n",
    "    df[\"target_labels\"] = df[\"target\"].apply(lambda x: 1 if x == label else 0)\n",
    "    print_full(abs(numerical_cols.corrwith(df[\"target_labels\"])).sort_values())"
   ]
  },
  {
   "cell_type": "code",
   "execution_count": null,
   "metadata": {},
   "outputs": [],
   "source": [
    "corrwith(X_train, [\"target\"])"
   ]
  }
 ],
 "metadata": {
  "kernelspec": {
   "display_name": "Python 3 (ipykernel)",
   "language": "python",
   "name": "python3"
  },
  "language_info": {
   "codemirror_mode": {
    "name": "ipython",
    "version": 3
   },
   "file_extension": ".py",
   "mimetype": "text/x-python",
   "name": "python",
   "nbconvert_exporter": "python",
   "pygments_lexer": "ipython3",
   "version": "3.10.13"
  }
 },
 "nbformat": 4,
 "nbformat_minor": 4
}
