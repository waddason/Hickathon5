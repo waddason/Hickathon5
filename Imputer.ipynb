{
 "cells": [
  {
   "cell_type": "markdown",
   "metadata": {},
   "source": [
    "## Imports"
   ]
  },
  {
   "cell_type": "code",
   "execution_count": null,
   "metadata": {},
   "outputs": [],
   "source": [
    "import pandas as pd"
   ]
  },
  {
   "cell_type": "code",
   "execution_count": null,
   "metadata": {},
   "outputs": [],
   "source": [
    "x_train_path = \"data/X_train_Hi5.csv\"\n",
    "X_train = pd.read_csv(x_train_path)"
   ]
  },
  {
   "cell_type": "markdown",
   "metadata": {},
   "source": [
    "## Remplacement des NaNs avec un imputer personnalisé"
   ]
  },
  {
   "cell_type": "code",
   "execution_count": null,
   "metadata": {},
   "outputs": [],
   "source": [
    "numerical_columns = X_train.select_dtypes(include='number').columns.tolist()"
   ]
  },
  {
   "cell_type": "markdown",
   "metadata": {},
   "source": [
    "Ces colonnes numériques ne sont pas exhaustives, certaines colonnes ont des valeurs numériques mais sont de type obj à cause de quelques valeurs aberrantes, c'est à corriger."
   ]
  },
  {
   "cell_type": "code",
   "execution_count": null,
   "metadata": {},
   "outputs": [],
   "source": [
    "import pandas as pd\n",
    "import numpy as np\n",
    "from sklearn.base import BaseEstimator, TransformerMixin\n",
    "\n",
    "# Example DataFrame\n",
    "df = X_train.copy()\n",
    "\n",
    "import pandas as pd\n",
    "import numpy as np\n",
    "from sklearn.base import BaseEstimator, TransformerMixin\n",
    "\n",
    "class GroupMeanImputer(BaseEstimator, TransformerMixin):\n",
    "    def __init__(self, group_col, target_cols, global_strategy=\"mean\", fallback_value=None):\n",
    "        \"\"\"\n",
    "        Parameters:\n",
    "        - group_col: Column to group by (e.g., 'department').\n",
    "        - target_cols: List of columns to impute.\n",
    "        - global_strategy: Strategy for fallback (\"mean\", \"median\", or None).\n",
    "        - fallback_value: Default value to use if no global strategy is specified.\n",
    "        \"\"\"\n",
    "        self.group_col = group_col\n",
    "        self.target_cols = target_cols\n",
    "        self.global_strategy = global_strategy\n",
    "        self.fallback_value = fallback_value\n",
    "\n",
    "    def fit(self, X, y=None):\n",
    "        # Compute group means for each target column\n",
    "        self.group_means_ = {\n",
    "            col: X.groupby(self.group_col)[col].mean()\n",
    "            for col in self.target_cols\n",
    "        }\n",
    "\n",
    "        # Compute global statistics for fallback\n",
    "        if self.global_strategy == \"mean\":\n",
    "            self.global_stats_ = X[self.target_cols].mean()\n",
    "        elif self.global_strategy == \"median\":\n",
    "            self.global_stats_ = X[self.target_cols].median()\n",
    "        else:\n",
    "            self.global_stats_ = {col: self.fallback_value for col in self.target_cols}\n",
    "        \n",
    "        return self\n",
    "\n",
    "    def transform(self, X):\n",
    "        X = X.copy()\n",
    "\n",
    "        for col in self.target_cols:\n",
    "            group_means = self.group_means_[col]\n",
    "            global_stat = self.global_stats_[col]\n",
    "\n",
    "            # Impute NaNs with group means where available\n",
    "            X[col] = X.groupby(self.group_col)[col].transform(\n",
    "                lambda grp: grp.fillna(group_means.get(grp.name, global_stat))\n",
    "            )\n",
    "\n",
    "            # Fallback for any remaining NaN values\n",
    "            X[col].fillna(global_stat, inplace=True)\n",
    "\n",
    "        return X"
   ]
  },
  {
   "cell_type": "code",
   "execution_count": null,
   "metadata": {},
   "outputs": [],
   "source": [
    "group_col = \"piezo_station_department_code\"\n",
    "target_cols = numerical_columns\n",
    "\n",
    "df = X_train.copy()\n",
    "\n",
    "imputer = GroupMeanImputer(\n",
    "    group_col=group_col,\n",
    "    target_cols=target_cols,\n",
    "    global_strategy=None,    # Use global mean as fallback (set to None if we want to use the fallback value directly)\n",
    "    fallback_value=0         # Use 0 if no global mean is available\n",
    ")\n",
    "\n",
    "# Apply the imputer\n",
    "imputed_df = imputer.fit_transform(df)"
   ]
  },
  {
   "cell_type": "markdown",
   "metadata": {},
   "source": [
    "Notons qu'on peut mélanger cet Imputer avec des ColumnTransformer pour adopter différentes stratégies pour différentes colonnes."
   ]
  }
 ],
 "metadata": {
  "kernelspec": {
   "display_name": "Python 3 (ipykernel)",
   "language": "python",
   "name": "python3"
  },
  "language_info": {
   "codemirror_mode": {
    "name": "ipython",
    "version": 3
   },
   "file_extension": ".py",
   "mimetype": "text/x-python",
   "name": "python",
   "nbconvert_exporter": "python",
   "pygments_lexer": "ipython3",
   "version": "3.10.13"
  }
 },
 "nbformat": 4,
 "nbformat_minor": 4
}
