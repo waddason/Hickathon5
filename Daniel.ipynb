{
 "cells": [
  {
   "cell_type": "code",
   "execution_count": null,
   "metadata": {},
   "outputs": [],
   "source": [
    "import pandas as pd\n",
    "import matplotlib.pyplot as plt"
   ]
  },
  {
   "cell_type": "code",
   "execution_count": null,
   "metadata": {},
   "outputs": [],
   "source": [
    "x_train_path = \"data/X_train_Hi5.csv\"\n",
    "X_train = pd.read_csv(x_train_path)"
   ]
  },
  {
   "cell_type": "code",
   "execution_count": null,
   "metadata": {},
   "outputs": [],
   "source": [
    "X_train.head(15)"
   ]
  },
  {
   "cell_type": "code",
   "execution_count": null,
   "metadata": {},
   "outputs": [],
   "source": [
    "X_train.info()\n"
   ]
  },
  {
   "cell_type": "code",
   "execution_count": null,
   "metadata": {},
   "outputs": [],
   "source": [
    "X_train[[\"piezo_groundwater_level_category\"]]"
   ]
  },
  {
   "cell_type": "code",
   "execution_count": null,
   "metadata": {},
   "outputs": [],
   "source": [
    "X_train.sort_values([\"piezo_groundwater_level_category\"])\n"
   ]
  },
  {
   "cell_type": "code",
   "execution_count": null,
   "metadata": {},
   "outputs": [],
   "source": [
    "X_train=X_train.rename({\"piezo_groundwater_level_category\":\"target\"},axis=1)\n",
    "X_train.head()"
   ]
  },
  {
   "cell_type": "code",
   "execution_count": null,
   "metadata": {},
   "outputs": [],
   "source": [
    "X_train.sort_values([\"target\"])"
   ]
  },
  {
   "cell_type": "code",
   "execution_count": null,
   "metadata": {},
   "outputs": [],
   "source": [
    "X_train[['piezo_station_department_code','target']].sort_values([\"target\"])\n",
    "\n"
   ]
  },
  {
   "cell_type": "code",
   "execution_count": null,
   "metadata": {},
   "outputs": [],
   "source": [
    "humid_40=X_train.loc[X_train[\"target\"]==\"Low\",\"meteo_humidity_duration_below_40%\"]\n",
    "humid_40.dropna()\n",
    "humid_40.plot()"
   ]
  },
  {
   "cell_type": "code",
   "execution_count": null,
   "metadata": {},
   "outputs": [],
   "source": [
    "humid_80=X_train.loc[X_train[\"target\"]==\"High\",\"meteo_humidity_duration_above_80%\"]\n",
    "humid_80.plot()"
   ]
  },
  {
   "cell_type": "code",
   "execution_count": null,
   "metadata": {},
   "outputs": [],
   "source": [
    "howwet=X_train.loc[X_train[\"target\"]==\"Very Low\",\"meteo_wetting_duration\"]\n",
    "howwet.dropna()\n"
   ]
  },
  {
   "cell_type": "code",
   "execution_count": null,
   "metadata": {},
   "outputs": [],
   "source": [
    "level_rain=X_train.loc[X_train[\"target\"]==\"Very Low\",\"meteo_rain_height\"]\n",
    "level_rain.plot()"
   ]
  },
  {
   "cell_type": "code",
   "execution_count": null,
   "metadata": {},
   "outputs": [],
   "source": [
    "\n",
    "target_choice = [\"Very Low\", \"Low\", \"Average\", \"High\", \"Very High\"]\n",
    "\n",
    "\n",
    "fig, axes = plt.subplots(5, 1, figsize=(20, 20))  \n",
    "\n",
    "for i in range(5):  \n",
    "    usage_type = X_train.loc[X_train[\"target\"] == target_choice[i], \"prelev_usage_label_2\"]\n",
    "    usage_type = usage_type.dropna()  \n",
    "    \n",
    "\n",
    "    percentages = usage_type.value_counts(normalize=True)\n",
    "    \n",
    "    percentages.plot.pie(ax=axes[i], autopct='%1.1f%%',startangle=90, title=f\"Usage of the water for stations\\nwith groundwater level {target_choice[i]}\")\n",
    " \n",
    "plt.tight_layout()\n",
    "plt.show()\n",
    "\n"
   ]
  },
  {
   "cell_type": "code",
   "execution_count": null,
   "metadata": {},
   "outputs": [],
   "source": [
    "df_elab= X_train[[\"hydro_hydro_quantity_elab\",\"hydro_observation_result_elab\",\"hydro_observation_date_elab\",\"hydro_station_code\"]]\n",
    "df_elab.sort_values([\"hydro_station_code\"])"
   ]
  },
  {
   "cell_type": "code",
   "execution_count": null,
   "metadata": {},
   "outputs": [],
   "source": [
    "#Convertir les dates en nombres de jours\n",
    "def date_counter(date):\n",
    "    y_m_d=date.split(\"-\")\n",
    "    y_m_d=[int(dates) for dates in y_m_d]\n",
    "    jours=(y_m_d[0]-2020)*365+(y_m_d[1]-1)*30+y_m_d[2]\n",
    "    return jours\n",
    "\n",
    "date_counter(\"2023-01-01\")\n",
    "\n",
    "\n",
    "\n"
   ]
  },
  {
   "cell_type": "code",
   "execution_count": null,
   "metadata": {},
   "outputs": [],
   "source": [
    "df_elab[\"days\"]=df_elab[\"hydro_observation_date_elab\"].apply(date_counter)\n",
    "df_elab.sort_values([\"hydro_station_code\",\"days\"])\n"
   ]
  },
  {
   "cell_type": "code",
   "execution_count": null,
   "metadata": {},
   "outputs": [],
   "source": [
    "df_elab_stations=df_elab.loc[df_elab[\"hydro_station_code\"]==\"A022020001\" ,[\"hydro_hydro_quantity_elab\",\"hydro_observation_result_elab\",\"days\"]] #only the \"elab\" variables\n",
    "df_elab_stations\n",
    "\n",
    "df_elab_station1=df_elab_stations.loc[df_elab[\"hydro_hydro_quantity_elab\"]==\"QmJ\"] #only the daily measurements\n",
    "\n",
    "\n",
    "df_elab_station1.plot(y=\"hydro_observation_result_elab\",x=\"days\",title=\"Évolution de hydro_quantity_elab sur une station aléatoire\")"
   ]
  }
 ],
 "metadata": {
  "kernelspec": {
   "display_name": "Python 3",
   "language": "python",
   "name": "python3"
  },
  "language_info": {
   "codemirror_mode": {
    "name": "ipython",
    "version": 3
   },
   "file_extension": ".py",
   "mimetype": "text/x-python",
   "name": "python",
   "nbconvert_exporter": "python",
   "pygments_lexer": "ipython3",
   "version": "3.10.13"
  }
 },
 "nbformat": 4,
 "nbformat_minor": 2
}
