{
 "cells": [
  {
   "attachments": {},
   "cell_type": "markdown",
   "metadata": {},
   "source": [
    "# Social statistics"
   ]
  },
  {
   "cell_type": "code",
   "execution_count": null,
   "metadata": {},
   "outputs": [],
   "source": [
    "import pandas as pd\n",
    "X_train_path = \"data/X_train_Hi5.csv\"\n",
    "X_train = pd.read_csv(X_train_path)\n"
   ]
  },
  {
   "cell_type": "code",
   "execution_count": null,
   "metadata": {},
   "outputs": [],
   "source": [
    "# Extract the water withdrawal for 2021\n",
    "X_train[\"date\"] = pd.to_datetime(X_train[\"piezo_measurement_date\"])\n",
    "X_2021 = X_train[X_train[\"date\"].dt.year == 2021]\n",
    "\n",
    "X_2021[\"total_withdraw\"] = (X_2021[\"prelev_other_volume_sum\"] + X_2021[\"prelev_volume_0\"] + X_2021[\"prelev_volume_1\"] + X_2021[\"prelev_volume_2\"]) / 123396566321 *300\n",
    "prelev_df = []\n",
    "for prelev in range(3):\n",
    "    selected_cols = [f\"prelev_longitude_{prelev}\", f\"prelev_latitude_{prelev}\",f\"prelev_volume_{prelev}\", f\"prelev_usage_label_{prelev}\"]\n",
    "    sub_prelev_df = X_2021[selected_cols]\n",
    "    sub_prelev_df.columns = [\"prelev_longitude\",\"prelev_latitude\",\"prelev_volume\", \"prelev_usage_label\"]\n",
    "    prelev_df.append(sub_prelev_df)\n",
    "\n",
    "prelev_df = pd.concat(prelev_df, axis=0)\n",
    "\n",
    "prelev_df.shape"
   ]
  },
  {
   "cell_type": "code",
   "execution_count": null,
   "metadata": {},
   "outputs": [],
   "source": [
    "prelev_df = prelev_df.drop_duplicates()\n",
    "print(prelev_df.shape)\n",
    "print(X_2021[\"total_withdraw\"].max())\n"
   ]
  },
  {
   "cell_type": "code",
   "execution_count": null,
   "metadata": {},
   "outputs": [],
   "source": [
    "# Prepare for plotting\n",
    "# Size\n",
    "prelev_df[\"point_size\"] = 300* prelev_df[\"prelev_volume\"] / prelev_df[\"prelev_volume\"].max()\n",
    "# categroy\n",
    "prelev_cat = list(prelev_df['prelev_usage_label'].unique())\n",
    "print(prelev_cat)\n",
    "prelev_cat_dic = {name : index for index, name in enumerate(prelev_cat)}\n",
    "prelev_df[\"cat\"] = prelev_df[\"prelev_usage_label\"].apply(lambda x: prelev_cat_dic.get(x, 6))\n",
    "prelev_df"
   ]
  },
  {
   "cell_type": "markdown",
   "metadata": {},
   "source": []
  },
  {
   "cell_type": "code",
   "execution_count": null,
   "metadata": {},
   "outputs": [],
   "source": [
    "prelev_cat_dic"
   ]
  },
  {
   "cell_type": "code",
   "execution_count": null,
   "metadata": {},
   "outputs": [],
   "source": [
    "# cartopy to display maps\n",
    "%pip install cartopy\n",
    "import cartopy.crs as ccrs\n",
    "import cartopy.feature as cfeature\n",
    "import matplotlib.pyplot as plt"
   ]
  },
  {
   "cell_type": "code",
   "execution_count": null,
   "metadata": {},
   "outputs": [],
   "source": [
    "#ax = fig.add_subplot(1, 1, 1, projection=ccrs.PlateCarree())\n",
    "def display_France_map(ax):\n",
    "    \"\"\"Display the map of France\"\"\"\n",
    "    \n",
    "    ax.set_extent([-5, 10, 42, 52], crs=ccrs.PlateCarree())\n",
    "    # Draw the background\n",
    "    ax.add_feature(cfeature.LAND)\n",
    "    ax.add_feature(cfeature.OCEAN)\n",
    "    ax.add_feature(cfeature.COASTLINE)\n",
    "    ax.add_feature(cfeature.BORDERS, linestyle=\":\")\n",
    "    ax.add_feature(cfeature.RIVERS)\n",
    "    ax.gridlines(draw_labels=True)"
   ]
  },
  {
   "cell_type": "code",
   "execution_count": null,
   "metadata": {},
   "outputs": [],
   "source": [
    "fig = plt.figure(figsize=(20, 20),  layout=\"constrained\")\n",
    "#\n",
    "ax_1 = fig.add_subplot(121,  projection = ccrs.PlateCarree())\n",
    "display_France_map(ax_1)\n",
    "ax_1.set_title(\"Stations\")\n",
    "ax_1.scatter(data= X_2021, x=\"piezo_station_longitude\", y=\"piezo_station_latitude\", s=\"total_withdraw\")\n",
    "\n",
    "# Right prelev\n",
    "ax_2 = fig.add_subplot(122,  projection = ccrs.PlateCarree())\n",
    "display_France_map(ax_2)\n",
    "ax_2.set_title(\"Main withdrawals of 2021\")\n",
    "scatter = ax_2.scatter(data=prelev_df, x=\"prelev_longitude\", y=\"prelev_latitude\", s=\"point_size\", c='cat')\n",
    "legend2 = ax_2.legend(*scatter.legend_elements(), loc=\"best\", title=\"Usage\")\n",
    "ax_2.add_artist(legend2)\n",
    "ax_2.legend\n",
    "plt.show()"
   ]
  },
  {
   "cell_type": "code",
   "execution_count": null,
   "metadata": {},
   "outputs": [],
   "source": []
  },
  {
   "cell_type": "code",
   "execution_count": null,
   "metadata": {},
   "outputs": [],
   "source": []
  }
 ],
 "metadata": {
  "kernelspec": {
   "display_name": "Python 3",
   "language": "python",
   "name": "python3"
  },
  "language_info": {
   "codemirror_mode": {
    "name": "ipython",
    "version": 3
   },
   "file_extension": ".py",
   "mimetype": "text/x-python",
   "name": "python",
   "nbconvert_exporter": "python",
   "pygments_lexer": "ipython3",
   "version": "3.10.13"
  }
 },
 "nbformat": 4,
 "nbformat_minor": 2
}
