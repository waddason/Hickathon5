{
 "cells": [
  {
   "attachments": {},
   "cell_type": "markdown",
   "metadata": {},
   "source": [
    "# Social statistics"
   ]
  },
  {
   "cell_type": "code",
   "execution_count": null,
   "metadata": {},
   "outputs": [],
   "source": [
    "import pandas as pd\n",
    "X_train_path = \"data/X_train_Hi5.csv\"\n",
    "X_train = pd.read_csv(X_train_path)\n"
   ]
  },
  {
   "cell_type": "code",
   "execution_count": null,
   "metadata": {},
   "outputs": [],
   "source": [
    "# Extract the water withdrawal for 2021\n",
    "X_train[\"date\"] = pd.to_datetime(X_train[\"piezo_measurement_date\"])\n",
    "X_2021 = X_train[X_train[\"date\"].dt.year == 2021]\n",
    "prelev_df = []\n",
    "for prelev in range(3):\n",
    "    selected_cols = [f\"prelev_longitude_{prelev}\", f\"prelev_latitude_{prelev}\",f\"prelev_volume_{prelev}\", f\"prelev_usage_label_{prelev}\"]\n",
    "    sub_prelev_df = X_2021[selected_cols]\n",
    "    sub_prelev_df.columns = [\"prelev_longitude\",\"prelev_latitude\",\"prelev_volume\", \"prelev_usage_label\"]\n",
    "    prelev_df.append(sub_prelev_df)\n",
    "\n",
    "prelev_df = pd.concat(prelev_df, axis=0)\n",
    "\n",
    "prelev_df.shape"
   ]
  },
  {
   "cell_type": "code",
   "execution_count": null,
   "metadata": {},
   "outputs": [],
   "source": [
    "prelev_df = prelev_df.drop_duplicates()\n",
    "prelev_df.shape"
   ]
  },
  {
   "cell_type": "code",
   "execution_count": null,
   "metadata": {},
   "outputs": [],
   "source": [
    "# cartopy to display maps\n",
    "%pip install cartopy\n",
    "import cartopy.crs as ccrs\n",
    "import cartopy.feature as cfeature\n",
    "import matplotlib.pyplot as plt"
   ]
  },
  {
   "cell_type": "code",
   "execution_count": null,
   "metadata": {},
   "outputs": [],
   "source": [
    "#ax = fig.add_subplot(1, 1, 1, projection=ccrs.PlateCarree())\n",
    "def display_France_map(ax):\n",
    "    \"\"\"Display the map of France\"\"\"\n",
    "    \n",
    "    ax.set_extent([-5, 10, 42, 52], crs=ccrs.PlateCarree())\n",
    "    # Draw the background\n",
    "    ax.add_feature(cfeature.LAND)\n",
    "    ax.add_feature(cfeature.OCEAN)\n",
    "    ax.add_feature(cfeature.COASTLINE)\n",
    "    ax.add_feature(cfeature.BORDERS, linestyle=\":\")\n",
    "    ax.add_feature(cfeature.RIVERS)\n",
    "    ax.gridlines(draw_labels=True)"
   ]
  },
  {
   "cell_type": "code",
   "execution_count": null,
   "metadata": {},
   "outputs": [],
   "source": [
    "fig = plt.figure(figsize=(20, 15))\n",
    "ax_1 = fig.add_subplot(121,  projection = ccrs.PlateCarree())\n",
    "\n",
    "ax_2 = fig.add_subplot(122,  projection = ccrs.PlateCarree())\n",
    "\n",
    "plt.show()"
   ]
  },
  {
   "cell_type": "code",
   "execution_count": null,
   "metadata": {},
   "outputs": [],
   "source": []
  }
 ],
 "metadata": {
  "kernelspec": {
   "display_name": "Python 3",
   "language": "python",
   "name": "python3"
  },
  "language_info": {
   "codemirror_mode": {
    "name": "ipython",
    "version": 3
   },
   "file_extension": ".py",
   "mimetype": "text/x-python",
   "name": "python",
   "nbconvert_exporter": "python",
   "pygments_lexer": "ipython3",
   "version": "3.10.13"
  }
 },
 "nbformat": 4,
 "nbformat_minor": 2
}
