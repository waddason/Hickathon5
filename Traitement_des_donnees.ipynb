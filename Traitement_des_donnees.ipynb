{
 "cells": [
  {
   "cell_type": "markdown",
   "metadata": {},
   "source": [
    "# Traitement des données"
   ]
  },
  {
   "cell_type": "code",
   "execution_count": null,
   "metadata": {},
   "outputs": [],
   "source": [
    "import numpy as np\n",
    "import pylab as pl\n",
    "import scipy as sp\n",
    "import matplotlib.pyplot as plt\n",
    "import pandas as pd\n",
    "\n",
    "X_train = pd.read_csv('X_train_HI5.csv')\n",
    "X_test = pd.read_csv('X_test_HI5.csv')\n",
    "\n",
    "y_train = X_train['piezo_groundwater_level_category']\n",
    "X_train = X_train.drop(['piezo_groundwater_level_category'], axis=1) "
   ]
  },
  {
   "cell_type": "markdown",
   "metadata": {},
   "source": [
    "## I. Cohérence des types"
   ]
  },
  {
   "cell_type": "markdown",
   "metadata": {},
   "source": [
    "### 1.1 Piezo variables"
   ]
  },
  {
   "cell_type": "code",
   "execution_count": null,
   "metadata": {},
   "outputs": [],
   "source": [
    "# Filtrer les colonnes commençant par \"piezo\"\n",
    "piezo_columns = [col for col in X_train.columns if col.startswith('piezo')]\n",
    "\n",
    "# Vérifier les types des colonnes sélectionnées\n",
    "piezo_types = X_train[piezo_columns].dtypes\n",
    "\n",
    "# Afficher les résultats\n",
    "piezo_types\n"
   ]
  },
  {
   "cell_type": "markdown",
   "metadata": {},
   "source": [
    "**Dates (actuellement object) :**\n",
    "Les colonnes piezo_station_update_date et piezo_measurement_date sont des dates, mais elles sont au format object.\n",
    "Action : Convertir ces colonnes en type datetime."
   ]
  },
  {
   "cell_type": "code",
   "execution_count": null,
   "metadata": {},
   "outputs": [],
   "source": [
    "X_train['piezo_station_update_date'] = X_train['piezo_station_update_date'].str.replace(r'CEST', '', regex=True).str.strip()\n",
    "X_train['piezo_measurement_date'] = X_train['piezo_measurement_date'].str.replace(r'CEST', '', regex=True).str.strip()\n",
    "X_train['piezo_station_update_date'] = pd.to_datetime(X_train['piezo_station_update_date'], errors='coerce')\n",
    "X_train['piezo_measurement_date'] = pd.to_datetime(X_train['piezo_measurement_date'], errors='coerce')\n"
   ]
  },
  {
   "cell_type": "markdown",
   "metadata": {},
   "source": [
    "**Codes et identifiants (actuellement object) :** \n",
    "\n",
    "Colonnes concernées :  \n",
    "\n",
    "piezo_station_department_code, piezo_station_bdlisa_codes, piezo_station_bss_code, piezo_station_bss_id, piezo_bss_code.  \n",
    "\n",
    "Ces colonnes contiennent des codes ou identifiants. Si elles ne sont pas utilisées comme valeurs numériques, elles peuvent rester au format object. Sinon, vérifier s'il est pertinent de les convertir en category pour économiser de la mémoire.  \n",
    "\n",
    "Action : Convertir en category si elles ne nécessitent pas d'opérations numériques."
   ]
  },
  {
   "cell_type": "code",
   "execution_count": null,
   "metadata": {},
   "outputs": [],
   "source": [
    "cols_to_category = [\n",
    "    'piezo_station_department_code', 'piezo_station_bdlisa_codes', \n",
    "    'piezo_station_bss_code', 'piezo_station_bss_id', 'piezo_bss_code'\n",
    "]\n",
    "X_train[cols_to_category] = X_train[cols_to_category].astype('category')\n"
   ]
  },
  {
   "cell_type": "markdown",
   "metadata": {},
   "source": [
    "**Catégories qualitatives (actuellement object) :**  \n",
    "\n",
    "Colonnes concernées :  \n",
    "\n",
    "piezo_station_department_name, piezo_station_commune_name, piezo_obtention_mode, piezo_status, piezo_qualification, piezo_continuity_name, piezo_producer_name, piezo_measure_nature_code, piezo_measure_nature_name.  \n",
    "\n",
    "Ces colonnes semblent représenter des catégories qualitatives (ex. : nom de département, nature de la mesure).  \n",
    "\n",
    "Action : Convertir en type category si elles sont destinées à être utilisées pour le regroupement, l'analyse ou la modélisation."
   ]
  },
  {
   "cell_type": "code",
   "execution_count": null,
   "metadata": {},
   "outputs": [],
   "source": [
    "qualitative_cols = [\n",
    "    'piezo_station_department_name', 'piezo_station_commune_name', \n",
    "    'piezo_obtention_mode', 'piezo_status', 'piezo_qualification', \n",
    "    'piezo_continuity_name', 'piezo_producer_name', \n",
    "    'piezo_measure_nature_code', 'piezo_measure_nature_name'\n",
    "]\n",
    "X_train[qualitative_cols] = X_train[qualitative_cols].astype('category')\n"
   ]
  },
  {
   "cell_type": "markdown",
   "metadata": {},
   "source": [
    "**Colonnes numériques (déjà float64)**\n",
    "\n",
    "Colonnes concernées :   \n",
    "\n",
    "piezo_station_investigation_depth, piezo_station_altitude, piezo_station_longitude, piezo_station_latitude, piezo_continuity_code, piezo_producer_code.   \n",
    "\n",
    "Ces colonnes semblent correctement typées. Vérifie cependant la présence d'erreurs ou de valeurs aberrantes (NaN, valeurs extrêmes).   \n",
    "\n",
    "Action : Analyser les valeurs aberrantes et les NaN pour décider d'un traitement adapté."
   ]
  },
  {
   "cell_type": "code",
   "execution_count": null,
   "metadata": {},
   "outputs": [],
   "source": [
    "print(X_train[['piezo_station_investigation_depth', 'piezo_station_altitude']].describe())\n"
   ]
  },
  {
   "cell_type": "markdown",
   "metadata": {},
   "source": [
    "### 1.2 Meteo variables"
   ]
  },
  {
   "cell_type": "code",
   "execution_count": null,
   "metadata": {},
   "outputs": [],
   "source": [
    "def print_full(x):\n",
    "    pd.set_option('display.max_rows', None)\n",
    "    pd.set_option('display.max_columns', None)\n",
    "    pd.set_option('display.width', 2000)\n",
    "    pd.set_option('display.float_format', '{:20,.4f}'.format)\n",
    "    pd.set_option('display.max_colwidth', None)\n",
    "    print(x)\n",
    "    pd.reset_option('display.max_rows')\n",
    "    pd.reset_option('display.max_columns')\n",
    "    pd.reset_option('display.width')\n",
    "    pd.reset_option('display.float_format')\n",
    "    pd.reset_option('display.max_colwidth')"
   ]
  },
  {
   "cell_type": "code",
   "execution_count": null,
   "metadata": {},
   "outputs": [],
   "source": [
    "# Filtrer les colonnes commençant par \"meteo_\"\n",
    "meteo_columns = [col for col in X_train.columns if col.startswith('meteo_')]\n",
    "\n",
    "# Vérifier les types des colonnes sélectionnées\n",
    "meteo_types = X_train[meteo_columns].dtypes\n",
    "\n",
    "# Calculer les statistiques descriptives pour les colonnes quantitatives\n",
    "print_full(meteo_types)\n",
    "\n"
   ]
  },
  {
   "cell_type": "markdown",
   "metadata": {},
   "source": [
    "**Dates (meteo_date)**\n",
    "\n",
    "Actuellement au format object, ce qui limite les manipulations.  \n",
    "\n",
    "Action : Convertir en type datetime pour permettre les analyses temporelles."
   ]
  },
  {
   "cell_type": "code",
   "execution_count": null,
   "metadata": {},
   "outputs": [],
   "source": [
    "X_train['meteo_date'] = pd.to_datetime(X_train['meteo_date'], errors='coerce')\n"
   ]
  },
  {
   "cell_type": "markdown",
   "metadata": {},
   "source": [
    "**Identifiants et noms (meteo_id, meteo_name)**\n",
    "\n",
    "meteo_id (station ID) : Correctement typé en int64.  \n",
    "\n",
    "meteo_name (nom de la station) : Peut être converti en type category si utilisé pour le regroupement ou l'analyse.  \n",
    "\n",
    "Action : Convertir meteo_name en category."
   ]
  },
  {
   "cell_type": "code",
   "execution_count": null,
   "metadata": {},
   "outputs": [],
   "source": [
    "X_train['meteo_name'] = X_train['meteo_name'].astype('category')\n"
   ]
  },
  {
   "cell_type": "markdown",
   "metadata": {},
   "source": [
    "**3. Variables booléennes encodées en float64**\n",
    "\n",
    "Colonnes : meteo_if_snow, meteo_if_fog, meteo_if_thunderstorm, etc. \n",
    "\n",
    "Ces colonnes semblent représenter des indicateurs booléens (présence/absence). \n",
    "\n",
    "Action : Convertir en type bool."
   ]
  },
  {
   "cell_type": "code",
   "execution_count": null,
   "metadata": {},
   "outputs": [],
   "source": [
    "bool_columns = [\n",
    "    'meteo_if_snow', 'meteo_if_fog', 'meteo_if_thunderstorm', 'meteo_if_sleet', 'meteo_if_hail',\n",
    "    'meteo_if_dew', 'meteo_if_black_ice', 'meteo_if_snow_ground', 'meteo_if_frost', \n",
    "    'meteo_if_smoke', 'meteo_if_mist', 'meteo_if_lightning'\n",
    "]\n",
    "X_train[bool_columns] = X_train[bool_columns].astype('bool')\n"
   ]
  },
  {
   "cell_type": "markdown",
   "metadata": {},
   "source": [
    "**Variables quantitatives (float64)**\n",
    "\n",
    "Les variables comme meteo_temperature_min, meteo_radiation, etc., sont correctement typées. \n",
    "\n",
    "Action : Vérifier les valeurs aberrantes et remplacer les NaN par des stratégies spécifiques (moyenne, interpolation, etc.)."
   ]
  },
  {
   "cell_type": "code",
   "execution_count": null,
   "metadata": {},
   "outputs": [],
   "source": [
    "# Identifier les colonnes quantitatives\n",
    "quantitative_vars = X_train[meteo_columns].select_dtypes(include=['float64', 'int64']).columns\n",
    "print(quantitative_vars)\n",
    "\n",
    "# Calculer les statistiques descriptives pour les colonnes quantitatives\n",
    "print_full(X_train[quantitative_vars].describe())\n"
   ]
  },
  {
   "cell_type": "markdown",
   "metadata": {},
   "source": [
    "### 1.3 Hydro variables"
   ]
  },
  {
   "cell_type": "code",
   "execution_count": null,
   "metadata": {},
   "outputs": [],
   "source": [
    "# Filtrer les colonnes commençant par \"hydro_\"\n",
    "hydro_columns = [col for col in X_train.columns if col.startswith('hydro_')]\n",
    "\n",
    "# Vérifier les types des colonnes sélectionnées\n",
    "hydro_types = X_train[hydro_columns].dtypes\n",
    "\n",
    "# Calculer les statistiques descriptives pour les colonnes quantitatives\n",
    "hydro_quantitative = X_train[hydro_columns].select_dtypes(include=['float64', 'int64']).describe()\n",
    "\n",
    "# Afficher les résultats des types et des statistiques\n",
    "print_full(hydro_types)\n"
   ]
  },
  {
   "cell_type": "markdown",
   "metadata": {},
   "source": [
    "**Colonnes qualitatives (object)**\n",
    "\n",
    "\n"
   ]
  },
  {
   "cell_type": "code",
   "execution_count": null,
   "metadata": {},
   "outputs": [],
   "source": [
    "X_train['hydro_station_code'] = X_train['hydro_station_code'].astype('category')\n",
    "qualitative_columns = ['hydro_status_label', 'hydro_method_label', 'hydro_qualification_label']\n",
    "X_train[qualitative_columns] = X_train[qualitative_columns].astype('category')\n"
   ]
  },
  {
   "cell_type": "code",
   "execution_count": null,
   "metadata": {},
   "outputs": [],
   "source": [
    "# Identifier les valeurs uniques et leur fréquence dans \"hydro_hydro_quantity_elab\"\n",
    "hydro_quantity_values = X_train['hydro_hydro_quantity_elab'].value_counts(dropna=False)\n",
    "\n",
    "# Vérifier les valeurs manquantes\n",
    "hydro_quantity_nan = X_train['hydro_hydro_quantity_elab'].isna().sum()\n",
    "\n",
    "# Afficher les résultats\n",
    "print(\"Fréquence des valeurs uniques :\")\n",
    "print(hydro_quantity_values)\n",
    "\n",
    "print(\"\\nNombre de valeurs manquantes :\")\n",
    "print(hydro_quantity_nan)\n"
   ]
  },
  {
   "cell_type": "code",
   "execution_count": null,
   "metadata": {},
   "outputs": [],
   "source": [
    "X_train['hydro_hydro_quantity_elab'] = X_train['hydro_hydro_quantity_elab'].astype('category')\n"
   ]
  },
  {
   "cell_type": "code",
   "execution_count": null,
   "metadata": {},
   "outputs": [],
   "source": [
    "# Analyse globale pour \"hydro_observation_result_elab\"\n",
    "global_stats = X_train['hydro_observation_result_elab'].describe()\n",
    "global_nan = X_train['hydro_observation_result_elab'].isna().sum()\n",
    "\n",
    "print(\"Analyse globale pour 'hydro_observation_result_elab':\")\n",
    "print(global_stats)\n",
    "print(f\"\\nNombre de valeurs manquantes : {global_nan}\")\n",
    "\n",
    "# Analyse par type de \"hydro_hydro_quantity_elab\" (QmJ et QmM)\n",
    "grouped_stats = X_train.groupby('hydro_hydro_quantity_elab')['hydro_observation_result_elab'].describe()\n",
    "grouped_nan = X_train.groupby('hydro_hydro_quantity_elab')['hydro_observation_result_elab'].apply(lambda x: x.isna().sum())\n",
    "\n",
    "print(\"\\nAnalyse par type de 'hydro_hydro_quantity_elab':\")\n",
    "print(grouped_stats)\n",
    "print(\"\\nNombre de valeurs manquantes par type de 'hydro_hydro_quantity_elab':\")\n",
    "print(grouped_nan)\n"
   ]
  },
  {
   "cell_type": "markdown",
   "metadata": {},
   "source": [
    "--> hydro_hydro_quantity_elab ne correspond qu'au mode de calcul et n'affecte pas l'échelle de donnée entre QmJ et QmM "
   ]
  },
  {
   "cell_type": "markdown",
   "metadata": {},
   "source": [
    "**Dates (object)**\n",
    "\n",
    "Description : Date de l’observation élaborée.\n",
    "\n",
    "Recommandation :\n",
    "Convertir en datetime pour permettre une analyse temporelle."
   ]
  },
  {
   "cell_type": "code",
   "execution_count": null,
   "metadata": {},
   "outputs": [],
   "source": [
    "X_train['hydro_observation_date_elab'] = pd.to_datetime(X_train['hydro_observation_date_elab'], errors='coerce')"
   ]
  },
  {
   "cell_type": "markdown",
   "metadata": {},
   "source": [
    "**Colonnes numériques**"
   ]
  },
  {
   "cell_type": "code",
   "execution_count": null,
   "metadata": {},
   "outputs": [],
   "source": [
    "hydro_quantitative.describe()"
   ]
  },
  {
   "cell_type": "markdown",
   "metadata": {},
   "source": [
    "### 1.4 Prelev variables"
   ]
  },
  {
   "cell_type": "code",
   "execution_count": null,
   "metadata": {},
   "outputs": [],
   "source": [
    "# Filtrer les colonnes commençant par \"prelev_\"\n",
    "prelev_columns = [col for col in X_train.columns if col.startswith('prelev_')]\n",
    "\n",
    "# Vérifier les types des colonnes \"prelev_\"\n",
    "prelev_types = X_train[prelev_columns].dtypes\n",
    "\n",
    "# Afficher les résultats\n",
    "prelev_types\n"
   ]
  },
  {
   "cell_type": "markdown",
   "metadata": {},
   "source": [
    "**Colonnes qualitatives (object)**"
   ]
  },
  {
   "cell_type": "code",
   "execution_count": null,
   "metadata": {},
   "outputs": [],
   "source": [
    "# Identifier les colonnes descriptives (object) commençant par \"prelev_\"\n",
    "prelev_object_cols = X_train[[col for col in prelev_columns if X_train[col].dtype == 'object']]\n",
    "\n",
    "# Convertir les colonnes en type \"category\"\n",
    "X_train[prelev_object_cols.columns] = X_train[prelev_object_cols.columns].astype('category')\n"
   ]
  },
  {
   "cell_type": "markdown",
   "metadata": {},
   "source": [
    "**Variables quantitatives (float64)**\n"
   ]
  },
  {
   "cell_type": "code",
   "execution_count": null,
   "metadata": {},
   "outputs": [],
   "source": [
    "# Calculer les statistiques descriptives pour les colonnes quantitatives \"prelev_\"\n",
    "prelev_quantitative = X_train[prelev_columns].select_dtypes(include=['float64', 'int64']).describe()\n",
    "\n",
    "prelev_quantitative"
   ]
  },
  {
   "cell_type": "code",
   "execution_count": null,
   "metadata": {},
   "outputs": [],
   "source": [
    "# Identifier les colonnes contenant \"commune_code_insee\" dans \"prelev_\"\n",
    "insee_columns = [col for col in prelev_columns if 'commune_code_insee' in col]\n",
    "\n",
    "# Convertir les colonnes INSEE en type \"category\"\n",
    "X_train[insee_columns] = X_train[insee_columns].astype('category')\n",
    "\n",
    "# Vérifier le résultat de la conversion\n",
    "insee_converted_types = X_train[insee_columns].dtypes\n",
    "insee_converted_types\n"
   ]
  },
  {
   "cell_type": "markdown",
   "metadata": {},
   "source": [
    "### 1.5 INSEE variables"
   ]
  },
  {
   "cell_type": "code",
   "execution_count": null,
   "metadata": {},
   "outputs": [],
   "source": [
    "# Identifier les colonnes commençant par \"insee\"\n",
    "insee_columns = [col for col in X_train.columns if col.startswith('insee')]\n",
    "\n",
    "# Vérifier les types des colonnes \"insee\"\n",
    "insee_types = X_train[insee_columns].dtypes\n",
    "\n",
    "# Résultat des types avant et après conversion\n",
    "print_full(insee_types)\n"
   ]
  },
  {
   "cell_type": "code",
   "execution_count": null,
   "metadata": {},
   "outputs": [],
   "source": [
    "# Colonnes \"insee\" à convertir en type float\n",
    "insee_columns_to_convert = ['insee_%_agri', 'insee_med_living_level', 'insee_%_ind', 'insee_%_const']\n",
    "\n",
    "# Conversion en type float\n",
    "X_train[insee_columns_to_convert] = X_train[insee_columns_to_convert].apply(pd.to_numeric, errors='coerce')\n",
    "\n",
    "# Vérifier les types après conversion\n",
    "print(\"Types des colonnes après conversion en float :\")\n",
    "print(X_train[insee_columns_to_convert].dtypes)\n"
   ]
  },
  {
   "cell_type": "markdown",
   "metadata": {},
   "source": [
    "### 1.6 Distance variables"
   ]
  },
  {
   "cell_type": "code",
   "execution_count": null,
   "metadata": {},
   "outputs": [],
   "source": [
    "# Identifier les colonnes contenant \"distance_\"\n",
    "distance_columns = [col for col in X_train.columns if 'distance_' in col]\n",
    "\n",
    "# Vérifier les types des colonnes \"distance_\"\n",
    "distance_types = X_train[distance_columns].dtypes\n",
    "\n",
    "# Calculer les statistiques descriptives pour les colonnes \"distance_\"\n",
    "distance_stats = X_train[distance_columns].describe()\n",
    "\n",
    "# Afficher les résultats\n",
    "distance_types, distance_stats\n"
   ]
  },
  {
   "cell_type": "markdown",
   "metadata": {},
   "source": [
    "## II. Suppression de données récurentes / inutiles"
   ]
  },
  {
   "cell_type": "code",
   "execution_count": null,
   "metadata": {},
   "outputs": [],
   "source": [
    "print(X_train.shape)\n",
    "print(X_test.shape)"
   ]
  },
  {
   "cell_type": "markdown",
   "metadata": {},
   "source": [
    "#### 2.1 Analyse des variables : Piezo\n",
    "\n",
    "| Variable                           | Description                                                                                     | Décision                                                                                              |\n",
    "|------------------------------------|-------------------------------------------------------------------------------------------------|-------------------------------------------------------------------------------------------------------|\n",
    "| `piezo_station_department_code`    | Code du département français.                                                                  | **Conserver** : Référence géographique utile pour l'analyse et les groupements régionaux.            |\n",
    "| `piezo_station_update_date`        | Date de la dernière mise à jour de la station.                                                 | **Conserver** : Fournit une référence chronologique importante.                                       |\n",
    "| `piezo_station_investigation_depth`| Profondeur de la sonde.                                                                        | **Conserver** : Pertinent pour l'influence sur le niveau piézométrique.                              |\n",
    "| `piezo_station_department_name`    | Nom du département.                                                                            | **Supprimer** : Doublon avec `piezo_station_department_code`.                                        |\n",
    "| `piezo_station_commune_code_insee` | Code INSEE de la commune où se trouve la station.                                              | **Conserver** : Permet de lier la station à des données socio-économiques ou climatiques.            |\n",
    "| `piezo_station_pe_label`           | Nom de la nappe piézométrique.                                                                 | **Conserver** : Relie les mesures au système aquifère sous-jacent.                                   |\n",
    "| `piezo_station_bdlisa_codes`       | Codes des entités hydrogéologiques (BDLISA).                                                   | **Conserver** : Essentiel pour caractériser les propriétés hydrogéologiques.                         |\n",
    "| `piezo_station_altitude`           | Altitude du sol au niveau de la station (NGF).                                                 | **Conserver** : Influence directe sur le niveau d'eau souterraine.                                   |\n",
    "| `piezo_station_bss_code`           | Code(s) national(aux) de la station (codes anciens).                                           | **Conserver** : Référence unique utile pour compléter `bdlisa_codes`.                                |\n",
    "| `piezo_station_commune_name`       | Nom de la commune.                                                                             | **Supprimer** : Doublon avec `piezo_station_commune_code_insee`.                                     |\n",
    "| `piezo_station_longitude`          | Coordonnée X de la station.                                                                    | **Conserver** : Utile pour les analyses géospatiales.                                                |\n",
    "| `piezo_station_latitude`           | Coordonnée Y de la station.                                                                    | **Conserver** : Utile pour les analyses géospatiales.                                                |\n",
    "| `piezo_station_bss_id`             | Code(s) national(aux) de la station (codes récents).                                           | **Supprimer** : Identifiant sans impact direct sur les prédictions.                                  |\n",
    "\n"
   ]
  },
  {
   "cell_type": "code",
   "execution_count": null,
   "metadata": {},
   "outputs": [],
   "source": [
    "# Liste des colonnes à supprimer\n",
    "columns_to_drop = [\n",
    "    'piezo_station_department_name',    # Doublon avec piezo_station_department_code\n",
    "    'piezo_station_commune_name',       # Doublon avec piezo_station_commune_code_insee\n",
    "    'piezo_station_bss_id'              # Identifiant non nécessaire pour la prédiction\n",
    "]\n",
    "\n",
    "# Suppression des colonnes dans X_train et X_test\n",
    "X_train = X_train.drop(columns=columns_to_drop, errors='ignore')\n",
    "X_test = X_test.drop(columns=columns_to_drop, errors='ignore')\n",
    "\n",
    "# Vérification\n",
    "print(\"Colonnes supprimées :\", columns_to_drop)\n"
   ]
  },
  {
   "cell_type": "code",
   "execution_count": null,
   "metadata": {},
   "outputs": [],
   "source": [
    "print(X_train.shape)\n",
    "print(X_test.shape)"
   ]
  },
  {
   "cell_type": "markdown",
   "metadata": {},
   "source": [
    "#### 2.2 Analyse des variables : Meteo"
   ]
  },
  {
   "cell_type": "markdown",
   "metadata": {},
   "source": [
    "### Meteo (Weather)\n",
    "\n",
    "| **Variable**                              | **Description**                                                                                      | **Décision**                            | **Justification**                                                                                                               |\n",
    "|-------------------------------------------|------------------------------------------------------------------------------------------------------|------------------------------------------|-----------------------------------------------------------------------------------------------------------------------------------|\n",
    "| `meteo_cloudiness_height`                 | Minimum height of cloud layer >300m                                                                  | **Conserver**                           | Peut influencer les précipitations ou l'évaporation, liées à la recharge de la nappe.                                            |\n",
    "| `meteo_if_fog`                            | Fog occurrence                                                                                       | **Supprimer**                           | Influence marginale sur le niveau de la nappe.                                                                                   |\n",
    "| `meteo_if_mist`                           | Haze occurrence                                                                                      | **Supprimer**                           | Faible lien avec la recharge ou la consommation d'eau.                                                                            |\n",
    "| `meteo_frost_duration`                    | Freezing duration                                                                                    | **Conserver**                           | Impact potentiel sur les variations saisonnières et l'infiltration.                                                              |\n",
    "| `meteo_wetting_duration`                  | Wetting duration                                                                                     | **Conserver**                           | Indicateur pertinent des conditions humides.                                                                                      |\n",
    "| `meteo_humidity_duration_below_40%`       | Duration of humidity <=40%                                                                           | **Conserver**                           | Important pour les périodes de sécheresse impactant la recharge de la nappe.                                                     |\n",
    "| `meteo_humidity_duration_above_80%`       | Duration of humidity >=80%                                                                           | **Conserver**                           | Pertinent pour identifier des périodes favorables à la recharge.                                                                 |\n",
    "| `meteo_radiation_direct`                  | Direct solar radiation level                                                                         | **Supprimer**                           | Faible impact direct sur la nappe phréatique.                                                                                     |\n",
    "| `meteo_wind_direction_max_inst`           | Maximum instant wind direction                                                                       | **Supprimer**                           | Peu de lien direct avec les niveaux de nappe.                                                                                     |\n",
    "| `meteo_wind_direction_max_inst_2m`        | Maximum instant wind direction at 2 meters                                                          | **Supprimer**                           | Influence indirecte très faible sur la recharge.                                                                                 |\n",
    "| `meteo_wind_direction_max_avg`            | Average maximum wind direction over 10 minutes                                                      | **Supprimer**                           | Non pertinent pour la nappe phréatique.                                                                                           |\n",
    "| `meteo_if_lightning`                      | Lightning occurrence                                                                                 | **Supprimer**                           | Peu de relation avec le niveau de la nappe.                                                                                       |\n",
    "| `meteo_evapotranspiration_grid`           | Evapotranspiration potential calculated at the closest grid point                                    | **Conserver**                           | Indicateur clé de la recharge et des pertes d’eau.                                                                                |\n",
    "| `meteo_evapotranspiration_Monteith`       | Monteith evapotranspiration                                                                          | **Conserver**                           | Mesure essentielle pour estimer la recharge de la nappe.                                                                          |\n",
    "| `meteo_wind_speed_avg_2m`                 | Average wind speed at 2 meters                                                                       | **Supprimer**                           | Peu de lien direct avec les niveaux de nappe.                                                                                     |\n",
    "| `meteo_wind_speed_avg_10m`                | Average wind speed at 10 meters                                                                      | **Supprimer**                           | Même justification que ci-dessus.                                                                                                |\n",
    "| `meteo_if_smoke`                          | Occurrence of smoke                                                                                  | **Supprimer**                           | Non pertinent pour la recharge de la nappe.                                                                                       |\n",
    "| `meteo_wind_max`                          | Maximum instant wind speed                                                                           | **Supprimer**                           | Peu de lien direct avec le niveau de la nappe.                                                                                    |\n",
    "| `meteo_wind_max_2m`                       | Maximum instant wind speed at 2 meters                                                              | **Supprimer**                           | Idem.                                                                                                                             |\n",
    "| `meteo_wind_max_3s`                       | Maximum 3-second instant wind speed within an hour                                                   | **Supprimer**                           | Non pertinent pour la prédiction.                                                                                                 |\n",
    "| `meteo_wind_avg`                          | Average maximum wind speed over 10 minutes                                                          | **Supprimer**                           | Peu lié à la recharge de la nappe.                                                                                                |\n",
    "| `meteo_if_frost`                          | Occurrence of frost                                                                                  | **Conserver**                           | Influence indirecte sur l’infiltration et les niveaux saisonniers.                                                                |\n",
    "| `meteo_radiation`                         | Global radiation level                                                                               | **Supprimer**                           | Non pertinent pour la nappe phréatique.                                                                                           |\n",
    "| `meteo_if_hail`                           | Occurrence of hail                                                                                   | **Supprimer**                           | Impact négligeable sur la recharge.                                                                                               |\n",
    "| `meteo_if_sleet`                          | Occurrence of sleet                                                                                  | **Supprimer**                           | Peu d’impact mesurable sur les niveaux de nappe.                                                                                  |\n",
    "| `meteo_snow_height`                       | Snowfall height over 24 hours                                                                        | **Conserver**                           | Pertinent pour les périodes de recharge hivernale.                                                                                |\n",
    "| `meteo_time_tn`, `meteo_time_tx`          | Time of minimum and maximum temperature in shelter                                                   | **Supprimer**                           | Les valeurs temporelles précises sont peu pertinentes.                                                                             |\n",
    "| `meteo_time_humidity_min`, ...            | Times for humidity or wind events                                                                    | **Supprimer**                           | Idem.                                                                                                                             |\n",
    "| `meteo_id`                                | Weather station ID                                                                                   | **Conserver**                           | Utilisé pour relier les données météorologiques à d'autres stations.                                                              |\n",
    "| `meteo_radiation_IR`                      | Total hourly infrared radiation                                                                      | **Supprimer**                           | Non pertinent.                                                                                                                    |\n",
    "| `meteo_sunshine_duration`                 | Sunshine duration                                                                                    | **Supprimer**                           | Relation marginale avec la recharge.                                                                                              |\n",
    "| `meteo_cloudiness`                        | Maximum cloudiness above 4/8 of a layer below 300 m                                                  | **Supprimer**                           | Peu pertinent pour la recharge.                                                                                                   |\n",
    "| `meteo_if_thunderstorm`, ...              | Boolean weather conditions (thunderstorm, black ice, etc.)                                           | **Supprimer**                           | Non pertinents pour la prédiction.                                                                                                |\n",
    "| `meteo_rain_height`                       | Rain height                                                                                          | **Conserver**                           | Variable clé pour la recharge de la nappe phréatique.                                                                              |\n",
    "| `meteo_pressure_avg`, `meteo_pressure_max`| Average and maximum sea-level pressure                                                               | **Supprimer**                           | Relation indirecte difficile à exploiter pour la prédiction.                                                                      |\n",
    "| `meteo_humidity_avg`, ...                 | Average/minimum humidity                                                                             | **Conserver**                           | Pertinent pour évaluer les périodes de recharge ou d’assèchement.                                                                 |\n",
    "| `meteo_temperature_avg`, ...              | Shelter temperature (average, min, max)                                                              | **Conserver**                           | Variables importantes pour comprendre l’évaporation et la recharge.                                                               |\n"
   ]
  },
  {
   "cell_type": "markdown",
   "metadata": {},
   "source": [
    "**--> à décider ensemble !!!**"
   ]
  },
  {
   "cell_type": "code",
   "execution_count": null,
   "metadata": {},
   "outputs": [],
   "source": [
    "# Liste des colonnes inutiles\n",
    "columns_to_drop = [\n",
    "    'meteo_if_fog', 'meteo_if_mist', 'meteo_radiation_direct', \n",
    "    'meteo_wind_direction_max_inst', 'meteo_wind_direction_max_inst_2m', \n",
    "    'meteo_wind_direction_max_avg', 'meteo_if_lightning', \n",
    "    'meteo_wind_speed_avg_2m', 'meteo_wind_speed_avg_10m', \n",
    "    'meteo_wind_max', 'meteo_wind_max_2m', 'meteo_wind_max_3s', \n",
    "    'meteo_wind_avg', 'meteo_radiation', 'meteo_if_hail', \n",
    "    'meteo_if_sleet', 'meteo_time_tn', 'meteo_time_tx', \n",
    "    'meteo_time_humidity_min', 'meteo_time_humidity_max', \n",
    "    'meteo_time_wind_max', 'meteo_time_wind_max_2m', \n",
    "    'meteo_time_wind_max_3s', 'meteo_radiation_IR', \n",
    "    'meteo_sunshine_duration', 'meteo_cloudiness', \n",
    "    'meteo_if_thunderstorm', 'meteo_pressure_avg', \n",
    "    'meteo_pressure_max'\n",
    "]\n",
    "\n",
    "# Suppression dans les datasets\n",
    "X_train = X_train.drop(columns=columns_to_drop, errors='ignore')\n",
    "X_test = X_test.drop(columns=columns_to_drop, errors='ignore')\n",
    "\n",
    "print(f\"Colonnes supprimées : {len(columns_to_drop)}\")"
   ]
  },
  {
   "cell_type": "code",
   "execution_count": null,
   "metadata": {},
   "outputs": [],
   "source": [
    "print(X_train.shape)\n",
    "print(X_test.shape)"
   ]
  },
  {
   "cell_type": "markdown",
   "metadata": {},
   "source": [
    "#### 2.3 Analyse des variables : Hydro"
   ]
  },
  {
   "cell_type": "markdown",
   "metadata": {},
   "source": [
    "| **Variable**                     | **Description**                                                                                   | **Décision**             | **Justification**                                                                                                              |\n",
    "|----------------------------------|---------------------------------------------------------------------------------------------------|---------------------------|------------------------------------------------------------------------------------------------------------------------------|\n",
    "| `hydro_station_code`             | Hydrometric station code                                                                          | **Supprimer**            | Les identifiants spécifiques aux stations hydrologiques ne sont pas nécessaires pour la prédiction des niveaux piezométriques. |\n",
    "| `hydro_observation_date_elab`    | Hydrometric observation date                                                                      | **Conserver**            | Permet de synchroniser les données hydrologiques avec d'autres variables temporelles.                                         |\n",
    "| `hydro_observation_result_elab`  | Value of the hydrometric measurement (flow rate)                                                  | **Conserver**            | Variable quantitative clé pour estimer les apports hydriques contribuant à la recharge de la nappe phréatique.               |\n",
    "| `hydro_status_code`              | Code of the data's status                                                                         | **Supprimer**            | La qualité des données est déjà reflétée par d'autres indicateurs (ex. qualification).                                        |\n",
    "| `hydro_status_label`             | Label/Name of the data's status                                                                   | **Supprimer**            | Redondant avec `hydro_status_code`.                                                                                          |\n",
    "| `hydro_method_code`              | Code of the method for obtaining the hydro observation result                                     | **Supprimer**            | Peu pertinent pour l'analyse, les valeurs hydrométriques restent valides quelle que soit leur méthode d'obtention.           |\n",
    "| `hydro_method_label`             | Method for obtaining the hydro observation result                                                | **Supprimer**            | Redondant avec `hydro_method_code`.                                                                                          |\n",
    "| `hydro_qualification_code`       | Code of the quality of the measurement                                                           | **Supprimer**            | Peu utile si les données sont déjà filtrées ou nettoyées en amont.                                                           |\n",
    "| `hydro_qualification_label`      | Quality of the measurement produced                                                              | **Supprimer**            | Redondant avec `hydro_qualification_code`.                                                                                   |\n",
    "| `hydro_longitude`                | Longitude of the hydrometric station                                                             | **Supprimer**            | Les coordonnées géographiques des stations hydrométriques ne sont pas nécessaires, la position des stations piezo est suffisante. |\n",
    "| `hydro_latitude`                 | Latitude of the hydrometric station                                                              | **Supprimer**            | Idem.                                                                                                                        |\n",
    "| `hydro_hydro_quantity_elab`      | Type of hydrometric quantity developed (e.g., daily/monthly mean discharge)                      | **Conserver**            | Utile pour différencier les séries temporelles journalières et mensuelles et ajuster les modèles en conséquence.             |\n",
    "\n",
    "---\n"
   ]
  },
  {
   "cell_type": "markdown",
   "metadata": {},
   "source": [
    "**--> à décider ensemble !!!**"
   ]
  },
  {
   "cell_type": "code",
   "execution_count": null,
   "metadata": {},
   "outputs": [],
   "source": [
    "# Liste des colonnes inutiles\n",
    "hydro_columns_to_drop = [\n",
    "    'hydro_station_code', 'hydro_status_code', 'hydro_status_label',\n",
    "    'hydro_method_code', 'hydro_method_label', 'hydro_qualification_code',\n",
    "    'hydro_qualification_label', 'hydro_longitude', 'hydro_latitude'\n",
    "]\n",
    "\n",
    "# Suppression dans les datasets\n",
    "X_train = X_train.drop(columns=hydro_columns_to_drop, errors='ignore')\n",
    "X_test = X_test.drop(columns=hydro_columns_to_drop, errors='ignore')\n",
    "\n",
    "print(f\"Colonnes supprimées (Hydrologie) : {len(hydro_columns_to_drop)}\")"
   ]
  },
  {
   "cell_type": "code",
   "execution_count": null,
   "metadata": {},
   "outputs": [],
   "source": [
    "print(X_train.shape)\n",
    "print(X_test.shape)"
   ]
  },
  {
   "cell_type": "markdown",
   "metadata": {},
   "source": [
    "#### 2.4 Analyse des variables : Prelev"
   ]
  },
  {
   "cell_type": "markdown",
   "metadata": {},
   "source": []
  },
  {
   "cell_type": "markdown",
   "metadata": {},
   "source": [
    "| **Variable**                             | **Description**                                                                                      | **Décision**             | **Justification**                                                                                                                                                            |\n",
    "|------------------------------------------|------------------------------------------------------------------------------------------------------|---------------------------|----------------------------------------------------------------------------------------------------------------------------------------------------------------------------|\n",
    "| `prelev_structure_code_0`                | ID of the water withdrawal facility                                                                  | **Supprimer**            | Non pertinent pour la prédiction des niveaux piezométriques, car ces identifiants ne contribuent pas directement à l’analyse des variables hydrologiques globales.         |\n",
    "| `prelev_volume_0`                        | Maximum water withdrawal volume (largest annual withdrawal)                                          | **Conserver**            | Variable clé pour estimer l’impact des prélèvements sur les niveaux piezométriques.                                                                                        |\n",
    "| `prelev_usage_label_0`                   | Goal/usage of the withdrawal                                                                         | **Conserver**            | Permet d’expliquer la répartition des prélèvements selon les usages (eau potable, énergie, irrigation, etc.).                                                              |\n",
    "| `prelev_volume_obtention_mode_label_0`   | Type of measurement                                                                                 | **Supprimer**            | Peu pertinent pour l’analyse, car la précision du mode d’obtention n’influence pas directement les résultats piezométriques.                                               |\n",
    "| `prelev_longitude_0`                     | Longitude of the water withdrawal facility                                                          | **Supprimer**            | Déjà supprimée dans les étapes précédentes au profit des coordonnées des stations piezométriques.                                                                           |\n",
    "| `prelev_latitude_0`                      | Latitude of the water withdrawal facility                                                           | **Supprimer**            | Idem.                                                                                                                                                                       |\n",
    "| `prelev_commune_code_insee_0`            | City/municipality code where the withdrawal was made                                                | **Supprimer**            | Déjà remplacée par `piezo_station_commune_code_insee` comme référence unique.                                                                                               |\n",
    "| `prelev_structure_code_1`                | ID of the water withdrawal facility                                                                  | **Supprimer**            | Idem que pour `prelev_structure_code_0`.                                                                                                                                   |\n",
    "| `prelev_volume_1`                        | Maximum water withdrawal volume (second-largest annual withdrawal)                                  | **Conserver**            | Variable importante pour évaluer l’impact cumulé des prélèvements sur les niveaux piezométriques.                                                                          |\n",
    "| `prelev_usage_label_1`                   | Goal/usage of the withdrawal                                                                         | **Conserver**            | Idem que pour `prelev_usage_label_0`.                                                                                                                                      |\n",
    "| `prelev_volume_obtention_mode_label_1`   | Type of measurement                                                                                 | **Supprimer**            | Idem que pour `prelev_volume_obtention_mode_label_0`.                                                                                                                      |\n",
    "| `prelev_longitude_1`                     | Longitude of the water withdrawal facility                                                          | **Supprimer**            | Idem que pour `prelev_longitude_0`.                                                                                                                                        |\n",
    "| `prelev_latitude_1`                      | Latitude of the water withdrawal facility                                                           | **Supprimer**            | Idem que pour `prelev_latitude_0`.                                                                                                                                         |\n",
    "| `prelev_commune_code_insee_1`            | City/municipality code where the withdrawal was made                                                | **Supprimer**            | Idem que pour `prelev_commune_code_insee_0`.                                                                                                                               |\n",
    "| `prelev_structure_code_2`                | ID of the water withdrawal facility                                                                  | **Supprimer**            | Idem que pour `prelev_structure_code_0`.                                                                                                                                   |\n",
    "| `prelev_volume_2`                        | Maximum water withdrawal volume (third-largest annual withdrawal)                                   | **Conserver**            | Idem que pour `prelev_volume_0`.                                                                                                                                          |\n",
    "| `prelev_usage_label_2`                   | Goal/usage of the withdrawal                                                                         | **Conserver**            | Idem que pour `prelev_usage_label_0`.                                                                                                                                      |\n",
    "| `prelev_volume_obtention_mode_label_2`   | Type of measurement                                                                                 | **Supprimer**            | Idem que pour `prelev_volume_obtention_mode_label_0`.                                                                                                                      |\n",
    "| `prelev_longitude_2`                     | Longitude of the water withdrawal facility                                                          | **Supprimer**            | Idem que pour `prelev_longitude_0`.                                                                                                                                        |\n",
    "| `prelev_latitude_2`                      | Latitude of the water withdrawal facility                                                           | **Supprimer**            | Idem que pour `prelev_latitude_0`.                                                                                                                                         |\n",
    "| `prelev_commune_code_insee_2`            | City/municipality code where the withdrawal was made                                                | **Supprimer**            | Idem que pour `prelev_commune_code_insee_0`.                                                                                                                               |\n",
    "| `prelev_other_volume_sum`                | Sum of other water withdrawals                                                                      | **Conserver**            | Permet de capturer l’impact global des prélèvements en dehors des trois principaux prélèvements identifiés individuellement.                                               |\n",
    "\n",
    "---"
   ]
  },
  {
   "cell_type": "code",
   "execution_count": null,
   "metadata": {},
   "outputs": [],
   "source": [
    "# Liste des colonnes inutiles\n",
    "prelev_columns_to_drop = [\n",
    "    'prelev_structure_code_0', 'prelev_volume_obtention_mode_label_0', 'prelev_longitude_0', 'prelev_latitude_0', 'prelev_commune_code_insee_0',\n",
    "    'prelev_structure_code_1', 'prelev_volume_obtention_mode_label_1', 'prelev_longitude_1', 'prelev_latitude_1', 'prelev_commune_code_insee_1',\n",
    "    'prelev_structure_code_2', 'prelev_volume_obtention_mode_label_2', 'prelev_longitude_2', 'prelev_latitude_2', 'prelev_commune_code_insee_2'\n",
    "]\n",
    "\n",
    "# Suppression dans les datasets\n",
    "X_train = X_train.drop(columns=prelev_columns_to_drop, errors='ignore')\n",
    "X_test = X_test.drop(columns=prelev_columns_to_drop, errors='ignore')\n",
    "\n",
    "print(f\"Colonnes supprimées (Prélèvement) : {len(prelev_columns_to_drop)}\")"
   ]
  },
  {
   "cell_type": "code",
   "execution_count": null,
   "metadata": {},
   "outputs": [],
   "source": [
    "print(X_train.shape)\n",
    "print(X_test.shape)"
   ]
  },
  {
   "cell_type": "markdown",
   "metadata": {},
   "source": [
    "#### 2.5 Analyse des variables : INSEE"
   ]
  },
  {
   "cell_type": "markdown",
   "metadata": {},
   "source": [
    "\n",
    "| **Variable**              | **Description**                                           | **Décision**  | **Justification**                                                                                           |\n",
    "|---------------------------|-----------------------------------------------------------|---------------|-------------------------------------------------------------------------------------------------------------|\n",
    "| `insee_%_agri`            | Percentage of the working population in agriculture       | **Conserver** | Donnée pertinente pour évaluer l’impact des activités agricoles sur les prélèvements d’eau et les niveaux piezométriques. |\n",
    "| `insee_pop_commune`       | Number of inhabitants of the municipality                 | **Conserver** | Variable clé pour estimer la demande en eau, qui peut influencer les prélèvements et les niveaux piezométriques. |\n",
    "| `insee_med_standard_living` | Median standard of living                                | **Conserver** | Peut refléter indirectement le développement économique et les pressions sur les ressources en eau.         |\n",
    "| `insee%ind`               | Percentage of the working population in the industry sector | **Conserver** | Reflète l’impact potentiel des activités industrielles sur la consommation et les prélèvements d’eau.       |\n",
    "| `insee_%_const`           | Percentage of the working population in the construction sector | **Conserver** | Peut refléter les impacts liés aux besoins en eau pour les projets de construction, notamment pour l’irrigation ou le refroidissement. |\n",
    "\n",
    "---\n"
   ]
  },
  {
   "cell_type": "markdown",
   "metadata": {},
   "source": [
    "#### 2.6 Analyse des variables : Distance"
   ]
  },
  {
   "cell_type": "markdown",
   "metadata": {},
   "source": [
    "| **Variable**             | **Description**                                      | **Décision**  | **Justification**                                                                                     |\n",
    "|--------------------------|------------------------------------------------------|---------------|-------------------------------------------------------------------------------------------------------|\n",
    "| `distance_piezo_meteo`   | Distance between the piezometric and weather station | **Conserver** | Permet de mesurer l’influence potentielle des données météorologiques sur les observations piezométriques. |\n",
    "| `distance_hydro_meteo`   | Distance between the piezometric and hydrological station | **Conserver** | Peut aider à évaluer la cohérence spatiale des données hydrologiques par rapport aux stations piezométriques. |\n",
    "\n",
    "---\n",
    "\n"
   ]
  },
  {
   "cell_type": "code",
   "execution_count": null,
   "metadata": {},
   "outputs": [],
   "source": [
    "print(X_train.shape)\n",
    "print(X_test.shape)"
   ]
  },
  {
   "cell_type": "code",
   "execution_count": null,
   "metadata": {},
   "outputs": [],
   "source": [
    "variables_utiles = np.array(X_train.columns)\n",
    "print(variables_utiles)"
   ]
  },
  {
   "cell_type": "markdown",
   "metadata": {},
   "source": [
    "## III. Traitement des NaN"
   ]
  }
 ],
 "metadata": {
  "kernelspec": {
   "display_name": "M2datascience",
   "language": "python",
   "name": "python3"
  },
  "language_info": {
   "codemirror_mode": {
    "name": "ipython",
    "version": 3
   },
   "file_extension": ".py",
   "mimetype": "text/x-python",
   "name": "python",
   "nbconvert_exporter": "python",
   "pygments_lexer": "ipython3",
   "version": "3.11.8"
  }
 },
 "nbformat": 4,
 "nbformat_minor": 2
}
