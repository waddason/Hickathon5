{
 "cells": [
  {
   "attachments": {},
   "cell_type": "markdown",
   "id": "93f34ba4",
   "metadata": {},
   "source": [
    "# Tristan notebook"
   ]
  },
  {
   "cell_type": "code",
   "execution_count": null,
   "id": "97289a59-343d-4645-bd0c-5f1e8ecbaf5f",
   "metadata": {
    "tags": []
   },
   "outputs": [],
   "source": [
    "import pandas as pd"
   ]
  },
  {
   "cell_type": "code",
   "execution_count": null,
   "id": "8d6b55c0-4295-4e07-893a-4d8be9aca1fa",
   "metadata": {
    "tags": []
   },
   "outputs": [],
   "source": [
    "X_train_path = \"data/X_train_Hi5.csv\"\n",
    "X_train = pd.read_csv(X_train_path)"
   ]
  },
  {
   "cell_type": "code",
   "execution_count": null,
   "id": "b7d6e682-4c81-4dfe-87da-0a2969b4351c",
   "metadata": {
    "tags": []
   },
   "outputs": [],
   "source": [
    "X_train"
   ]
  },
  {
   "cell_type": "code",
   "execution_count": null,
   "id": "14a0d7ce-10d8-4177-9896-405ba93b5bd3",
   "metadata": {
    "tags": []
   },
   "outputs": [],
   "source": [
    "X_train[\"piezo_station_bss_id\"].nunique()"
   ]
  },
  {
   "cell_type": "code",
   "execution_count": null,
   "id": "9ee58080-84c1-4f55-ac58-9c28158d628a",
   "metadata": {
    "tags": []
   },
   "outputs": [],
   "source": [
    "X_train[\"piezo_groundwater_level_category\"].unique()"
   ]
  },
  {
   "cell_type": "code",
   "execution_count": null,
   "id": "367b1df3-7c66-49a2-a5d4-f6eb95e0273a",
   "metadata": {
    "tags": []
   },
   "outputs": [],
   "source": [
    "# dictionary to encode the target\n",
    "target_cat = {'High':4, 'Very High':5, 'Very Low' :1, 'Low':2, 'Average':3}\n",
    "target_level = {num: level for level, num in target_cat.items()}\n",
    "target_level[0] = 'NaN'"
   ]
  },
  {
   "attachments": {},
   "cell_type": "markdown",
   "id": "aaf94d36-0b40-4d54-a00c-c50bf4ff3d52",
   "metadata": {},
   "source": [
    "## Station locations"
   ]
  },
  {
   "cell_type": "code",
   "execution_count": null,
   "id": "0df90cb1-0a6c-4520-9825-a647901e82ce",
   "metadata": {
    "tags": []
   },
   "outputs": [],
   "source": [
    "stations_ids = X_train[[\"piezo_station_bss_id\", \"piezo_station_latitude\", \"piezo_station_longitude\", \"piezo_groundwater_level_category\"]].drop_duplicates()\n",
    "stations_coords = X_train[[\"piezo_station_bss_id\", \"piezo_station_latitude\", \"piezo_station_longitude\"]].drop_duplicates()\n",
    "stations_coords.index = stations_coords[\"piezo_station_bss_id\"]\n",
    "stations_coords = stations_coords.drop(columns=['piezo_station_bss_id'])\n",
    "stations_coords.head()"
   ]
  },
  {
   "cell_type": "code",
   "execution_count": null,
   "id": "2e728b2c-13c2-4e3f-abff-dcac88224e43",
   "metadata": {
    "tags": []
   },
   "outputs": [],
   "source": [
    "stations_ids[\"level\"] = stations_ids[\"piezo_groundwater_level_category\"].apply(lambda x : target_cat.get(x, 0))"
   ]
  },
  {
   "cell_type": "code",
   "execution_count": null,
   "id": "c9c38939-17e7-4570-b7d2-7e954f562552",
   "metadata": {
    "tags": []
   },
   "outputs": [],
   "source": [
    "%pip install cartopy\n"
   ]
  },
  {
   "cell_type": "code",
   "execution_count": null,
   "id": "ac2fe9b8-0da9-477f-b83e-c91f625efe89",
   "metadata": {
    "tags": []
   },
   "outputs": [],
   "source": [
    "# cartopy to display maps\n",
    "import cartopy.crs as ccrs\n",
    "import cartopy.feature as cfeature\n",
    "import matplotlib.pyplot as plt"
   ]
  },
  {
   "cell_type": "code",
   "execution_count": null,
   "id": "00ca8202-01dc-4801-9009-dc0c45336856",
   "metadata": {
    "tags": []
   },
   "outputs": [],
   "source": [
    "def display_piezzo_stations(color_column=None):\n",
    "    \"\"\"Plot the weather station on a map of Europe\"\"\"\n",
    "    # Load coordinates from other notebook\n",
    "\n",
    "    fig = plt.figure( figsize=(12, 8))\n",
    "    ax = fig.add_subplot(1, 1, 1, projection=ccrs.PlateCarree())\n",
    "    ax.set_extent([-5, 10, 42, 52], crs=ccrs.PlateCarree())\n",
    "\n",
    "    # Draw the background\n",
    "    ax.add_feature(cfeature.LAND)\n",
    "    ax.add_feature(cfeature.OCEAN)\n",
    "    ax.add_feature(cfeature.COASTLINE)\n",
    "    ax.add_feature(cfeature.BORDERS, linestyle=\":\")\n",
    "    # ax.add_feature(cfeature.LAKES, alpha=0.5)\n",
    "    ax.add_feature(cfeature.RIVERS)\n",
    "    ax.gridlines(draw_labels=True)\n",
    "\n",
    "    # Add stations' names and positions\n",
    "    if color_column is None:\n",
    "        stations_coords.plot.scatter(x=\"piezo_station_longitude\", y=\"piezo_station_latitude\", s=4, ax=ax, transform=ccrs.PlateCarree())\n",
    "    else:\n",
    "        stations_coords.plot.scatter(x=\"piezo_station_longitude\", y=\"piezo_station_latitude\", c=color_column, cmap='tab20' ,s=4, ax=ax, transform=ccrs.PlateCarree())\n",
    "\n",
    "    ax.set_title(\"Piezzo stations locations\")\n",
    "\n",
    "    plt.show()"
   ]
  },
  {
   "cell_type": "code",
   "execution_count": null,
   "id": "5ac0855c-6b80-4e9e-a83c-13845923f146",
   "metadata": {
    "tags": []
   },
   "outputs": [],
   "source": [
    "display_piezzo_stations()"
   ]
  },
  {
   "attachments": {},
   "cell_type": "markdown",
   "id": "af61952f",
   "metadata": {},
   "source": [
    "## Covariance of stations"
   ]
  },
  {
   "cell_type": "code",
   "execution_count": null,
   "id": "6f480c4f-0a69-4641-bb58-a1a6056970f2",
   "metadata": {},
   "outputs": [],
   "source": [
    "# subset of the stations\n",
    "df_by_station=  X_train[[\"piezo_station_bss_id\", \"piezo_measurement_date\", \"piezo_groundwater_level_category\"]]\n",
    "print(df_by_station.shape)\n",
    "print(df_by_station.index)\n"
   ]
  },
  {
   "cell_type": "code",
   "execution_count": null,
   "id": "4c99fffa",
   "metadata": {},
   "outputs": [],
   "source": [
    "# create the level column\n",
    "df_by_station[\"level\"] = df_by_station[\"piezo_groundwater_level_category\"].apply(lambda x : target_cat.get(x, 0))\n",
    "df_by_station.head()\n"
   ]
  },
  {
   "cell_type": "code",
   "execution_count": null,
   "id": "f06036ae",
   "metadata": {},
   "outputs": [],
   "source": [
    "# pivot to get the time series\n",
    "df_by_station = df_by_station.pivot_table(index= \"piezo_measurement_date\",columns=\"piezo_station_bss_id\", values=\"level\")\n",
    "df_by_station = df_by_station.fillna(value=0)\n",
    "print(df_by_station.shape)\n",
    "df_by_station.head()"
   ]
  },
  {
   "cell_type": "code",
   "execution_count": null,
   "id": "55b0bd66",
   "metadata": {},
   "outputs": [],
   "source": [
    "# plot the evolution over time of the first 10 stations\n",
    "fig, ax = plt.subplots(1, 1, figsize=(20, 6))\n",
    "df_by_station.loc[:, df_by_station.columns[:10]].plot(ax=ax)\n",
    "ax.legend(title=\"station\", fontsize=\"small\")\n",
    "ax.set_title(\"Ground Water level evolution over time in the train dataset (10 stations)\")\n",
    "ax.set_ylabel(\"level\")\n",
    "ax.set_yticks([i for i in range(6)], labels=[target_level[i] for i in range(6)])\n",
    "plt.show()"
   ]
  },
  {
   "cell_type": "code",
   "execution_count": null,
   "id": "c5acd720",
   "metadata": {},
   "outputs": [],
   "source": [
    "df_by_station.to_numpy()"
   ]
  },
  {
   "cell_type": "code",
   "execution_count": null,
   "id": "9ee42d0e",
   "metadata": {},
   "outputs": [],
   "source": [
    "# Find clusters\n",
    "from sklearn.cluster import DBSCAN\n",
    "clustering = DBSCAN(eps=0.00000000001, min_samples=100)\n",
    "clustering.fit(df_by_station.to_numpy())\n",
    "print(clustering.labels_)\n",
    "max(clustering.labels_)\n",
    "\n",
    "\n"
   ]
  },
  {
   "cell_type": "code",
   "execution_count": null,
   "id": "ac7e6d3b",
   "metadata": {},
   "outputs": [],
   "source": [
    "from sklearn.cluster import k_means\n",
    "centroid, label, intertia = k_means(df_by_station.T, n_clusters=20, random_state=1, n_init=10)\n",
    "max(label)\n",
    "\n"
   ]
  },
  {
   "cell_type": "code",
   "execution_count": null,
   "id": "7815754f",
   "metadata": {},
   "outputs": [],
   "source": [
    "display_piezzo_stations(label)"
   ]
  },
  {
   "cell_type": "code",
   "execution_count": null,
   "id": "02d1e1fe",
   "metadata": {},
   "outputs": [],
   "source": [
    "#from sklearn.model_selection import TimeSeriesSplit\n",
    "#tss = TimeSeriesSplit(n_splits=5)  # Deflaut values are ok\n",
    "for i, (train_index, test_index) in enumerate(tss.split(df_by_station)):"
   ]
  }
 ],
 "metadata": {
  "kernelspec": {
   "display_name": "Python 3 (ipykernel)",
   "language": "python",
   "name": "python3"
  },
  "language_info": {
   "codemirror_mode": {
    "name": "ipython",
    "version": 3
   },
   "file_extension": ".py",
   "mimetype": "text/x-python",
   "name": "python",
   "nbconvert_exporter": "python",
   "pygments_lexer": "ipython3",
   "version": "3.10.13"
  }
 },
 "nbformat": 4,
 "nbformat_minor": 5
}
