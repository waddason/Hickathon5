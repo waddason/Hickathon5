{
 "cells": [
  {
   "attachments": {},
   "cell_type": "markdown",
   "id": "93f34ba4",
   "metadata": {},
   "source": [
    "# Tristan notebook"
   ]
  },
  {
   "cell_type": "code",
   "execution_count": null,
   "id": "97289a59-343d-4645-bd0c-5f1e8ecbaf5f",
   "metadata": {
    "tags": []
   },
   "outputs": [],
   "source": [
    "import pandas as pd"
   ]
  },
  {
   "cell_type": "code",
   "execution_count": null,
   "id": "8d6b55c0-4295-4e07-893a-4d8be9aca1fa",
   "metadata": {
    "tags": []
   },
   "outputs": [],
   "source": [
    "X_train_path = \"data/X_train_Hi5.csv\"\n",
    "X_train = pd.read_csv(X_train_path)"
   ]
  },
  {
   "cell_type": "code",
   "execution_count": null,
   "id": "b7d6e682-4c81-4dfe-87da-0a2969b4351c",
   "metadata": {
    "tags": []
   },
   "outputs": [],
   "source": [
    "X_train"
   ]
  },
  {
   "cell_type": "code",
   "execution_count": null,
   "id": "14a0d7ce-10d8-4177-9896-405ba93b5bd3",
   "metadata": {
    "tags": []
   },
   "outputs": [],
   "source": [
    "X_train[\"piezo_station_bss_id\"].nunique()"
   ]
  },
  {
   "cell_type": "code",
   "execution_count": null,
   "id": "9ee58080-84c1-4f55-ac58-9c28158d628a",
   "metadata": {
    "tags": []
   },
   "outputs": [],
   "source": [
    "X_train[\"piezo_groundwater_level_category\"].unique()"
   ]
  },
  {
   "cell_type": "code",
   "execution_count": null,
   "id": "367b1df3-7c66-49a2-a5d4-f6eb95e0273a",
   "metadata": {
    "tags": []
   },
   "outputs": [],
   "source": [
    "# dictionary to encode the target\n",
    "target_cat = {'High':4, 'Very High':5, 'Very Low' :1, 'Low':2, 'Average':3}\n",
    "target_level = {num: level for level, num in target_cat.items()}\n",
    "target_level[0] = 'NaN'"
   ]
  },
  {
   "attachments": {},
   "cell_type": "markdown",
   "id": "aaf94d36-0b40-4d54-a00c-c50bf4ff3d52",
   "metadata": {},
   "source": [
    "## Station locations"
   ]
  },
  {
   "cell_type": "code",
   "execution_count": null,
   "id": "0df90cb1-0a6c-4520-9825-a647901e82ce",
   "metadata": {
    "tags": []
   },
   "outputs": [],
   "source": [
    "stations_ids = X_train[[\"piezo_station_bss_id\", \"piezo_station_latitude\", \"piezo_station_longitude\", \"piezo_groundwater_level_category\"]].drop_duplicates()\n",
    "stations_coords = X_train[[\"piezo_station_bss_id\", \"piezo_station_latitude\", \"piezo_station_longitude\"]].drop_duplicates()\n",
    "stations_coords.index = stations_coords[\"piezo_station_bss_id\"]\n",
    "stations_coords = stations_coords.drop(columns=['piezo_station_bss_id'])\n",
    "stations_coords.head()"
   ]
  },
  {
   "cell_type": "code",
   "execution_count": null,
   "id": "2e728b2c-13c2-4e3f-abff-dcac88224e43",
   "metadata": {
    "tags": []
   },
   "outputs": [],
   "source": [
    "stations_ids[\"level\"] = stations_ids[\"piezo_groundwater_level_category\"].apply(lambda x : target_cat.get(x, 0))"
   ]
  },
  {
   "cell_type": "code",
   "execution_count": null,
   "id": "c9c38939-17e7-4570-b7d2-7e954f562552",
   "metadata": {
    "tags": []
   },
   "outputs": [],
   "source": [
    "%pip install cartopy\n"
   ]
  },
  {
   "cell_type": "code",
   "execution_count": null,
   "id": "ac2fe9b8-0da9-477f-b83e-c91f625efe89",
   "metadata": {
    "tags": []
   },
   "outputs": [],
   "source": [
    "# cartopy to display maps\n",
    "import cartopy.crs as ccrs\n",
    "import cartopy.feature as cfeature\n",
    "import matplotlib.pyplot as plt"
   ]
  },
  {
   "cell_type": "code",
   "execution_count": null,
   "id": "00ca8202-01dc-4801-9009-dc0c45336856",
   "metadata": {
    "tags": []
   },
   "outputs": [],
   "source": [
    "def display_piezzo_stations(color_column=None):\n",
    "    \"\"\"Plot the weather station on a map of Europe\"\"\"\n",
    "    # Load coordinates from other notebook\n",
    "\n",
    "    fig = plt.figure( figsize=(12, 8))\n",
    "    ax = fig.add_subplot(1, 1, 1, projection=ccrs.PlateCarree())\n",
    "    ax.set_extent([-5, 10, 42, 52], crs=ccrs.PlateCarree())\n",
    "\n",
    "    # Draw the background\n",
    "    ax.add_feature(cfeature.LAND)\n",
    "    ax.add_feature(cfeature.OCEAN)\n",
    "    ax.add_feature(cfeature.COASTLINE)\n",
    "    ax.add_feature(cfeature.BORDERS, linestyle=\":\")\n",
    "    # ax.add_feature(cfeature.LAKES, alpha=0.5)\n",
    "    ax.add_feature(cfeature.RIVERS)\n",
    "    ax.gridlines(draw_labels=True)\n",
    "\n",
    "    # Add stations' names and positions\n",
    "    if color_column is None:\n",
    "        stations_coords.plot.scatter(x=\"piezo_station_longitude\", y=\"piezo_station_latitude\", s=4, ax=ax, transform=ccrs.PlateCarree())\n",
    "    else:\n",
    "        stations_coords.plot.scatter(x=\"piezo_station_longitude\", y=\"piezo_station_latitude\", c=color_column, cmap='tab20' ,s=4, ax=ax, transform=ccrs.PlateCarree())\n",
    "\n",
    "    ax.set_title(\"Piezzo stations locations\")\n",
    "\n",
    "    plt.show()"
   ]
  },
  {
   "cell_type": "code",
   "execution_count": null,
   "id": "5ac0855c-6b80-4e9e-a83c-13845923f146",
   "metadata": {
    "tags": []
   },
   "outputs": [],
   "source": [
    "display_piezzo_stations()"
   ]
  },
  {
   "attachments": {},
   "cell_type": "markdown",
   "id": "af61952f",
   "metadata": {},
   "source": [
    "## Covariance of stations"
   ]
  },
  {
   "cell_type": "code",
   "execution_count": null,
   "id": "6f480c4f-0a69-4641-bb58-a1a6056970f2",
   "metadata": {},
   "outputs": [],
   "source": [
    "# subset of the stations\n",
    "df_by_station=  X_train[[\"piezo_station_bss_id\", \"piezo_measurement_date\", \"piezo_groundwater_level_category\"]]\n",
    "print(df_by_station.shape)\n",
    "print(df_by_station.index)\n"
   ]
  },
  {
   "cell_type": "code",
   "execution_count": null,
   "id": "4c99fffa",
   "metadata": {},
   "outputs": [],
   "source": [
    "# create the level column\n",
    "df_by_station[\"level\"] = df_by_station[\"piezo_groundwater_level_category\"].apply(lambda x : target_cat.get(x, 0))\n",
    "df_by_station.head()\n"
   ]
  },
  {
   "cell_type": "code",
   "execution_count": null,
   "id": "f06036ae",
   "metadata": {},
   "outputs": [],
   "source": [
    "# pivot to get the time series\n",
    "df_by_station = df_by_station.pivot_table(index= \"piezo_measurement_date\",columns=\"piezo_station_bss_id\", values=\"level\")\n",
    "df_by_station = df_by_station.fillna(value=0)\n",
    "print(df_by_station.shape)\n",
    "df_by_station.head()"
   ]
  },
  {
   "cell_type": "code",
   "execution_count": null,
   "id": "55b0bd66",
   "metadata": {},
   "outputs": [],
   "source": [
    "# plot the evolution over time of the first 10 stations\n",
    "fig, ax = plt.subplots(1, 1, figsize=(20, 6))\n",
    "df_by_station.loc[:, df_by_station.columns[:10]].plot(ax=ax)\n",
    "ax.legend(title=\"station\", fontsize=\"small\")\n",
    "ax.set_title(\"Ground Water level evolution over time in the train dataset (10 stations)\")\n",
    "ax.set_ylabel(\"level\")\n",
    "ax.set_yticks([i for i in range(6)], labels=[target_level[i] for i in range(6)])\n",
    "plt.show()"
   ]
  },
  {
   "cell_type": "code",
   "execution_count": null,
   "id": "c5acd720",
   "metadata": {},
   "outputs": [],
   "source": [
    "df_by_station.to_numpy()"
   ]
  },
  {
   "cell_type": "code",
   "execution_count": null,
   "id": "9ee42d0e",
   "metadata": {},
   "outputs": [],
   "source": [
    "# Find clusters\n",
    "from sklearn.cluster import DBSCAN\n",
    "clustering = DBSCAN(eps=0.00000000001, min_samples=100)\n",
    "clustering.fit(df_by_station.to_numpy())\n",
    "print(clustering.labels_)\n",
    "max(clustering.labels_)\n",
    "\n",
    "\n"
   ]
  },
  {
   "cell_type": "code",
   "execution_count": null,
   "id": "ac7e6d3b",
   "metadata": {},
   "outputs": [],
   "source": [
    "from sklearn.cluster import k_means\n",
    "centroid, label, intertia = k_means(df_by_station.T, n_clusters=20, random_state=1, n_init=10)\n",
    "max(label)\n",
    "\n"
   ]
  },
  {
   "cell_type": "code",
   "execution_count": null,
   "id": "7815754f",
   "metadata": {},
   "outputs": [],
   "source": [
    "display_piezzo_stations(label)"
   ]
  },
  {
   "cell_type": "code",
   "execution_count": null,
   "id": "453c3442",
   "metadata": {},
   "outputs": [],
   "source": [
    "centroid.shape"
   ]
  },
  {
   "cell_type": "code",
   "execution_count": null,
   "id": "a6c8fd7d",
   "metadata": {},
   "outputs": [],
   "source": [
    "# plot the evolution over time of the first 10 stations\n",
    "fig, ax = plt.subplots(2, 1, figsize=(20, 8))\n",
    "ax[0].plot(centroid[:10].T)\n",
    "#ax[0].legend(title=\"Centroid station\", fontsize=\"small\")\n",
    "ax[0].set_title(\"Ground Water level evolution over time in the train dataset (0-9 centroid stations)\")\n",
    "ax[0].set_ylabel(\"level\")\n",
    "ax[0].set_yticks([i for i in range(6)], labels=[target_level[i] for i in range(6)])\n",
    "\n",
    "ax[1].plot(centroid[10:].T)\n",
    "ax[1].set_title(\"Ground Water level evolution over time in the train dataset (10-19 centroid stations)\")\n",
    "ax[1].set_ylabel(\"level\")\n",
    "ax[1].set_yticks([i for i in range(6)], labels=[target_level[i] for i in range(6)])\n",
    "plt.show()"
   ]
  },
  {
   "cell_type": "code",
   "execution_count": null,
   "id": "02d1e1fe",
   "metadata": {},
   "outputs": [],
   "source": [
    "#from sklearn.model_selection import TimeSeriesSplit\n",
    "#tss = TimeSeriesSplit(n_splits=5)  # Deflaut values are ok\n",
    "# for i, (train_index, test_index) in enumerate(tss.split(df_by_station)):"
   ]
  },
  {
   "attachments": {},
   "cell_type": "markdown",
   "id": "cf70965e",
   "metadata": {},
   "source": [
    "## Stations\n"
   ]
  },
  {
   "attachments": {},
   "cell_type": "markdown",
   "id": "77216e11",
   "metadata": {},
   "source": []
  },
  {
   "cell_type": "code",
   "execution_count": null,
   "id": "19b0ebb1",
   "metadata": {},
   "outputs": [],
   "source": [
    "X_train[[\"piezo_station_bss_id\",\"piezo_station_investigation_depth\"]].drop_duplicates()"
   ]
  },
  {
   "attachments": {},
   "cell_type": "markdown",
   "id": "3dd0a18a",
   "metadata": {},
   "source": [
    "## Feature creation:\n",
    "- past month precipitation `meteo_rain_heigh` + `meteo_snow_heigh` - `meteo_evatranspiration_grid` [mm/Day]\n",
    "- past year precitipitation\n",
    "- neighboring cities \n",
    "meteo_evapotranspiration_grid, meteo_radiation_UV, \n",
    "## Investigation\n",
    "- distance_piezo_meteo\n",
    "- distance_hydro_meteo"
   ]
  },
  {
   "cell_type": "code",
   "execution_count": null,
   "id": "4d5ccfed",
   "metadata": {},
   "outputs": [],
   "source": [
    "station_df = X_train[X_train[\"piezo_station_bss_id\"] == \"BSS000ACKJ\"][[\"piezo_measurement_date\", \"meteo_rain_height\", \"meteo_snow_height\" , \"meteo_evapotranspiration_grid\"]]\n",
    "station_df[\"piezo_measurement_date\"] =  pd.to_datetime(station_df[\"piezo_measurement_date\"])\n",
    "station_df = station_df.set_index(\"piezo_measurement_date\")\n",
    "station_df = station_df.fillna(0.0)\n",
    "# Calculate the rolling sum for the previous month (30 days)\n",
    "station_df['precipitation_30d_sum'] = station_df['meteo_rain_height'].rolling(window=30, min_periods=1).sum()\n",
    "station_df['snow_30d_sum'] = station_df['meteo_snow_height'].rolling(window=30, min_periods=1).sum()\n",
    "station_df['evapotranspiration_30d_sum'] = station_df['meteo_evapotranspiration_grid'].rolling(window=30, min_periods=1).sum()\n",
    "station_df[\"bilan_30d\"] = station_df[\"precipitation_30d_sum\"] + station_df[\"snow_30d_sum\"] - station_df[\"evapotranspiration_30d_sum\"]\n",
    "# Calculate the rolling sum for the previous month (90 days)\n",
    "station_df['precipitation_90d_sum'] = station_df['meteo_rain_height'].rolling(window=30, min_periods=1).sum()\n",
    "station_df['snow_90d_sum'] = station_df['meteo_snow_height'].rolling(window=90, min_periods=1).sum()\n",
    "station_df['evapotranspiration_90d_sum'] = station_df['meteo_evapotranspiration_grid'].rolling(window=90, min_periods=1).sum()\n",
    "# Calculate the rolling sum for the past year (365 days)\n",
    "station_df['precipitation_365d_sum'] = station_df['meteo_rain_height'].rolling(window=365, min_periods=1).sum()\n",
    "station_df['snow_365d_sum'] = station_df['meteo_snow_height'].rolling(window=365, min_periods=1).sum()\n",
    "station_df['evapotranspiration_365d_sum'] = station_df['meteo_evapotranspiration_grid'].rolling(window=365, min_periods=1).sum()\n",
    "station_df"
   ]
  },
  {
   "cell_type": "code",
   "execution_count": null,
   "id": "108cccd7",
   "metadata": {},
   "outputs": [],
   "source": [
    "# Display the evolution of bilans\n",
    "fig, ax = plt.subplots(4, 1, figsize=(20, 12), layout=\"constrained\")\n",
    "daily = [\"meteo_rain_height\", \"meteo_snow_height\", \"meteo_evapotranspiration_grid\"]\n",
    "monthly = ['precipitation_30d_sum', 'snow_30d_sum', 'evapotranspiration_30d_sum']\n",
    "trimester = ['precipitation_90d_sum', 'snow_90d_sum', 'evapotranspiration_90d_sum']\n",
    "yearly =  ['precipitation_365d_sum', 'snow_365d_sum', 'evapotranspiration_365d_sum']\n",
    "import matplotlib.dates as mdates\n",
    "line_width =1\n",
    "# Daily\n",
    "for var in daily:\n",
    "    ax[0].plot(station_df[var], label=var, linewidth=line_width)\n",
    "ax[0].legend()\n",
    "ax[0].set_title(\"Daily\")\n",
    "ax[0].set_ylabel(\"Precipitation [mm]\")\n",
    "# Set the major locator to month and formatter to month names\n",
    "ax[0].xaxis.set_major_locator(mdates.MonthLocator())\n",
    "ax[0].xaxis.set_major_formatter(mdates.DateFormatter('%b%y'))\n",
    "# Rotate the x-axis labels for better readability\n",
    "plt.setp(ax[0].xaxis.get_majorticklabels(), rotation=45, ha='right')\n",
    "\n",
    "# Montly\n",
    "for var in monthly:\n",
    "    ax[1].plot(station_df[var], label=var, linewidth=line_width)\n",
    "ax[1].legend()\n",
    "ax[1].set_title(\"Montly cumul\")\n",
    "ax[1].set_ylabel(\"Precipitation [mm]\")\n",
    "# Set the major locator to month and formatter to month names\n",
    "ax[1].xaxis.set_major_locator(mdates.MonthLocator())\n",
    "ax[1].xaxis.set_major_formatter(mdates.DateFormatter('%b%y'))\n",
    "# Rotate the x-axis labels for better readability\n",
    "plt.setp(ax[1].xaxis.get_majorticklabels(), rotation=45, ha='right')\n",
    "\n",
    "# Montly\n",
    "for var in trimester:\n",
    "    ax[2].plot(station_df[var], label=var, linewidth=line_width)\n",
    "ax[2].legend()\n",
    "ax[2].set_title(\"Trimester cumul\")\n",
    "ax[2].set_ylabel(\"Precipitation [mm]\")\n",
    "# Set the major locator to month and formatter to month names\n",
    "ax[2].xaxis.set_major_locator(mdates.MonthLocator())\n",
    "ax[2].xaxis.set_major_formatter(mdates.DateFormatter('%b%y'))\n",
    "# Rotate the x-axis labels for better readability\n",
    "plt.setp(ax[2].xaxis.get_majorticklabels(), rotation=45, ha='right')\n",
    "\n",
    "# Yearly\n",
    "for var in yearly:\n",
    "    ax[3].plot(station_df[var], label=var, linewidth=line_width)\n",
    "ax[3].legend()\n",
    "ax[3].set_title(\"Yearly cumul\")\n",
    "ax[3].set_ylabel(\"Precipitation [mm]\")\n",
    "# Set the major locator to month and formatter to month names\n",
    "ax[3].xaxis.set_major_locator(mdates.MonthLocator())\n",
    "ax[3].xaxis.set_major_formatter(mdates.DateFormatter('%b%y'))\n",
    "# Rotate the x-axis labels for better readability\n",
    "plt.setp(ax[3].xaxis.get_majorticklabels(), rotation=45, ha='right')\n",
    "plt.show()"
   ]
  },
  {
   "cell_type": "code",
   "execution_count": null,
   "id": "c1fa19dd",
   "metadata": {},
   "outputs": [],
   "source": [
    "def add_bilan_days(station_df:pd.DataFrame, days:list[int])->pd.DataFrame:\n",
    "    \"\"\"Create a new column with the rolling water-bilan over d days.\n",
    "    past d-days precipitation= `meteo_rain_heigh` + `meteo_snow_heigh` - `meteo_evatranspiration_grid` [mm/Day]\n",
    "    \"\"\"\n",
    "    station_df[\"piezo_measurement_date\"] =  pd.to_datetime(station_df[\"piezo_measurement_date\"])\n",
    "    station_df = station_df.set_index(\"piezo_measurement_date\")\n",
    "    station_df = station_df.fillna(0.0)\n",
    "    for d in days:\n",
    "        calc_df = pd.DataFrame(index=station_df.index)\n",
    "        # Calculate the rolling sum d days)\n",
    "        calc_df[f'precipitation_{d}d_sum'] = station_df['meteo_rain_height'].rolling(window=d, min_periods=1).sum()\n",
    "        calc_df[f'snow_{d}d_sum'] = station_df['meteo_snow_height'].rolling(window=d, min_periods=1).sum()\n",
    "        calc_df[f'evapotranspiration_{d}_sum'] = station_df['meteo_evapotranspiration_grid'].rolling(window=d, min_periods=1).sum()\n",
    "        station_df[f\"water_bilan_{d}d\"] = calc_df[f\"precipitation_{d}d_sum\"] + calc_df[f\"snow_{d}d_sum\"] - calc_df[f\"evapotranspiration_{d}_sum\"]\n",
    "    \n",
    "    return station_df"
   ]
  },
  {
   "cell_type": "code",
   "execution_count": null,
   "id": "651adb04",
   "metadata": {},
   "outputs": [],
   "source": [
    "station_df = X_train[X_train[\"piezo_station_bss_id\"] == \"BSS000ACKJ\"][[\"piezo_measurement_date\", \"meteo_rain_height\", \"meteo_snow_height\" , \"meteo_evapotranspiration_grid\", \"piezo_groundwater_level_category\"]]\n",
    "station_df[\"level\"] = station_df[\"piezo_groundwater_level_category\"].apply(lambda x : target_cat.get(x, 0))\n",
    "station_df = add_bilan_days(station_df, [2, 3, 7, 10, 30, 90])\n",
    "station_df"
   ]
  },
  {
   "cell_type": "code",
   "execution_count": null,
   "id": "0852205c",
   "metadata": {},
   "outputs": [],
   "source": [
    "# Plot the water level with the\n",
    "fig, ax = plt.subplots(figsize=(20, 6), layout='constrained')\n",
    "for var in station_df.columns:\n",
    "    if 'bilan' in var:\n",
    "        ax.plot(station_df.iloc[:800][var], label=var)\n",
    "ax.set_ylabel(\"Bilan of water variation\")\n",
    "twin_x = ax.twinx()\n",
    "twin_x.plot(station_df.iloc[:800][\"level\"], label=\"taget level\", c='b', linestyle=\"dashed\")\n",
    "twin_x.set_yticks([i for i in range(6)], labels=[target_level[i] for i in range(6)], c='b')\n",
    "ax.legend()\n",
    "twin_x.legend()\n",
    "twin_x.set_ylabel(\"Water ground target level\", c='b')\n",
    "ax.set_title(\"Correlation with the water ground level for station BSS000ACKJ\")\n",
    "plt.show()"
   ]
  },
  {
   "cell_type": "code",
   "execution_count": null,
   "id": "2358545b",
   "metadata": {},
   "outputs": [],
   "source": [
    "# Extract the time serie for each station\n",
    "sub_X_train = X_train\n",
    "station_df = pd.DataFrame()\n",
    "base_df = pd.DataFrame()\n",
    "for nb_stations, station_id in enumerate(sub_X_train[\"piezo_station_bss_id\"]):\n",
    "    base_df = sub_X_train[sub_X_train[\"piezo_station_bss_id\"] == station_id]\n",
    "    station_df = sub_X_train[sub_X_train[\"piezo_station_bss_id\"] == station_id][[\"piezo_measurement_date\", \"meteo_rain_height\", \"meteo_snow_height\" , \"meteo_evapotranspiration_grid\", \"piezo_groundwater_level_category\"]]\n",
    "\n",
    "    station_df[\"level\"] = station_df[\"piezo_groundwater_level_category\"].apply(lambda x : target_cat.get(x, 0))\n",
    "    station_df = add_bilan_days(station_df, [2, 3, 7, 10, 30, 90])\n",
    "    \n",
    "    # print(station_id)\n",
    "    if nb_stations > 1 : \n",
    "        break"
   ]
  },
  {
   "cell_type": "code",
   "execution_count": null,
   "id": "f6bd3d8d",
   "metadata": {},
   "outputs": [],
   "source": [
    "station_df"
   ]
  },
  {
   "cell_type": "code",
   "execution_count": null,
   "id": "15b0c9f2",
   "metadata": {},
   "outputs": [],
   "source": [
    "# Plot the water level with the water bilan\n",
    "fig, ax = plt.subplots(figsize=(20, 6), layout='constrained')\n",
    "for var in station_df.columns:\n",
    "    if 'bilan' in var:\n",
    "        ax.plot(station_df.iloc[:800][var], label=var)\n",
    "ax.set_ylabel(\"Bilan of water variation\")\n",
    "twin_x = ax.twinx()\n",
    "twin_x.plot(station_df.iloc[:800][\"level\"], label=\"taget level\", c='b', linestyle=\"dashed\")\n",
    "twin_x.set_yticks([i for i in range(6)], labels=[target_level[i] for i in range(6)], c='b')\n",
    "ax.legend()\n",
    "twin_x.legend()\n",
    "twin_x.set_ylabel(\"Water ground target level\", c='b')\n",
    "ax.set_title(f\"Correlation with the water ground level for station {station_id}\")\n",
    "plt.show()"
   ]
  },
  {
   "cell_type": "code",
   "execution_count": null,
   "id": "44ce78d2",
   "metadata": {},
   "outputs": [],
   "source": [
    "cols_names = X_train.columns\n",
    "print(\", \".join(name for name in cols_names if \"meteo\" in name))"
   ]
  },
  {
   "cell_type": "code",
   "execution_count": null,
   "id": "9f7bf1cd",
   "metadata": {},
   "outputs": [],
   "source": [
    "X_train[[\"distance_piezo_meteo\", \"distance_piezo_hydro\"]].mean()"
   ]
  },
  {
   "cell_type": "code",
   "execution_count": null,
   "id": "e3a6a495",
   "metadata": {},
   "outputs": [],
   "source": []
  }
 ],
 "metadata": {
  "kernelspec": {
   "display_name": "Python 3 (ipykernel)",
   "language": "python",
   "name": "python3"
  },
  "language_info": {
   "codemirror_mode": {
    "name": "ipython",
    "version": 3
   },
   "file_extension": ".py",
   "mimetype": "text/x-python",
   "name": "python",
   "nbconvert_exporter": "python",
   "pygments_lexer": "ipython3",
   "version": "3.10.13"
  }
 },
 "nbformat": 4,
 "nbformat_minor": 5
}
