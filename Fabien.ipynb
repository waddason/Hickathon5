{
 "cells": [
  {
   "cell_type": "code",
   "execution_count": null,
   "metadata": {},
   "outputs": [],
   "source": [
    "import numpy as np\n",
    "import pylab as pl\n",
    "import scipy as sp\n",
    "import matplotlib.pyplot as plt\n",
    "import pandas as pd"
   ]
  },
  {
   "cell_type": "code",
   "execution_count": null,
   "metadata": {},
   "outputs": [],
   "source": [
    "X_train = pd.read_csv('data/X_train_Hi5.csv')"
   ]
  },
  {
   "cell_type": "code",
   "execution_count": null,
   "metadata": {},
   "outputs": [],
   "source": [
    "X_test = pd.read_csv('data/X_test_Hi5.csv')"
   ]
  },
  {
   "cell_type": "code",
   "execution_count": null,
   "metadata": {},
   "outputs": [],
   "source": [
    "print(X_train.shape)\n",
    "print(X_test.shape)"
   ]
  },
  {
   "cell_type": "code",
   "execution_count": null,
   "metadata": {},
   "outputs": [],
   "source": [
    "X_train.head()   "
   ]
  },
  {
   "cell_type": "code",
   "execution_count": null,
   "metadata": {},
   "outputs": [],
   "source": [
    "X_test.head()"
   ]
  },
  {
   "cell_type": "code",
   "execution_count": null,
   "metadata": {},
   "outputs": [],
   "source": [
    "print(X_train.dtypes)"
   ]
  },
  {
   "cell_type": "code",
   "execution_count": null,
   "metadata": {},
   "outputs": [],
   "source": [
    "print(X_train.select_dtypes(include='object').nunique())"
   ]
  },
  {
   "cell_type": "code",
   "execution_count": null,
   "metadata": {},
   "outputs": [],
   "source": [
    "is_NaN = X_train.isna()\n",
    "print(is_NaN.sum())"
   ]
  },
  {
   "cell_type": "code",
   "execution_count": null,
   "metadata": {},
   "outputs": [],
   "source": [
    "y_train = X_train['piezo_groundwater_level_category']\n",
    "X_train = X_train.drop(['piezo_groundwater_level_category'], axis=1) "
   ]
  },
  {
   "cell_type": "code",
   "execution_count": null,
   "metadata": {},
   "outputs": [],
   "source": [
    "y_train.head()"
   ]
  },
  {
   "cell_type": "code",
   "execution_count": null,
   "metadata": {},
   "outputs": [],
   "source": [
    "y_train.nunique()"
   ]
  },
  {
   "cell_type": "code",
   "execution_count": null,
   "metadata": {},
   "outputs": [],
   "source": [
    "y_train.unique()"
   ]
  },
  {
   "cell_type": "code",
   "execution_count": null,
   "metadata": {},
   "outputs": [],
   "source": [
    "plt.hist(y_train)"
   ]
  },
  {
   "cell_type": "code",
   "execution_count": null,
   "metadata": {},
   "outputs": [],
   "source": [
    "from sklearn.model_selection import train_test_split\n",
    "X_train, X_val, y_train, y_val = train_test_split(X_train, y_train, test_size=0.2, random_state=42)"
   ]
  },
  {
   "cell_type": "code",
   "execution_count": null,
   "metadata": {},
   "outputs": [],
   "source": [
    "nan_columns = X_train.isna().sum()\n",
    "nan_columns = nan_columns[nan_columns > 0]\n",
    "nan_types = X_train[nan_columns.index].dtypes\n",
    "nan_summary = pd.DataFrame({\n",
    "    'Column': nan_columns.index,\n",
    "    'Number of NaN': nan_columns.values,\n",
    "    'Type': nan_types.values\n",
    "})\n",
    "nan_summary = nan_summary.sort_values(by='Number of NaN', ascending=False)\n",
    "print(nan_summary)"
   ]
  },
  {
   "cell_type": "markdown",
   "metadata": {},
   "source": [
    "Premières données d'ID des piezo stations"
   ]
  },
  {
   "cell_type": "code",
   "execution_count": null,
   "metadata": {},
   "outputs": [],
   "source": [
    "# Colonnes à analyser\n",
    "columns_to_check = [\n",
    "    'piezo_station_bdlisa_codes',  # Code de balise\n",
    "    'piezo_station_altitude', 'piezo_station_longitude',\n",
    "    'piezo_station_latitude', 'piezo_station_bss_code',\n",
    "    'piezo_station_bss_id', 'piezo_bss_code'\n",
    "]\n",
    "\n",
    "# Garder uniquement les colonnes pertinentes\n",
    "data_to_check = X_train[columns_to_check]\n",
    "\n",
    "# Calculer le nombre de valeurs uniques pour chaque colonne\n",
    "unique_counts = data_to_check[columns_to_check].nunique()\n",
    "\n",
    "# Trouver la colonne avec le plus grand nombre de valeurs uniques\n",
    "max_unique_col = unique_counts.idxmax()\n",
    "max_unique_value = unique_counts.max()\n",
    "\n",
    "print(f\"La colonne avec le plus de valeurs uniques est : {max_unique_col} avec {max_unique_value} valeurs uniques.\")\n",
    "\n"
   ]
  },
  {
   "cell_type": "code",
   "execution_count": null,
   "metadata": {},
   "outputs": [],
   "source": [
    "# Vérifier les valeurs manquantes pour les variables choisies\n",
    "nan_summary = data_to_check.isna().sum()\n",
    "\n",
    "# Afficher le résumé des NaN par variable\n",
    "nan_summary = nan_summary[nan_summary > 0]  # Ne garder que les colonnes ayant des NaN\n",
    "print(\"Résumé des valeurs manquantes (NaN) pour les variables sélectionnées :\")\n",
    "print(nan_summary)"
   ]
  },
  {
   "cell_type": "code",
   "execution_count": null,
   "metadata": {},
   "outputs": [],
   "source": [
    "# Vérifier si chaque 'piezo_station_bss_code' correspond à un unique 'piezo_station_bdlisa_codes'\n",
    "subset_data = data_to_check[['piezo_station_bss_code', 'piezo_station_bdlisa_codes']]\n",
    "\n",
    "# Supprimer les lignes avec des NaN dans les colonnes concernées\n",
    "subset_data = subset_data.dropna()\n",
    "\n",
    "# Grouper par 'piezo_station_bss_code' et compter les valeurs uniques dans 'piezo_station_bdlisa_codes'\n",
    "unique_mapping = subset_data.groupby('piezo_station_bss_code')['piezo_station_bdlisa_codes'].nunique()\n",
    "\n",
    "# Vérifier si chaque 'piezo_station_bss_code' correspond à un seul 'piezo_station_bdlisa_codes'\n",
    "ambiguous_codes = unique_mapping[unique_mapping > 1]\n",
    "\n",
    "if ambiguous_codes.empty:\n",
    "    print(\"Chaque 'piezo_station_bss_code' correspond à un unique 'piezo_station_bdlisa_codes'.\")\n",
    "else:\n",
    "    print(\"Certains 'piezo_station_bss_code' correspondent à plusieurs 'piezo_station_bdlisa_codes' :\")\n",
    "    print(ambiguous_codes)\n",
    "\n"
   ]
  },
  {
   "cell_type": "markdown",
   "metadata": {},
   "source": [
    "--> On utilise piezo_station_bss_code pour remplir les piezo_station_bdlisa_codes."
   ]
  },
  {
   "cell_type": "code",
   "execution_count": null,
   "metadata": {},
   "outputs": [],
   "source": []
  },
  {
   "cell_type": "markdown",
   "metadata": {},
   "source": [
    "On se focalise sur les aurtes données des piezo"
   ]
  },
  {
   "cell_type": "code",
   "execution_count": null,
   "metadata": {},
   "outputs": [],
   "source": [
    "# Liste des colonnes à analyser pour les NaN\n",
    "columns_to_check_nan = [\n",
    "    'piezo_measurement_date', \n",
    "    'piezo_obtention_mode', 'piezo_status', 'piezo_qualification', \n",
    "    'piezo_continuity_code', 'piezo_continuity_name', 'piezo_producer_code', \n",
    "    'piezo_producer_name', 'piezo_measure_nature_code', 'piezo_measure_nature_name'\n",
    "]\n",
    "\n",
    "# Calculer le nombre de NaN pour chaque colonne\n",
    "nan_summary = X_train[columns_to_check_nan].isna().sum()\n",
    "\n",
    "# Filtrer les colonnes qui contiennent des NaN\n",
    "nan_summary = nan_summary[nan_summary > 0]\n",
    "\n",
    "# Afficher le résultat\n",
    "print(\"Colonnes avec des valeurs manquantes (NaN) et leur nombre :\")\n",
    "print(nan_summary)\n"
   ]
  },
  {
   "cell_type": "markdown",
   "metadata": {},
   "source": [
    "pour piezo_measure_nature_code : je veux savoir s'il y a une corrélation avec la mesure précédemment réalisée ?"
   ]
  },
  {
   "cell_type": "code",
   "execution_count": null,
   "metadata": {},
   "outputs": [],
   "source": [
    "# Trier les données par 'piezo_station_bss_code' et 'piezo_measurement_date'\n",
    "if 'piezo_measurement_date' in X_train.columns and 'piezo_station_bss_code' in X_train.columns:\n",
    "    X_train_sorted = X_train.sort_values(by=['piezo_station_bss_code', 'piezo_measurement_date'])\n",
    "\n",
    "    # Décaler la colonne 'piezo_measure_nature_code' pour obtenir la valeur précédente par station\n",
    "    X_train_sorted['previous_measure_nature_code'] = X_train_sorted.groupby('piezo_station_bss_code')['piezo_measure_nature_code'].shift(1)\n",
    "\n",
    "    # Encodage des colonnes catégoriques si nécessaire\n",
    "    encoded_data = X_train_sorted[['piezo_measure_nature_code', 'previous_measure_nature_code']].apply(\n",
    "        lambda col: col.astype('category').cat.codes if col.dtype == 'object' else col\n",
    "    )\n",
    "\n",
    "    # Calculer la corrélation entre la mesure actuelle et la mesure précédente\n",
    "    correlation = encoded_data.corr().iloc[0, 1]\n",
    "    print(f\"Corrélation entre 'piezo_measure_nature_code' et la mesure précédente (par station) : {correlation:.2f}\")\n",
    "else:\n",
    "    print(\"Les colonnes 'piezo_measurement_date' et 'piezo_station_bss_code' sont requises pour effectuer ce tri.\")\n"
   ]
  },
  {
   "cell_type": "code",
   "execution_count": null,
   "metadata": {},
   "outputs": [],
   "source": [
    "# Identifier les stations où toutes les valeurs de 'piezo_measure_nature_code' sont NaN\n",
    "stations_with_all_nan = X_train.groupby('piezo_station_bss_code')['piezo_measure_nature_code'].apply(lambda x: x.isna().all())\n",
    "\n",
    "# Filtrer pour ne garder que les stations avec uniquement des NaN\n",
    "stations_with_all_nan = stations_with_all_nan[stations_with_all_nan]\n",
    "\n",
    "# Afficher les stations concernées\n",
    "print(f\"Nombre de stations avec uniquement des NaN dans 'piezo_measure_nature_code' : {len(stations_with_all_nan)}\")\n",
    "print(\"Liste des stations concernées :\")\n",
    "print(stations_with_all_nan.index.tolist())\n"
   ]
  },
  {
   "cell_type": "code",
   "execution_count": null,
   "metadata": {},
   "outputs": [],
   "source": [
    "# Identifier les stations avec des NaN partiels\n",
    "stations_with_some_nan = X_train.groupby('piezo_station_bss_code')['piezo_measure_nature_code'].apply(\n",
    "    lambda x: x.isna().any() and not x.isna().all()\n",
    ")\n",
    "\n",
    "# Filtrer pour ne garder que les stations correspondantes\n",
    "stations_with_some_nan = stations_with_some_nan[stations_with_some_nan]\n",
    "\n",
    "# Affichage des résultats\n",
    "print(f\"Nombre de stations avec des NaN mais pas uniquement des NaN : {len(stations_with_some_nan)}\")\n",
    "print(\"Liste des stations concernées :\")\n",
    "print(stations_with_some_nan.index.tolist())\n"
   ]
  },
  {
   "cell_type": "code",
   "execution_count": null,
   "metadata": {},
   "outputs": [],
   "source": [
    "# Trier les données par station et date\n",
    "X_train_sorted = X_train.sort_values(by=['piezo_station_bss_code', 'piezo_measurement_date']).reset_index(drop=True)\n",
    "\n",
    "# Calculer les distances entre les indices des valeurs non manquantes\n",
    "X_train_sorted['non_nan_index'] = X_train_sorted.groupby('piezo_station_bss_code')['piezo_measure_nature_code'].apply(\n",
    "    lambda x: x.notna().cumsum()\n",
    ").reset_index(drop=True)\n",
    "\n",
    "X_train_sorted['distance'] = X_train_sorted.groupby('piezo_station_bss_code')['non_nan_index'].diff()\n",
    "\n",
    "# Résumé des distances par station\n",
    "distance_summary = X_train_sorted.groupby('piezo_station_bss_code')['distance'].mean()\n",
    "\n",
    "# Afficher les résultats\n",
    "print(\"Résumé des distances moyennes entre les valeurs non manquantes pour chaque station :\")\n",
    "print(distance_summary)\n"
   ]
  }
 ],
 "metadata": {
  "kernelspec": {
   "display_name": "Python 3 (ipykernel)",
   "language": "python",
   "name": "python3"
  },
  "language_info": {
   "codemirror_mode": {
    "name": "ipython",
    "version": 3
   },
   "file_extension": ".py",
   "mimetype": "text/x-python",
   "name": "python",
   "nbconvert_exporter": "python",
   "pygments_lexer": "ipython3",
   "version": "3.10.13"
  }
 },
 "nbformat": 4,
 "nbformat_minor": 4
}
