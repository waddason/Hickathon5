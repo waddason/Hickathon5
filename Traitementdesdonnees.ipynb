{
 "cells": [
  {
   "cell_type": "markdown",
   "metadata": {},
   "source": [
    "# Traitement des données"
   ]
  },
  {
   "cell_type": "code",
   "execution_count": null,
   "metadata": {},
   "outputs": [],
   "source": [
    "import numpy as np\n",
    "import pylab as pl\n",
    "import scipy as sp\n",
    "import matplotlib.pyplot as plt\n",
    "import pandas as pd\n",
    "\n",
    "X_train = pd.read_csv('X_train_HI5.csv')\n",
    "X_test = pd.read_csv('X_test_HI5.csv')\n",
    "\n",
    "y_train = X_train['piezo_groundwater_level_category']\n",
    "X_train = X_train.drop(['piezo_groundwater_level_category'], axis=1) "
   ]
  },
  {
   "cell_type": "markdown",
   "metadata": {},
   "source": [
    "## I. Cohérence des types"
   ]
  },
  {
   "cell_type": "markdown",
   "metadata": {},
   "source": [
    "### 1.1 Piezo variables"
   ]
  },
  {
   "cell_type": "code",
   "execution_count": null,
   "metadata": {},
   "outputs": [],
   "source": [
    "# Filtrer les colonnes commençant par \"piezo\"\n",
    "piezo_columns = [col for col in X_train.columns if col.startswith('piezo')]\n",
    "\n",
    "# Vérifier les types des colonnes sélectionnées\n",
    "piezo_types = X_train[piezo_columns].dtypes\n",
    "\n",
    "# Afficher les résultats\n",
    "piezo_types\n"
   ]
  },
  {
   "cell_type": "markdown",
   "metadata": {},
   "source": [
    "**Dates (actuellement object) :**\n",
    "Les colonnes piezo_station_update_date et piezo_measurement_date sont des dates, mais elles sont au format object.\n",
    "Action : Convertir ces colonnes en type datetime."
   ]
  },
  {
   "cell_type": "code",
   "execution_count": null,
   "metadata": {},
   "outputs": [],
   "source": [
    "X_train['piezo_station_update_date'] = X_train['piezo_station_update_date'].str.replace(r'CEST', '', regex=True).str.strip()\n",
    "X_train['piezo_measurement_date'] = X_train['piezo_measurement_date'].str.replace(r'CEST', '', regex=True).str.strip()\n",
    "X_train['piezo_station_update_date'] = pd.to_datetime(X_train['piezo_station_update_date'], errors='coerce')\n",
    "X_train['piezo_measurement_date'] = pd.to_datetime(X_train['piezo_measurement_date'], errors='coerce')\n",
    "\n",
    "X_test['piezo_station_update_date'] = X_test['piezo_station_update_date'].str.replace(r'CEST', '', regex=True).str.strip()\n",
    "X_test['piezo_measurement_date'] = X_test['piezo_measurement_date'].str.replace(r'CEST', '', regex=True).str.strip()    \n",
    "X_test['piezo_station_update_date'] = pd.to_datetime(X_test['piezo_station_update_date'], errors='coerce')  \n",
    "X_test['piezo_measurement_date'] = pd.to_datetime(X_test['piezo_measurement_date'], errors='coerce')    \n"
   ]
  },
  {
   "cell_type": "markdown",
   "metadata": {},
   "source": [
    "**Codes et identifiants (actuellement object) :** \n",
    "\n",
    "Colonnes concernées :  \n",
    "\n",
    "piezo_station_department_code, piezo_station_bdlisa_codes, piezo_station_bss_code, piezo_station_bss_id, piezo_bss_code.  \n",
    "\n",
    "Ces colonnes contiennent des codes ou identifiants. Si elles ne sont pas utilisées comme valeurs numériques, elles peuvent rester au format object. Sinon, vérifier s'il est pertinent de les convertir en category pour économiser de la mémoire.  \n",
    "\n",
    "Action : Convertir en category si elles ne nécessitent pas d'opérations numériques."
   ]
  },
  {
   "cell_type": "code",
   "execution_count": null,
   "metadata": {},
   "outputs": [],
   "source": [
    "cols_to_category = [\n",
    "    'piezo_station_department_code', 'piezo_station_bdlisa_codes', \n",
    "    'piezo_station_bss_code', 'piezo_station_bss_id', 'piezo_bss_code'\n",
    "]\n",
    "X_train[cols_to_category] = X_train[cols_to_category].astype('category')\n",
    "X_test[cols_to_category] = X_test[cols_to_category].astype('category')\n",
    "\n"
   ]
  },
  {
   "cell_type": "markdown",
   "metadata": {},
   "source": [
    "**Catégories qualitatives (actuellement object) :**  \n",
    "\n",
    "Colonnes concernées :  \n",
    "\n",
    "piezo_station_department_name, piezo_station_commune_name, piezo_obtention_mode, piezo_status, piezo_qualification, piezo_continuity_name, piezo_producer_name, piezo_measure_nature_code, piezo_measure_nature_name.  \n",
    "\n",
    "Ces colonnes semblent représenter des catégories qualitatives (ex. : nom de département, nature de la mesure).  \n",
    "\n",
    "Action : Convertir en type category si elles sont destinées à être utilisées pour le regroupement, l'analyse ou la modélisation."
   ]
  },
  {
   "cell_type": "code",
   "execution_count": null,
   "metadata": {},
   "outputs": [],
   "source": [
    "qualitative_cols = [\n",
    "    'piezo_station_department_name', 'piezo_station_commune_name', \n",
    "    'piezo_obtention_mode', 'piezo_status', 'piezo_qualification', \n",
    "    'piezo_continuity_name', 'piezo_producer_name', \n",
    "    'piezo_measure_nature_code', 'piezo_measure_nature_name'\n",
    "]\n",
    "X_train[qualitative_cols] = X_train[qualitative_cols].astype('category')\n",
    "X_test[qualitative_cols] = X_test[qualitative_cols].astype('category')\n",
    "\n"
   ]
  },
  {
   "cell_type": "markdown",
   "metadata": {},
   "source": [
    "**Colonnes numériques (déjà float64)**\n",
    "\n",
    "Colonnes concernées :   \n",
    "\n",
    "piezo_station_investigation_depth, piezo_station_altitude, piezo_station_longitude, piezo_station_latitude, piezo_continuity_code, piezo_producer_code.   \n",
    "\n",
    "Ces colonnes semblent correctement typées. Vérifie cependant la présence d'erreurs ou de valeurs aberrantes (NaN, valeurs extrêmes).   \n",
    "\n",
    "Action : Analyser les valeurs aberrantes et les NaN pour décider d'un traitement adapté."
   ]
  },
  {
   "cell_type": "code",
   "execution_count": null,
   "metadata": {},
   "outputs": [],
   "source": [
    "print(X_train[['piezo_station_investigation_depth', 'piezo_station_altitude']].describe())\n"
   ]
  },
  {
   "cell_type": "markdown",
   "metadata": {},
   "source": [
    "### 1.2 Meteo variables"
   ]
  },
  {
   "cell_type": "code",
   "execution_count": null,
   "metadata": {},
   "outputs": [],
   "source": [
    "def print_full(x):\n",
    "    pd.set_option('display.max_rows', None)\n",
    "    pd.set_option('display.max_columns', None)\n",
    "    pd.set_option('display.width', 2000)\n",
    "    pd.set_option('display.float_format', '{:20,.4f}'.format)\n",
    "    pd.set_option('display.max_colwidth', None)\n",
    "    print(x)\n",
    "    pd.reset_option('display.max_rows')\n",
    "    pd.reset_option('display.max_columns')\n",
    "    pd.reset_option('display.width')\n",
    "    pd.reset_option('display.float_format')\n",
    "    pd.reset_option('display.max_colwidth')"
   ]
  },
  {
   "cell_type": "code",
   "execution_count": null,
   "metadata": {},
   "outputs": [],
   "source": [
    "# Filtrer les colonnes commençant par \"meteo_\"\n",
    "meteo_columns = [col for col in X_train.columns if col.startswith('meteo_')]\n",
    "\n",
    "# Vérifier les types des colonnes sélectionnées\n",
    "meteo_types = X_train[meteo_columns].dtypes\n",
    "\n",
    "# Calculer les statistiques descriptives pour les colonnes quantitatives\n",
    "print_full(meteo_types)\n",
    "\n"
   ]
  },
  {
   "cell_type": "markdown",
   "metadata": {},
   "source": [
    "**Dates (meteo_date)**\n",
    "\n",
    "Actuellement au format object, ce qui limite les manipulations.  \n",
    "\n",
    "Action : Convertir en type datetime pour permettre les analyses temporelles."
   ]
  },
  {
   "cell_type": "code",
   "execution_count": null,
   "metadata": {},
   "outputs": [],
   "source": [
    "X_train['meteo_date'] = pd.to_datetime(X_train['meteo_date'], errors='coerce')\n",
    "X_test['meteo_date'] = pd.to_datetime(X_test['meteo_date'], errors='coerce')\n",
    "\n"
   ]
  },
  {
   "cell_type": "markdown",
   "metadata": {},
   "source": [
    "**Identifiants et noms (meteo_id, meteo_name)**\n",
    "\n",
    "meteo_id (station ID) : Correctement typé en int64.  \n",
    "\n",
    "meteo_name (nom de la station) : Peut être converti en type category si utilisé pour le regroupement ou l'analyse.  \n",
    "\n",
    "Action : Convertir meteo_name en category."
   ]
  },
  {
   "cell_type": "code",
   "execution_count": null,
   "metadata": {},
   "outputs": [],
   "source": [
    "X_train['meteo_name'] = X_train['meteo_name'].astype('category')\n",
    "X_test['meteo_name'] = X_test['meteo_name'].astype('category')\n",
    "\n"
   ]
  },
  {
   "cell_type": "markdown",
   "metadata": {},
   "source": [
    "**3. Variables booléennes encodées en float64**\n",
    "\n",
    "Colonnes : meteo_if_snow, meteo_if_fog, meteo_if_thunderstorm, etc. \n",
    "\n",
    "Ces colonnes semblent représenter des indicateurs booléens (présence/absence). \n",
    "\n",
    "Action : Convertir en type bool."
   ]
  },
  {
   "cell_type": "code",
   "execution_count": null,
   "metadata": {},
   "outputs": [],
   "source": [
    "bool_columns = [\n",
    "    'meteo_if_snow', 'meteo_if_fog', 'meteo_if_thunderstorm', 'meteo_if_sleet', 'meteo_if_hail',\n",
    "    'meteo_if_dew', 'meteo_if_black_ice', 'meteo_if_snow_ground', 'meteo_if_frost', \n",
    "    'meteo_if_smoke', 'meteo_if_mist', 'meteo_if_lightning'\n",
    "]\n",
    "X_train[bool_columns] = X_train[bool_columns].astype('bool')\n",
    "X_test[bool_columns] = X_test[bool_columns].astype('bool')\n",
    "\n"
   ]
  },
  {
   "cell_type": "markdown",
   "metadata": {},
   "source": [
    "**Variables quantitatives (float64)**\n",
    "\n",
    "Les variables comme meteo_temperature_min, meteo_radiation, etc., sont correctement typées. \n",
    "\n",
    "Action : Vérifier les valeurs aberrantes et remplacer les NaN par des stratégies spécifiques (moyenne, interpolation, etc.)."
   ]
  },
  {
   "cell_type": "code",
   "execution_count": null,
   "metadata": {},
   "outputs": [],
   "source": [
    "# Identifier les colonnes quantitatives\n",
    "quantitative_vars = X_train[meteo_columns].select_dtypes(include=['float64', 'int64']).columns\n",
    "print(quantitative_vars)\n",
    "\n",
    "# Calculer les statistiques descriptives pour les colonnes quantitatives\n",
    "print_full(X_train[quantitative_vars].describe())\n"
   ]
  },
  {
   "cell_type": "markdown",
   "metadata": {},
   "source": [
    "### 1.3 Hydro variables"
   ]
  },
  {
   "cell_type": "code",
   "execution_count": null,
   "metadata": {},
   "outputs": [],
   "source": [
    "# Filtrer les colonnes commençant par \"hydro_\"\n",
    "hydro_columns = [col for col in X_train.columns if col.startswith('hydro_')]\n",
    "\n",
    "# Vérifier les types des colonnes sélectionnées\n",
    "hydro_types = X_train[hydro_columns].dtypes\n",
    "\n",
    "# Calculer les statistiques descriptives pour les colonnes quantitatives\n",
    "hydro_quantitative = X_train[hydro_columns].select_dtypes(include=['float64', 'int64']).describe()\n",
    "\n",
    "# Afficher les résultats des types et des statistiques\n",
    "print_full(hydro_types)\n"
   ]
  },
  {
   "cell_type": "markdown",
   "metadata": {},
   "source": [
    "**Colonnes qualitatives (object)**\n",
    "\n",
    "\n"
   ]
  },
  {
   "cell_type": "code",
   "execution_count": null,
   "metadata": {},
   "outputs": [],
   "source": [
    "X_train['hydro_station_code'] = X_train['hydro_station_code'].astype('category')\n",
    "X_test['hydro_station_code'] = X_test['hydro_station_code'].astype('category')\n",
    "qualitative_columns = ['hydro_status_label', 'hydro_method_label', 'hydro_qualification_label']\n",
    "X_train[qualitative_columns] = X_train[qualitative_columns].astype('category')\n",
    "X_test[qualitative_columns] = X_test[qualitative_columns].astype('category')\n",
    "\n"
   ]
  },
  {
   "cell_type": "code",
   "execution_count": null,
   "metadata": {},
   "outputs": [],
   "source": [
    "# Identifier les valeurs uniques et leur fréquence dans \"hydro_hydro_quantity_elab\"\n",
    "hydro_quantity_values = X_train['hydro_hydro_quantity_elab'].value_counts(dropna=False)\n",
    "\n",
    "# Vérifier les valeurs manquantes\n",
    "hydro_quantity_nan = X_train['hydro_hydro_quantity_elab'].isna().sum()\n",
    "\n",
    "# Afficher les résultats\n",
    "print(\"Fréquence des valeurs uniques :\")\n",
    "print(hydro_quantity_values)\n",
    "\n",
    "print(\"\\nNombre de valeurs manquantes :\")\n",
    "print(hydro_quantity_nan)\n"
   ]
  },
  {
   "cell_type": "code",
   "execution_count": null,
   "metadata": {},
   "outputs": [],
   "source": [
    "X_train['hydro_hydro_quantity_elab'] = X_train['hydro_hydro_quantity_elab'].astype('category')\n",
    "X_test['hydro_hydro_quantity_elab'] = X_test['hydro_hydro_quantity_elab'].astype('category')\n",
    "\n"
   ]
  },
  {
   "cell_type": "code",
   "execution_count": null,
   "metadata": {},
   "outputs": [],
   "source": [
    "# Analyse globale pour \"hydro_observation_result_elab\"\n",
    "global_stats = X_train['hydro_observation_result_elab'].describe()\n",
    "global_nan = X_train['hydro_observation_result_elab'].isna().sum()\n",
    "\n",
    "print(\"Analyse globale pour 'hydro_observation_result_elab':\")\n",
    "print(global_stats)\n",
    "print(f\"\\nNombre de valeurs manquantes : {global_nan}\")\n",
    "\n",
    "# Analyse par type de \"hydro_hydro_quantity_elab\" (QmJ et QmM)\n",
    "grouped_stats = X_train.groupby('hydro_hydro_quantity_elab')['hydro_observation_result_elab'].describe()\n",
    "grouped_nan = X_train.groupby('hydro_hydro_quantity_elab')['hydro_observation_result_elab'].apply(lambda x: x.isna().sum())\n",
    "\n",
    "print(\"\\nAnalyse par type de 'hydro_hydro_quantity_elab':\")\n",
    "print(grouped_stats)\n",
    "print(\"\\nNombre de valeurs manquantes par type de 'hydro_hydro_quantity_elab':\")\n",
    "print(grouped_nan)\n"
   ]
  },
  {
   "cell_type": "markdown",
   "metadata": {},
   "source": [
    "--> hydro_hydro_quantity_elab ne correspond qu'au mode de calcul et n'affecte pas l'échelle de donnée entre QmJ et QmM "
   ]
  },
  {
   "cell_type": "markdown",
   "metadata": {},
   "source": [
    "**Dates (object)**\n",
    "\n",
    "Description : Date de l’observation élaborée.\n",
    "\n",
    "Recommandation :\n",
    "Convertir en datetime pour permettre une analyse temporelle."
   ]
  },
  {
   "cell_type": "code",
   "execution_count": null,
   "metadata": {},
   "outputs": [],
   "source": [
    "X_train['hydro_observation_date_elab'] = pd.to_datetime(X_train['hydro_observation_date_elab'], errors='coerce')\n",
    "X_test['hydro_observation_date_elab'] = pd.to_datetime(X_test['hydro_observation_date_elab'], errors='coerce')\n"
   ]
  },
  {
   "cell_type": "markdown",
   "metadata": {},
   "source": [
    "**Colonnes numériques**"
   ]
  },
  {
   "cell_type": "code",
   "execution_count": null,
   "metadata": {},
   "outputs": [],
   "source": [
    "hydro_quantitative.describe()"
   ]
  },
  {
   "cell_type": "markdown",
   "metadata": {},
   "source": [
    "### 1.4 Prelev variables"
   ]
  },
  {
   "cell_type": "code",
   "execution_count": null,
   "metadata": {},
   "outputs": [],
   "source": [
    "# Filtrer les colonnes commençant par \"prelev_\"\n",
    "prelev_columns = [col for col in X_train.columns if col.startswith('prelev_')]\n",
    "\n",
    "# Vérifier les types des colonnes \"prelev_\"\n",
    "prelev_types = X_train[prelev_columns].dtypes\n",
    "\n",
    "# Afficher les résultats\n",
    "prelev_types\n"
   ]
  },
  {
   "cell_type": "markdown",
   "metadata": {},
   "source": [
    "**Colonnes qualitatives (object)**"
   ]
  },
  {
   "cell_type": "code",
   "execution_count": null,
   "metadata": {},
   "outputs": [],
   "source": [
    "# Identifier les colonnes descriptives (object) commençant par \"prelev_\"\n",
    "prelev_object_cols = X_train[[col for col in prelev_columns if X_train[col].dtype == 'object']]\n",
    "\n",
    "# Convertir les colonnes en type \"category\"\n",
    "X_train[prelev_object_cols.columns] = X_train[prelev_object_cols.columns].astype('category')\n",
    "X_test[prelev_object_cols.columns] = X_test[prelev_object_cols.columns].astype('category')\n",
    "\n"
   ]
  },
  {
   "cell_type": "markdown",
   "metadata": {},
   "source": [
    "**Variables quantitatives (float64)**\n"
   ]
  },
  {
   "cell_type": "code",
   "execution_count": null,
   "metadata": {},
   "outputs": [],
   "source": [
    "# Calculer les statistiques descriptives pour les colonnes quantitatives \"prelev_\"\n",
    "prelev_quantitative = X_train[prelev_columns].select_dtypes(include=['float64', 'int64']).describe()\n",
    "\n",
    "prelev_quantitative"
   ]
  },
  {
   "cell_type": "code",
   "execution_count": null,
   "metadata": {},
   "outputs": [],
   "source": [
    "# Identifier les colonnes contenant \"commune_code_insee\" dans \"prelev_\"\n",
    "insee_columns = [col for col in prelev_columns if 'commune_code_insee' in col]\n",
    "\n",
    "# Convertir les colonnes INSEE en type \"category\"\n",
    "X_train[insee_columns] = X_train[insee_columns].astype('category')\n",
    "X_test[insee_columns] = X_test[insee_columns].astype('category')\n",
    "\n",
    "\n",
    "# Vérifier le résultat de la conversion\n",
    "insee_converted_types = X_train[insee_columns].dtypes\n",
    "insee_converted_types\n"
   ]
  },
  {
   "cell_type": "markdown",
   "metadata": {},
   "source": [
    "### 1.5 INSEE variables"
   ]
  },
  {
   "cell_type": "code",
   "execution_count": null,
   "metadata": {},
   "outputs": [],
   "source": [
    "# Identifier les colonnes commençant par \"insee\"\n",
    "insee_columns = [col for col in X_train.columns if col.startswith('insee')]\n",
    "\n",
    "# Vérifier les types des colonnes \"insee\"\n",
    "insee_types = X_train[insee_columns].dtypes\n",
    "\n",
    "# Résultat des types avant et après conversion\n",
    "print_full(insee_types)\n"
   ]
  },
  {
   "cell_type": "code",
   "execution_count": null,
   "metadata": {},
   "outputs": [],
   "source": [
    "# Colonnes \"insee\" à convertir en type float\n",
    "insee_columns_to_convert = ['insee_%_agri', 'insee_med_living_level', 'insee_%_ind', 'insee_%_const']\n",
    "\n",
    "# Conversion en type float\n",
    "X_train[insee_columns_to_convert] = X_train[insee_columns_to_convert].apply(pd.to_numeric, errors='coerce')\n",
    "X_test[insee_columns_to_convert] = X_test[insee_columns_to_convert].apply(pd.to_numeric, errors='coerce')\n",
    "\n",
    "\n",
    "# Vérifier les types après conversion\n",
    "print(\"Types des colonnes après conversion en float :\")\n",
    "print(X_train[insee_columns_to_convert].dtypes)\n"
   ]
  },
  {
   "cell_type": "markdown",
   "metadata": {},
   "source": [
    "### 1.6 Distance variables"
   ]
  },
  {
   "cell_type": "code",
   "execution_count": null,
   "metadata": {},
   "outputs": [],
   "source": [
    "# Identifier les colonnes contenant \"distance_\"\n",
    "distance_columns = [col for col in X_train.columns if 'distance_' in col]\n",
    "\n",
    "# Vérifier les types des colonnes \"distance_\"\n",
    "distance_types = X_train[distance_columns].dtypes\n",
    "\n",
    "# Calculer les statistiques descriptives pour les colonnes \"distance_\"\n",
    "distance_stats = X_train[distance_columns].describe()\n",
    "\n",
    "# Afficher les résultats\n",
    "distance_types, distance_stats\n"
   ]
  },
  {
   "cell_type": "markdown",
   "metadata": {},
   "source": [
    "## II. Suppression de données récurentes / inutiles"
   ]
  },
  {
   "cell_type": "code",
   "execution_count": null,
   "metadata": {},
   "outputs": [],
   "source": [
    "print(X_train.shape)\n",
    "print(X_test.shape)"
   ]
  },
  {
   "cell_type": "markdown",
   "metadata": {},
   "source": [
    "#### 2.1 Analyse des variables : Piezo\n",
    "\n",
    "| **Num** | **Variable**                   | **Description**                                                               | **Décision**     | **Justification**                                                                                                                                   |\n",
    "|---------|---------------------------------|-------------------------------------------------------------------------------|-----------------|---------------------------------------------------------------------------------------------------------------------------------------------------|\n",
    "| 1       | piezo_station_department_code  | French department code.                                                      | À conserver     | Utile pour les analyses régionales et la mise en correspondance avec d'autres données géographiques.                                              |\n",
    "| 2       | piezo_station_update_date      | Date of the last station update.                                             | À Supprimer     |  pas d'utilité                                                          |\n",
    "| 3       | piezo_station_investigation_depth | Depth of the probe that measures the water table level.                      | À conserver     | Influence directe sur la profondeur de la nappe phréatique et ses variations.                                                                     |\n",
    "| 4       | piezo_station_department_name  | Name of the department where the watertable station is located.              | À supprimer      | Redondant avec `piezo_station_department_code`.                                                                                                    |\n",
    "| 5       | piezo_station_commune_code_insee | INSEE code of the city/municipality where the station is located.            | À conserver     | Référence clé pour les analyses géographiques.                                                                                                    |\n",
    "| 6       | piezo_station_pe_label         | Name of the piezometric table.                                               | À supprimer      | Non nécessaire pour la modélisation, utilisé comme identifiant textuel.                                                                           |\n",
    "| 7       | piezo_station_bdlisa_codes     | Hydrogeological entity codes (BDLISA).                                       | À conserver     | Critique pour lier les entités géologiques aux mesures des nappes phréatiques.                                                                    |\n",
    "| 8       | piezo_station_altitude         | NGF altitude of the ground level at the station.                             | À conserver     | Essentiel pour évaluer les variations des niveaux phréatiques en fonction de l'altitude.                                                          |\n",
    "| 9       | piezo_station_bss_code         | National station code(s) (old BSS codes).                                    | À supprimer      | Redondant avec `piezo_bss_code`.                                                                                                                  |\n",
    "| 10      | piezo_station_commune_name     | Name of the city/municipality where the station is located.                  | À supprimer      | Non nécessaire pour la modélisation.                                                                                                              |\n",
    "| 11      | piezo_station_longitude        | Longitude of the station.                                                    | À conserver     | Indispensable pour les analyses géospatiales.                                                                                                     |\n",
    "| 12      | piezo_station_latitude         | Latitude of the station.                                                     | À conserver     | Indispensable pour les analyses géospatiales.                                                                                                     |\n",
    "| 13      | piezo_station_bss_id           | National station code(s) (new BSS codes).                                    | À conserver     | Référence unique pour enrichir les données via des correspondances avec BDLISA.                                                                            |\n",
    "| 14      | piezo_bss_code                 | National station code(s) (old BSS codes).                                    | À supprimer    | Redondant                                                                   |\n",
    "| 15      | piezo_measurement_date         | Date of the measurement.                                                     | À conserver     | Essentiel pour analyser les tendances temporelles des niveaux phréatiques.                                                                        |\n",
    "| 16      | piezo_groundwater_level_category | Water table level.                                                           | À conserver     | Target de la modélisation.                                                                                                                        |\n",
    "| 17      | piezo_obtention_mode           | Method of obtaining the measurement.                                         | À conserver     | Permet de distinguer les valeurs mesurées des valeurs estimées ou corrigées.                                                                       |\n",
    "| 18      | piezo_status                   | Status of the measurement.                                                   | À conserver     | Indique la qualité et la validation des données.                                                                                                  |\n",
    "| 19      | piezo_qualification            | Qualification of the measurement.                                            | À conserver     | Critique pour évaluer la fiabilité des mesures.                                                                                                   |\n",
    "| 20      | piezo_continuity_code          | Code of the point/measurement's continuity.                                  | À supprimer      | Redondant avec `piezo_continuity_name`.                                                                                                           |\n",
    "| 21      | piezo_continuity_name          | Name of the point/measurement's continuity.                                  | À conserver     | Utile pour comprendre les chroniques des mesures phréatiques.                                                                                     |\n",
    "| 22      | piezo_producer_code            | Code of the producer of the data.                                            | À supprimer      | Peu pertinent pour le modèle.                                                                                                                     |\n",
    "| 23      | piezo_producer_name            | Name of the producer of the data.                                            | À supprimer      | Peu pertinent pour le modèle.                                                                                                                     |\n",
    "| 24      | piezo_measure_nature_code      | Code of nature of the measurement.                                           | À conserver     | Utile pour analyser les niveaux phréatiques influencés ou non par les activités humaines.                                                         |\n",
    "| 25      | piezo_measure_nature_name      | Nature of the measurement.                                                   | À conserver     | Complète `piezo_measure_nature_code` pour des analyses plus détaillées.                         |\n",
    "\n"
   ]
  },
  {
   "cell_type": "code",
   "execution_count": null,
   "metadata": {},
   "outputs": [],
   "source": [
    "piezo_columns_to_drop = [\n",
    "    \"piezo_station_department_name\", \"piezo_station_pe_label\", \n",
    "    \"piezo_station_bss_code\", \"piezo_station_commune_name\", \n",
    "    \"piezo_bss_code\", \"piezo_continuity_code\", \n",
    "    \"piezo_producer_code\", \"piezo_producer_name\", \"piezo_station_update_date\"\n",
    "]\n",
    "\n",
    "# Supprimer les colonnes inutiles\n",
    "X_train.drop(columns=piezo_columns_to_drop, inplace=True)\n",
    "X_test.drop(columns=piezo_columns_to_drop, inplace=True)\n",
    "\n",
    "# Vérification\n",
    "print(\"Colonnes supprimées :\", len(piezo_columns_to_drop))\n"
   ]
  },
  {
   "cell_type": "code",
   "execution_count": null,
   "metadata": {},
   "outputs": [],
   "source": [
    "print(X_train.shape)\n",
    "print(X_test.shape)"
   ]
  },
  {
   "cell_type": "markdown",
   "metadata": {},
   "source": [
    "#### 2.2 Analyse des variables : Meteo"
   ]
  },
  {
   "cell_type": "markdown",
   "metadata": {},
   "source": [
    "| **Num** | **Variable**                      | **Description**                                                                 | **Décision**     | **Justification**                                                                                                                                  |\n",
    "|---------|----------------------------------|-------------------------------------------------------------------------------|-----------------|--------------------------------------------------------------------------------------------------------------------------------------------------|\n",
    "| 1       | meteo_cloudiness_height         | Minimum height of the layer >300m with maximum cloudiness > 4/8               | À conserver     | Peut refléter une condition atmosphérique impactant les nappes phréatiques.                                                                      |\n",
    "| 2       | meteo_if_fog                   | Fog occurrence                                                                | À supprimer      | Faible lien direct avec le niveau de la nappe phréatique.                                                                                         |\n",
    "| 3       | meteo_if_mist                  | Haze occurrence                                                               | À supprimer      | Faible corrélation attendue avec la Target.                                                                                                       |\n",
    "| 4       | meteo_frost_duration           | Freezing duration                                                             | À conserver      | Influence potentielle sur l’infiltration de l’eau dans le sol.                                                                                   |\n",
    "| 5       | meteo_wetting_duration         | Wetting duration                                                              | À conserver      | Impact possible sur la recharge des nappes phréatiques.                                                                                          |\n",
    "| 6       | meteo_humidity_duration_below_40% | Humidity <= 40% duration                                                      | À conserver      | Peut influencer l’évaporation et l’infiltration des eaux.                                                                                         |\n",
    "| 7       | meteo_humidity_duration_above_80% | Humidity >= 80% duration                                                      | À conserver      | Impact potentiel sur la recharge des nappes.                                                                                                      |\n",
    "| 8       | meteo_radiation_direct         | Direct radiation level                                                        | À supprimer      | Influence indirecte et négligeable sur la Target.                                                                                                 |\n",
    "| 9       | meteo_wind_direction_max_inst  | Maximum instant wind direction                                                | À supprimer      | Peu de pertinence pour la prédiction du niveau de la nappe phréatique.                                                                            |\n",
    "| 10      | meteo_wind_direction_max_inst_2m | Maximum instant direction at 2 meters                                         | À supprimer      | Peu de pertinence pour la Target.                                                                                                                 |\n",
    "| 11      | meteo_wind_direction_max_avg   | Average maximum wind direction over 10 minutes                                | À supprimer      | Lien indirect, peut être négligeable pour la recharge des nappes.                                                                                 |\n",
    "| 12      | meteo_if_lightning             | Lightning occurrence                                                          | À supprimer      | Faible pertinence pour le modèle.                                                                                                                 |\n",
    "| 13      | meteo_evapotranspiration_grid  | Evapotranspiration potential calculated at the closest grid point             | À conserver      | Impact direct sur la recharge des nappes phréatiques.                                                                                             |\n",
    "| 14      | meteo_evapotranspiration_Monteith | Monteith evapotranspiration                                                   | À conserver      | Indicateur clé des pertes d’eau via l’évaporation et la transpiration.                                                                             |\n",
    "| 15      | meteo_wind_speed_avg_2m        | Average wind speed at 2 meters                                                | À supprimer      | Corrélation faible ou indirecte avec la Target.                                                                                                   |\n",
    "| 16      | meteo_wind_speed_avg_10m       | Average wind speed at 10 meters                                               | À supprimer      | Peu pertinent pour la prédiction.                                                                                                                 |\n",
    "| 17      | meteo_if_smoke                 | Occurrence of smoke                                                           | À supprimer      | Aucune pertinence directe pour le modèle.                                                                                                         |\n",
    "| 18      | meteo_wind_max                 | Maximum instant wind speed                                                    | À supprimer      | Peu d’impact sur la recharge des nappes phréatiques.                                                                                              |\n",
    "| 19      | meteo_wind_max_2m              | Maximum instant wind speed at 2 meters                                        | À supprimer      | Non pertinent pour la Target.                                                                                                                     |\n",
    "| 20      | meteo_wind_max_3s              | Maximum 3-second instant wind speed within an hour                            | À supprimer      | Faible pertinence pour la recharge des nappes.                                                                                                    |\n",
    "| 21      | meteo_wind_avg                 | Average maximum wind speed over 10 minutes                                    | À supprimer      | Corrélation indirecte et négligeable.                                                                                                             |\n",
    "| 22      | meteo_if_frost                 | Occurrence of frost                                                           | À conserver      | Impact potentiel sur l’infiltration de l’eau.                                                                                                     |\n",
    "| 23      | meteo_radiation                | Global radiation level                                                        | À supprimer      | Influence indirecte et négligeable.                                                                                                               |\n",
    "| 24      | meteo_if_hail                  | Occurrence of hail                                                            | À supprimer      | Non pertinent pour la prédiction de la Target.                                                                                                    |\n",
    "| 25      | meteo_if_sleet                 | Occurrence of sleet                                                           | À supprimer      | Aucune corrélation directe avec la recharge des nappes phréatiques.                                                                               |\n",
    "| 26      | meteo_snow_height              | Snowfall height over 24 hours                                                 | À conserver      | Peut contribuer à la recharge en eau via la fonte des neiges.                                                                                     |\n",
    "| 27      | meteo_time_tn                  | Time of minimum temperature in shelter                                        | À conserver      | Influence sur l’infiltration et l’évaporation.                                                                                                    |\n",
    "| 28      | meteo_time_tx                  | Time of maximum temperature in shelter                                        | À conserver      | Impact potentiel sur l’évaporation et la température du sol.                                                                                      |\n",
    "| 29      | meteo_time_humidity_min        | Time of minimum humidity                                                      | À supprimer      | Pertinence faible ou indirecte.                                                                                                                   |\n",
    "| 30      | meteo_time_humidity_max        | Time of maximum humidity                                                      | À supprimer      | Faible lien avec la recharge des nappes phréatiques.                                                                                              |\n",
    "| 31      | meteo_time_wind_max            | Time of maximum instant wind                                                  | À supprimer      | Non pertinent pour le modèle.                                                                                                                     |\n",
    "| 32      | meteo_time_wind_max_2m         | Time of maximum instantaneous wind at 2 meters                                | À supprimer      | Non pertinent pour la Target.                                                                                                                     |\n",
    "| 33      | meteo_time_wind_max_3s         | 3-second instantaneous wind maximum                                           | À supprimer      | Faible pertinence pour la recharge des nappes.                                                                                                    |\n",
    "| 34      | meteo_time_wind_avg            | Time of average maximum wind speed over 10 minutes                            | À supprimer      | Corrélation indirecte et faible.                                                                                                                  |\n",
    "| 35      | meteo_id                       | Weather station ID                                                            | À conserver      | Référence clé pour les données météorologiques.                                                                                                   |\n",
    "| 36      | meteo_radiation_IR             | Total hourly infrared radiation                                               | À supprimer      | Peu d’influence directe sur la Target.                                                                                                            |\n",
    "| 37      | meteo_sunshine_duration        | Sunshine duration                                                             | À conserver      | Impact potentiel sur l’évaporation et l’infiltration.                                                                                             |\n",
    "| 38      | meteo_cloudiness               | Maximum cloudiness above 4/8 of a layer below 300 m                           | À conserver      | Indicateur clé des conditions atmosphériques. \n",
    "| 39      | meteo_longitude                  | Weather station longitude                                                    | À conserver     | Utilisée pour les analyses géospatiales et pour la mise en correspondance des stations avec les données piezo.                                    |\n",
    "| 40      | meteo_latitude                   | Weather station latitude                                                     | À conserver     | Idem que `meteo_longitude`, essentielle pour l’analyse géospatiale.                                                                               |\n",
    "| 41      | meteo_cloudiness                 | Maximum cloudiness above 4/8 of a layer below 300 m                           | À conserver     | Indicateur clé des conditions météorologiques pouvant influencer les précipitations et la recharge des nappes.                                    |\n",
    "| 42      | meteo_if_snow                    | Occurrence of snow                                                           | À conserver     | Concerne les précipitations solides qui peuvent contribuer à la recharge après fonte.                                                             |\n",
    "| 43      | meteo_snow_thickness_6h          | Total snow depth recorded at 0600 UTC                                        | À conserver     | Permet une estimation des précipitations solides contribuant à la recharge des nappes phréatiques.                                                |\n",
    "| 44      | meteo_snow_thickness_max         | Maximum of hourly total snow depths                                          | À conserver     | Complète `meteo_snow_thickness_6h` pour analyser les précipitations solides.                                                                      |\n",
    "| 45      | meteo_name                       | Weather station name                                                        | À supprimer      | Utilisé uniquement comme identifiant textuel, pas pertinent pour le modèle de prédiction.                                                         |\n",
    "| 46      | meteo_if_thunderstorm            | Occurrence of storm                                                         | À supprimer      | Peu d’influence directe sur la recharge des nappes phréatiques.                                                                                   |\n",
    "| 47      | meteo_pressure_avg               | Average sea-level pressure                                                  | À conserver     | Peut influencer les conditions météorologiques locales, notamment les précipitations.                                                             |\n",
    "| 48      | meteo_pressure_max               | Minimum sea-level pressure                                                  | À conserver     | Indicateur complémentaire pour évaluer les conditions météorologiques, notamment les tempêtes ou dépressions.                                     |\n",
    "| 49      | meteo_if_dew                     | Occurrence of dew                                                           | À supprimer      | Corrélation faible avec la recharge des nappes phréatiques.                                                                                       |\n",
    "| 50      | meteo_rain_height                | Rain height                                                                 | À conserver     | Indicateur direct des précipitations contribuant à la recharge des nappes phréatiques.                                                            |\n",
    "| 51      | meteo_sunshine_%                 | Sunshine ratio                                                              | À conserver     | Influence potentielle sur l’évaporation et les conditions climatiques locales.                                                                    |\n",
    "| 52      | meteo_if_snow_ground             | Occurrence of snow-covered ground                                           | À conserver     | Pertinent pour analyser les périodes où l'eau peut être stockée sous forme solide avant infiltration.                                              |\n",
    "| 53      | meteo_amplitude_tn_tx            | Amplitude between min and max temperatures                                  | À conserver     | Permet d’estimer les variations thermiques pouvant influencer l’infiltration de l’eau.                                                             |\n",
    "| 54      | meteo_temperature_avg            | Average shelter temperature                                                 | À conserver     | Influence directe sur l’évaporation et les conditions d’infiltration.                                                                             |\n",
    "| 55      | meteo_temperature_avg_threshold  | Average shelter temperature from (min+max)/2                                | À conserver     | Indicateur complémentaire à `meteo_temperature_avg`.                                                                                              |\n",
    "| 56      | meteo_temperature_min            | Minimum shelter temperature                                                 | À conserver     | Pertinent pour analyser les impacts des basses températures sur l’infiltration ou le gel des sols.                                                |\n",
    "| 57      | meteo_temperature_min_50cm       | Minimum temperature at +50cm                                                | À supprimer      | Peu pertinent, déjà couvert par `meteo_temperature_min`.                                                                                           |\n",
    "| 58      | meteo_temperature_min_ground     | Minimum temperature at +10cm                                                | À conserver     | Pertinent pour estimer les impacts directs sur la surface du sol et l’infiltration.                                                               |\n",
    "| 59      | meteo_temperature_avg_tntm       | Average of min and max temperatures                                         | À supprimer      | Redondant avec `meteo_temperature_avg` et `meteo_temperature_avg_threshold`.                                                                       |\n",
    "| 60      | meteo__pressure_saturation_avg   | Average vapor tension                                                      | À supprimer      | Faible impact attendu sur la recharge des nappes phréatiques.                                                                                     |\n",
    "| 61      | meteo_humidity_avg               | Average relative humidity                                                  | À conserver     | Influence directe sur l’évaporation et les conditions météorologiques.                                                                            |\n",
    "| 62      | meteo_humidity_min               | Minimum relative humidity                                                  | À supprimer      | Peu pertinent, `meteo_humidity_avg` est suffisant.                                                                                                |\n",
    "| 63      | meteo_radiation_UV               | Ultraviolet radiation level                                                | À supprimer      | Peu pertinent pour l’influence sur la Target.                                                                                                     |\n",
    "| 64      | meteo_radiation_UV_max           | Maximum hourly UV index                                                    | À supprimer      | Peu pertinent pour le modèle.                                                                                                                     |\n",
    "| 65      | meteo_humidity_max               | Maximum relative humidity                                                  | À supprimer      | Redondant avec `meteo_humidity_avg`.                                                                                                              |\n",
    "| 66      | meteo_if_black_ice               | Occurrence of black ice                                                    | À supprimer      | Non pertinent pour la recharge des nappes phréatiques.                        \n"
   ]
  },
  {
   "cell_type": "markdown",
   "metadata": {},
   "source": [
    "**--> à décider ensemble !!!**"
   ]
  },
  {
   "cell_type": "code",
   "execution_count": null,
   "metadata": {},
   "outputs": [],
   "source": [
    "meteo_columns_to_drop = [\n",
    "    \"meteo_if_fog\", \"meteo_if_mist\", \"meteo_radiation_direct\", \n",
    "    \"meteo_wind_direction_max_inst\", \"meteo_wind_direction_max_inst_2m\", \n",
    "    \"meteo_wind_direction_max_avg\", \"meteo_if_lightning\", \n",
    "    \"meteo_wind_speed_avg_2m\", \"meteo_wind_speed_avg_10m\", \n",
    "    \"meteo_if_smoke\", \"meteo_wind_max\", \"meteo_wind_max_2m\", \n",
    "    \"meteo_wind_max_3s\", \"meteo_wind_avg\", \"meteo_radiation\", \n",
    "    \"meteo_if_hail\", \"meteo_if_sleet\", \"meteo_time_humidity_min\", \n",
    "    \"meteo_time_humidity_max\", \"meteo_time_wind_max\", \"meteo_time_wind_max_2m\", \n",
    "    \"meteo_time_wind_max_3s\", \"meteo_time_wind_avg\", \"meteo_radiation_IR\", \n",
    "    \"meteo_name\", \"meteo_if_thunderstorm\", \"meteo_if_dew\", \n",
    "    \"meteo_temperature_min_50cm\", \"meteo_temperature_avg_tntm\", \n",
    "    \"meteo__pressure_saturation_avg\", \"meteo_humidity_min\", \n",
    "    \"meteo_radiation_UV\", \"meteo_radiation_UV_max\", \"meteo_humidity_max\", \n",
    "    \"meteo_if_black_ice\"\n",
    "]\n",
    "\n",
    "# Supprimer les colonnes inutiles\n",
    "X_train.drop(columns=meteo_columns_to_drop, inplace=True)\n",
    "X_test.drop(columns=meteo_columns_to_drop, inplace=True)\n"
   ]
  },
  {
   "cell_type": "code",
   "execution_count": null,
   "metadata": {},
   "outputs": [],
   "source": [
    "print(X_train.shape)\n",
    "print(X_test.shape)"
   ]
  },
  {
   "cell_type": "markdown",
   "metadata": {},
   "source": [
    "#### 2.3 Analyse des variables : Hydro"
   ]
  },
  {
   "cell_type": "markdown",
   "metadata": {},
   "source": [
    "| **Variable**                     | **Description**                                                                                   | **Décision**             | **Justification**                                                                                                              |\n",
    "|----------------------------------|---------------------------------------------------------------------------------------------------|---------------------------|------------------------------------------------------------------------------------------------------------------------------|\n",
    "| `hydro_station_code`             | Hydrometric station code                                                                          | **Supprimer**            | Les identifiants spécifiques aux stations hydrologiques ne sont pas nécessaires pour la prédiction des niveaux piezométriques. |\n",
    "| `hydro_observation_date_elab`    | Hydrometric observation date                                                                      | **Conserver**            | Permet de synchroniser les données hydrologiques avec d'autres variables temporelles.                                         |\n",
    "| `hydro_observation_result_elab`  | Value of the hydrometric measurement (flow rate)                                                  | **Conserver**            | Variable quantitative clé pour estimer les apports hydriques contribuant à la recharge de la nappe phréatique.               |\n",
    "| `hydro_status_code`              | Code of the data's status                                                                         | **Supprimer**            | La qualité des données est déjà reflétée par d'autres indicateurs (ex. qualification).                                        |\n",
    "| `hydro_status_label`             | Label/Name of the data's status                                                                   | **Supprimer**            | Redondant avec `hydro_status_code`.                                                                                          |\n",
    "| `hydro_method_code`              | Code of the method for obtaining the hydro observation result                                     | **Supprimer**            | Peu pertinent pour l'analyse, les valeurs hydrométriques restent valides quelle que soit leur méthode d'obtention.           |\n",
    "| `hydro_method_label`             | Method for obtaining the hydro observation result                                                | **Supprimer**            | Redondant avec `hydro_method_code`.                                                                                          |\n",
    "| `hydro_qualification_code`       | Code of the quality of the measurement                                                           | **Supprimer**            | Peu utile si les données sont déjà filtrées ou nettoyées en amont.                                                           |\n",
    "| `hydro_qualification_label`      | Quality of the measurement produced                                                              | **Supprimer**            | Redondant avec `hydro_qualification_code`.                                                                                   |\n",
    "| `hydro_longitude`                | Longitude of the hydrometric station                                                             | **Supprimer**            | Les coordonnées géographiques des stations hydrométriques ne sont pas nécessaires, la position des stations piezo est suffisante. |\n",
    "| `hydro_latitude`                 | Latitude of the hydrometric station                                                              | **Supprimer**            | Idem.                                                                                                                        |\n",
    "| `hydro_hydro_quantity_elab`      | Type of hydrometric quantity developed (e.g., daily/monthly mean discharge)                      | **Conserver**            | Utile pour différencier les séries temporelles journalières et mensuelles et ajuster les modèles en conséquence.             |\n",
    "\n",
    "---\n"
   ]
  },
  {
   "cell_type": "markdown",
   "metadata": {},
   "source": [
    "**--> à décider ensemble !!!**"
   ]
  },
  {
   "cell_type": "code",
   "execution_count": null,
   "metadata": {},
   "outputs": [],
   "source": [
    "# Liste des colonnes inutiles\n",
    "hydro_columns_to_drop = [\n",
    "    'hydro_station_code', 'hydro_status_code', 'hydro_status_label',\n",
    "    'hydro_method_code', 'hydro_method_label', 'hydro_qualification_code',\n",
    "    'hydro_qualification_label', 'hydro_longitude', 'hydro_latitude'\n",
    "]\n",
    "\n",
    "# Suppression dans les datasets\n",
    "X_train = X_train.drop(columns=hydro_columns_to_drop, errors='ignore')\n",
    "X_test = X_test.drop(columns=hydro_columns_to_drop, errors='ignore')\n",
    "\n",
    "print(f\"Colonnes supprimées (Hydrologie) : {len(hydro_columns_to_drop)}\")"
   ]
  },
  {
   "cell_type": "code",
   "execution_count": null,
   "metadata": {},
   "outputs": [],
   "source": [
    "print(X_train.shape)\n",
    "print(X_test.shape)"
   ]
  },
  {
   "cell_type": "markdown",
   "metadata": {},
   "source": [
    "#### 2.4 Analyse des variables : Prelev"
   ]
  },
  {
   "cell_type": "markdown",
   "metadata": {},
   "source": []
  },
  {
   "cell_type": "markdown",
   "metadata": {},
   "source": [
    "| **Variable**                             | **Description**                                                                                      | **Décision**             | **Justification**                                                                                                                                                            |\n",
    "|------------------------------------------|------------------------------------------------------------------------------------------------------|---------------------------|----------------------------------------------------------------------------------------------------------------------------------------------------------------------------|\n",
    "| `prelev_structure_code_0`                | ID of the water withdrawal facility                                                                  | **Supprimer**            | Non pertinent pour la prédiction des niveaux piezométriques, car ces identifiants ne contribuent pas directement à l’analyse des variables hydrologiques globales.         |\n",
    "| `prelev_volume_0`                        | Maximum water withdrawal volume (largest annual withdrawal)                                          | **Conserver**            | Variable clé pour estimer l’impact des prélèvements sur les niveaux piezométriques.                                                                                        |\n",
    "| `prelev_usage_label_0`                   | Goal/usage of the withdrawal                                                                         | **Conserver**            | Permet d’expliquer la répartition des prélèvements selon les usages (eau potable, énergie, irrigation, etc.).                                                              |\n",
    "| `prelev_volume_obtention_mode_label_0`   | Type of measurement                                                                                 | **Supprimer**            | Peu pertinent pour l’analyse, car la précision du mode d’obtention n’influence pas directement les résultats piezométriques.                                               |\n",
    "| `prelev_longitude_0`                     | Longitude of the water withdrawal facility                                                          | **Supprimer**            | Déjà supprimée dans les étapes précédentes au profit des coordonnées des stations piezométriques.                                                                           |\n",
    "| `prelev_latitude_0`                      | Latitude of the water withdrawal facility                                                           | **Supprimer**            | Idem.                                                                                                                                                                       |\n",
    "| `prelev_commune_code_insee_0`            | City/municipality code where the withdrawal was made                                                | **Supprimer**            | Déjà remplacée par `piezo_station_commune_code_insee` comme référence unique.                                                                                               |\n",
    "| `prelev_structure_code_1`                | ID of the water withdrawal facility                                                                  | **Supprimer**            | Idem que pour `prelev_structure_code_0`.                                                                                                                                   |\n",
    "| `prelev_volume_1`                        | Maximum water withdrawal volume (second-largest annual withdrawal)                                  | **Conserver**            | Variable importante pour évaluer l’impact cumulé des prélèvements sur les niveaux piezométriques.                                                                          |\n",
    "| `prelev_usage_label_1`                   | Goal/usage of the withdrawal                                                                         | **Conserver**            | Idem que pour `prelev_usage_label_0`.                                                                                                                                      |\n",
    "| `prelev_volume_obtention_mode_label_1`   | Type of measurement                                                                                 | **Supprimer**            | Idem que pour `prelev_volume_obtention_mode_label_0`.                                                                                                                      |\n",
    "| `prelev_longitude_1`                     | Longitude of the water withdrawal facility                                                          | **Supprimer**            | Idem que pour `prelev_longitude_0`.                                                                                                                                        |\n",
    "| `prelev_latitude_1`                      | Latitude of the water withdrawal facility                                                           | **Supprimer**            | Idem que pour `prelev_latitude_0`.                                                                                                                                         |\n",
    "| `prelev_commune_code_insee_1`            | City/municipality code where the withdrawal was made                                                | **Supprimer**            | Idem que pour `prelev_commune_code_insee_0`.                                                                                                                               |\n",
    "| `prelev_structure_code_2`                | ID of the water withdrawal facility                                                                  | **Supprimer**            | Idem que pour `prelev_structure_code_0`.                                                                                                                                   |\n",
    "| `prelev_volume_2`                        | Maximum water withdrawal volume (third-largest annual withdrawal)                                   | **Conserver**            | Idem que pour `prelev_volume_0`.                                                                                                                                          |\n",
    "| `prelev_usage_label_2`                   | Goal/usage of the withdrawal                                                                         | **Conserver**            | Idem que pour `prelev_usage_label_0`.                                                                                                                                      |\n",
    "| `prelev_volume_obtention_mode_label_2`   | Type of measurement                                                                                 | **Supprimer**            | Idem que pour `prelev_volume_obtention_mode_label_0`.                                                                                                                      |\n",
    "| `prelev_longitude_2`                     | Longitude of the water withdrawal facility                                                          | **Supprimer**            | Idem que pour `prelev_longitude_0`.                                                                                                                                        |\n",
    "| `prelev_latitude_2`                      | Latitude of the water withdrawal facility                                                           | **Supprimer**            | Idem que pour `prelev_latitude_0`.                                                                                                                                         |\n",
    "| `prelev_commune_code_insee_2`            | City/municipality code where the withdrawal was made                                                | **Supprimer**            | Idem que pour `prelev_commune_code_insee_0`.                                                                                                                               |\n",
    "| `prelev_other_volume_sum`                | Sum of other water withdrawals                                                                      | **Conserver**            | Permet de capturer l’impact global des prélèvements en dehors des trois principaux prélèvements identifiés individuellement.                                               |\n",
    "\n",
    "---"
   ]
  },
  {
   "cell_type": "code",
   "execution_count": null,
   "metadata": {},
   "outputs": [],
   "source": [
    "# Liste des colonnes inutiles\n",
    "prelev_columns_to_drop = [\n",
    "    'prelev_structure_code_0', 'prelev_volume_obtention_mode_label_0', 'prelev_longitude_0', 'prelev_latitude_0', 'prelev_commune_code_insee_0',\n",
    "    'prelev_structure_code_1', 'prelev_volume_obtention_mode_label_1', 'prelev_longitude_1', 'prelev_latitude_1', 'prelev_commune_code_insee_1',\n",
    "    'prelev_structure_code_2', 'prelev_volume_obtention_mode_label_2', 'prelev_longitude_2', 'prelev_latitude_2', 'prelev_commune_code_insee_2'\n",
    "]\n",
    "\n",
    "# Suppression dans les datasets\n",
    "X_train = X_train.drop(columns=prelev_columns_to_drop, errors='ignore')\n",
    "X_test = X_test.drop(columns=prelev_columns_to_drop, errors='ignore')\n",
    "\n",
    "print(f\"Colonnes supprimées (Prélèvement) : {len(prelev_columns_to_drop)}\")"
   ]
  },
  {
   "cell_type": "code",
   "execution_count": null,
   "metadata": {},
   "outputs": [],
   "source": [
    "print(X_train.shape)\n",
    "print(X_test.shape)"
   ]
  },
  {
   "cell_type": "markdown",
   "metadata": {},
   "source": [
    "#### 2.5 Analyse des variables : INSEE"
   ]
  },
  {
   "cell_type": "markdown",
   "metadata": {},
   "source": [
    "\n",
    "| **Variable**              | **Description**                                           | **Décision**  | **Justification**                                                                                           |\n",
    "|---------------------------|-----------------------------------------------------------|---------------|-------------------------------------------------------------------------------------------------------------|\n",
    "| `insee_%_agri`            | Percentage of the working population in agriculture       | **Conserver** | Donnée pertinente pour évaluer l’impact des activités agricoles sur les prélèvements d’eau et les niveaux piezométriques. |\n",
    "| `insee_pop_commune`       | Number of inhabitants of the municipality                 | **Conserver** | Variable clé pour estimer la demande en eau, qui peut influencer les prélèvements et les niveaux piezométriques. |\n",
    "| `insee_med_standard_living` | Median standard of living                                | **Conserver** | Peut refléter indirectement le développement économique et les pressions sur les ressources en eau.         |\n",
    "| `insee%ind`               | Percentage of the working population in the industry sector | **Conserver** | Reflète l’impact potentiel des activités industrielles sur la consommation et les prélèvements d’eau.       |\n",
    "| `insee_%_const`           | Percentage of the working population in the construction sector | **Conserver** | Peut refléter les impacts liés aux besoins en eau pour les projets de construction, notamment pour l’irrigation ou le refroidissement. |\n",
    "\n",
    "---\n"
   ]
  },
  {
   "cell_type": "markdown",
   "metadata": {},
   "source": [
    "#### 2.6 Analyse des variables : Distance"
   ]
  },
  {
   "cell_type": "markdown",
   "metadata": {},
   "source": [
    "| **Variable**             | **Description**                                      | **Décision**  | **Justification**                                                                                     |\n",
    "|--------------------------|------------------------------------------------------|---------------|-------------------------------------------------------------------------------------------------------|\n",
    "| `distance_piezo_meteo`   | Distance between the piezometric and weather station | **Conserver** | Permet de mesurer l’influence potentielle des données météorologiques sur les observations piezométriques. |\n",
    "| `distance_hydro_meteo`   | Distance between the piezometric and hydrological station | **Conserver** | Peut aider à évaluer la cohérence spatiale des données hydrologiques par rapport aux stations piezométriques. |\n",
    "\n",
    "---\n",
    "\n"
   ]
  },
  {
   "cell_type": "code",
   "execution_count": null,
   "metadata": {},
   "outputs": [],
   "source": [
    "print(X_train.shape)\n",
    "print(X_test.shape)"
   ]
  },
  {
   "cell_type": "code",
   "execution_count": null,
   "metadata": {},
   "outputs": [],
   "source": [
    "variables_utiles = np.array(X_train.columns)\n",
    "print(variables_utiles)"
   ]
  },
  {
   "cell_type": "markdown",
   "metadata": {},
   "source": [
    "#### --> 68 Variables à conserver\n",
    "\n",
    "['row_index' 'piezo_station_department_code' 'piezo_station_update_date'\n",
    " 'piezo_station_investigation_depth' 'piezo_station_commune_code_insee'\n",
    " 'piezo_station_pe_label' 'piezo_station_bdlisa_codes'\n",
    " 'piezo_station_altitude' 'piezo_station_bss_code'\n",
    " 'piezo_station_longitude' 'piezo_station_latitude' 'piezo_bss_code'\n",
    " 'piezo_measurement_date' 'piezo_obtention_mode' 'piezo_status'\n",
    " 'piezo_qualification' 'piezo_continuity_code' 'piezo_continuity_name'\n",
    " 'piezo_producer_code' 'piezo_producer_name' 'piezo_measure_nature_code'\n",
    " 'piezo_measure_nature_name' 'meteo_id' 'meteo_name' 'meteo_latitude'\n",
    " 'meteo_longitude' 'meteo_altitude' 'meteo_date' 'meteo_rain_height'\n",
    " 'meteo_DRR' 'meteo_temperature_min' 'meteo_temperature_max'\n",
    " 'meteo_temperature_avg' 'meteo_temperature_avg_threshold'\n",
    " 'meteo_temperature_min_ground' 'meteo_temperature_min_50cm'\n",
    " 'meteo_frost_duration' 'meteo_amplitude_tn_tx'\n",
    " 'meteo_temperature_avg_tntm' 'meteo_pression_maxi' 'meteo_time_wind_avg'\n",
    " 'meteo_humidity_min' 'meteo_humidity_max'\n",
    " 'meteo_humidity_duration_below_40%' 'meteo_humidity_duration_above_80%'\n",
    " 'meteo__pressure_saturation_avg' 'meteo_wetting_duration'\n",
    " 'meteo_humidity_avg' 'meteo_sunshine_%' 'meteo_radiation_UV_max'\n",
    " 'meteo_cloudiness_height' 'meteo_if_snow' 'meteo_if_dew'\n",
    " 'meteo_if_black_ice' 'meteo_if_snow_ground' 'meteo_if_frost'\n",
    " 'meteo_if_smoke' 'meteo_evapotranspiration_Monteith'\n",
    " 'meteo_evapotranspiration_grid' 'meteo_radiation_UV' 'meteo_snow_height'\n",
    " 'meteo_snow_thickness_max' 'meteo_snow_thickness_6h'\n",
    " 'distance_piezo_meteo' 'hydro_observation_date_elab'\n",
    " 'hydro_observation_result_elab' 'hydro_hydro_quantity_elab'\n",
    " 'distance_piezo_hydro' 'prelev_volume_0' 'prelev_usage_label_0'\n",
    " 'prelev_volume_1' 'prelev_usage_label_1' 'prelev_volume_2'\n",
    " 'prelev_usage_label_2' 'prelev_other_volume_sum' 'insee_%_agri'\n",
    " 'insee_pop_commune' 'insee_med_living_level' 'insee_%_ind'\n",
    " 'insee_%_const']"
   ]
  },
  {
   "cell_type": "markdown",
   "metadata": {},
   "source": [
    "## III. Traitement des NaN"
   ]
  },
  {
   "cell_type": "markdown",
   "metadata": {},
   "source": [
    "### 3.1 Analyse"
   ]
  },
  {
   "cell_type": "code",
   "execution_count": null,
   "metadata": {},
   "outputs": [],
   "source": [
    "# Redéfinir les étapes pour afficher les colonnes avec des NaN\n",
    "\n",
    "# Vérifier les NaN dans X_train\n",
    "nan_counts_train = X_train.isna().sum()\n",
    "nan_counts_train = nan_counts_train[nan_counts_train > 0].sort_values(ascending=False)\n",
    "\n",
    "# Vérifier les NaN dans X_test\n",
    "nan_counts_test = X_test.isna().sum()\n",
    "nan_counts_test = nan_counts_test[nan_counts_test > 0].sort_values(ascending=False)\n",
    "\n",
    "\n",
    "train_nan_df = pd.DataFrame({'Column': nan_counts_train.index, 'Number of NaN': nan_counts_train.values})\n",
    "test_nan_df = pd.DataFrame({'Column': nan_counts_test.index, 'Number of NaN': nan_counts_test.values})\n",
    "\n",
    "train_nan_df, test_nan_df\n"
   ]
  },
  {
   "cell_type": "code",
   "execution_count": null,
   "metadata": {},
   "outputs": [],
   "source": [
    "# Vérifier les NaN dans X_train\n",
    "nan_counts_train = X_train.isna().sum()\n",
    "nan_counts_train = nan_counts_train[nan_counts_train > 0].sort_values(ascending=False)\n",
    "\n",
    "# Vérifier les NaN dans X_test\n",
    "nan_counts_test = X_test.isna().sum()\n",
    "nan_counts_test = nan_counts_test[nan_counts_test > 0].sort_values(ascending=False)\n",
    "\n",
    "# Afficher les résultats pour X_train\n",
    "print(\"Variables avec des NaN dans X_train :\")\n",
    "print(nan_counts_train)\n",
    "print(nan_counts_train.shape)\n",
    "\n",
    "# Afficher les résultats pour X_test\n",
    "print(\"\\nVariables avec des NaN dans X_test :\")\n",
    "print(nan_counts_test)\n",
    "print(nan_counts_test.shape)\n"
   ]
  },
  {
   "cell_type": "code",
   "execution_count": null,
   "metadata": {},
   "outputs": [],
   "source": [
    "# Identifier les colonnes avec des NaN dans X_test mais pas dans X_train\n",
    "nan_in_test_not_in_train = set(nan_counts_test.index) - set(nan_counts_train.index)\n",
    "\n",
    "# Afficher les résultats\n",
    "print(\"Variables avec des NaN uniquement dans X_test et pas dans X_train :\")\n",
    "print(nan_in_test_not_in_train)\n"
   ]
  },
  {
   "cell_type": "markdown",
   "metadata": {},
   "source": [
    "### 3.2 Suppressions des plus de 70% de NaN"
   ]
  },
  {
   "cell_type": "code",
   "execution_count": null,
   "metadata": {},
   "outputs": [],
   "source": [
    "# Définir le seuil de 70% de NaN\n",
    "threshold = 0.7\n",
    "\n",
    "# Identifier les colonnes avec plus de 70% de NaN dans X_train\n",
    "columns_to_drop = X_train.columns[X_train.isna().mean() > threshold]\n",
    "\n",
    "# Vérifier si ces colonnes existent également dans X_test\n",
    "columns_to_drop_test = X_test.columns.intersection(columns_to_drop)\n",
    "\n",
    "# Supprimer les colonnes dans X_train et X_test\n",
    "X_train.drop(columns=columns_to_drop, inplace=True)\n",
    "X_test.drop(columns=columns_to_drop_test, inplace=True)\n",
    "\n",
    "# Vérification après suppression\n",
    "print(f\"Colonnes supprimées : {list(columns_to_drop)}\")\n",
    "print(f\"Taille X_train : {X_train.shape}\")\n",
    "print(f\"Taille X_test : {X_test.shape}\")\n"
   ]
  },
  {
   "cell_type": "code",
   "execution_count": null,
   "metadata": {},
   "outputs": [],
   "source": [
    "# Vérifier les NaN dans X_train\n",
    "nan_counts_train = X_train.isna().sum()\n",
    "nan_counts_train = nan_counts_train[nan_counts_train > 0].sort_values(ascending=False)\n",
    "\n",
    "# Vérifier les NaN dans X_test\n",
    "nan_counts_test = X_test.isna().sum()\n",
    "nan_counts_test = nan_counts_test[nan_counts_test > 0].sort_values(ascending=False)\n",
    "\n",
    "# Afficher les résultats pour X_train\n",
    "print(\"Variables avec des NaN dans X_train :\")\n",
    "print(nan_counts_train)\n",
    "print(nan_counts_train.shape)\n",
    "\n",
    "# Afficher les résultats pour X_test\n",
    "print(\"\\nVariables avec des NaN dans X_test :\")\n",
    "print(nan_counts_test)\n",
    "print(nan_counts_test.shape)"
   ]
  },
  {
   "cell_type": "markdown",
   "metadata": {},
   "source": [
    "### 3.3 Par type de Variable\n",
    "\n",
    "#### 3.3.1 Piezo"
   ]
  },
  {
   "cell_type": "code",
   "execution_count": null,
   "metadata": {},
   "outputs": [],
   "source": [
    "# Identifier les colonnes piezo ayant des NaN\n",
    "piezo_columns = [col for col in X_train.columns if col.startswith('piezo')]\n",
    "piezo_nan_counts = X_train[piezo_columns].isna().sum().sort_values(ascending=False)\n",
    "\n",
    "# Affichage des variables piezo avec des NaN\n",
    "print(\"Variables 'piezo' avec des NaN :\")\n",
    "print(piezo_nan_counts[piezo_nan_counts > 0])\n"
   ]
  },
  {
   "cell_type": "markdown",
   "metadata": {},
   "source": [
    "piezo_measure_nature_code            112386   \n",
    "piezo_measure_nature_name            112386   \n",
    "\n",
    "--> on mets les valeurs décrites dans le fichier en cas de donnée manquante (0 et unknown)"
   ]
  },
  {
   "cell_type": "code",
   "execution_count": null,
   "metadata": {},
   "outputs": [],
   "source": [
    "# Imputation des valeurs manquantes pour piezo_measure_nature_code\n",
    "X_train['piezo_measure_nature_code'].fillna(\"0\", inplace=True)\n",
    "X_test['piezo_measure_nature_code'].fillna(\"0\", inplace=True)\n",
    "\"\"\n",
    "# Imputation des valeurs manquantes pour piezo_measure_nature_name\n",
    "X_train['piezo_measure_nature_name'].fillna('Inconnue', inplace=True)\n",
    "X_test['piezo_measure_nature_name'].fillna('Inconnue', inplace=True)\n"
   ]
  },
  {
   "cell_type": "code",
   "execution_count": null,
   "metadata": {},
   "outputs": [],
   "source": [
    "X_train['piezo_station_bdlisa_codes'].value_counts(dropna=False)"
   ]
  },
  {
   "cell_type": "code",
   "execution_count": null,
   "metadata": {},
   "outputs": [],
   "source": [
    "X_train['piezo_station_bdlisa_codes'].dtype"
   ]
  },
  {
   "cell_type": "code",
   "execution_count": null,
   "metadata": {},
   "outputs": [],
   "source": [
    "# Remplacer les NaN dans 'piezo_station_bdlisa_codes' par \"Inconnus\"\n",
    "X_train['piezo_station_bdlisa_codes'] = X_train['piezo_station_bdlisa_codes'].cat.add_categories(\"Inconnus\")\n",
    "X_train['piezo_station_bdlisa_codes'].fillna(\"Inconnus\", inplace=True)\n",
    "\n",
    "X_test['piezo_station_bdlisa_codes'] = X_test['piezo_station_bdlisa_codes'].cat.add_categories(\"Inconnus\")\n",
    "X_test['piezo_station_bdlisa_codes'].fillna(\"Inconnus\", inplace=True)\n"
   ]
  },
  {
   "cell_type": "code",
   "execution_count": null,
   "metadata": {},
   "outputs": [],
   "source": [
    "X_train['piezo_station_investigation_depth'].value_counts(dropna=False)"
   ]
  },
  {
   "cell_type": "markdown",
   "metadata": {},
   "source": [
    "Remplacement par la médiane"
   ]
  },
  {
   "cell_type": "code",
   "execution_count": null,
   "metadata": {},
   "outputs": [],
   "source": [
    "X_train['piezo_station_investigation_depth'].fillna(X_train['piezo_station_investigation_depth'].median(), inplace=True)\n"
   ]
  },
  {
   "cell_type": "markdown",
   "metadata": {},
   "source": [
    "### 3.3.2 Meteo"
   ]
  },
  {
   "cell_type": "code",
   "execution_count": null,
   "metadata": {},
   "outputs": [],
   "source": [
    "# Identifier les colonnes meteo ayant des NaN\n",
    "meteo_columns = [col for col in X_train.columns if col.startswith('meteo')]\n",
    "meteo_nan_counts = X_train[meteo_columns].isna().sum().sort_values(ascending=False)\n",
    "\n",
    "# Affichage des variables meteo avec des NaN\n",
    "print(\"Variables 'meteo' avec des NaN :\")\n",
    "print(meteo_nan_counts[meteo_nan_counts > 0])\n"
   ]
  },
  {
   "cell_type": "markdown",
   "metadata": {},
   "source": [
    "On regarde la corélation avec la position géographique"
   ]
  },
  {
   "cell_type": "markdown",
   "metadata": {},
   "source": []
  },
  {
   "cell_type": "markdown",
   "metadata": {},
   "source": [
    "### 3.3.4 Prelev"
   ]
  },
  {
   "cell_type": "code",
   "execution_count": null,
   "metadata": {},
   "outputs": [],
   "source": [
    "# Identifier les colonnes prelev ayant des NaN\n",
    "prelev_columns = [col for col in X_train.columns if col.startswith('prelev')]\n",
    "prelev_nan_counts = X_train[prelev_columns].isna().sum().sort_values(ascending=False)\n",
    "\n",
    "# Affichage des variables prelev avec des NaN\n",
    "print(\"Variables 'prelev' avec des NaN :\")\n",
    "print(prelev_nan_counts[prelev_nan_counts > 0])\n"
   ]
  },
  {
   "cell_type": "code",
   "execution_count": null,
   "metadata": {},
   "outputs": [],
   "source": [
    "# Labels pour les usages de prélèvement\n",
    "prelev_usage_labels = [\n",
    "    'EAU POTABLE',\n",
    "    'EAU TURBINEE (barrage)',\n",
    "    'CANAUX',\n",
    "    'INDUSTRIE et ACTIVITES ECONOMIQUES (hors irrigation, hors énergie)',\n",
    "    'IRRIGATION',\n",
    "    'ENERGIE',\n",
    "]\n",
    "\n",
    "# Fonction pour transformer les données des prélèvements\n",
    "def fix_prelev(df):\n",
    "    # Ajouter une colonne pour le volume total de prélèvement\n",
    "    df['prelev_TOTAL'] = (\n",
    "        df['prelev_volume_0'].fillna(0) +\n",
    "        df['prelev_volume_1'].fillna(0) +\n",
    "        df['prelev_volume_2'].fillna(0) +\n",
    "        df['prelev_other_volume_sum'].fillna(0)\n",
    "    )\n",
    "    \n",
    "    # Créer une colonne par type d'usage\n",
    "    for usage in prelev_usage_labels:\n",
    "        df[f'prelev_{usage}'] = (\n",
    "            (df['prelev_volume_0'].fillna(0) * (df['prelev_usage_label_0'] == usage).astype(int)) +\n",
    "            (df['prelev_volume_1'].fillna(0) * (df['prelev_usage_label_1'] == usage).astype(int)) +\n",
    "            (df['prelev_volume_2'].fillna(0) * (df['prelev_usage_label_2'] == usage).astype(int))\n",
    "        )\n",
    "    \n",
    "    # Supprimer les colonnes originales\n",
    "    df = df.drop(columns=[\n",
    "        'prelev_usage_label_0', 'prelev_usage_label_1', 'prelev_usage_label_2',\n",
    "        'prelev_volume_0', 'prelev_volume_1', 'prelev_volume_2','prelev_other_volume_sum'\n",
    "    ])\n",
    "    \n",
    "    return df\n",
    "\n"
   ]
  },
  {
   "cell_type": "code",
   "execution_count": null,
   "metadata": {},
   "outputs": [],
   "source": [
    "# Appliquer la fonction à X_train et X_test\n",
    "X_train = fix_prelev(X_train)\n",
    "X_test = fix_prelev(X_test)"
   ]
  },
  {
   "cell_type": "code",
   "execution_count": null,
   "metadata": {},
   "outputs": [],
   "source": [
    "# Identifier les colonnes prelev ayant des NaN\n",
    "prelev_columns = [col for col in X_train.columns if col.startswith('prelev')]\n",
    "prelev_nan_counts = X_train[prelev_columns].isna().sum().sort_values(ascending=False)\n",
    "\n",
    "# Affichage des variables prelev avec des NaN\n",
    "print(\"Variables 'prelev' avec des NaN :\")\n",
    "print(prelev_nan_counts[prelev_nan_counts > 0])"
   ]
  }
 ],
 "metadata": {
  "kernelspec": {
   "display_name": "M2datascience",
   "language": "python",
   "name": "python3"
  },
  "language_info": {
   "codemirror_mode": {
    "name": "ipython",
    "version": 3
   },
   "file_extension": ".py",
   "mimetype": "text/x-python",
   "name": "python",
   "nbconvert_exporter": "python",
   "pygments_lexer": "ipython3",
   "version": "3.11.8"
  }
 },
 "nbformat": 4,
 "nbformat_minor": 2
}
