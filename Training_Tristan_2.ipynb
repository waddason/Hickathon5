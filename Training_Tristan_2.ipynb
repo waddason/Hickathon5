{
 "cells": [
  {
   "cell_type": "markdown",
   "metadata": {},
   "source": [
    "# Training"
   ]
  },
  {
   "cell_type": "raw",
   "metadata": {
    "vscode": {
     "languageId": "raw"
    }
   },
   "source": [
    "#X_train = pd.read_csv('data/X_train_Hi5.csv')\n",
    "y = X_train[['row_index', 'piezo_groundwater_level_category']]\n",
    "del(X_train)\n"
   ]
  },
  {
   "cell_type": "code",
   "execution_count": null,
   "metadata": {},
   "outputs": [],
   "source": [
    "import pandas as pd\n",
    "\n",
    "X = pd.read_csv(\"data/X_train_ready.csv\")\n",
    "y = pd.read_csv(\"data/y_train_processed.csv\")\n",
    "print(X.shape, y.shape)"
   ]
  },
  {
   "cell_type": "code",
   "execution_count": null,
   "metadata": {},
   "outputs": [],
   "source": [
    "print(X.shape, y.shape)\n",
    "print(X.columns)\n",
    "print(y.columns)"
   ]
  },
  {
   "cell_type": "code",
   "execution_count": null,
   "metadata": {},
   "outputs": [],
   "source": [
    "# Keep only the rows that are in X\n",
    "y = y[y[\"row_index\"].isin(X[\"row_index\"])]\n",
    "\n",
    "print(X.shape, y.shape)"
   ]
  },
  {
   "cell_type": "code",
   "execution_count": null,
   "metadata": {},
   "outputs": [],
   "source": [
    "y.info()"
   ]
  },
  {
   "cell_type": "markdown",
   "metadata": {},
   "source": [
    "# Data split"
   ]
  },
  {
   "cell_type": "code",
   "execution_count": null,
   "metadata": {},
   "outputs": [],
   "source": [
    "from sklearn.model_selection import train_test_split\n",
    "from sklearn.metrics import accuracy_score, classification_report, confusion_matrix\n",
    "\n",
    "X_train, X_test, y_train, y_test = train_test_split(\n",
    "    X, y[\"piezo_groundwater_level_category\"], test_size=0.2, random_state=42\n",
    ")"
   ]
  },
  {
   "cell_type": "markdown",
   "metadata": {},
   "source": [
    "### Base classifiers"
   ]
  },
  {
   "cell_type": "code",
   "execution_count": null,
   "metadata": {},
   "outputs": [],
   "source": [
    "from sklearn.linear_model import RidgeClassifier\n",
    "\n",
    "clf = RidgeClassifier()\n",
    "# Select numerical columns only\n",
    "numerical_cols = X.select_dtypes(include=[\"float64\", \"int64\"]).columns\n",
    "\n",
    "clf.fit(X_train[numerical_cols], y_train)\n",
    "y_pred = clf.predict(X_test[numerical_cols])\n",
    "\n",
    "print(accuracy_score(y_test, y_pred))\n",
    "print(classification_report(y_test, y_pred))\n",
    "print(confusion_matrix(y_test, y_pred))\n"
   ]
  },
  {
   "attachments": {},
   "cell_type": "markdown",
   "metadata": {},
   "source": [
    "## Try a quadratic model"
   ]
  },
  {
   "cell_type": "code",
   "execution_count": null,
   "metadata": {},
   "outputs": [],
   "source": [
    "from sklearn.svm import SVC\n",
    "\n",
    "svc = SVC(C=10)\n",
    "svc.fit(X_train[numerical_cols], y_train)\n",
    "y_pred = svc.predict(X_test[numerical_cols])\n",
    "\n",
    "print(accuracy_score(y_test, y_pred))\n",
    "print(classification_report(y_test, y_pred))\n",
    "print(confusion_matrix(y_test, y_pred))\n"
   ]
  },
  {
   "cell_type": "code",
   "execution_count": null,
   "metadata": {},
   "outputs": [],
   "source": [
    "# Encode the categorical columns\n",
    "from sklearn.preprocessing import OneHotEncoder\n",
    "from sklearn.compose import ColumnTransformer\n",
    "from sklearn.pipeline import Pipeline\n",
    "from sklearn.impute import SimpleImputer\n",
    "from sklearn.linear_model import RidgeClassifier\n",
    "\n",
    "numerical_cols = X.select_dtypes(include=[\"float64\", \"int64\"]).columns\n",
    "categorical_cols = X.select_dtypes(include=[\"object\"]).columns\n",
    "\n",
    "# Preprocessing for numerical data\n",
    "numerical_transformer = SimpleImputer(strategy=\"constant\")\n",
    "\n",
    "# Preprocessing for categorical data\n",
    "categorical_transformer = Pipeline(\n",
    "    steps=[\n",
    "        (\"imputer\", SimpleImputer(strategy=\"most_frequent\")),\n",
    "        (\"onehot\", OneHotEncoder(handle_unknown=\"ignore\")),\n",
    "    ]\n",
    ")\n",
    "\n",
    "# Bundle preprocessing for numerical and categorical data\n",
    "\n",
    "preprocessor = ColumnTransformer(\n",
    "    transformers=[\n",
    "        (\"num\", numerical_transformer, numerical_cols),\n",
    "        (\"cat\", categorical_transformer, categorical_cols),\n",
    "    ]\n",
    ")\n",
    "\n",
    "# Define the model\n",
    "\n",
    "model = RidgeClassifier()\n",
    "\n",
    "# Create and evaluate the pipeline\n",
    "clf = Pipeline(steps=[(\"preprocessor\", preprocessor), (\"model\", model)])\n",
    "\n",
    "clf.fit(X_train, y_train)\n",
    "y_pred = clf.predict(X_test)\n",
    "\n",
    "print(accuracy_score(y_test, y_pred))\n",
    "print(classification_report(y_test, y_pred))\n",
    "print(confusion_matrix(y_test, y_pred))"
   ]
  },
  {
   "cell_type": "code",
   "execution_count": null,
   "metadata": {},
   "outputs": [],
   "source": []
  },
  {
   "cell_type": "code",
   "execution_count": null,
   "metadata": {},
   "outputs": [],
   "source": [
    "def fit_and_score(estimator, X_train, X_test, y_train, y_test):\n",
    "    \"\"\"Fit the estimator on the train set and score it on both sets\"\"\"\n",
    "    estimator.fit(X_train, y_train, eval_set=[(X_test, y_test)])\n",
    "\n",
    "    train_score = estimator.score(X_train, y_train)\n",
    "    test_score = estimator.score(X_test, y_test)\n",
    "\n",
    "    return estimator, train_score, test_score\n",
    "\n",
    "\n",
    "from sklearn.base import clone\n",
    "from sklearn.model_selection import StratifiedKFold, cross_validate\n",
    "import xgboost as xgb\n",
    "\n",
    "cv = StratifiedKFold(n_splits=5, shuffle=True, random_state=94)\n",
    "\n",
    "clf = xgb.XGBClassifier(\n",
    "    tree_method=\"hist\", early_stopping_rounds=3, enable_categorical=True\n",
    ")\n",
    "\n",
    "results = {}\n",
    "\n",
    "for train, test in cv.split(X, y_encode[\"target\"]):\n",
    "    X_train = X[train]\n",
    "    X_test = X[test]\n",
    "    y_train = y[train]\n",
    "    y_test = y[test]\n",
    "    est, train_score, test_score = fit_and_score(\n",
    "        clone(clf), X_train, X_test, y_train, y_test\n",
    "    )\n",
    "    results[est] = (train_score, test_score)"
   ]
  },
  {
   "cell_type": "code",
   "execution_count": null,
   "metadata": {},
   "outputs": [],
   "source": [
    "from xgboost import XGBClassifier\n",
    "import time\n",
    "\n",
    "# Adjust target classes to start from 0\n",
    "y_train_adjusted = y_train - 1\n",
    "y_test_adjusted = y_test - 1\n",
    "\n",
    "strat_time = time.time()\n",
    "xgb = XGBClassifier(enable_categorical=True)\n",
    "xgb.fit(X_train[numerical_cols], y_train_adjusted)\n",
    "end_time = time.time()\n",
    "print(\"Training Time: \", end_time - strat_time)\n",
    "\n",
    "y_pred = xgb.predict(X_test[numerical_cols])\n",
    "\n",
    "cm_kn = confusion_matrix(y_test, y_pred)\n",
    "print(\"Confusion Matrix (KNN):\")\n",
    "print(cm_kn)\n",
    "\n",
    "print(\"\\nClassification Report:\")\n",
    "print(classification_report(y_test_adjusted, y_pred))"
   ]
  },
  {
   "cell_type": "code",
   "execution_count": null,
   "metadata": {},
   "outputs": [],
   "source": [
    "# Encode the categorical columns\n",
    "# Create and evaluate the pipeline\n",
    "xgb = XGBClassifier(\n",
    "    enable_categorical=True,\n",
    "    tree_method=\"hist\",\n",
    "    cearly_stopping_rounds=3,\n",
    "    radom_state=1,\n",
    "    reg_alpha=0.1,\n",
    "    reg_lambda=0.1,\n",
    "    max_depth=3,\n",
    "    n_estimators=1000,\n",
    ")\n",
    "xgb_encode = Pipeline(steps=[(\"preprocessor\", preprocessor), (\"model\", xgb)])\n",
    "\n",
    "xgb_encode.fit(X_train, y_train_adjusted)\n",
    "y_pred = xgb_encode.predict(X_test)\n",
    "\n",
    "print(accuracy_score(y_test_adjusted, y_pred))\n",
    "print(classification_report(y_test_adjusted, y_pred))\n",
    "print(confusion_matrix(y_test_adjusted, y_pred))"
   ]
  },
  {
   "cell_type": "code",
   "execution_count": null,
   "metadata": {},
   "outputs": [],
   "source": []
  }
 ],
 "metadata": {
  "kernelspec": {
   "display_name": "ML_climate",
   "language": "python",
   "name": "python3"
  },
  "language_info": {
   "codemirror_mode": {
    "name": "ipython",
    "version": 3
   },
   "file_extension": ".py",
   "mimetype": "text/x-python",
   "name": "python",
   "nbconvert_exporter": "python",
   "pygments_lexer": "ipython3",
   "version": "3.10.13"
  }
 },
 "nbformat": 4,
 "nbformat_minor": 2
}
